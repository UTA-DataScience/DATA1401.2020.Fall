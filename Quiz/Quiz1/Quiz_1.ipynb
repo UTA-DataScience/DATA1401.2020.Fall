{
  "nbformat": 4,
  "nbformat_minor": 0,
  "metadata": {
    "kernelspec": {
      "display_name": "Python 3",
      "language": "python",
      "name": "python3"
    },
    "language_info": {
      "codemirror_mode": {
        "name": "ipython",
        "version": 3
      },
      "file_extension": ".py",
      "mimetype": "text/x-python",
      "name": "python",
      "nbconvert_exporter": "python",
      "pygments_lexer": "ipython3",
      "version": "3.8.0"
    },
    "colab": {
      "name": "Quiz.1.ipynb",
      "provenance": []
    }
  },
  "cells": [
    {
      "cell_type": "markdown",
      "metadata": {
        "id": "rmVKdH1Tjpi9"
      },
      "source": [
        "# Quiz 1\n",
        "\n",
        "1. Using the lists below, create a function (`make_deck`) that returns a list of the 52 cards in a usual playing card deck. Represent each card as a tuple (e.g. `('Clubs', 3)`). "
      ]
    },
    {
      "cell_type": "code",
      "metadata": {
        "id": "2UyBHnS1jpi-",
        "outputId": "236ff328-a6d9-4f25-ea52-877b53950b75",
        "colab": {
          "base_uri": "https://localhost:8080/",
          "height": 50
        }
      },
      "source": [
        "suits = [\"Clubs\", \"Diamonds\", \"Hearts\", \"Spades\"]\n",
        "values = list(range(2,11)) + [ \"Jack\", \"Queen\", \"King\", \"Ace\"]\n",
        "print(suits)\n",
        "print(values)"
      ],
      "execution_count": 30,
      "outputs": [
        {
          "output_type": "stream",
          "text": [
            "['Clubs', 'Diamonds', 'Hearts', 'Spades']\n",
            "[2, 3, 4, 5, 6, 7, 8, 9, 10, 'Jack', 'Queen', 'King', 'Ace']\n"
          ],
          "name": "stdout"
        }
      ]
    },
    {
      "cell_type": "code",
      "metadata": {
        "id": "J7EAeCspjpjB"
      },
      "source": [
        "# Your solution here\n",
        "def make_deck(suits,values):\n",
        "  deck = list()\n",
        "  for i in range(len(suits)):\n",
        "    for j in range(len(values)):\n",
        "      deck.append(str(suits[i])+str(values[j]))\n",
        "  return deck\n",
        "     "
      ],
      "execution_count": 44,
      "outputs": []
    },
    {
      "cell_type": "code",
      "metadata": {
        "id": "mkPqVkPujpjD",
        "outputId": "81d57397-fc05-45d4-ba6d-2dc2c7af8404",
        "colab": {
          "base_uri": "https://localhost:8080/",
          "height": 890
        }
      },
      "source": [
        "# Test your solution here\n",
        "make_deck(suits,values)"
      ],
      "execution_count": 45,
      "outputs": [
        {
          "output_type": "execute_result",
          "data": {
            "text/plain": [
              "['Clubs2',\n",
              " 'Clubs3',\n",
              " 'Clubs4',\n",
              " 'Clubs5',\n",
              " 'Clubs6',\n",
              " 'Clubs7',\n",
              " 'Clubs8',\n",
              " 'Clubs9',\n",
              " 'Clubs10',\n",
              " 'ClubsJack',\n",
              " 'ClubsQueen',\n",
              " 'ClubsKing',\n",
              " 'ClubsAce',\n",
              " 'Diamonds2',\n",
              " 'Diamonds3',\n",
              " 'Diamonds4',\n",
              " 'Diamonds5',\n",
              " 'Diamonds6',\n",
              " 'Diamonds7',\n",
              " 'Diamonds8',\n",
              " 'Diamonds9',\n",
              " 'Diamonds10',\n",
              " 'DiamondsJack',\n",
              " 'DiamondsQueen',\n",
              " 'DiamondsKing',\n",
              " 'DiamondsAce',\n",
              " 'Hearts2',\n",
              " 'Hearts3',\n",
              " 'Hearts4',\n",
              " 'Hearts5',\n",
              " 'Hearts6',\n",
              " 'Hearts7',\n",
              " 'Hearts8',\n",
              " 'Hearts9',\n",
              " 'Hearts10',\n",
              " 'HeartsJack',\n",
              " 'HeartsQueen',\n",
              " 'HeartsKing',\n",
              " 'HeartsAce',\n",
              " 'Spades2',\n",
              " 'Spades3',\n",
              " 'Spades4',\n",
              " 'Spades5',\n",
              " 'Spades6',\n",
              " 'Spades7',\n",
              " 'Spades8',\n",
              " 'Spades9',\n",
              " 'Spades10',\n",
              " 'SpadesJack',\n",
              " 'SpadesQueen',\n",
              " 'SpadesKing',\n",
              " 'SpadesAce']"
            ]
          },
          "metadata": {
            "tags": []
          },
          "execution_count": 45
        }
      ]
    },
    {
      "cell_type": "markdown",
      "metadata": {
        "id": "6RKcBUC5jpjF"
      },
      "source": [
        "2. Create the following functions that take in a list of [usually 5] cards (`hand`) and return True/False:\n",
        "    * `flush(hand)`: Checks if the cards in the hand are of the same suit.\n",
        "    * `straight(hand)`: Checks if the cards in the hand are in a order.\n",
        "        * You can start with just checking numerical cards.\n",
        "        * Extra Credit: Include all cards.\n",
        "    * `straight_flush(hand)`: Combination of both."
      ]
    },
    {
      "cell_type": "code",
      "metadata": {
        "id": "nCvl9dHmjpjG"
      },
      "source": [
        "# Your solution here\n",
        "def check(cards):\n",
        "  for i in range (len(cards)):\n",
        "    if (all(cards[i])==True):\n",
        "      return True\n",
        "    elif ()"
      ],
      "execution_count": null,
      "outputs": []
    },
    {
      "cell_type": "code",
      "metadata": {
        "id": "akwkO9wYjpjI"
      },
      "source": [
        "# Test your solution here"
      ],
      "execution_count": null,
      "outputs": []
    }
  ]
}