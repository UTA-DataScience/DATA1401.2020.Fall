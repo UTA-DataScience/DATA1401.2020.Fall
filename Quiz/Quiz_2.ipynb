{
  "nbformat": 4,
  "nbformat_minor": 0,
  "metadata": {
    "kernelspec": {
      "display_name": "Python 3",
      "language": "python",
      "name": "python3"
    },
    "language_info": {
      "codemirror_mode": {
        "name": "ipython",
        "version": 3
      },
      "file_extension": ".py",
      "mimetype": "text/x-python",
      "name": "python",
      "nbconvert_exporter": "python",
      "pygments_lexer": "ipython3",
      "version": "3.8.0"
    },
    "colab": {
      "name": "Quiz.2.ipynb",
      "provenance": []
    }
  },
  "cells": [
    {
      "cell_type": "markdown",
      "metadata": {
        "id": "VAsRc8SWDM5M"
      },
      "source": [
        "# Quiz 2\n",
        "\n",
        "[![Open In Colab](https://colab.research.google.com/assets/colab-badge.svg)](https://colab.research.google.com/github/UTA-DataScience/DATA1401.2020.Fall/blob/master/Quizzes/Quiz.2/Quiz.2.ipynb)\n",
        "\n"
      ]
    },
    {
      "cell_type": "markdown",
      "metadata": {
        "id": "EbgKsK2VDM5N"
      },
      "source": [
        "1. Using the python math and random libraries, implement the Box-Muller transform. This transform generates 2 random variables $Z_0$ and $Z_1$ that are Normal distributed from two uniformly distributed random variables $U_1$ and $U_2$ using the relation:\n",
        "\n",
        "\\begin{align}\n",
        "Z_0&=&\\sqrt{-2 \\log{U_1}} \\cos{(2\\pi U_2)}\\\\\n",
        "Z_1&=&\\sqrt{-2 \\log{U_1}} \\sin{(2\\pi U_2)}\\\\\n",
        "\\end{align}\n",
        "\n"
      ]
    },
    {
      "cell_type": "markdown",
      "metadata": {
        "id": "JfsjfCfWDM5O"
      },
      "source": [
        "Recall that you can import the math and random libraries using:\n"
      ]
    },
    {
      "cell_type": "code",
      "metadata": {
        "id": "l42kjWBFDM5O"
      },
      "source": [
        "import math\n",
        "import random"
      ],
      "execution_count": null,
      "outputs": []
    },
    {
      "cell_type": "markdown",
      "metadata": {
        "id": "t-hqofH5DM5R"
      },
      "source": [
        "The functions and variables you will need are:"
      ]
    },
    {
      "cell_type": "code",
      "metadata": {
        "id": "rjt5EjBvDM5S",
        "outputId": "b49fc99f-fd55-45c5-ce2c-61d428a501ed"
      },
      "source": [
        "x = .1\n",
        "\n",
        "# Math\n",
        "math.pi\n",
        "math.sin(x)\n",
        "math.cos(x)\n",
        "math.log(x)\n",
        "math.sqrt(x)\n",
        "\n",
        "# Random\n",
        "random.random()"
      ],
      "execution_count": null,
      "outputs": [
        {
          "output_type": "execute_result",
          "data": {
            "text/plain": [
              "0.9766680279361165"
            ]
          },
          "metadata": {
            "tags": []
          },
          "execution_count": 3
        }
      ]
    },
    {
      "cell_type": "markdown",
      "metadata": {
        "id": "DOUHUWlODM5V"
      },
      "source": [
        "Note that  math.log is the natural logarithm. Your solution should look like:"
      ]
    },
    {
      "cell_type": "code",
      "metadata": {
        "id": "waf_CA6BDM5V"
      },
      "source": [
        "def generate_normal(N):\n",
        "    out = list() \n",
        "    # Write your solution here\n",
        "    # …\n",
        "    U1 = random.random()\n",
        "    U2 = random.random()\n",
        "    Z0 = math.sqrt((-2)*math.log(U1))*math.cos(2 * math.pi * U2)\n",
        "    Z1 = math.sqrt((-2)*math.log(U1))*math.sin(2 * math.pi * U2)\n",
        "    for i in range(N):\n",
        "      out.append(Z0)\n",
        "\n",
        "    for i in range(N):\n",
        "      out.append(Z1)\n",
        "    \n",
        "    return out\n"
      ],
      "execution_count": 2,
      "outputs": []
    },
    {
      "cell_type": "markdown",
      "metadata": {
        "id": "xaF5tdjxDM5X"
      },
      "source": [
        "Where N is the number of values of the random variable to generate, and the return value out is a list containing N normal distributed values. \n"
      ]
    },
    {
      "cell_type": "markdown",
      "metadata": {
        "id": "TniVB1MzDM5Y"
      },
      "source": [
        "2. Test your code by generating 1000 normal distributed values and showing that the mean is 0 and variance is 1. You can use the following 2 functions:\n"
      ]
    },
    {
      "cell_type": "code",
      "metadata": {
        "id": "_0cbBSX7DM5Y"
      },
      "source": [
        "def mean(x):\n",
        "    return sum(x)/float(len(x))\n",
        "\n",
        "def variance(x):\n",
        "    return sum(map(lambda y: y**2,x))/float(len(x))-mean(x)**2\n"
      ],
      "execution_count": 3,
      "outputs": []
    },
    {
      "cell_type": "markdown",
      "metadata": {
        "id": "pEXuP_F8DM5a"
      },
      "source": [
        "3. Submit your solutions to GitHub in same way as your labs/homework."
      ]
    },
    {
      "cell_type": "code",
      "metadata": {
        "id": "5Mp1FZMkDM5b"
      },
      "source": [
        ""
      ],
      "execution_count": 4,
      "outputs": []
    }
  ]
}