{
  "nbformat": 4,
  "nbformat_minor": 0,
  "metadata": {
    "kernelspec": {
      "display_name": "Python 3",
      "language": "python",
      "name": "python3"
    },
    "language_info": {
      "codemirror_mode": {
        "name": "ipython",
        "version": 3
      },
      "file_extension": ".py",
      "mimetype": "text/x-python",
      "name": "python",
      "nbconvert_exporter": "python",
      "pygments_lexer": "ipython3",
      "version": "3.8.0"
    },
    "colab": {
      "name": "MidTerm-Exam.ipynb",
      "provenance": [],
      "collapsed_sections": []
    }
  },
  "cells": [
    {
      "cell_type": "markdown",
      "metadata": {
        "id": "ISjrL2rPYx4L"
      },
      "source": [
        "# Mid-term Exam\n",
        "\n",
        "[![Open In Colab](https://colab.research.google.com/assets/colab-badge.svg)](https://colab.research.google.com/github/UTA-DataScience/DATA1401.2020.Fall/blob/master/Exams/Mid-term/Exam.ipynb)\n",
        "\n",
        "Add cells to this notebook as you need for your solutions and your test of your solutions."
      ]
    },
    {
      "cell_type": "markdown",
      "metadata": {
        "id": "e2nVpulpYx4M"
      },
      "source": [
        "1a. Write a function `first_alphabetically(lst)` that takes a list `lst` of strings and returns the string that is alphabetically first. For example, calling your function with the list of states:"
      ]
    },
    {
      "cell_type": "code",
      "metadata": {
        "id": "ozazANLnYx4N"
      },
      "source": [
        "states=['Mississippi', 'Maryland', 'Delaware', 'Connecticut', 'Virginia', 'Utah', 'Kansas',\n",
        "        'Wyoming', 'Indiana', 'Louisiana', 'Missouri', 'Illinois', 'Minnesota', 'Vermont', \n",
        "        'New Mexico', 'North Dakota', 'Wisconsin', 'Tennessee', 'New York', 'Oklahoma', \n",
        "        'Colorado', 'Pennsylvania', 'West Virginia', 'Alabama', 'Montana', 'Texas', \n",
        "        'Washington', 'Michigan', 'New Hampshire', 'Arkansas', 'Hawaii', 'Iowa', \n",
        "        'Idaho', 'Kentucky', 'Ohio', 'Nebraska', 'Alaska', 'Oregon', 'South Dakota', \n",
        "        'New Jersey', 'Florida', 'Georgia', 'Rhode Island', 'Arizona', 'Maine', \n",
        "        'South Carolina', 'California', 'Nevada', 'Massachusetts', 'North Carolina']"
      ],
      "execution_count": null,
      "outputs": []
    },
    {
      "cell_type": "markdown",
      "metadata": {
        "id": "6as7JB7zYx4Q"
      },
      "source": [
        "should return the string `\"Alabama\"`. Note that you can compare strings:"
      ]
    },
    {
      "cell_type": "code",
      "metadata": {
        "id": "l62nW7LkYx4Q",
        "outputId": "b7c246ad-02a8-4cb4-f841-65e90a2bb02e",
        "colab": {
          "base_uri": "https://localhost:8080/"
        }
      },
      "source": [
        "print(\"A\">\"B\")\n",
        "print(\"B\">\"A\")\n",
        "print(\"A\">\"a\")\n",
        "print(\"bca\">\"bbc\")"
      ],
      "execution_count": null,
      "outputs": [
        {
          "output_type": "stream",
          "text": [
            "False\n",
            "True\n",
            "False\n",
            "True\n"
          ],
          "name": "stdout"
        }
      ]
    },
    {
      "cell_type": "code",
      "metadata": {
        "id": "GGigiwvicWHx"
      },
      "source": [
        "def first_alphabetically(lst):\n",
        "  min = lst[0]\n",
        "  for i in range(len(lst)):\n",
        "    if lst[i]<min:\n",
        "      min = lst[i]\n",
        "  return min\n",
        "\n"
      ],
      "execution_count": null,
      "outputs": []
    },
    {
      "cell_type": "code",
      "metadata": {
        "id": "dxN-cEYJej6G",
        "outputId": "6f81f41c-c270-47dc-f8ed-c76e0f3625ba",
        "colab": {
          "base_uri": "https://localhost:8080/",
          "height": 35
        }
      },
      "source": [
        "first_alphabetically(states)"
      ],
      "execution_count": null,
      "outputs": [
        {
          "output_type": "execute_result",
          "data": {
            "application/vnd.google.colaboratory.intrinsic+json": {
              "type": "string"
            },
            "text/plain": [
              "'Alabama'"
            ]
          },
          "metadata": {
            "tags": []
          },
          "execution_count": 56
        }
      ]
    },
    {
      "cell_type": "markdown",
      "metadata": {
        "id": "J3oWU0tUYx4T"
      },
      "source": [
        "Make sure your implementation isn't case sensitive. **Do not use** python's built-in `min`, `max`, `sort` or any other sort function you find."
      ]
    },
    {
      "cell_type": "markdown",
      "metadata": {
        "id": "SpJycRZhYx4T"
      },
      "source": [
        "1b. Write a function `arg_first_alphabetically(lst)`, which does the same thing as in exercise 1 but returns the index of the first string alphabetically."
      ]
    },
    {
      "cell_type": "code",
      "metadata": {
        "id": "BwO_h07kfxpw",
        "outputId": "e3d91e10-19f2-470a-9d38-a3b7ec83d140",
        "colab": {
          "base_uri": "https://localhost:8080/"
        }
      },
      "source": [
        "def arg_first_alphabetically(lst):\n",
        "  min = lst[0]\n",
        "  index = 0\n",
        "  for i in range(len(lst)):\n",
        "    if lst[i]<min:\n",
        "      min = lst[i]\n",
        "      index = i\n",
        "  return index\n",
        "\n",
        "print(states[23])"
      ],
      "execution_count": null,
      "outputs": [
        {
          "output_type": "stream",
          "text": [
            "Alabama\n"
          ],
          "name": "stdout"
        }
      ]
    },
    {
      "cell_type": "code",
      "metadata": {
        "id": "SLlea3MggV-G",
        "outputId": "afc80b88-4ac2-469c-f2bd-2965315d1dc4",
        "colab": {
          "base_uri": "https://localhost:8080/"
        }
      },
      "source": [
        "arg_first_alphabetically(states)"
      ],
      "execution_count": null,
      "outputs": [
        {
          "output_type": "execute_result",
          "data": {
            "text/plain": [
              "23"
            ]
          },
          "metadata": {
            "tags": []
          },
          "execution_count": 54
        }
      ]
    },
    {
      "cell_type": "markdown",
      "metadata": {
        "id": "UIU79U5dYx4U"
      },
      "source": [
        "1c. Use your result in question 2 to implement a function `arg_sort_alphabetically(lst)` that returns a list that is alphabetically sorted. Sorting can be accomplished by successively applying the function in question 1 and removing the first element alphabetically. You can remove an element from a list using `pop()`. Make sure your implementation isn't case sensitive. Do not use python's built-in `min`, `max`, `sort` or any other sort function you find."
      ]
    },
    {
      "cell_type": "code",
      "metadata": {
        "id": "AphMSZ3pgtQQ"
      },
      "source": [
        "def arg_sort_alphabetically(lst):\n",
        "  new_list=list()\n",
        "  for i in range(len(lst)):\n",
        "    index = arg_first_alphabetically(lst)\n",
        "    new_list.append(lst[index])\n",
        "    lst.pop(index)\n",
        "  return new_list\n"
      ],
      "execution_count": null,
      "outputs": []
    },
    {
      "cell_type": "code",
      "metadata": {
        "id": "dBc1rc9kjUyf",
        "outputId": "e1ba7b12-4d2a-411d-b630-62dbeefcb4b3",
        "colab": {
          "base_uri": "https://localhost:8080/"
        }
      },
      "source": [
        "arg_sort_alphabetically(states)"
      ],
      "execution_count": null,
      "outputs": [
        {
          "output_type": "execute_result",
          "data": {
            "text/plain": [
              "['Alabama',\n",
              " 'Alaska',\n",
              " 'Arizona',\n",
              " 'Arkansas',\n",
              " 'California',\n",
              " 'Colorado',\n",
              " 'Connecticut',\n",
              " 'Delaware',\n",
              " 'Florida',\n",
              " 'Georgia',\n",
              " 'Hawaii',\n",
              " 'Idaho',\n",
              " 'Illinois',\n",
              " 'Indiana',\n",
              " 'Iowa',\n",
              " 'Kansas',\n",
              " 'Kentucky',\n",
              " 'Louisiana',\n",
              " 'Maine',\n",
              " 'Maryland',\n",
              " 'Massachusetts',\n",
              " 'Michigan',\n",
              " 'Minnesota',\n",
              " 'Mississippi',\n",
              " 'Missouri',\n",
              " 'Montana',\n",
              " 'Nebraska',\n",
              " 'Nevada',\n",
              " 'New Hampshire',\n",
              " 'New Jersey',\n",
              " 'New Mexico',\n",
              " 'New York',\n",
              " 'North Carolina',\n",
              " 'North Dakota',\n",
              " 'Ohio',\n",
              " 'Oklahoma',\n",
              " 'Oregon',\n",
              " 'Pennsylvania',\n",
              " 'Rhode Island',\n",
              " 'South Carolina',\n",
              " 'South Dakota',\n",
              " 'Tennessee',\n",
              " 'Texas',\n",
              " 'Utah',\n",
              " 'Vermont',\n",
              " 'Virginia',\n",
              " 'Washington',\n",
              " 'West Virginia',\n",
              " 'Wisconsin',\n",
              " 'Wyoming']"
            ]
          },
          "metadata": {
            "tags": []
          },
          "execution_count": 59
        }
      ]
    },
    {
      "cell_type": "markdown",
      "metadata": {
        "id": "Eh7Ej316Yx4U"
      },
      "source": [
        "2. Implement a function `outer_product` that takes two one-dimensional lists of numbers and returns the two-dimensional outer product matrix defined as:\n",
        "\n",
        "\\begin{equation*}\n",
        "\\begin{pmatrix} x_1\\\\x_2\\\\ \\vdots \\\\x_m \\end{pmatrix} \\begin{pmatrix} y_1&y_2& \\dots &y_n\\end{pmatrix} =\n",
        "\\begin{pmatrix}\n",
        "x_1y_1 & x_1y_2 & \\dots & x_1y_n\\\\\n",
        "x_2y_1 & x_2y_2 & \\dots & x_2y_n\\\\\n",
        "\\vdots & \\vdots & \\ddots & \\vdots \\\\\n",
        "x_my_1 & x_my_2 & \\dots & x_my_n\n",
        "\\end{pmatrix}\n",
        "\\end{equation*}\n",
        "\n",
        "In other words the elements of matrix C which is the outer product of A and B are $c_{ij} = a_i b_j$."
      ]
    },
    {
      "cell_type": "code",
      "metadata": {
        "id": "SlHL6UIZuXT9"
      },
      "source": [
        "def outer_product(lstA,lstB):\n",
        "  lstC = [[0 for i in range(len(lstA))]for j in range(len(lstB))]\n",
        "  for k in range(len(lstA)):\n",
        "    for l in range(len(lstB)):\n",
        "      lstC[k][l] = lstA[k]*lstB[l]\n",
        "  return lstC"
      ],
      "execution_count": null,
      "outputs": []
    },
    {
      "cell_type": "code",
      "metadata": {
        "id": "bnebF5lc4BYt",
        "outputId": "f2ab43f7-109c-4107-efc8-ada0562f0dd4",
        "colab": {
          "base_uri": "https://localhost:8080/"
        }
      },
      "source": [
        "outer_product([1,2,3,5],[3,4,5,9])"
      ],
      "execution_count": null,
      "outputs": [
        {
          "output_type": "execute_result",
          "data": {
            "text/plain": [
              "[[3, 4, 5, 9], [6, 8, 10, 18], [9, 12, 15, 27], [15, 20, 25, 45]]"
            ]
          },
          "metadata": {
            "tags": []
          },
          "execution_count": 6
        }
      ]
    },
    {
      "cell_type": "markdown",
      "metadata": {
        "id": "oVXz6Z21Yx4V"
      },
      "source": [
        "3a. Implement a function `cumulative_sum(lst)` that takes a list of numbers and returns a list of same size where the element `i` is the sum of the elements `0` to `i` of the input list. For example given `[1,2,3]`, you should return [1,3,6]."
      ]
    },
    {
      "cell_type": "code",
      "metadata": {
        "id": "-yFk7FYl8rns"
      },
      "source": [
        "def cumulative_sum(lst):\n",
        "  new = list()\n",
        "  add = lst[0]\n",
        "  for index in range(len(lst)):\n",
        "    if index == 0:\n",
        "      new.append(add)\n",
        "    else:\n",
        "      add = add+lst[index]\n",
        "      new.append(add)\n",
        "  return new"
      ],
      "execution_count": null,
      "outputs": []
    },
    {
      "cell_type": "code",
      "metadata": {
        "id": "SgRMRKxR_nOL",
        "outputId": "d92e7c57-276d-4bd1-baf3-12995580ca92",
        "colab": {
          "base_uri": "https://localhost:8080/"
        }
      },
      "source": [
        "cumulative_sum([1,2,3,4,5,6,11,23,22])"
      ],
      "execution_count": null,
      "outputs": [
        {
          "output_type": "execute_result",
          "data": {
            "text/plain": [
              "[1, 3, 6, 10, 15, 21, 32, 55, 77]"
            ]
          },
          "metadata": {
            "tags": []
          },
          "execution_count": 32
        }
      ]
    },
    {
      "cell_type": "markdown",
      "metadata": {
        "id": "YSeyUTL1Yx4V"
      },
      "source": [
        "3b. Imagine you have a normal distributed random variable `x`. For example `x` can be grades on this exam. Using the normal distribution generator and histogram functions from lecture (provided below) and `cumulative_sum` from previous question to compute what is the value of $x_{90}$ in $\\sigma$ such that 90% of the values $x$ are below $x_{90}$. In other words:"
      ]
    },
    {
      "cell_type": "markdown",
      "metadata": {
        "id": "gXxJin7sYx4W"
      },
      "source": [
        "$$\n",
        "\\int_{-\\infty}^{x_{90}} N(x;\\mu=0,\\sigma=1) dx = 0.9\n",
        "$$"
      ]
    },
    {
      "cell_type": "code",
      "metadata": {
        "id": "Z4YkazgVYx4W"
      },
      "source": [
        "import math,random\n",
        "\n",
        "def arange(x_min,x_max,steps=10):\n",
        "    step_size=(x_max-x_min)/steps\n",
        "    x=x_min\n",
        "    out = list()\n",
        "    for i in range(steps):\n",
        "        out.append(x)\n",
        "        x+=step_size\n",
        "    return out\n",
        "\n",
        "def generate_normal(N,m=0,s=1):\n",
        "    out = list() \n",
        "    \n",
        "    while len(out)<N:\n",
        "#    for _ in range(int(float(N)/2)+1):\n",
        "        U1=random.random()\n",
        "        U2=random.random()\n",
        "    \n",
        "        out.append(s*math.sqrt(-2*math.log(U1))*math.cos(2*math.pi*U2)+m)\n",
        "        out.append(s*math.sqrt(-2*math.log(U1))*math.sin(2*math.pi*U2)+m)\n",
        "\n",
        "    return out[:N]\n",
        "\n",
        "def histogram(data, n_bins=10,x_min=None, x_max=None):\n",
        "    if x_min==None:\n",
        "        x_min=min(data)\n",
        "    if x_max==None:\n",
        "        x_max=max(data)\n",
        "        \n",
        "    bin_edges = arange(x_min,x_max,n_bins)\n",
        "    bin_edges.append(x_max)\n",
        "\n",
        "    hist=[0]*n_bins\n",
        "    \n",
        "    for d in data:\n",
        "        for i in range(n_bins):\n",
        "            if d>=bin_edges[i] and d<bin_edges[i+1]:\n",
        "                hist[i]+=1\n",
        "                break\n",
        "                \n",
        "    return hist,bin_edges\n",
        "\n"
      ],
      "execution_count": 1,
      "outputs": []
    },
    {
      "cell_type": "code",
      "metadata": {
        "id": "llZF4cgeQZdq",
        "outputId": "f461d28f-7d94-42a1-9cca-066f2415971c",
        "colab": {
          "base_uri": "https://localhost:8080/"
        }
      },
      "source": [
        "normalgraph=generate_normal(90)\n",
        "histogram(normalgraph)"
      ],
      "execution_count": 4,
      "outputs": [
        {
          "output_type": "execute_result",
          "data": {
            "text/plain": [
              "([3, 3, 5, 16, 17, 10, 20, 10, 3, 2],\n",
              " [-2.6929697346253296,\n",
              "  -2.1935667182770673,\n",
              "  -1.6941637019288052,\n",
              "  -1.194760685580543,\n",
              "  -0.6953576692322809,\n",
              "  -0.19595465288401875,\n",
              "  0.3034483634642434,\n",
              "  0.8028513798125056,\n",
              "  1.3022543961607678,\n",
              "  1.8016574125090299,\n",
              "  2.3010604288572916])"
            ]
          },
          "metadata": {
            "tags": []
          },
          "execution_count": 4
        }
      ]
    },
    {
      "cell_type": "code",
      "metadata": {
        "id": "DVtwJU-YMEGN"
      },
      "source": [
        "def integrate(func,x_min,x_max, steps=90):\n",
        "  out = list()\n",
        "  x_scan = arange(x_min,x_max,90)\n",
        "  y_scan = list(map(func,x_scan))\n",
        "  y_min = min(y_scan)\n",
        "  y_max = max(y_scan)\n",
        "\n",
        "  count=0\n",
        "  while len(out)<steps:\n",
        "    count+=1\n",
        "    x = x_min + (x_max-x_min)*random.random()\n",
        "    y = y_min + (y_max-y_min)*random.random()\n",
        "\n",
        "    if y<= func(x):\n",
        "      out.append(x)\n",
        "\n",
        "  fraction= float(len(out))/float(count)\n",
        "  area = (x_max-x_min)*(y_max-y_min)\n",
        "  area_prime=(x_max-x_min) * y_min\n",
        "  integral = area * fraction + area_prime\n",
        "  return integral"
      ],
      "execution_count": 2,
      "outputs": []
    },
    {
      "cell_type": "code",
      "metadata": {
        "id": "yuid8AnlQJL7",
        "outputId": "0f1eeb2d-afb1-4b00-e353-f693bbff4a10",
        "colab": {
          "base_uri": "https://localhost:8080/",
          "height": 279
        }
      },
      "source": [
        "integrate(normalgraph,0,1,90)"
      ],
      "execution_count": 5,
      "outputs": [
        {
          "output_type": "error",
          "ename": "TypeError",
          "evalue": "ignored",
          "traceback": [
            "\u001b[0;31m---------------------------------------------------------------------------\u001b[0m",
            "\u001b[0;31mTypeError\u001b[0m                                 Traceback (most recent call last)",
            "\u001b[0;32m<ipython-input-5-7bca0f1064c6>\u001b[0m in \u001b[0;36m<module>\u001b[0;34m()\u001b[0m\n\u001b[0;32m----> 1\u001b[0;31m \u001b[0mintegrate\u001b[0m\u001b[0;34m(\u001b[0m\u001b[0mnormalgraph\u001b[0m\u001b[0;34m,\u001b[0m\u001b[0;36m0\u001b[0m\u001b[0;34m,\u001b[0m\u001b[0;36m1\u001b[0m\u001b[0;34m,\u001b[0m\u001b[0;36m90\u001b[0m\u001b[0;34m)\u001b[0m\u001b[0;34m\u001b[0m\u001b[0;34m\u001b[0m\u001b[0m\n\u001b[0m",
            "\u001b[0;32m<ipython-input-2-5f52d16a8d16>\u001b[0m in \u001b[0;36mintegrate\u001b[0;34m(func, x_min, x_max, steps)\u001b[0m\n\u001b[1;32m      2\u001b[0m   \u001b[0mout\u001b[0m \u001b[0;34m=\u001b[0m \u001b[0mlist\u001b[0m\u001b[0;34m(\u001b[0m\u001b[0;34m)\u001b[0m\u001b[0;34m\u001b[0m\u001b[0;34m\u001b[0m\u001b[0m\n\u001b[1;32m      3\u001b[0m   \u001b[0mx_scan\u001b[0m \u001b[0;34m=\u001b[0m \u001b[0marange\u001b[0m\u001b[0;34m(\u001b[0m\u001b[0mx_min\u001b[0m\u001b[0;34m,\u001b[0m\u001b[0mx_max\u001b[0m\u001b[0;34m,\u001b[0m\u001b[0;36m90\u001b[0m\u001b[0;34m)\u001b[0m\u001b[0;34m\u001b[0m\u001b[0;34m\u001b[0m\u001b[0m\n\u001b[0;32m----> 4\u001b[0;31m   \u001b[0my_scan\u001b[0m \u001b[0;34m=\u001b[0m \u001b[0mlist\u001b[0m\u001b[0;34m(\u001b[0m\u001b[0mmap\u001b[0m\u001b[0;34m(\u001b[0m\u001b[0mfunc\u001b[0m\u001b[0;34m,\u001b[0m\u001b[0mx_scan\u001b[0m\u001b[0;34m)\u001b[0m\u001b[0;34m)\u001b[0m\u001b[0;34m\u001b[0m\u001b[0;34m\u001b[0m\u001b[0m\n\u001b[0m\u001b[1;32m      5\u001b[0m   \u001b[0my_min\u001b[0m \u001b[0;34m=\u001b[0m \u001b[0mmin\u001b[0m\u001b[0;34m(\u001b[0m\u001b[0my_scan\u001b[0m\u001b[0;34m)\u001b[0m\u001b[0;34m\u001b[0m\u001b[0;34m\u001b[0m\u001b[0m\n\u001b[1;32m      6\u001b[0m   \u001b[0my_max\u001b[0m \u001b[0;34m=\u001b[0m \u001b[0mmax\u001b[0m\u001b[0;34m(\u001b[0m\u001b[0my_scan\u001b[0m\u001b[0;34m)\u001b[0m\u001b[0;34m\u001b[0m\u001b[0;34m\u001b[0m\u001b[0m\n",
            "\u001b[0;31mTypeError\u001b[0m: 'list' object is not callable"
          ]
        }
      ]
    },
    {
      "cell_type": "markdown",
      "metadata": {
        "id": "FVtO4hrtYx4Z"
      },
      "source": [
        "4a. Recall in quiz 1 we implemented parts of a poker game in python. The solution to quiz 1 is below. Modify the `flush`, `straight`, and `straight_flush` functions to return `None` instead of `False` and the highest card (value-wise) instead of \"True\"."
      ]
    },
    {
      "cell_type": "code",
      "metadata": {
        "id": "d1LWYkFgYx4Z"
      },
      "source": [
        "suits = [\"Clubs\", \"Diamonds\", \"Hearts\", \"Spades\"]\n",
        "values = list(range(2,11)) + [ \"Jack\", \"Queen\", \"King\", \"Ace\"]\n",
        "\n",
        "def make_deck():\n",
        "    deck=list()\n",
        "    for suit in suits:\n",
        "        for value in values:\n",
        "            deck.append((suit,value))\n",
        "    return deck\n",
        "\n",
        "def flush(hand):\n",
        "    suit=None\n",
        "    for card in hand:\n",
        "        if suit:\n",
        "            if not card[0]==suit:\n",
        "                return None\n",
        "        else:\n",
        "            suit=card[0]\n",
        "    max_card=0\n",
        "    for index in range(len(hand)): \n",
        "      if hand[index] == \"Jack\":\n",
        "        max_card = \"Jack\"\n",
        "      elif (hand[index] == \"Queen\"):\n",
        "        max_card = \"Queen\"\n",
        "      elif (hand[index] == \"King\"):\n",
        "        max_card = \"King\"\n",
        "      elif (hand[index] == \"Ace\"):\n",
        "        max_card = \"Ace\"\n",
        "      else:\n",
        "        max_card = max(hand[1])\n",
        "    return max_card\n",
        "\n",
        "def consecutive(lst): \n",
        "    return sorted(lst) == list(range(min(lst), max(lst)+1)) \n",
        "\n",
        "def straight(hand):    \n",
        "    return consecutive([values.index(card[1]) for card in hand])\n",
        "\n",
        "def straight_flush(hand):\n",
        "    return straight(hand) and flush(hand)"
      ],
      "execution_count": 38,
      "outputs": []
    },
    {
      "cell_type": "code",
      "metadata": {
        "id": "WB9wk2pXGewH",
        "outputId": "8f166ea8-6415-4d46-c2ab-56f5d41f3969",
        "colab": {
          "base_uri": "https://localhost:8080/",
          "height": 35
        }
      },
      "source": [
        "cards = [('Diamonds', 10),\n",
        " ('Diamonds', 'Jack'),\n",
        " ('Diamonds', 'Queen'),\n",
        " ('Diamonds', 'King'),\n",
        " ('Diamonds', 'Ace')]\n",
        "\n",
        "flush(cards)"
      ],
      "execution_count": 39,
      "outputs": [
        {
          "output_type": "execute_result",
          "data": {
            "application/vnd.google.colaboratory.intrinsic+json": {
              "type": "string"
            },
            "text/plain": [
              "'Jack'"
            ]
          },
          "metadata": {
            "tags": []
          },
          "execution_count": 39
        }
      ]
    },
    {
      "cell_type": "markdown",
      "metadata": {
        "id": "JEx0TuD3Yx4c"
      },
      "source": [
        "4b. Add two additional functions `three_of_a_kind` and `pair` that work in an analogous manner."
      ]
    },
    {
      "cell_type": "code",
      "metadata": {
        "id": "GAKvkgniYx4c"
      },
      "source": [
        "def three_of_a_kiind(hand):\n",
        "  for index in range(len(hand)): \n",
        "    if hand[index].count(hand[1])>= 3:\n",
        "      return True\n",
        "  return False\n",
        "  "
      ],
      "execution_count": 45,
      "outputs": []
    },
    {
      "cell_type": "code",
      "metadata": {
        "id": "VhGdNoOGfcno"
      },
      "source": [
        "def pair(hand):\n",
        "  for index in range(len(hand)): \n",
        "    if hand[index].count(hand[1]) ==2:\n",
        "      return True\n",
        "  return False"
      ],
      "execution_count": 46,
      "outputs": []
    }
  ]
}