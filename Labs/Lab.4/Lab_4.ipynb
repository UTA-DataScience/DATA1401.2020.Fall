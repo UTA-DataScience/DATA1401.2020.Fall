{
  "nbformat": 4,
  "nbformat_minor": 0,
  "metadata": {
    "kernelspec": {
      "display_name": "Python 3",
      "language": "python",
      "name": "python3"
    },
    "language_info": {
      "codemirror_mode": {
        "name": "ipython",
        "version": 3
      },
      "file_extension": ".py",
      "mimetype": "text/x-python",
      "name": "python",
      "nbconvert_exporter": "python",
      "pygments_lexer": "ipython3",
      "version": "3.8.0"
    },
    "colab": {
      "name": "Lab.4.ipynb",
      "provenance": []
    }
  },
  "cells": [
    {
      "cell_type": "markdown",
      "metadata": {
        "id": "Mlw5e3eq9kt4"
      },
      "source": [
        "## Lab 4\n",
        "\n",
        "[![Open In Colab](https://colab.research.google.com/assets/colab-badge.svg)(https://colab.research.google.com/assets/colab-badge.svg)](https://colab.research.google.com/github/UTA-DataScience/DATA1401.2020.Fall/blob/master/Labs/Lab-4/Lab-4.ipynb)\n",
        "\n",
        "In this lab we will become familiar with distributions, histograms, and functional programming. \n",
        "\n",
        "\n",
        "### Uniform Distribution"
      ]
    },
    {
      "cell_type": "markdown",
      "metadata": {
        "id": "nlFYsPZU8W-g"
      },
      "source": [
        "Lets start with generating some fake random data. You can get a random number between 0 and 1 using the python random module as follows:"
      ]
    },
    {
      "cell_type": "code",
      "metadata": {
        "id": "-bMyi0W0Wdcc",
        "outputId": "ea0ede8c-5e84-4579-fc4a-7c6233ed164b",
        "colab": {
          "base_uri": "https://localhost:8080/",
          "height": 66
        }
      },
      "source": [
        "import numpy as np\n",
        "import random\n",
        "\n",
        "r=random.random()\n",
        "x = random.randint(1,100)\n",
        "d = (r*x)\n",
        "\n",
        "print(\"The Value of r is\", r)\n",
        "print(\"The Value of x is\", x)\n",
        "print(\"The Value of d is\", d)"
      ],
      "execution_count": 3,
      "outputs": [
        {
          "output_type": "stream",
          "text": [
            "The Value of r is 0.13432025813496284\n",
            "The Value of x is 5\n",
            "The Value of d is 0.6716012906748142\n"
          ],
          "name": "stdout"
        }
      ]
    },
    {
      "cell_type": "markdown",
      "metadata": {
        "id": "BkCNWHz39kt_"
      },
      "source": [
        "Everytime you call random, you will get a new number.\n",
        "\n",
        "*Exercise 1:* Using random, write a function `generate_uniform(N, mymin, mymax)`, that returns a python list containing N random numbers between specified minimum and maximum value. Note that you may want to quickly work out on paper how to turn numbers between 0 and 1 to between other values. "
      ]
    },
    {
      "cell_type": "code",
      "metadata": {
        "id": "HKzt-uSH9kt_"
      },
      "source": [
        "# Solution:\n",
        "def uniform_generator(seed=x):\n",
        "      a=1111111\n",
        "      b=2222222\n",
        "      k=6700417\n",
        "      x=seed\n",
        "      def random():\n",
        "          nonlocal x\n",
        "          x=((a*x+b)%(k*seed+round(r)))\n",
        "          return round(x/(k))\n",
        "      return random\n",
        "my_uniform=uniform_generator()\n",
        "random_numbers=list()\n",
        "\n",
        "def generate_uniform(N,mymin,my_max):\n",
        "  for _ in range(N):\n",
        "      random_numbers.append(my_uniform())\n",
        "  out = random_numbers\n",
        "  return out\n"
      ],
      "execution_count": 4,
      "outputs": []
    },
    {
      "cell_type": "code",
      "metadata": {
        "id": "QuwA85Ki9kuG",
        "outputId": "0441505f-e227-48ff-97cf-e7c4cb112d97",
        "colab": {
          "base_uri": "https://localhost:8080/",
          "height": 135
        }
      },
      "source": [
        "# Test:\n",
        "x = random.randint(1,100)\n",
        "\n",
        "data = generate_uniform(100,-10,10)\n",
        "print (\"Data Type:\", type(data))\n",
        "print (\"Data Length:\", len(data))\n",
        "if len(data)>0: \n",
        "    print (\"Type of Data Contents:\", type(data[0]))\n",
        "    print (\"Data Minimum:\", np.min(data))\n",
        "    print (\"Data Maximum:\", np.max(data))\n",
        "print(data)"
      ],
      "execution_count": 5,
      "outputs": [
        {
          "output_type": "stream",
          "text": [
            "Data Type: <class 'list'>\n",
            "Data Length: 100\n",
            "Type of Data Contents: <class 'int'>\n",
            "Data Minimum: 0\n",
            "Data Maximum: 5\n",
            "[1, 2, 2, 2, 5, 2, 1, 3, 4, 2, 3, 1, 1, 2, 4, 4, 1, 1, 5, 1, 5, 5, 3, 1, 1, 3, 4, 4, 5, 3, 5, 3, 2, 4, 0, 0, 3, 2, 1, 3, 2, 0, 3, 4, 1, 3, 5, 0, 0, 1, 2, 4, 1, 3, 3, 4, 3, 3, 4, 0, 1, 5, 1, 2, 0, 3, 1, 2, 4, 3, 5, 4, 2, 4, 2, 3, 0, 2, 3, 0, 1, 0, 3, 5, 5, 0, 2, 2, 1, 2, 5, 2, 1, 2, 1, 1, 5, 4, 4, 1]\n"
          ],
          "name": "stdout"
        }
      ]
    },
    {
      "cell_type": "markdown",
      "metadata": {
        "id": "nJVeiyQt9kuL"
      },
      "source": [
        "*Exercise 2a:* \n",
        "Write a function that computes the mean of values in a list."
      ]
    },
    {
      "cell_type": "code",
      "metadata": {
        "id": "i3seMfDm9kuM"
      },
      "source": [
        "# Solution:\n",
        "N=len(data)\n",
        "\n",
        "# Version 1:\n",
        "def mean(data):\n",
        "  s=sum(data)\n",
        "  out = s/N\n",
        "  return out\n",
        "\n",
        "# Version 2:\n",
        "def mean_2(data):\n",
        "  out = (1/N)*sum(data)\n",
        "  return out"
      ],
      "execution_count": 6,
      "outputs": []
    },
    {
      "cell_type": "code",
      "metadata": {
        "id": "dmZsEUUA9kuP",
        "outputId": "ba877798-b2df-4f36-d447-a3c04a7746d9",
        "colab": {
          "base_uri": "https://localhost:8080/",
          "height": 82
        }
      },
      "source": [
        "# Test your solution here\n",
        "print(\"Version 1: Mean of Data:\", mean(data))\n",
        "print(\"Version 1: Mean of Data [ROUNDED]:\", round(mean(data)))\n",
        "print(\"Version 2: Mean of Data:\", mean_2(data))\n",
        "print(\"Version 2: Mean of Data [ROUNDED]:\", round(mean_2(data)))"
      ],
      "execution_count": 7,
      "outputs": [
        {
          "output_type": "stream",
          "text": [
            "Version 1: Mean of Data: 2.44\n",
            "Version 1: Mean of Data [ROUNDED]: 2\n",
            "Version 2: Mean of Data: 2.44\n",
            "Version 2: Mean of Data [ROUNDED]: 2\n"
          ],
          "name": "stdout"
        }
      ]
    },
    {
      "cell_type": "markdown",
      "metadata": {
        "id": "FmWvrfQu9kuS"
      },
      "source": [
        "*Exercise 2b:* \n",
        "Write a function that computes the variance of values in a list."
      ]
    },
    {
      "cell_type": "code",
      "metadata": {
        "id": "7sik5Scc9kuS"
      },
      "source": [
        "# Solution:\n",
        "N=len(data)\n",
        "v = (sum(data)-mean_2(data))\n",
        "\n",
        "# Version 1:\n",
        "def variance(data):\n",
        "  m = mean(data)\n",
        "  v = ((sum(data))-m)**2\n",
        "  out = (1/(N-1))*v\n",
        "  return out\n",
        "\n",
        "# Version 2:\n",
        "def variance_2(data):\n",
        "  out = (1/(N-1))*(v**2)\n",
        "  return out"
      ],
      "execution_count": 8,
      "outputs": []
    },
    {
      "cell_type": "code",
      "metadata": {
        "id": "bXWakiWJ9kuX",
        "outputId": "2e5cb706-48b6-48e2-9615-c2086d3155e4",
        "colab": {
          "base_uri": "https://localhost:8080/",
          "height": 82
        }
      },
      "source": [
        "# Test your solution here\n",
        "print(\"Variance of Data:\", variance(data))\n",
        "print(\"Version 2: Mean of Data [ROUNDED]:\", round(variance(data)))\n",
        "print(\"Variance of Data:\", variance_2(data))\n",
        "print(\"Version 2: Mean of Data [ROUNDED]:\", round(variance_2(data)))"
      ],
      "execution_count": 9,
      "outputs": [
        {
          "output_type": "stream",
          "text": [
            "Variance of Data: 589.4064000000001\n",
            "Version 2: Mean of Data [ROUNDED]: 589\n",
            "Variance of Data: 589.4064000000001\n",
            "Version 2: Mean of Data [ROUNDED]: 589\n"
          ],
          "name": "stdout"
        }
      ]
    },
    {
      "cell_type": "markdown",
      "metadata": {
        "id": "Mxr-JHLx9kub"
      },
      "source": [
        "## Histogramming"
      ]
    },
    {
      "cell_type": "markdown",
      "metadata": {
        "id": "wNrKz-G59kuc"
      },
      "source": [
        "*Exercise 3:* Write a function that bins the data so that you can create a histogram. An example of how to implement histogramming is the following logic:\n",
        "\n",
        "* User inputs a list of values `x` and optionally `n_bins` which defaults to 10.\n",
        "* If not supplied, find the minimum and maximum (`x_min`,`x_max`) of the values in x.\n",
        "* Determine the bin size (`bin_size`) by dividing the range of the function by the number of bins.\n",
        "* Create an empty list of zeros of size `n_bins`, call it `hist`.\n",
        "* Loop over the values in `x`\n",
        "    * Loop over the values in `hist` with index `i`:\n",
        "        * If x is between `x_min+i*bin_size` and `x_min+(i+1)*bin_size`, increment `hist[i].` \n",
        "        * For efficiency, try to use continue to goto the next bin and data point.\n",
        "* Return `hist` and the list corresponding of the bin edges (i.e. of `x_min+i*bin_size`).    "
      ]
    },
    {
      "cell_type": "code",
      "metadata": {
        "id": "-GtAuZJU7XWH"
      },
      "source": [
        "import numpy as np\n",
        "%matplotlib inline\n",
        "import matplotlib.pyplot as plt\n",
        "import math"
      ],
      "execution_count": 10,
      "outputs": []
    },
    {
      "cell_type": "code",
      "metadata": {
        "id": "Ap4xXh0all8A"
      },
      "source": [
        "x_min = (np.min(data))\n",
        "x_max = (np.max(data)) \n",
        "def arange(x_min,x_max,steps=10):\n",
        "    step_size=(x_max-x_min)/steps\n",
        "    x=x_min\n",
        "    out = list()\n",
        "    for i in range(x_min,x_max):\n",
        "        out.append(x)\n",
        "        x+=step_size\n",
        "    return out"
      ],
      "execution_count": 11,
      "outputs": []
    },
    {
      "cell_type": "code",
      "metadata": {
        "id": "TEgo6MzIjP-O"
      },
      "source": [
        "def histogram(data, n_bins=N,x_min=None, x_max=None):\n",
        "    if x_min==None:\n",
        "        x_min = (np.min(data))\n",
        "    if x_max==None:\n",
        "        x_max = (np.max(data))\n",
        "        \n",
        "    bin_edges = arange(x_min,x_max,n_bins)\n",
        "    bin_edges.append(x_max)\n",
        "\n",
        "    hist=list(np.random.normal(0,0,n_bins))\n",
        "    \n",
        "    for x in data:\n",
        "        for i,(low_edge,high_edge) in enumerate(zip(bin_edges[:-1],bin_edges[1:])):\n",
        "            if x>=low_edge and x<high_edge:\n",
        "                hist[i]+=1\n",
        "                break\n",
        "                \n",
        "    return hist,bin_edges"
      ],
      "execution_count": 12,
      "outputs": []
    },
    {
      "cell_type": "code",
      "metadata": {
        "id": "_3NFIQEGjwPQ",
        "outputId": "da335dd0-3067-4165-f6ff-d5261fc281cc",
        "colab": {
          "base_uri": "https://localhost:8080/",
          "height": 53
        }
      },
      "source": [
        "histogram(data, n_bins=N,x_min=None, x_max=None)\n",
        "h,b=histogram(data,N)\n",
        "print(h)"
      ],
      "execution_count": 13,
      "outputs": [
        {
          "output_type": "stream",
          "text": [
            "[11.0, 0.0, 0.0, 0.0, 76.0, 0.0, 0.0, 0.0, 0.0, 0.0, 0.0, 0.0, 0.0, 0.0, 0.0, 0.0, 0.0, 0.0, 0.0, 0.0, 0.0, 0.0, 0.0, 0.0, 0.0, 0.0, 0.0, 0.0, 0.0, 0.0, 0.0, 0.0, 0.0, 0.0, 0.0, 0.0, 0.0, 0.0, 0.0, 0.0, 0.0, 0.0, 0.0, 0.0, 0.0, 0.0, 0.0, 0.0, 0.0, 0.0, 0.0, 0.0, 0.0, 0.0, 0.0, 0.0, 0.0, 0.0, 0.0, 0.0, 0.0, 0.0, 0.0, 0.0, 0.0, 0.0, 0.0, 0.0, 0.0, 0.0, 0.0, 0.0, 0.0, 0.0, 0.0, 0.0, 0.0, 0.0, 0.0, 0.0, 0.0, 0.0, 0.0, 0.0, 0.0, 0.0, 0.0, 0.0, 0.0, 0.0, 0.0, 0.0, 0.0, 0.0, 0.0, 0.0, 0.0, 0.0, 0.0, 0.0]\n"
          ],
          "name": "stdout"
        }
      ]
    },
    {
      "cell_type": "code",
      "metadata": {
        "id": "1euwKttJA7Et",
        "outputId": "9039ddde-96c9-437b-a475-af67764a2c7e",
        "colab": {
          "base_uri": "https://localhost:8080/",
          "height": 132
        }
      },
      "source": [
        "# Test your solution here\n",
        "np.histogram(data,range=(x_min,x_max),bins=50)"
      ],
      "execution_count": 14,
      "outputs": [
        {
          "output_type": "execute_result",
          "data": {
            "text/plain": [
              "(array([11,  0,  0,  0,  0,  0,  0,  0,  0,  0, 22,  0,  0,  0,  0,  0,  0,\n",
              "         0,  0,  0, 20,  0,  0,  0,  0,  0,  0,  0,  0,  0, 19,  0,  0,  0,\n",
              "         0,  0,  0,  0,  0,  0, 15,  0,  0,  0,  0,  0,  0,  0,  0, 13]),\n",
              " array([0. , 0.1, 0.2, 0.3, 0.4, 0.5, 0.6, 0.7, 0.8, 0.9, 1. , 1.1, 1.2,\n",
              "        1.3, 1.4, 1.5, 1.6, 1.7, 1.8, 1.9, 2. , 2.1, 2.2, 2.3, 2.4, 2.5,\n",
              "        2.6, 2.7, 2.8, 2.9, 3. , 3.1, 3.2, 3.3, 3.4, 3.5, 3.6, 3.7, 3.8,\n",
              "        3.9, 4. , 4.1, 4.2, 4.3, 4.4, 4.5, 4.6, 4.7, 4.8, 4.9, 5. ]))"
            ]
          },
          "metadata": {
            "tags": []
          },
          "execution_count": 14
        }
      ]
    },
    {
      "cell_type": "code",
      "metadata": {
        "id": "W3abvlwg9YPe",
        "outputId": "a2d19a3b-6aca-4da6-e2c3-beb4beda6915",
        "colab": {
          "base_uri": "https://localhost:8080/",
          "height": 315
        }
      },
      "source": [
        "plt.hist(data)"
      ],
      "execution_count": 15,
      "outputs": [
        {
          "output_type": "execute_result",
          "data": {
            "text/plain": [
              "(array([11.,  0., 22.,  0., 20.,  0., 19.,  0., 15., 13.]),\n",
              " array([0. , 0.5, 1. , 1.5, 2. , 2.5, 3. , 3.5, 4. , 4.5, 5. ]),\n",
              " <a list of 10 Patch objects>)"
            ]
          },
          "metadata": {
            "tags": []
          },
          "execution_count": 15
        },
        {
          "output_type": "display_data",
          "data": {
            "image/png": "[encoded data removed]",
            "text/plain": [
              "<Figure size 432x288 with 1 Axes>"
            ]
          },
          "metadata": {
            "tags": [],
            "needs_background": "light"
          }
        }
      ]
    },
    {
      "cell_type": "markdown",
      "metadata": {
        "id": "G2vDSpNn9kui"
      },
      "source": [
        "*Exercise 4:* Write a function that uses the histogram function in the previous exercise to create a text-based \"graph\". For example the output could look like the following:\n",
        "```\n",
        "[  0,  1] : ######\n",
        "[  1,  2] : #####\n",
        "[  2,  3] : ######\n",
        "[  3,  4] : ####\n",
        "[  4,  5] : ####\n",
        "[  5,  6] : ######\n",
        "[  6,  7] : #####\n",
        "[  7,  8] : ######\n",
        "[  8,  9] : ####\n",
        "[  9, 10] : #####\n",
        "```\n",
        "\n",
        "Where each line corresponds to a bin and the number of `#`'s are proportional to the value of the data in the bin. "
      ]
    },
    {
      "cell_type": "code",
      "metadata": {
        "id": "OaT-Yz679kui"
      },
      "source": [
        "# Solution\n",
        "character=\"#\"\n",
        "x = ([data])\n",
        "def draw_histogram(x,n_bins,x_min=None,x_max=None,character=\"#\",max_character_per_line=20):\n",
        "  character=\"#\"\n",
        "  height = character\n",
        "  n_bins = 3\n",
        "  a = ([5],[18],[3])\n",
        "  x_min = [3]\n",
        "  x_max = [18]\n",
        "  def generate_uniform(n_bins,x_min,a,x_max):\n",
        "    a = ([5],[18],[3])\n",
        "    my_uniform=uniform_generator()\n",
        "    character=list()\n",
        "    for _ in range(20):\n",
        "      a = ([5],[18],[3])\n",
        "      a.append(\"#\")\n",
        "  _=plt.hist(draw_histogram(a,n_bins = 3,x_min=3,x_max=18,character=\"#\",max_character_per_line=20))"
      ],
      "execution_count": 16,
      "outputs": []
    },
    {
      "cell_type": "code",
      "metadata": {
        "id": "rsvoJ2aA-qxq"
      },
      "source": [
        "def generate_func(func,x_min,x_max,N):\n",
        "  out=list()\n",
        "  ### BEGIN SOLUTION\n",
        "  func_data=list(data)\n",
        "  total=list()\n",
        "\n",
        "  for _ in range(N):\n",
        "    v=(random.random()*(x_max-x_min)+x_min)\n",
        "    func_data.append(func(v))\n",
        "\n",
        "  y_min = (np.min(func_data)) \n",
        "  y_max = (np.max(func_data))  \n",
        "\n",
        "  while len(out) < N:\n",
        "    x=(random.random()+(x_max-x_min)+x_min)\n",
        "    y=(random.random()+(y_max-y_min))\n",
        "    total.append(x)\n",
        "    if y <= func(x):\n",
        "      out.append(x)\n",
        "\n",
        "### END SOLUTION\n",
        "\n",
        "  return out, total, y_min,y_max"
      ],
      "execution_count": 20,
      "outputs": []
    },
    {
      "cell_type": "code",
      "metadata": {
        "id": "oyoMPEVMCH14",
        "outputId": "29ec1bdd-0138-454a-c9cb-32ee3e6acce0",
        "colab": {
          "base_uri": "https://localhost:8080/",
          "height": 33
        }
      },
      "source": [
        "def gaussian(mean,sd):\n",
        "  def f(x):\n",
        "    return math.exp(-((x-mean)**2))/math.sqrt(math.pi*sd)\n",
        "  return f\n",
        "\n",
        "g1=gaussian(0,1)\n",
        "g2=gaussian(10,3)\n",
        "\n",
        "print(g1)"
      ],
      "execution_count": 21,
      "outputs": [
        {
          "output_type": "stream",
          "text": [
            "<function gaussian.<locals>.f at 0x7f0c8a0e5d08>\n"
          ],
          "name": "stdout"
        }
      ]
    },
    {
      "cell_type": "code",
      "metadata": {
        "id": "R2SWW1zPCxNm",
        "outputId": "6499cbda-15a9-45ad-e2e6-34ce7f649f48",
        "colab": {
          "base_uri": "https://localhost:8080/",
          "height": 327
        }
      },
      "source": [
        "out=generate_func(g1,x_min,x_max,N)\n",
        "draw_histogram(out,10)\n",
        "print(mean(out))\n",
        "print(variance(out)**(1/2))"
      ],
      "execution_count": 22,
      "outputs": [
        {
          "output_type": "error",
          "ename": "KeyboardInterrupt",
          "evalue": "ignored",
          "traceback": [
            "\u001b[0;31m---------------------------------------------------------------------------\u001b[0m",
            "\u001b[0;31mKeyboardInterrupt\u001b[0m                         Traceback (most recent call last)",
            "\u001b[0;32m<ipython-input-22-3527dc145076>\u001b[0m in \u001b[0;36m<module>\u001b[0;34m()\u001b[0m\n\u001b[0;32m----> 1\u001b[0;31m \u001b[0mout\u001b[0m\u001b[0;34m=\u001b[0m\u001b[0mgenerate_func\u001b[0m\u001b[0;34m(\u001b[0m\u001b[0mg1\u001b[0m\u001b[0;34m,\u001b[0m\u001b[0mx_min\u001b[0m\u001b[0;34m,\u001b[0m\u001b[0mx_max\u001b[0m\u001b[0;34m,\u001b[0m\u001b[0mN\u001b[0m\u001b[0;34m)\u001b[0m\u001b[0;34m\u001b[0m\u001b[0;34m\u001b[0m\u001b[0m\n\u001b[0m\u001b[1;32m      2\u001b[0m \u001b[0mdraw_histogram\u001b[0m\u001b[0;34m(\u001b[0m\u001b[0mout\u001b[0m\u001b[0;34m,\u001b[0m\u001b[0;36m10\u001b[0m\u001b[0;34m)\u001b[0m\u001b[0;34m\u001b[0m\u001b[0;34m\u001b[0m\u001b[0m\n\u001b[1;32m      3\u001b[0m \u001b[0mprint\u001b[0m\u001b[0;34m(\u001b[0m\u001b[0mmean\u001b[0m\u001b[0;34m(\u001b[0m\u001b[0mout\u001b[0m\u001b[0;34m)\u001b[0m\u001b[0;34m)\u001b[0m\u001b[0;34m\u001b[0m\u001b[0;34m\u001b[0m\u001b[0m\n\u001b[1;32m      4\u001b[0m \u001b[0mprint\u001b[0m\u001b[0;34m(\u001b[0m\u001b[0mvariance\u001b[0m\u001b[0;34m(\u001b[0m\u001b[0mout\u001b[0m\u001b[0;34m)\u001b[0m\u001b[0;34m**\u001b[0m\u001b[0;34m(\u001b[0m\u001b[0;36m1\u001b[0m\u001b[0;34m/\u001b[0m\u001b[0;36m2\u001b[0m\u001b[0;34m)\u001b[0m\u001b[0;34m)\u001b[0m\u001b[0;34m\u001b[0m\u001b[0;34m\u001b[0m\u001b[0m\n",
            "\u001b[0;32m<ipython-input-20-d221ffa97be6>\u001b[0m in \u001b[0;36mgenerate_func\u001b[0;34m(func, x_min, x_max, N)\u001b[0m\n\u001b[1;32m     13\u001b[0m \u001b[0;34m\u001b[0m\u001b[0m\n\u001b[1;32m     14\u001b[0m   \u001b[0;32mwhile\u001b[0m \u001b[0mlen\u001b[0m\u001b[0;34m(\u001b[0m\u001b[0mout\u001b[0m\u001b[0;34m)\u001b[0m \u001b[0;34m<\u001b[0m \u001b[0mN\u001b[0m\u001b[0;34m:\u001b[0m\u001b[0;34m\u001b[0m\u001b[0;34m\u001b[0m\u001b[0m\n\u001b[0;32m---> 15\u001b[0;31m     \u001b[0mx\u001b[0m\u001b[0;34m=\u001b[0m\u001b[0;34m(\u001b[0m\u001b[0mrandom\u001b[0m\u001b[0;34m.\u001b[0m\u001b[0mrandom\u001b[0m\u001b[0;34m(\u001b[0m\u001b[0;34m)\u001b[0m\u001b[0;34m+\u001b[0m\u001b[0;34m(\u001b[0m\u001b[0mx_max\u001b[0m\u001b[0;34m-\u001b[0m\u001b[0mx_min\u001b[0m\u001b[0;34m)\u001b[0m\u001b[0;34m+\u001b[0m\u001b[0mx_min\u001b[0m\u001b[0;34m)\u001b[0m\u001b[0;34m\u001b[0m\u001b[0;34m\u001b[0m\u001b[0m\n\u001b[0m\u001b[1;32m     16\u001b[0m     \u001b[0my\u001b[0m\u001b[0;34m=\u001b[0m\u001b[0;34m(\u001b[0m\u001b[0mrandom\u001b[0m\u001b[0;34m.\u001b[0m\u001b[0mrandom\u001b[0m\u001b[0;34m(\u001b[0m\u001b[0;34m)\u001b[0m\u001b[0;34m+\u001b[0m\u001b[0;34m(\u001b[0m\u001b[0my_max\u001b[0m\u001b[0;34m-\u001b[0m\u001b[0my_min\u001b[0m\u001b[0;34m)\u001b[0m\u001b[0;34m)\u001b[0m\u001b[0;34m\u001b[0m\u001b[0;34m\u001b[0m\u001b[0m\n\u001b[1;32m     17\u001b[0m     \u001b[0mtotal\u001b[0m\u001b[0;34m.\u001b[0m\u001b[0mappend\u001b[0m\u001b[0;34m(\u001b[0m\u001b[0mx\u001b[0m\u001b[0;34m)\u001b[0m\u001b[0;34m\u001b[0m\u001b[0;34m\u001b[0m\u001b[0m\n",
            "\u001b[0;31mKeyboardInterrupt\u001b[0m: "
          ]
        }
      ]
    },
    {
      "cell_type": "markdown",
      "metadata": {
        "id": "pTwRSmVp9kus"
      },
      "source": [
        "## Functional Programming\n",
        "\n",
        "*Exercise 5:* Write a function the applies a booling function (that returns true/false) to every element in data, and return a list of indices of elements where the result was true. Use this function to find the indices of entries greater than 0.5. "
      ]
    },
    {
      "cell_type": "code",
      "metadata": {
        "id": "IgXEhI09T_Yf"
      },
      "source": [
        "import math"
      ],
      "execution_count": 23,
      "outputs": []
    },
    {
      "cell_type": "code",
      "metadata": {
        "id": "gdf1dcRd9kus"
      },
      "source": [
        "n_bins = 10\n",
        "x_min = (np.min(data))\n",
        "x_max = (np.max(data)) \n",
        "h = x_min\n",
        "b = x_max\n",
        "\n",
        "  ### BEGIN SOLUTION\n",
        "\n",
        "def histogram(x,n_bins=10,x_min=False,x_max=True):\n",
        "  def hist():\n",
        "    x=list(data)\n",
        "    for _ in range(N):\n",
        "      random_numbers.append(my_uniform())\n",
        "      _ = plt.hist(random_numbers,bins=n_bins,range=(0,0))\n",
        "      print(False)\n",
        "  def bin_edges():\n",
        "    for i in range(N):\n",
        "      random_numbers.append(my_uniform())\n",
        "      plt.hist(random_numbers,bins=n_bins,range=(h,b))\n",
        "      print(True)\n",
        "  return hist(),bin_edges()\n"
      ],
      "execution_count": 24,
      "outputs": []
    },
    {
      "cell_type": "code",
      "metadata": {
        "id": "SYUuKKQg9kuw",
        "outputId": "5a077e01-0073-4896-bd0e-4eb97ae9395a",
        "colab": {
          "base_uri": "https://localhost:8080/",
          "height": 1000
        }
      },
      "source": [
        "# Test your solution here\n",
        "h,b=histogram(data,n_bins=10,x_min=False,x_max=True)"
      ],
      "execution_count": 25,
      "outputs": [
        {
          "output_type": "stream",
          "text": [
            "False\n",
            "False\n",
            "False\n",
            "False\n",
            "False\n",
            "False\n",
            "False\n",
            "False\n",
            "False\n",
            "False\n",
            "False\n",
            "False\n",
            "False\n",
            "False\n",
            "False\n",
            "False\n",
            "False\n",
            "False\n",
            "False\n",
            "False\n",
            "False\n",
            "False\n",
            "False\n",
            "False\n",
            "False\n",
            "False\n",
            "False\n",
            "False\n",
            "False\n",
            "False\n",
            "False\n",
            "False\n",
            "False\n",
            "False\n",
            "False\n",
            "False\n",
            "False\n",
            "False\n",
            "False\n",
            "False\n",
            "False\n",
            "False\n",
            "False\n",
            "False\n",
            "False\n",
            "False\n",
            "False\n",
            "False\n",
            "False\n",
            "False\n",
            "False\n",
            "False\n",
            "False\n",
            "False\n",
            "False\n",
            "False\n",
            "False\n",
            "False\n",
            "False\n",
            "False\n",
            "False\n",
            "False\n",
            "False\n",
            "False\n",
            "False\n",
            "False\n",
            "False\n",
            "False\n",
            "False\n",
            "False\n",
            "False\n",
            "False\n",
            "False\n",
            "False\n",
            "False\n",
            "False\n",
            "False\n",
            "False\n",
            "False\n",
            "False\n",
            "False\n",
            "False\n",
            "False\n",
            "False\n",
            "False\n",
            "False\n",
            "False\n",
            "False\n",
            "False\n",
            "False\n",
            "False\n",
            "False\n",
            "False\n",
            "False\n",
            "False\n",
            "False\n",
            "False\n",
            "False\n",
            "False\n",
            "False\n",
            "True\n",
            "True\n",
            "True\n",
            "True\n",
            "True\n",
            "True\n",
            "True\n",
            "True\n",
            "True\n",
            "True\n",
            "True\n",
            "True\n",
            "True\n",
            "True\n",
            "True\n",
            "True\n",
            "True\n",
            "True\n",
            "True\n",
            "True\n",
            "True\n",
            "True\n",
            "True\n",
            "True\n",
            "True\n",
            "True\n",
            "True\n",
            "True\n",
            "True\n",
            "True\n",
            "True\n",
            "True\n",
            "True\n",
            "True\n",
            "True\n",
            "True\n",
            "True\n",
            "True\n",
            "True\n",
            "True\n",
            "True\n",
            "True\n",
            "True\n",
            "True\n",
            "True\n",
            "True\n",
            "True\n",
            "True\n",
            "True\n",
            "True\n",
            "True\n",
            "True\n",
            "True\n",
            "True\n",
            "True\n",
            "True\n",
            "True\n",
            "True\n",
            "True\n",
            "True\n",
            "True\n",
            "True\n",
            "True\n",
            "True\n",
            "True\n",
            "True\n",
            "True\n",
            "True\n",
            "True\n",
            "True\n",
            "True\n",
            "True\n",
            "True\n",
            "True\n",
            "True\n",
            "True\n",
            "True\n",
            "True\n",
            "True\n",
            "True\n",
            "True\n",
            "True\n",
            "True\n",
            "True\n",
            "True\n",
            "True\n",
            "True\n",
            "True\n",
            "True\n",
            "True\n",
            "True\n",
            "True\n",
            "True\n",
            "True\n",
            "True\n",
            "True\n",
            "True\n",
            "True\n",
            "True\n",
            "True\n"
          ],
          "name": "stdout"
        },
        {
          "output_type": "display_data",
          "data": {
            "image/png": "[encoded data removed]",
            "text/plain": [
              "<Figure size 432x288 with 1 Axes>"
            ]
          },
          "metadata": {
            "tags": [],
            "needs_background": "light"
          }
        }
      ]
    },
    {
      "cell_type": "markdown",
      "metadata": {
        "id": "pBX-6zYt9kuz"
      },
      "source": [
        "*Exercise 6:* The inrange(mymin,mymax) function below returns a function that tests if it's input is between the specified values. Write corresponding functions that test:\n",
        "* Even\n",
        "* Odd\n",
        "* Greater than\n",
        "* Less than\n",
        "* Equal\n",
        "* Divisible by"
      ]
    },
    {
      "cell_type": "code",
      "metadata": {
        "id": "3W5pMkxp9kuz"
      },
      "source": [
        "def in_range(mymin,mymax):\n",
        "    def testrange(x):\n",
        "        return x<mymax and x>=mymin\n",
        "    return testrange\n",
        "\n",
        "# Examples:\n",
        "F1=in_range(0,10)\n",
        "F2=in_range(11,50)\n",
        "\n",
        "# Test of in_range\n",
        "a = (F1(0), F1(1), F1(10), F1(15), F1(20))\n",
        "b = (F2(0), F2(1), F2(10), F2(15), F2(19))"
      ],
      "execution_count": 26,
      "outputs": []
    },
    {
      "cell_type": "code",
      "metadata": {
        "id": "PomOVA859ku2"
      },
      "source": [
        "def odds(in_range):\n",
        "  out_list=list()\n",
        "  for num in range(0,10):\n",
        "    if num%2==1:\n",
        "      out_list.append(num)\n",
        "  return out_list\n",
        "\n",
        "def evens(in_range):\n",
        "  out_list2=list()\n",
        "  for num in range(0,5):\n",
        "    if num%2==1:\n",
        "      out_list2.append(num)\n",
        "  return out_list2\n",
        "\n",
        "def greater_than(in_range):\n",
        "  out_great=list()\n",
        "  for num in range(0,50):\n",
        "    if num>1:\n",
        "      out_great.append(num)\n",
        "  return out_great\n",
        "  \n",
        "def less_than(in_range):\n",
        "  out=list()\n",
        "  for num in range(0,50):\n",
        "    if num<15:\n",
        "      out.append(num)\n",
        "  return out\n",
        "\n",
        "def equal(in_range):\n",
        "  out=list()\n",
        "  for num in range(45,50):\n",
        "    if num==15:\n",
        "      out.append(num)\n",
        "  return out\n",
        "\n",
        "def div_by(in_range):\n",
        "  out=list()\n",
        "  for num in range(0,50):\n",
        "    if num%15:\n",
        "      out.append(num)\n",
        "  return out"
      ],
      "execution_count": 27,
      "outputs": []
    },
    {
      "cell_type": "code",
      "metadata": {
        "id": "YFajNaBP9ku6",
        "outputId": "191e8d8d-3ee0-4733-d57f-05157b499612",
        "colab": {
          "base_uri": "https://localhost:8080/",
          "height": 135
        }
      },
      "source": [
        "# Test your solution\n",
        "print(\"Number of Entries passing F1:\", odds(F1))\n",
        "print (\"Number of Entries passing F1:\", evens(F2))\n",
        "print (\"Number of Entries passing F1:\", greater_than(b))\n",
        "print (\"Number of Entries passing F1:\", less_than(a))\n",
        "print (\"Number of Entries passing F1:\", equal(b))\n",
        "print (\"Number of Entries passing F1:\", div_by(a))"
      ],
      "execution_count": 28,
      "outputs": [
        {
          "output_type": "stream",
          "text": [
            "Number of Entries passing F1: [1, 3, 5, 7, 9]\n",
            "Number of Entries passing F1: [1, 3]\n",
            "Number of Entries passing F1: [2, 3, 4, 5, 6, 7, 8, 9, 10, 11, 12, 13, 14, 15, 16, 17, 18, 19, 20, 21, 22, 23, 24, 25, 26, 27, 28, 29, 30, 31, 32, 33, 34, 35, 36, 37, 38, 39, 40, 41, 42, 43, 44, 45, 46, 47, 48, 49]\n",
            "Number of Entries passing F1: [0, 1, 2, 3, 4, 5, 6, 7, 8, 9, 10, 11, 12, 13, 14]\n",
            "Number of Entries passing F1: []\n",
            "Number of Entries passing F1: [1, 2, 3, 4, 5, 6, 7, 8, 9, 10, 11, 12, 13, 14, 16, 17, 18, 19, 20, 21, 22, 23, 24, 25, 26, 27, 28, 29, 31, 32, 33, 34, 35, 36, 37, 38, 39, 40, 41, 42, 43, 44, 46, 47, 48, 49]\n"
          ],
          "name": "stdout"
        }
      ]
    },
    {
      "cell_type": "markdown",
      "metadata": {
        "id": "dBGh9kHA9ku_"
      },
      "source": [
        "*Exercise 7:* Repeat the previous exercise using `lambda` and the built-in python functions sum and map instead of your solution above. "
      ]
    },
    {
      "cell_type": "code",
      "metadata": {
        "id": "CSUwBZo_9kvA"
      },
      "source": [
        "\n"
      ],
      "execution_count": 28,
      "outputs": []
    },
    {
      "cell_type": "markdown",
      "metadata": {
        "id": "3qIa10Qq9kvD"
      },
      "source": [
        "## Monte Carlo\n",
        "\n",
        "*Exercise 7:* Write a \"generator\" function called `generate_function(func,x_min,x_max,N)`, that instead of generating a flat distribution, generates a distribution with functional form coded in `func`. Note that `func` will always be > 0.  \n",
        "\n",
        "Use the test function below and your histogramming functions above to demonstrate that your generator is working properly.\n",
        "\n",
        "Hint: A simple, but slow, solution is to a draw random number test_x within the specified range and another number p between the min and max of the function (which you will have to determine). If p<=function(test_x), then place test_x on the output. If not, repeat the process, drawing two new numbers. Repeat until you have the specified number of generated numbers, N. For this problem, it's OK to determine the min and max by numerically sampling the function.  "
      ]
    },
    {
      "cell_type": "code",
      "metadata": {
        "id": "tSdjivQLOAVV"
      },
      "source": [
        "import math\n",
        "import numpy as np\n",
        "import random\n",
        "%matplotlib inline\n",
        "import matplotlib.pyplot as plt"
      ],
      "execution_count": 80,
      "outputs": []
    },
    {
      "cell_type": "code",
      "metadata": {
        "id": "Thh1gLjw9kvE"
      },
      "source": [
        "func=random.random()\n",
        "func = data\n",
        "x_min = (np.min(data))\n",
        "x_max = (np.max(data)) \n",
        "def rand_gen():\n",
        "  return random.randint(0,1)\n",
        "  rand_gen()\n",
        "def generate_function(N,x_min,x,x_max):\n",
        "  def rand_gen():\n",
        "    return random.randint(900,1000)\n",
        "    x = rand_gen()\n",
        "    return x\n",
        "  out = list()\n",
        "  end_results=1000       \n",
        "  for i in range(N):\n",
        "    result = rand_gen()\n",
        "    end_results = end_results+result\n",
        "    prob_value = end_results/(i+1)\n",
        "    out.append(prob_value)\n",
        "    plt.hist(out)\n",
        "  return end_results/N    "
      ],
      "execution_count": 74,
      "outputs": []
    },
    {
      "cell_type": "code",
      "metadata": {
        "id": "S1y_dvP2tHD7",
        "outputId": "c86276c2-0bea-4291-9738-229be7da07a1",
        "colab": {
          "base_uri": "https://localhost:8080/",
          "height": 282
        }
      },
      "source": [
        "generate_function(N,x_min,x,x_max)"
      ],
      "execution_count": 75,
      "outputs": [
        {
          "output_type": "execute_result",
          "data": {
            "text/plain": [
              "951.706"
            ]
          },
          "metadata": {
            "tags": []
          },
          "execution_count": 75
        },
        {
          "output_type": "display_data",
          "data": {
            "image/png": "[encoded data removed]",
            "text/plain": [
              "<Figure size 432x288 with 1 Axes>"
            ]
          },
          "metadata": {
            "tags": [],
            "needs_background": "light"
          }
        }
      ]
    },
    {
      "cell_type": "code",
      "metadata": {
        "id": "Rnlos9Ys9kvG",
        "outputId": "720ccebc-8302-420f-e1c8-b87896c14e1b",
        "colab": {
          "base_uri": "https://localhost:8080/",
          "height": 33
        }
      },
      "source": [
        "# A test function\n",
        "\n",
        "def test_func(func,a=1,b=1):\n",
        "  for _ in list(data):\n",
        "    return abs(a*x-b)\n",
        "    if p <= x(test_func):\n",
        "      test_func = output\n",
        "      return output\n",
        "    else:\n",
        "      return 'N/a'\n",
        "\n",
        "test_func(data,a=1,b=1)"
      ],
      "execution_count": 79,
      "outputs": [
        {
          "output_type": "execute_result",
          "data": {
            "text/plain": [
              "1"
            ]
          },
          "metadata": {
            "tags": []
          },
          "execution_count": 79
        }
      ]
    },
    {
      "cell_type": "markdown",
      "metadata": {
        "id": "NSlaVxsl9kvJ"
      },
      "source": [
        "*Exercise 8:* Use your function to generate 1000 numbers that are normal distributed, using the `gaussian` function below. Confirm the mean and variance of the data is close to the mean and variance you specify when building the Gaussian. Histogram the data. "
      ]
    },
    {
      "cell_type": "code",
      "metadata": {
        "id": "E3Yfmtr4K8Ok",
        "outputId": "073716ef-7d20-4e00-bb9f-f323fe32717f",
        "colab": {
          "base_uri": "https://localhost:8080/",
          "height": 343
        }
      },
      "source": [
        "def gaussian(mean,sigma=32144):\n",
        "    random_numbers.append(my_uniform())\n",
        "    my_uniform=uniform_generator(sigma)  \n",
        "    def f():\n",
        "        nonlocal my_uniform\n",
        "        nonlocal mean\n",
        "        u = my_uniform()\n",
        "        return -mean*(math.log(1.-u))   \n",
        "    return f\n",
        "my_gaussian= gaussian(1000.)\n",
        "my_gaussian()\n",
        "random_numbers=list()\n",
        "for _ in range(1000):\n",
        "    random_numbers.append(my_gaussian())\n",
        "_=plt.hist(random_numbers,bins=1000)\n",
        "import math\n",
        "random_numbers=list()\n",
        "for _ in range(1000):\n",
        "    random_numbers.append(my_uniform())\n",
        "_=plt.hist(random_numbers,bins=1000,range=(1,10))\n",
        "\n",
        "plt.hist(random_numbers,bins=1000,range=(1,10))"
      ],
      "execution_count": 82,
      "outputs": [
        {
          "output_type": "error",
          "ename": "ValueError",
          "evalue": "ignored",
          "traceback": [
            "\u001b[0;31m---------------------------------------------------------------------------\u001b[0m",
            "\u001b[0;31mValueError\u001b[0m                                Traceback (most recent call last)",
            "\u001b[0;32m<ipython-input-82-dffe2e38e312>\u001b[0m in \u001b[0;36m<module>\u001b[0;34m()\u001b[0m\n\u001b[1;32m     10\u001b[0m     \u001b[0;32mreturn\u001b[0m \u001b[0mf\u001b[0m\u001b[0;34m\u001b[0m\u001b[0;34m\u001b[0m\u001b[0m\n\u001b[1;32m     11\u001b[0m \u001b[0mmy_gaussian\u001b[0m\u001b[0;34m=\u001b[0m \u001b[0mgaussian\u001b[0m\u001b[0;34m(\u001b[0m\u001b[0;36m1000.\u001b[0m\u001b[0;34m)\u001b[0m\u001b[0;34m\u001b[0m\u001b[0;34m\u001b[0m\u001b[0m\n\u001b[0;32m---> 12\u001b[0;31m \u001b[0mmy_gaussian\u001b[0m\u001b[0;34m(\u001b[0m\u001b[0;34m)\u001b[0m\u001b[0;34m\u001b[0m\u001b[0;34m\u001b[0m\u001b[0m\n\u001b[0m\u001b[1;32m     13\u001b[0m \u001b[0mrandom_numbers\u001b[0m\u001b[0;34m=\u001b[0m\u001b[0mlist\u001b[0m\u001b[0;34m(\u001b[0m\u001b[0;34m)\u001b[0m\u001b[0;34m\u001b[0m\u001b[0;34m\u001b[0m\u001b[0m\n\u001b[1;32m     14\u001b[0m \u001b[0;32mfor\u001b[0m \u001b[0m_\u001b[0m \u001b[0;32min\u001b[0m \u001b[0mrange\u001b[0m\u001b[0;34m(\u001b[0m\u001b[0;36m1000\u001b[0m\u001b[0;34m)\u001b[0m\u001b[0;34m:\u001b[0m\u001b[0;34m\u001b[0m\u001b[0;34m\u001b[0m\u001b[0m\n",
            "\u001b[0;32m<ipython-input-82-dffe2e38e312>\u001b[0m in \u001b[0;36mf\u001b[0;34m()\u001b[0m\n\u001b[1;32m      7\u001b[0m         \u001b[0;32mnonlocal\u001b[0m \u001b[0mmean\u001b[0m\u001b[0;34m\u001b[0m\u001b[0;34m\u001b[0m\u001b[0m\n\u001b[1;32m      8\u001b[0m         \u001b[0mu\u001b[0m \u001b[0;34m=\u001b[0m \u001b[0mmy_uniform\u001b[0m\u001b[0;34m(\u001b[0m\u001b[0;34m)\u001b[0m\u001b[0;34m\u001b[0m\u001b[0;34m\u001b[0m\u001b[0m\n\u001b[0;32m----> 9\u001b[0;31m         \u001b[0;32mreturn\u001b[0m \u001b[0;34m(\u001b[0m\u001b[0mmath\u001b[0m\u001b[0;34m.\u001b[0m\u001b[0mlog\u001b[0m\u001b[0;34m(\u001b[0m\u001b[0;36m1.\u001b[0m\u001b[0;34m-\u001b[0m\u001b[0mu\u001b[0m\u001b[0;34m)\u001b[0m\u001b[0;34m)\u001b[0m\u001b[0;34m\u001b[0m\u001b[0;34m\u001b[0m\u001b[0m\n\u001b[0m\u001b[1;32m     10\u001b[0m     \u001b[0;32mreturn\u001b[0m \u001b[0mf\u001b[0m\u001b[0;34m\u001b[0m\u001b[0;34m\u001b[0m\u001b[0m\n\u001b[1;32m     11\u001b[0m \u001b[0mmy_gaussian\u001b[0m\u001b[0;34m=\u001b[0m \u001b[0mgaussian\u001b[0m\u001b[0;34m(\u001b[0m\u001b[0;36m1000.\u001b[0m\u001b[0;34m)\u001b[0m\u001b[0;34m\u001b[0m\u001b[0;34m\u001b[0m\u001b[0m\n",
            "\u001b[0;31mValueError\u001b[0m: math domain error"
          ]
        }
      ]
    },
    {
      "cell_type": "markdown",
      "metadata": {
        "id": "jFUrAlJ-9kvN"
      },
      "source": [
        "*Exercise 9:* Combine your `generate_function`, `where`, and `in_range` functions above to create an integrate function. Use your integrate function to show that approximately 68% of Normal distribution is within one variance."
      ]
    },
    {
      "cell_type": "code",
      "metadata": {
        "id": "Z9hAmMD8dOvL",
        "cellView": "form",
        "outputId": "af645838-6f1f-4194-9209-3d953ebbc8cf",
        "colab": {
          "base_uri": "https://localhost:8080/",
          "height": 33
        }
      },
      "source": [
        "#@title Imports\n",
        "!pip install -q symbulate\n",
        "from symbulate import *"
      ],
      "execution_count": 65,
      "outputs": [
        {
          "output_type": "stream",
          "text": [
            "\u001b[?25l\r\u001b[K     |███████▎                        | 10kB 21.9MB/s eta 0:00:01\r\u001b[K     |██████████████▋                 | 20kB 2.2MB/s eta 0:00:01\r\u001b[K     |██████████████████████          | 30kB 2.7MB/s eta 0:00:01\r\u001b[K     |█████████████████████████████▏  | 40kB 3.0MB/s eta 0:00:01\r\u001b[K     |████████████████████████████████| 51kB 1.9MB/s \n",
            "\u001b[?25h"
          ],
          "name": "stdout"
        }
      ]
    },
    {
      "cell_type": "code",
      "metadata": {
        "id": "oE0Byg619kvN",
        "outputId": "d01f22ec-627a-4bcd-9a21-98ddc9f99ffd",
        "colab": {
          "base_uri": "https://localhost:8080/",
          "height": 33
        }
      },
      "source": [
        "list1 = []\n",
        "#def integrate(func, x_min, x_max, n_points=1000):\n",
        "def random_chance():\n",
        "  return random.randint(1,50)\n",
        "random_chance()"
      ],
      "execution_count": 56,
      "outputs": [
        {
          "output_type": "execute_result",
          "data": {
            "text/plain": [
              "34"
            ]
          },
          "metadata": {
            "tags": []
          },
          "execution_count": 56
        }
      ]
    },
    {
      "cell_type": "code",
      "metadata": {
        "id": "5zkNh6wWdwvq",
        "outputId": "376d880a-130f-4d9d-bc0c-b20ff87f9f89",
        "colab": {
          "base_uri": "https://localhost:8080/",
          "height": 286
        }
      },
      "source": [
        "n_points = 1000\n",
        "n = n_points\n",
        "x = random.randint(0,50)\n",
        "x_min = (1,50)\n",
        "x_max = (50,100)\n",
        "def main_func(n):\n",
        "  results = 100\n",
        "  for i in range(n):\n",
        "    chance_result = random_chance()\n",
        "    results = results + chance_result\n",
        "    prob_value = results\n",
        "    list1.append(prob_value)\n",
        "    Normal().plot()\n",
        "    Normal().cdf(1)\n",
        "    Normal().mean()\n",
        "    Normal().var()\n",
        "    Normal(sd=0.86).plot(xlim=(-3.2, 3.2))\n",
        "    plt.xlabel(\"Integral\")\n",
        "    plt.ylabel(\"Probability\")\n",
        "  return results/n\n",
        "answer = main_func(100)\n",
        "print(\"Final value:\",answer)\n",
        "\n",
        "    #return integral"
      ],
      "execution_count": 66,
      "outputs": [
        {
          "output_type": "stream",
          "text": [
            "Final value: 25.75\n"
          ],
          "name": "stdout"
        },
        {
          "output_type": "display_data",
          "data": {
            "image/png": "[encoded data removed]",
            "text/plain": [
              "<Figure size 432x288 with 1 Axes>"
            ]
          },
          "metadata": {
            "tags": [],
            "needs_background": "light"
          }
        }
      ]
    }
  ]
}