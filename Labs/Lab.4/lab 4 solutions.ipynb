{
  "nbformat": 4,
  "nbformat_minor": 0,
  "metadata": {
    "kernelspec": {
      "display_name": "Python 3",
      "language": "python",
      "name": "python3"
    },
    "language_info": {
      "codemirror_mode": {
        "name": "ipython",
        "version": 3
      },
      "file_extension": ".py",
      "mimetype": "text/x-python",
      "name": "python",
      "nbconvert_exporter": "python",
      "pygments_lexer": "ipython3",
      "version": "3.8.0"
    },
    "colab": {
      "name": "Copy of Lab.4.ipynb",
      "provenance": [],
      "collapsed_sections": []
    }
  },
  "cells": [
    {
      "cell_type": "markdown",
      "metadata": {
        "id": "hcblPGfLr4xa"
      },
      "source": [
        "## Lab 4\n",
        "\n",
        "[![Open In Colab](https://colab.research.google.com/assets/colab-badge.svg)](https://colab.research.google.com/github/UTA-DataScience/DATA1401.2020.Fall/blob/master/Labs/Lab.4/Lab.4.ipynb)\n",
        "\n",
        "In this lab we will become familiar with distributions, histograms, and functional programming. \n",
        "\n",
        "\n",
        "### Uniform Distribution\n",
        "Lets start with generating some fake random data. You can get a random number between 0 and 1 using the python random module as follow:"
      ]
    },
    {
      "cell_type": "code",
      "metadata": {
        "id": "cfwN6cWhr4xb"
      },
      "source": [
        "import random\n",
        "x=random.random()\n",
        "print(\"The Value of x is\", x)"
      ],
      "execution_count": null,
      "outputs": []
    },
    {
      "cell_type": "markdown",
      "metadata": {
        "id": "TSxFstTvr4xe"
      },
      "source": [
        "Everytime you call random, you will get a new number.\n",
        "\n",
        "*Exercise 1:* Using random, write a function `generate_uniform(N, mymin, mymax)`, that returns a python list containing N random numbers between specified minimum and maximum value. Note that you may want to quickly work out on paper how to turn numbers between 0 and 1 to between other values. "
      ]
    },
    {
      "cell_type": "code",
      "metadata": {
        "id": "wuiIpfoer4xe"
      },
      "source": [
        "# Skeleton\n",
        "import math\n",
        "import numpy\n",
        "import random\n",
        "def generate_uniform(N,x_min,x_max):\n",
        "    out = []\n",
        "    ### BEGIN SOLUTION\n",
        "    for i in range(0, N):\n",
        "      out.append(random.randint(x_min, x_max))\n",
        "    # Fill in your solution here        \n",
        "    \n",
        "    ### END SOLUTION\n",
        "    return out"
      ],
      "execution_count": null,
      "outputs": []
    },
    {
      "cell_type": "code",
      "metadata": {
        "id": "q2N5qr0Ir4xh",
        "outputId": "d2b41021-888c-45f8-8382-e274f2b00e61",
        "colab": {
          "base_uri": "https://localhost:8080/",
          "height": 102
        }
      },
      "source": [
        "# Test your solution here\n",
        "data=generate_uniform(1000,-10,10)\n",
        "print (\"Data Type:\", type(data))\n",
        "print (\"Data Length:\", len(data))\n",
        "if len(data)>0: \n",
        "    print (\"Type of Data Contents:\", type(data[0]))\n",
        "    print (\"Data Minimum:\", min(data))\n",
        "    print (\"Data Maximum:\", max(data))"
      ],
      "execution_count": null,
      "outputs": [
        {
          "output_type": "stream",
          "text": [
            "Data Type: <class 'list'>\n",
            "Data Length: 1000\n",
            "Type of Data Contents: <class 'int'>\n",
            "Data Minimum: -10\n",
            "Data Maximum: 10\n"
          ],
          "name": "stdout"
        }
      ]
    },
    {
      "cell_type": "markdown",
      "metadata": {
        "id": "pQO2ZAfPr4xj"
      },
      "source": [
        "*Exercise 2a:* \n",
        "Write a function that computes the mean of values in a list."
      ]
    },
    {
      "cell_type": "code",
      "metadata": {
        "id": "G-azulgWr4xj"
      },
      "source": [
        "# Skeleton\n",
        "def mean(Data):\n",
        "    m=0.\n",
        "    s=0\n",
        "    ### BEGIN SOLUTION\n",
        "    for num in data:\n",
        "      s = s + num \n",
        "    # Fill in your solution here        \n",
        "    m = s / len(data)\n",
        "    ### END SOLUTION\n",
        "    \n",
        "    return m"
      ],
      "execution_count": null,
      "outputs": []
    },
    {
      "cell_type": "code",
      "metadata": {
        "id": "fnySn97ar4xl",
        "outputId": "b76f972c-5f47-407a-ebb8-53910471294c",
        "colab": {
          "base_uri": "https://localhost:8080/",
          "height": 34
        }
      },
      "source": [
        "# Test your solution here\n",
        "print (\"Mean of Data:\", mean(data))"
      ],
      "execution_count": null,
      "outputs": [
        {
          "output_type": "stream",
          "text": [
            "Mean of Data: -0.213\n"
          ],
          "name": "stdout"
        }
      ]
    },
    {
      "cell_type": "markdown",
      "metadata": {
        "id": "JhwfxuRPr4xo"
      },
      "source": [
        "*Exercise 2b:* \n",
        "Write a function that computes the variance of values in a list."
      ]
    },
    {
      "cell_type": "code",
      "metadata": {
        "id": "LzSm5p7wr4xo"
      },
      "source": [
        "# Skeleton\n",
        "def variance(Data):\n",
        "    s=0\n",
        "    m = mean(Data)\n",
        "    \n",
        "    ### BEGIN SOLUTION\n",
        "    for num in Data:\n",
        "      s = s + math.pow(num - m, 2)\n",
        "    # Fill in your solution here        \n",
        "    var = s / (len(Data)-1)\n",
        "    ### END SOLUTION\n",
        "    \n",
        "    return var"
      ],
      "execution_count": null,
      "outputs": []
    },
    {
      "cell_type": "code",
      "metadata": {
        "id": "oVwFw22Tr4xq",
        "outputId": "f9be7bda-4246-42ff-9de1-681ba364fa96",
        "colab": {
          "base_uri": "https://localhost:8080/",
          "height": 34
        }
      },
      "source": [
        "# Test your solution here\n",
        "print (\"Variance of Data:\", variance(data))"
      ],
      "execution_count": null,
      "outputs": [
        {
          "output_type": "stream",
          "text": [
            "Variance of Data: 37.22885985985985\n"
          ],
          "name": "stdout"
        }
      ]
    },
    {
      "cell_type": "markdown",
      "metadata": {
        "id": "DLH7bLXwr4xt"
      },
      "source": [
        "## Histogramming"
      ]
    },
    {
      "cell_type": "markdown",
      "metadata": {
        "id": "W4OZf8asr4xt"
      },
      "source": [
        "*Exercise 3:* Write a function that bins the data so that you can create a histogram. An example of how to implement histogramming is the following logic:\n",
        "\n",
        "* User inputs a list of values `x` and optionally `n_bins` which defaults to 10.\n",
        "* If not supplied, find the minimum and maximum (`x_min`,`x_max`) of the values in x.\n",
        "* Determine the bin size (`bin_size`) by dividing the range of the function by the number of bins.\n",
        "* Create an empty list of zeros of size `n_bins`, call it `hist`.\n",
        "* Loop over the values in `x`\n",
        "    * Loop over the values in `hist` with index `i`:\n",
        "        * If x is between `x_min+i*bin_size` and `x_min+(i+1)*bin_size`, increment `hist[i].` \n",
        "        * For efficiency, try to use continue to goto the next bin and data point.\n",
        "* Return `hist` and the list corresponding of the bin edges (i.e. of `x_min+i*bin_size`).    "
      ]
    },
    {
      "cell_type": "code",
      "metadata": {
        "id": "5147G_C7r4xt"
      },
      "source": [
        "# Solution\n",
        "def histogram(x,n_bins=10,x_min=None,x_max=None):\n",
        "    ### BEGIN SOLUTION\n",
        "    if x_min == None and x_max == None:\n",
        "      x_min = 1000\n",
        "      x_max = -1000\n",
        "\n",
        "    # Fill in your solution here        \n",
        "    for num in x:\n",
        "      if num < x_min:\n",
        "        x_min = num\n",
        "      if num > x_max:\n",
        "        x_max = num\n",
        "\n",
        "    bin = numpy.linspace(x_min, x_max, n_bins)\n",
        "    bin_size = bin[1]-bin[0]\n",
        "    \n",
        "    hist = []\n",
        "    bin_edges=[]\n",
        "    for i in range(0, n_bins):\n",
        "      hist.append(0)\n",
        "    for val in x:\n",
        "      for i in range(0, len(hist)):\n",
        "        if x_min + (i+1) * bin_size > val > x_min + i * bin_size:\n",
        "          hist[i] += 1\n",
        "        bin_edges.append(x_min + i * bin_size)\n",
        "    ### END SOLUTION\n",
        "    return hist, bin_edges\n",
        "    \n",
        "data = generate_uniform(10,0,100)\n",
        "    \n",
        "    "
      ],
      "execution_count": null,
      "outputs": []
    },
    {
      "cell_type": "code",
      "metadata": {
        "id": "77HyUPYLr4xw",
        "outputId": "b0a1cd91-e0ae-492c-efef-88227e37d85a",
        "colab": {
          "base_uri": "https://localhost:8080/",
          "height": 54
        }
      },
      "source": [
        "# Test your solution here\n",
        "h, b=histogram(data, 100)\n",
        "print(h)"
      ],
      "execution_count": null,
      "outputs": [
        {
          "output_type": "stream",
          "text": [
            "[0, 0, 0, 0, 0, 0, 0, 0, 0, 0, 1, 0, 0, 0, 0, 0, 0, 0, 0, 0, 0, 0, 0, 0, 0, 0, 0, 0, 0, 0, 0, 0, 0, 0, 0, 0, 0, 0, 0, 1, 0, 0, 0, 0, 0, 1, 0, 0, 0, 0, 0, 0, 0, 0, 0, 0, 0, 0, 0, 0, 0, 0, 0, 0, 0, 0, 0, 0, 1, 0, 0, 0, 0, 0, 1, 0, 0, 0, 1, 1, 1, 0, 0, 0, 0, 0, 0, 0, 0, 0, 0, 0, 0, 0, 0, 0, 0, 0, 0, 0]\n"
          ],
          "name": "stdout"
        }
      ]
    },
    {
      "cell_type": "markdown",
      "metadata": {
        "id": "tQutpr5Cr4xy"
      },
      "source": [
        "*Exercise 4:* Write a function that uses the histogram function in the previous exercise to create a text-based \"graph\". For example the output could look like the following:\n",
        "```\n",
        "[  0,  1] : ######\n",
        "[  1,  2] : #####\n",
        "[  2,  3] : ######\n",
        "[  3,  4] : ####\n",
        "[  4,  5] : ####\n",
        "[  5,  6] : ######\n",
        "[  6,  7] : #####\n",
        "[  7,  8] : ######\n",
        "[  8,  9] : ####\n",
        "[  9, 10] : #####\n",
        "```\n",
        "\n",
        "Where each line corresponds to a bin and the number of `#`'s are proportional to the value of the data in the bin. "
      ]
    },
    {
      "cell_type": "code",
      "metadata": {
        "id": "3NH8oDLzr4xz"
      },
      "source": [
        "# Solution\n",
        "def draw_histogram(x,n_bins,x_min=None,x_max=None,character=\"#\",max_character_per_line=20):\n",
        "    ### BEGIN SOLUTION\n",
        "    for num in range(0, len(x)-1):\n",
        "      print(\"[{}, {}]\".format(n_bins[num], n_bins[num+1]), end= \"\")\n",
        "      for i in range(0, x[num]):\n",
        "        print(character, end='')\n",
        "    # Fill in your solution here        \n",
        "      print()\n",
        "    ### END SOLUTION\n",
        "    "
      ],
      "execution_count": null,
      "outputs": []
    },
    {
      "cell_type": "code",
      "metadata": {
        "id": "cOUvJO6Qr4x2",
        "outputId": "241fa130-7b88-4e5f-a72f-636cdad57c33",
        "colab": {
          "base_uri": "https://localhost:8080/",
          "height": 224
        }
      },
      "source": [
        "# Test your solution here\n",
        "data = generate_uniform(100, 0, 100)\n",
        "h, b = histogram(data, 10)\n",
        "print(h)\n",
        "print(b)\n",
        "draw_histogram(h,b)\n"
      ],
      "execution_count": null,
      "outputs": [
        {
          "output_type": "stream",
          "text": [
            "[14, 12, 11, 14, 10, 8, 6, 6, 7, 0]\n",
            "[0.0, 11.0, 22.0, 33.0, 44.0, 55.0, 66.0, 77.0, 88.0, 99.0, 0.0, 11.0, 22.0, 33.0, 44.0, 55.0, 66.0, 77.0, 88.0, 99.0, 0.0, 11.0, 22.0, 33.0, 44.0, 55.0, 66.0, 77.0, 88.0, 99.0, 0.0, 11.0, 22.0, 33.0, 44.0, 55.0, 66.0, 77.0, 88.0, 99.0, 0.0, 11.0, 22.0, 33.0, 44.0, 55.0, 66.0, 77.0, 88.0, 99.0, 0.0, 11.0, 22.0, 33.0, 44.0, 55.0, 66.0, 77.0, 88.0, 99.0, 0.0, 11.0, 22.0, 33.0, 44.0, 55.0, 66.0, 77.0, 88.0, 99.0, 0.0, 11.0, 22.0, 33.0, 44.0, 55.0, 66.0, 77.0, 88.0, 99.0, 0.0, 11.0, 22.0, 33.0, 44.0, 55.0, 66.0, 77.0, 88.0, 99.0, 0.0, 11.0, 22.0, 33.0, 44.0, 55.0, 66.0, 77.0, 88.0, 99.0, 0.0, 11.0, 22.0, 33.0, 44.0, 55.0, 66.0, 77.0, 88.0, 99.0, 0.0, 11.0, 22.0, 33.0, 44.0, 55.0, 66.0, 77.0, 88.0, 99.0, 0.0, 11.0, 22.0, 33.0, 44.0, 55.0, 66.0, 77.0, 88.0, 99.0, 0.0, 11.0, 22.0, 33.0, 44.0, 55.0, 66.0, 77.0, 88.0, 99.0, 0.0, 11.0, 22.0, 33.0, 44.0, 55.0, 66.0, 77.0, 88.0, 99.0, 0.0, 11.0, 22.0, 33.0, 44.0, 55.0, 66.0, 77.0, 88.0, 99.0, 0.0, 11.0, 22.0, 33.0, 44.0, 55.0, 66.0, 77.0, 88.0, 99.0, 0.0, 11.0, 22.0, 33.0, 44.0, 55.0, 66.0, 77.0, 88.0, 99.0, 0.0, 11.0, 22.0, 33.0, 44.0, 55.0, 66.0, 77.0, 88.0, 99.0, 0.0, 11.0, 22.0, 33.0, 44.0, 55.0, 66.0, 77.0, 88.0, 99.0, 0.0, 11.0, 22.0, 33.0, 44.0, 55.0, 66.0, 77.0, 88.0, 99.0, 0.0, 11.0, 22.0, 33.0, 44.0, 55.0, 66.0, 77.0, 88.0, 99.0, 0.0, 11.0, 22.0, 33.0, 44.0, 55.0, 66.0, 77.0, 88.0, 99.0, 0.0, 11.0, 22.0, 33.0, 44.0, 55.0, 66.0, 77.0, 88.0, 99.0, 0.0, 11.0, 22.0, 33.0, 44.0, 55.0, 66.0, 77.0, 88.0, 99.0, 0.0, 11.0, 22.0, 33.0, 44.0, 55.0, 66.0, 77.0, 88.0, 99.0, 0.0, 11.0, 22.0, 33.0, 44.0, 55.0, 66.0, 77.0, 88.0, 99.0, 0.0, 11.0, 22.0, 33.0, 44.0, 55.0, 66.0, 77.0, 88.0, 99.0, 0.0, 11.0, 22.0, 33.0, 44.0, 55.0, 66.0, 77.0, 88.0, 99.0, 0.0, 11.0, 22.0, 33.0, 44.0, 55.0, 66.0, 77.0, 88.0, 99.0, 0.0, 11.0, 22.0, 33.0, 44.0, 55.0, 66.0, 77.0, 88.0, 99.0, 0.0, 11.0, 22.0, 33.0, 44.0, 55.0, 66.0, 77.0, 88.0, 99.0, 0.0, 11.0, 22.0, 33.0, 44.0, 55.0, 66.0, 77.0, 88.0, 99.0, 0.0, 11.0, 22.0, 33.0, 44.0, 55.0, 66.0, 77.0, 88.0, 99.0, 0.0, 11.0, 22.0, 33.0, 44.0, 55.0, 66.0, 77.0, 88.0, 99.0, 0.0, 11.0, 22.0, 33.0, 44.0, 55.0, 66.0, 77.0, 88.0, 99.0, 0.0, 11.0, 22.0, 33.0, 44.0, 55.0, 66.0, 77.0, 88.0, 99.0, 0.0, 11.0, 22.0, 33.0, 44.0, 55.0, 66.0, 77.0, 88.0, 99.0, 0.0, 11.0, 22.0, 33.0, 44.0, 55.0, 66.0, 77.0, 88.0, 99.0, 0.0, 11.0, 22.0, 33.0, 44.0, 55.0, 66.0, 77.0, 88.0, 99.0, 0.0, 11.0, 22.0, 33.0, 44.0, 55.0, 66.0, 77.0, 88.0, 99.0, 0.0, 11.0, 22.0, 33.0, 44.0, 55.0, 66.0, 77.0, 88.0, 99.0, 0.0, 11.0, 22.0, 33.0, 44.0, 55.0, 66.0, 77.0, 88.0, 99.0, 0.0, 11.0, 22.0, 33.0, 44.0, 55.0, 66.0, 77.0, 88.0, 99.0, 0.0, 11.0, 22.0, 33.0, 44.0, 55.0, 66.0, 77.0, 88.0, 99.0, 0.0, 11.0, 22.0, 33.0, 44.0, 55.0, 66.0, 77.0, 88.0, 99.0, 0.0, 11.0, 22.0, 33.0, 44.0, 55.0, 66.0, 77.0, 88.0, 99.0, 0.0, 11.0, 22.0, 33.0, 44.0, 55.0, 66.0, 77.0, 88.0, 99.0, 0.0, 11.0, 22.0, 33.0, 44.0, 55.0, 66.0, 77.0, 88.0, 99.0, 0.0, 11.0, 22.0, 33.0, 44.0, 55.0, 66.0, 77.0, 88.0, 99.0, 0.0, 11.0, 22.0, 33.0, 44.0, 55.0, 66.0, 77.0, 88.0, 99.0, 0.0, 11.0, 22.0, 33.0, 44.0, 55.0, 66.0, 77.0, 88.0, 99.0, 0.0, 11.0, 22.0, 33.0, 44.0, 55.0, 66.0, 77.0, 88.0, 99.0, 0.0, 11.0, 22.0, 33.0, 44.0, 55.0, 66.0, 77.0, 88.0, 99.0, 0.0, 11.0, 22.0, 33.0, 44.0, 55.0, 66.0, 77.0, 88.0, 99.0, 0.0, 11.0, 22.0, 33.0, 44.0, 55.0, 66.0, 77.0, 88.0, 99.0, 0.0, 11.0, 22.0, 33.0, 44.0, 55.0, 66.0, 77.0, 88.0, 99.0, 0.0, 11.0, 22.0, 33.0, 44.0, 55.0, 66.0, 77.0, 88.0, 99.0, 0.0, 11.0, 22.0, 33.0, 44.0, 55.0, 66.0, 77.0, 88.0, 99.0, 0.0, 11.0, 22.0, 33.0, 44.0, 55.0, 66.0, 77.0, 88.0, 99.0, 0.0, 11.0, 22.0, 33.0, 44.0, 55.0, 66.0, 77.0, 88.0, 99.0, 0.0, 11.0, 22.0, 33.0, 44.0, 55.0, 66.0, 77.0, 88.0, 99.0, 0.0, 11.0, 22.0, 33.0, 44.0, 55.0, 66.0, 77.0, 88.0, 99.0, 0.0, 11.0, 22.0, 33.0, 44.0, 55.0, 66.0, 77.0, 88.0, 99.0, 0.0, 11.0, 22.0, 33.0, 44.0, 55.0, 66.0, 77.0, 88.0, 99.0, 0.0, 11.0, 22.0, 33.0, 44.0, 55.0, 66.0, 77.0, 88.0, 99.0, 0.0, 11.0, 22.0, 33.0, 44.0, 55.0, 66.0, 77.0, 88.0, 99.0, 0.0, 11.0, 22.0, 33.0, 44.0, 55.0, 66.0, 77.0, 88.0, 99.0, 0.0, 11.0, 22.0, 33.0, 44.0, 55.0, 66.0, 77.0, 88.0, 99.0, 0.0, 11.0, 22.0, 33.0, 44.0, 55.0, 66.0, 77.0, 88.0, 99.0, 0.0, 11.0, 22.0, 33.0, 44.0, 55.0, 66.0, 77.0, 88.0, 99.0, 0.0, 11.0, 22.0, 33.0, 44.0, 55.0, 66.0, 77.0, 88.0, 99.0, 0.0, 11.0, 22.0, 33.0, 44.0, 55.0, 66.0, 77.0, 88.0, 99.0, 0.0, 11.0, 22.0, 33.0, 44.0, 55.0, 66.0, 77.0, 88.0, 99.0, 0.0, 11.0, 22.0, 33.0, 44.0, 55.0, 66.0, 77.0, 88.0, 99.0, 0.0, 11.0, 22.0, 33.0, 44.0, 55.0, 66.0, 77.0, 88.0, 99.0, 0.0, 11.0, 22.0, 33.0, 44.0, 55.0, 66.0, 77.0, 88.0, 99.0, 0.0, 11.0, 22.0, 33.0, 44.0, 55.0, 66.0, 77.0, 88.0, 99.0, 0.0, 11.0, 22.0, 33.0, 44.0, 55.0, 66.0, 77.0, 88.0, 99.0, 0.0, 11.0, 22.0, 33.0, 44.0, 55.0, 66.0, 77.0, 88.0, 99.0, 0.0, 11.0, 22.0, 33.0, 44.0, 55.0, 66.0, 77.0, 88.0, 99.0, 0.0, 11.0, 22.0, 33.0, 44.0, 55.0, 66.0, 77.0, 88.0, 99.0, 0.0, 11.0, 22.0, 33.0, 44.0, 55.0, 66.0, 77.0, 88.0, 99.0, 0.0, 11.0, 22.0, 33.0, 44.0, 55.0, 66.0, 77.0, 88.0, 99.0, 0.0, 11.0, 22.0, 33.0, 44.0, 55.0, 66.0, 77.0, 88.0, 99.0, 0.0, 11.0, 22.0, 33.0, 44.0, 55.0, 66.0, 77.0, 88.0, 99.0, 0.0, 11.0, 22.0, 33.0, 44.0, 55.0, 66.0, 77.0, 88.0, 99.0, 0.0, 11.0, 22.0, 33.0, 44.0, 55.0, 66.0, 77.0, 88.0, 99.0, 0.0, 11.0, 22.0, 33.0, 44.0, 55.0, 66.0, 77.0, 88.0, 99.0, 0.0, 11.0, 22.0, 33.0, 44.0, 55.0, 66.0, 77.0, 88.0, 99.0, 0.0, 11.0, 22.0, 33.0, 44.0, 55.0, 66.0, 77.0, 88.0, 99.0, 0.0, 11.0, 22.0, 33.0, 44.0, 55.0, 66.0, 77.0, 88.0, 99.0, 0.0, 11.0, 22.0, 33.0, 44.0, 55.0, 66.0, 77.0, 88.0, 99.0, 0.0, 11.0, 22.0, 33.0, 44.0, 55.0, 66.0, 77.0, 88.0, 99.0, 0.0, 11.0, 22.0, 33.0, 44.0, 55.0, 66.0, 77.0, 88.0, 99.0, 0.0, 11.0, 22.0, 33.0, 44.0, 55.0, 66.0, 77.0, 88.0, 99.0, 0.0, 11.0, 22.0, 33.0, 44.0, 55.0, 66.0, 77.0, 88.0, 99.0, 0.0, 11.0, 22.0, 33.0, 44.0, 55.0, 66.0, 77.0, 88.0, 99.0, 0.0, 11.0, 22.0, 33.0, 44.0, 55.0, 66.0, 77.0, 88.0, 99.0, 0.0, 11.0, 22.0, 33.0, 44.0, 55.0, 66.0, 77.0, 88.0, 99.0]\n",
            "[0.0, 11.0]##############\n",
            "[11.0, 22.0]############\n",
            "[22.0, 33.0]###########\n",
            "[33.0, 44.0]##############\n",
            "[44.0, 55.0]##########\n",
            "[55.0, 66.0]########\n",
            "[66.0, 77.0]######\n",
            "[77.0, 88.0]######\n",
            "[88.0, 99.0]#######\n"
          ],
          "name": "stdout"
        }
      ]
    },
    {
      "cell_type": "markdown",
      "metadata": {
        "id": "jZ9zgH0Mr4x4"
      },
      "source": [
        "## Functional Programming\n",
        "\n",
        "*Exercise 5:* Write a function the applies a booling function (that returns true/false) to every element in data, and return a list of indices of elements where the result was true. Use this function to find the indices of entries greater than 0.5. "
      ]
    },
    {
      "cell_type": "code",
      "metadata": {
        "id": "OarBQFIMr4x4"
      },
      "source": [
        "def isOne(x):\n",
        "  if x == 1: return True\n",
        "  else: return False\n",
        "\n",
        "def where(mylist,myfunc):\n",
        "    out= []    \n",
        "    for i in range(0, len(mylist)):\n",
        "      if myfunc(mylist[i]) == True:\n",
        "        out.append(i)\n",
        "    \n",
        "    return out"
      ],
      "execution_count": null,
      "outputs": []
    },
    {
      "cell_type": "code",
      "metadata": {
        "id": "8YfHVG38r4x6",
        "outputId": "6bce703b-c561-4ffe-9fca-c2891e41d4ea",
        "colab": {
          "base_uri": "https://localhost:8080/",
          "height": 34
        }
      },
      "source": [
        "# Test your solution here\n",
        "def greaterThanHalf(x):\n",
        "  if x > 0.5: return True\n",
        "  else: return False\n",
        "\n",
        "print(where([0.2, 0.6, 0.1], greaterThanHalf))"
      ],
      "execution_count": null,
      "outputs": [
        {
          "output_type": "stream",
          "text": [
            "[1]\n"
          ],
          "name": "stdout"
        }
      ]
    },
    {
      "cell_type": "markdown",
      "metadata": {
        "id": "6iV8xAn4r4x8"
      },
      "source": [
        "*Exercise 6:* The inrange(mymin,mymax) function below returns a function that tests if it's input is between the specified values. Write corresponding functions that test:\n",
        "* Even\n",
        "* Odd\n",
        "* Greater than\n",
        "* Less than\n",
        "* Equal\n",
        "* Divisible by"
      ]
    },
    {
      "cell_type": "code",
      "metadata": {
        "id": "C6KVwnXSr4x9"
      },
      "source": [
        "def in_range(mymin,mymax):\n",
        "    def testrange(x):\n",
        "        return x<mymax and x>=mymin\n",
        "    return testrange\n",
        "\n",
        "data = generate_uniform(10, 0, 20)\n",
        "\n",
        "# Examples:\n",
        "F1=in_range(0,10)\n",
        "F2=in_range(10,20)\n",
        "\n",
        "# Test of in_range\n"
      ],
      "execution_count": 135,
      "outputs": []
    },
    {
      "cell_type": "code",
      "metadata": {
        "id": "zRwKVMtXr4x_"
      },
      "source": [
        "### BEGIN SOLUTION\n",
        "def is_even(x):\n",
        "  return x % 2 == 0\n",
        "\n",
        "def is_odd(x):\n",
        "  return x % 2 == 1\n",
        "\n",
        "def greater_than(x1, x2):\n",
        "  return x1 > x2\n",
        "\n",
        "def divisible_by(x1, x2):\n",
        "  return x1 % x2 ==0\n",
        "    # Fill in your solution here        \n",
        "    \n",
        "### END SOLUTION"
      ],
      "execution_count": 136,
      "outputs": []
    },
    {
      "cell_type": "code",
      "metadata": {
        "id": "GTeeFUc_r4yB",
        "outputId": "83c52331-550f-406f-9ed0-8669172d1cb9",
        "colab": {
          "base_uri": "https://localhost:8080/",
          "height": 102
        }
      },
      "source": [
        "# Test your solution\n",
        "print (F1(0), F1(1), F1(10), F1(15), F1(20))\n",
        "print (F2(0), F2(1), F2(10), F2(15), F2(20))\n",
        "\n",
        "print (\"Number of Entries passing F1:\", len(where(data,F1)))\n",
        "print (\"Number of Entries passing F2:\", len(where(data,F2)))\n",
        "print(len(data))"
      ],
      "execution_count": 138,
      "outputs": [
        {
          "output_type": "stream",
          "text": [
            "True True False False False\n",
            "False False True True False\n",
            "Number of Entries passing F1: 2\n",
            "Number of Entries passing F2: 7\n",
            "10\n"
          ],
          "name": "stdout"
        }
      ]
    },
    {
      "cell_type": "markdown",
      "metadata": {
        "id": "FWoCVBfjr4yE"
      },
      "source": [
        "*Exercise 7:* Repeat the previous exercise using `lambda` and the built-in python functions sum and map instead of your solution above. "
      ]
    },
    {
      "cell_type": "code",
      "metadata": {
        "id": "b0wJCEN-r4yE"
      },
      "source": [
        "### BEGIN SOLUTION\n",
        "\n",
        "    # Fill in your solution here        \n",
        "    \n",
        "### END SOLUTION"
      ],
      "execution_count": null,
      "outputs": []
    },
    {
      "cell_type": "markdown",
      "metadata": {
        "id": "RwqbY6-qr4yH"
      },
      "source": [
        "## Monte Carlo\n",
        "\n",
        "*Exercise 7:* Write a \"generator\" function called `generate_function(func,x_min,x_max,N)`, that instead of generating a flat distribution, generates a distribution with functional form coded in `func`. Note that `func` will always be > 0.  \n",
        "\n",
        "Use the test function below and your histogramming functions above to demonstrate that your generator is working properly.\n",
        "\n",
        "Hint: A simple, but slow, solution is to a draw random number test_x within the specified range and another number p between the min and max of the function (which you will have to determine). If p<=function(test_x), then place test_x on the output. If not, repeat the process, drawing two new numbers. Repeat until you have the specified number of generated numbers, N. For this problem, it's OK to determine the min and max by numerically sampling the function.  "
      ]
    },
    {
      "cell_type": "code",
      "metadata": {
        "id": "XjyM2t0br4yH"
      },
      "source": [
        "def generate_function(func,x_min,x_max,N=1000):\n",
        "    out = []\n",
        "    ### BEGIN SOLUTION\n",
        "    for i in range(0, N):\n",
        "      x = random.randint(x_min, x_max)\n",
        "      F1 = test_func(x)\n",
        "      p = random.randint(x_min, x_max)\n",
        "      while p > F1:\n",
        "        x = random.randint(x_min, x_max)\n",
        "        p = random.randint(x_min, x_max)\n",
        "      \n",
        "      out.append(x)\n",
        "    # Fill in your solution here        \n",
        "    \n",
        "    ### END SOLUTION\n",
        "    \n",
        "    return out"
      ],
      "execution_count": 142,
      "outputs": []
    },
    {
      "cell_type": "code",
      "metadata": {
        "id": "fqdiz3Dyr4yJ",
        "outputId": "95feeb0c-92ae-4c3c-a809-3fed2488c4dc",
        "colab": {
          "base_uri": "https://localhost:8080/",
          "height": 54
        }
      },
      "source": [
        "# A test function\n",
        "eg = generate_function(F1, 10, 15)\n",
        "print(eg)"
      ],
      "execution_count": 143,
      "outputs": [
        {
          "output_type": "stream",
          "text": [
            "[10, 12, 14, 15, 15, 13, 10, 10, 15, 10, 14, 11, 15, 14, 11, 14, 12, 12, 10, 14, 13, 15, 11, 10, 15, 13, 14, 13, 13, 10, 14, 15, 14, 15, 12, 15, 15, 15, 14, 14, 13, 13, 13, 13, 14, 14, 14, 10, 10, 13, 15, 14, 15, 10, 14, 13, 11, 11, 10, 14, 10, 15, 14, 15, 14, 11, 12, 14, 13, 14, 14, 14, 15, 14, 15, 11, 13, 14, 11, 14, 14, 10, 14, 15, 15, 14, 13, 10, 15, 14, 14, 13, 13, 12, 15, 14, 11, 14, 15, 15, 15, 15, 13, 15, 15, 15, 14, 13, 15, 10, 13, 11, 13, 13, 11, 13, 10, 13, 15, 14, 11, 14, 12, 14, 15, 11, 11, 13, 15, 13, 14, 11, 12, 12, 15, 11, 14, 13, 14, 11, 11, 14, 12, 14, 14, 14, 12, 15, 15, 13, 13, 15, 14, 13, 14, 11, 13, 14, 15, 10, 15, 14, 10, 14, 13, 14, 12, 14, 10, 11, 11, 13, 12, 13, 12, 11, 14, 14, 12, 14, 11, 13, 11, 15, 14, 12, 14, 14, 12, 11, 15, 15, 15, 14, 14, 10, 12, 15, 15, 14, 13, 15, 10, 15, 11, 10, 14, 13, 12, 10, 13, 13, 15, 10, 13, 13, 13, 11, 10, 15, 13, 13, 14, 12, 11, 13, 11, 11, 13, 15, 15, 15, 14, 10, 11, 15, 12, 10, 14, 14, 13, 13, 15, 13, 10, 11, 14, 10, 14, 15, 14, 13, 15, 12, 13, 14, 15, 10, 13, 13, 11, 14, 13, 13, 12, 13, 11, 15, 10, 11, 13, 12, 15, 14, 10, 14, 11, 15, 13, 12, 15, 15, 15, 13, 13, 14, 11, 11, 10, 14, 14, 12, 11, 12, 11, 13, 12, 12, 15, 10, 10, 15, 11, 14, 14, 14, 14, 15, 15, 14, 13, 13, 14, 12, 15, 14, 13, 13, 15, 15, 15, 12, 10, 12, 10, 13, 15, 11, 10, 14, 12, 13, 10, 11, 13, 15, 14, 11, 13, 14, 11, 14, 11, 14, 15, 15, 12, 12, 14, 13, 11, 13, 11, 15, 12, 12, 13, 12, 12, 11, 13, 15, 15, 12, 15, 15, 15, 13, 13, 12, 13, 12, 15, 15, 14, 14, 15, 15, 10, 10, 14, 13, 12, 13, 13, 12, 10, 12, 14, 14, 13, 14, 13, 13, 15, 15, 15, 12, 15, 15, 14, 15, 11, 11, 13, 12, 10, 13, 11, 11, 15, 15, 13, 13, 12, 15, 15, 13, 14, 10, 14, 15, 15, 10, 10, 12, 15, 15, 13, 15, 13, 15, 15, 13, 11, 14, 11, 15, 11, 11, 12, 10, 15, 15, 13, 14, 14, 13, 14, 14, 13, 11, 15, 13, 14, 13, 10, 12, 15, 15, 13, 11, 11, 15, 14, 11, 10, 13, 13, 12, 13, 11, 10, 14, 11, 13, 12, 15, 14, 14, 13, 15, 15, 12, 15, 14, 14, 14, 15, 14, 10, 13, 13, 11, 10, 11, 13, 14, 13, 14, 12, 13, 13, 13, 12, 14, 15, 10, 13, 11, 11, 12, 10, 11, 15, 11, 10, 15, 12, 15, 10, 15, 15, 10, 14, 15, 13, 15, 10, 12, 13, 15, 11, 12, 15, 15, 15, 12, 14, 13, 10, 15, 13, 12, 15, 11, 14, 11, 13, 13, 12, 12, 11, 14, 14, 14, 11, 15, 10, 14, 13, 11, 14, 11, 10, 15, 15, 10, 14, 10, 10, 13, 13, 12, 12, 15, 13, 10, 14, 10, 15, 11, 15, 13, 15, 14, 14, 14, 12, 10, 15, 14, 12, 12, 10, 11, 14, 12, 13, 12, 11, 10, 10, 14, 14, 13, 13, 12, 13, 13, 14, 11, 14, 12, 15, 14, 13, 12, 12, 12, 15, 15, 11, 14, 10, 12, 12, 10, 11, 15, 11, 11, 14, 15, 15, 15, 11, 10, 13, 10, 11, 14, 11, 13, 13, 15, 15, 13, 12, 12, 14, 14, 10, 15, 14, 11, 15, 13, 15, 12, 14, 15, 15, 14, 15, 13, 15, 14, 13, 13, 13, 14, 14, 15, 13, 13, 15, 11, 14, 15, 13, 11, 15, 15, 14, 10, 14, 13, 14, 13, 13, 13, 14, 12, 15, 13, 15, 14, 12, 14, 12, 13, 10, 13, 11, 10, 13, 14, 13, 14, 14, 15, 11, 15, 12, 12, 13, 13, 14, 15, 10, 12, 13, 11, 14, 14, 14, 12, 15, 14, 15, 14, 11, 11, 15, 15, 11, 15, 15, 15, 12, 13, 14, 11, 14, 14, 14, 11, 12, 13, 13, 13, 10, 11, 13, 14, 14, 13, 13, 14, 15, 14, 15, 11, 14, 13, 11, 14, 14, 13, 15, 12, 10, 13, 10, 12, 15, 13, 14, 14, 12, 13, 12, 10, 10, 13, 11, 15, 13, 10, 15, 15, 12, 12, 15, 11, 15, 12, 13, 14, 13, 11, 13, 11, 13, 13, 14, 14, 13, 15, 10, 15, 15, 13, 12, 14, 14, 12, 15, 11, 13, 14, 15, 13, 12, 14, 15, 13, 12, 14, 14, 15, 11, 11, 10, 14, 11, 14, 15, 14, 14, 12, 13, 11, 15, 11, 10, 14, 15, 12, 14, 11, 13, 10, 13, 15, 13, 14, 10, 11, 12, 13, 14, 10, 13, 13, 12, 12, 15, 13, 11, 11, 12, 12, 13, 13, 14, 14, 12, 14, 15, 12, 14, 12, 15, 14, 14, 12, 13, 14, 10, 13, 13, 14, 15, 14, 13, 13, 14, 11, 12, 14, 15, 12, 12, 13, 15, 14, 15, 13, 15, 14, 15, 14, 15, 11, 14, 15, 12, 12, 14, 15, 15, 15, 12, 13, 12, 11, 13, 13, 14, 14, 15, 11, 12, 15, 14, 10, 15, 12, 10, 15, 14, 11, 15, 13, 12, 13, 15, 12, 10, 10, 13, 15, 10, 13, 13, 10, 15, 12, 14, 12, 14, 15, 14, 13, 13, 14, 11, 12, 12, 13, 11, 14, 11, 13, 10, 12, 13, 11, 14, 14, 12, 15, 10, 15, 14, 14, 10, 13, 14, 15, 15, 10, 12, 14, 13, 15, 11, 13]\n"
          ],
          "name": "stdout"
        }
      ]
    },
    {
      "cell_type": "markdown",
      "metadata": {
        "id": "oBsJ2tFgr4yL"
      },
      "source": [
        "*Exercise 8:* Use your function to generate 1000 numbers that are normal distributed, using the `gaussian` function below. Confirm the mean and variance of the data is close to the mean and variance you specify when building the Gaussian. Histogram the data. "
      ]
    },
    {
      "cell_type": "code",
      "metadata": {
        "id": "OKpFYS60r4yL"
      },
      "source": [
        "import math\n",
        "\n",
        "def gaussian(mean, sigma):\n",
        "    def f(x):\n",
        "        return math.exp(-((x-mean)**2)/(2*sigma**2))/math.sqrt(math.pi*sigma)\n",
        "    return f\n",
        "\n",
        "# Example Instantiation\n",
        "g1=gaussian(0,1)\n",
        "g2=gaussian(10,3)"
      ],
      "execution_count": null,
      "outputs": []
    },
    {
      "cell_type": "markdown",
      "metadata": {
        "id": "cGWdbs8br4yN"
      },
      "source": [
        "*Exercise 9:* Combine your `generate_function`, `where`, and `in_range` functions above to create an integrate function. Use your integrate function to show that approximately 68% of Normal distribution is within one variance."
      ]
    },
    {
      "cell_type": "code",
      "metadata": {
        "id": "PTeAtajzr4yN"
      },
      "source": [
        "def integrate(func, x_min, x_max, n_points=1000):\n",
        "    \n",
        "    return integral"
      ],
      "execution_count": null,
      "outputs": []
    },
    {
      "cell_type": "code",
      "metadata": {
        "id": "ffjrWvvgr4yQ"
      },
      "source": [
        ""
      ],
      "execution_count": null,
      "outputs": []
    }
  ]
}