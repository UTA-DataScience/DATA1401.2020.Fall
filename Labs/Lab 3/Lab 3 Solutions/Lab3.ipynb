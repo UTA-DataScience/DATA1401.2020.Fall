{
  "nbformat": 4,
  "nbformat_minor": 0,
  "metadata": {
    "kernelspec": {
      "display_name": "Python 3",
      "language": "python",
      "name": "python3"
    },
    "language_info": {
      "codemirror_mode": {
        "name": "ipython",
        "version": 3
      },
      "file_extension": ".py",
      "mimetype": "text/x-python",
      "name": "python",
      "nbconvert_exporter": "python",
      "pygments_lexer": "ipython3",
      "version": "3.8.0"
    },
    "colab": {
      "name": "Lab3.ipynb",
      "provenance": [],
      "collapsed_sections": []
    }
  },
  "cells": [
    {
      "cell_type": "markdown",
      "metadata": {
        "id": "HOgOcBfDxlfL"
      },
      "source": [
        "# Lab 3- Tic Tac Toe\n",
        "\n",
        "[![Open In Colab](https://colab.research.google.com/assets/colab-badge.svg)](https://colab.research.google.com/github/UTA-DataScience/DATA1401.2020.Fall/blob/master/Labs/Lab.3/Lab.3.ipynb)\n",
        "\n",
        "In this lab your will build a n x n Tic Tac Toe game. As you do the exercises, make sure your solutions work for any size Tic Tac Toe game. "
      ]
    },
    {
      "cell_type": "markdown",
      "metadata": {
        "id": "HS0FKa9qxlfP"
      },
      "source": [
        "*Exercise 1:* Write a function that creates an n by n matrix (of list of lists) which will represent the state of a Tie Tac Toe game. Let 0, 1, and 2 represent empty, \"X\", or \"O\".\n"
      ]
    },
    {
      "cell_type": "code",
      "metadata": {
        "id": "InTdgUVjxlfQ"
      },
      "source": [
        "# Write you solution here\n",
        "def create_2D_array(n):\n",
        "  player1 = \"X\"\n",
        "  player2 = \"O\"\n",
        "  empty = 0\n",
        "  game_board = list()\n",
        "  for i in range (n):\n",
        "    game_board.append([empty]*n)\n",
        "  # game_board = [[empty]*n for i in range(n)]\n",
        "  return game_board"
      ],
      "execution_count": null,
      "outputs": []
    },
    {
      "cell_type": "code",
      "metadata": {
        "id": "cQj2x8n_xlfc",
        "outputId": "0613bab9-5459-481d-f4e1-75f6d195b446",
        "colab": {
          "base_uri": "https://localhost:8080/",
          "height": 34
        }
      },
      "source": [
        "# Test your solution here\n",
        "board = create_2D_array(3)\n",
        "board"
      ],
      "execution_count": null,
      "outputs": [
        {
          "output_type": "execute_result",
          "data": {
            "text/plain": [
              "[[0, 0, 0], [0, 0, 0], [0, 0, 0]]"
            ]
          },
          "metadata": {
            "tags": []
          },
          "execution_count": 15
        }
      ]
    },
    {
      "cell_type": "markdown",
      "metadata": {
        "id": "E8oRp_SGxlfk"
      },
      "source": [
        "*Exercise 2:* Write a function that takes a `n` by `n` matrix representing a tic-tac-toe game, and returns -1, 0, 1, or 2 indicating the game is incomplete, the game is a draw, player 1 has won, or player 2 has one, respectively. Here are some example inputs you can use to test your code:"
      ]
    },
    {
      "cell_type": "code",
      "metadata": {
        "id": "AjoGs3ohxlfl"
      },
      "source": [
        "winner_is_2 = [[2, 2, 0],\n",
        "\t[2, 1, 0],\n",
        "\t[2, 1, 1]]\n",
        "\n",
        "winner_is_1 = [[1, 2, 0],\n",
        "\t[2, 1, 0],\n",
        "\t[2, 1, 1]]\n",
        "\n",
        "winner_is_also_1 = [[0, 1, 0],\n",
        "\t[2, 1, 0],\n",
        "\t[2, 1, 1]]\n",
        "\t\n",
        "no_winner = [[1, 2, 0],\n",
        "\t[2, 1, 0],\n",
        "\t[2, 1, 2]]\n",
        "\n",
        "also_no_winner = [[1, 2, 0],\n",
        "\t[2, 1, 0],\n",
        "\t[2, 1, 0]]\n",
        "\n",
        "winner1 = [\n",
        "\t          [0,0,1],\n",
        "\t\t\t\t\t\t[0,1,0],\n",
        "\t\t\t\t\t\t[1,0,0]\n",
        "]\n",
        "winner2 = [\n",
        "\t          [0,0,2],\n",
        "\t\t\t\t\t\t[0,2,0],\n",
        "\t\t\t\t\t\t[2,0,0]\n",
        "]\n",
        "\n",
        "winner_2 = [\n",
        "\t          [2,0,0],\n",
        "\t\t\t\t\t\t[0,2,0],\n",
        "\t\t\t\t\t\t[0,0,2]\n",
        "]"
      ],
      "execution_count": null,
      "outputs": []
    },
    {
      "cell_type": "code",
      "metadata": {
        "id": "M5OvNo-C3fPu"
      },
      "source": [
        "# Write you solution here\n",
        "def check_matrix(matrix):\n",
        "  for i in range (len(matrix)):\n",
        "    for j in range (len(matrix)):\n",
        "      if (matrix[i][j]==0):\n",
        "        return False\n",
        "      else:\n",
        "        return True\n",
        "\n",
        "def game_outcome(matrix):\n",
        "  incomplete = -1\n",
        "  player1_won = 1\n",
        "  player2_won = 2\n",
        "  draw = 0\n",
        "  size = len(matrix)\n",
        "\n",
        "  column = list()\n",
        "  row = list()\n",
        "  for j in range(size):\n",
        "    csum = 0\n",
        "    rsum = 0\n",
        "    for i in range(size):\n",
        "      csum = csum + matrix[i][j]\n",
        "      rsum = rsum + matrix[j][i]\n",
        "    column.append(csum)\n",
        "    row.append(rsum)\n",
        "\n",
        "  i = 0\n",
        "  j = 0\n",
        "\n",
        "  for i in range(size):\n",
        "    if ((column[i]==size) or (row[i]==size)):\n",
        "      return player1_won\n",
        "    elif ((column[i]==(2*size)) or (row[i]==(2*size))):\n",
        "      return player2_won\n",
        "\n",
        "  j = 0\n",
        "  i = 0\n",
        "  sum1 = 0 \n",
        "  sum2 = 0\n",
        "\n",
        "  for i in range(size): \n",
        "    sum1 += matrix[i][i]\n",
        "    sum2 += matrix[i][size-1-i]\n",
        "\n",
        "  for j in range (size):\n",
        "    for k in range (size):\n",
        "      if ((matrix[j][k]==matrix[k][j]) and ((sum1 == size) or (sum2 == size))):\n",
        "        return player1_won\n",
        "      elif ((matrix[j][k]==matrix[k][j]) and ((sum1 == (2*size)) or (sum2 == (size*2)))):\n",
        "        return player2_won\n",
        "      \n",
        "  \n",
        "      \n",
        " \n",
        "\n",
        "\n",
        " \n"
      ],
      "execution_count": null,
      "outputs": []
    },
    {
      "cell_type": "code",
      "metadata": {
        "id": "7TOkOwsUxlfy",
        "outputId": "9d8b6299-d73d-4632-daba-b9664571ca3f",
        "colab": {
          "base_uri": "https://localhost:8080/",
          "height": 34
        }
      },
      "source": [
        "# Test your solution here\n",
        "game_outcome(winner_2)"
      ],
      "execution_count": null,
      "outputs": [
        {
          "output_type": "execute_result",
          "data": {
            "text/plain": [
              "2"
            ]
          },
          "metadata": {
            "tags": []
          },
          "execution_count": 198
        }
      ]
    },
    {
      "cell_type": "markdown",
      "metadata": {
        "id": "5W2tCH-Uxlf4"
      },
      "source": [
        "*Exercise 3:* Write a function that takes 2 integers `n` and `m` as input and draws a `n` by `m` game board. For example the following is a 3x3 board:\n",
        "```\n",
        "   --- --- --- \n",
        "  |   |   |   | \n",
        "   --- --- ---  \n",
        "  |   |   |   | \n",
        "   --- --- ---  \n",
        "  |   |   |   | \n",
        "   --- --- --- \n",
        "   ```"
      ]
    },
    {
      "cell_type": "code",
      "metadata": {
        "id": "C23isHrk3Xk_"
      },
      "source": [
        "# Write your solution here\n",
        "def draw(n,m):\n",
        "  rows = 0\n",
        "  i = 0\n",
        "\n",
        "  for i in range (50):\n",
        "    if ((3+(2*i))==n):\n",
        "      rows = 3 + 4 + (2*i) + (n - 3)\n",
        "\n",
        "  board = \"\"\n",
        "  vertical   = '|   '\n",
        "  horizontal = ' ---'\n",
        "  j = 0\n",
        "\n",
        "  extravert = m + 1\n",
        "\n",
        "  for j in range (rows):\n",
        "    if (j%2==0):\n",
        "      board += horizontal * n\n",
        "    else:\n",
        "      board += vertical * extravert\n",
        "    board += \"\\n\"\n",
        "  \n",
        "  print (board)\n"
      ],
      "execution_count": null,
      "outputs": []
    },
    {
      "cell_type": "code",
      "metadata": {
        "id": "VOuhz59CxlgB",
        "outputId": "e47c65f2-4ccf-4ec5-c9b7-21602b4be8d5",
        "colab": {
          "base_uri": "https://localhost:8080/",
          "height": 151
        }
      },
      "source": [
        "# Test your solution here\n",
        "draw (3,3)"
      ],
      "execution_count": null,
      "outputs": [
        {
          "output_type": "stream",
          "text": [
            " --- --- ---\n",
            "|   |   |   |   \n",
            " --- --- ---\n",
            "|   |   |   |   \n",
            " --- --- ---\n",
            "|   |   |   |   \n",
            " --- --- ---\n",
            "\n"
          ],
          "name": "stdout"
        }
      ]
    },
    {
      "cell_type": "markdown",
      "metadata": {
        "id": "vboJk1LSxlgJ"
      },
      "source": [
        "*Exercise 4:* Modify exercise 3, so that it takes a matrix of the form from exercise 2 and draws a tic-tac-tie board with \"X\"s and \"O\"s.  "
      ]
    },
    {
      "cell_type": "code",
      "metadata": {
        "id": "y82Kt0iIxlgK"
      },
      "source": [
        "# Write you solution here\n"
      ],
      "execution_count": null,
      "outputs": []
    },
    {
      "cell_type": "code",
      "metadata": {
        "id": "VrJ6D2_yxlgQ"
      },
      "source": [
        "# Test your solution here"
      ],
      "execution_count": null,
      "outputs": []
    },
    {
      "cell_type": "markdown",
      "metadata": {
        "id": "ZwIpi1yNxlgX"
      },
      "source": [
        "*Exercise 5:* Write a function that takes a game board, player number, and `(x,y)` coordinates and places \"X\" or \"O\" in the correct location of the game board. Make sure that you only allow filling previously empty locations. Return `True` or `False` to indicate successful placement of \"X\" or \"O\"."
      ]
    },
    {
      "cell_type": "code",
      "metadata": {
        "id": "JJN3459bxlgX"
      },
      "source": [
        "# Write you solution here"
      ],
      "execution_count": null,
      "outputs": []
    },
    {
      "cell_type": "code",
      "metadata": {
        "id": "OLN6n_dLxlgc"
      },
      "source": [
        "# Test your solution here"
      ],
      "execution_count": null,
      "outputs": []
    },
    {
      "cell_type": "markdown",
      "metadata": {
        "id": "cnpOjnUlxlgh"
      },
      "source": [
        "*Exercise 6:* Modify Exercise 4 to show column and row labels so that players can specify location using \"A2\" or \"C1\"."
      ]
    },
    {
      "cell_type": "code",
      "metadata": {
        "id": "dezy5Iw9xlgk"
      },
      "source": [
        "# Write you solution here"
      ],
      "execution_count": null,
      "outputs": []
    },
    {
      "cell_type": "code",
      "metadata": {
        "id": "Qy3imbquxlgs"
      },
      "source": [
        "# Test your solution here"
      ],
      "execution_count": null,
      "outputs": []
    },
    {
      "cell_type": "markdown",
      "metadata": {
        "id": "9n3S0jrTxlgz"
      },
      "source": [
        "*Exercise 7:* Write a function that takes a board, player number, and location specified as in exercise 6 and then calls exercise 5 to correctly modify the board.  "
      ]
    },
    {
      "cell_type": "code",
      "metadata": {
        "id": "uEzi5fT2xlg0"
      },
      "source": [
        "# Write you solution here"
      ],
      "execution_count": null,
      "outputs": []
    },
    {
      "cell_type": "code",
      "metadata": {
        "id": "AEk_ClcJxlg7"
      },
      "source": [
        "# Test your solution here"
      ],
      "execution_count": null,
      "outputs": []
    },
    {
      "cell_type": "markdown",
      "metadata": {
        "id": "YoSTZ5MCxlhD"
      },
      "source": [
        "*Exercise 8:* Write a function is called with a board and player number, takes input from the player using python's `input`, and modifies the board using your function from exercise 7. Note that you should keep asking for input until you have gotten a valid input that results in a valid move."
      ]
    },
    {
      "cell_type": "code",
      "metadata": {
        "id": "lU_JIV1ixlhE"
      },
      "source": [
        "# Write you solution here"
      ],
      "execution_count": null,
      "outputs": []
    },
    {
      "cell_type": "code",
      "metadata": {
        "id": "30T6KFbzxlhL"
      },
      "source": [
        "# Test your solution here"
      ],
      "execution_count": null,
      "outputs": []
    },
    {
      "cell_type": "markdown",
      "metadata": {
        "id": "8oEIL_fnxlhR"
      },
      "source": [
        "*Exercise 9:* Use all of the previous exercises to implement a full tic-tac-toe game, where an appropriate board is drawn, 2 players are repeatedly asked for a location coordinates of where they wish to place a mark, and the game status is checked until a player wins or a draw occurs."
      ]
    },
    {
      "cell_type": "code",
      "metadata": {
        "id": "o8V1Up59xlhT"
      },
      "source": [
        "# Write you solution here"
      ],
      "execution_count": null,
      "outputs": []
    },
    {
      "cell_type": "code",
      "metadata": {
        "id": "NeD2dA-kxlhX"
      },
      "source": [
        "# Test your solution here"
      ],
      "execution_count": null,
      "outputs": []
    },
    {
      "cell_type": "markdown",
      "metadata": {
        "id": "AxgbIFLpxlhe"
      },
      "source": [
        "*Exercise 10:* Test that your game works for 5x5 Tic Tac Toe.  "
      ]
    },
    {
      "cell_type": "code",
      "metadata": {
        "id": "e0S1caT5xlhf"
      },
      "source": [
        "# Test your solution here"
      ],
      "execution_count": null,
      "outputs": []
    },
    {
      "cell_type": "markdown",
      "metadata": {
        "id": "-T-P8mujxlhl"
      },
      "source": [
        "*Exercise 11: (Extra Credit)* Develop a version of the game where one player is the computer. Note that you don't need to do an extensive seach for the best move. You can have the computer simply protect against loosing and otherwise try to win with straight or diagonal patterns."
      ]
    },
    {
      "cell_type": "code",
      "metadata": {
        "id": "WHsjs3Hfxlhm"
      },
      "source": [
        "# Write you solution here"
      ],
      "execution_count": null,
      "outputs": []
    },
    {
      "cell_type": "code",
      "metadata": {
        "id": "mXuQz49Txlhw"
      },
      "source": [
        "# Test your solution here"
      ],
      "execution_count": null,
      "outputs": []
    }
  ]
}