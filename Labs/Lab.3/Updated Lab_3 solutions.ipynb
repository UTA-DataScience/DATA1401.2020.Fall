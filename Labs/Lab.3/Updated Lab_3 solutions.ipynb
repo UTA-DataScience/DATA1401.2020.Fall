{
  "nbformat": 4,
  "nbformat_minor": 0,
  "metadata": {
    "kernelspec": {
      "display_name": "Python 3",
      "language": "python",
      "name": "python3"
    },
    "language_info": {
      "codemirror_mode": {
        "name": "ipython",
        "version": 3
      },
      "file_extension": ".py",
      "mimetype": "text/x-python",
      "name": "python",
      "nbconvert_exporter": "python",
      "pygments_lexer": "ipython3",
      "version": "3.8.0"
    },
    "colab": {
      "name": "Copy of Lab.3.ipynb",
      "provenance": [],
      "collapsed_sections": []
    }
  },
  "cells": [
    {
      "cell_type": "code",
      "metadata": {
        "id": "FOvmJpteHPDL"
      },
      "source": [
        ""
      ],
      "execution_count": null,
      "outputs": []
    },
    {
      "cell_type": "markdown",
      "metadata": {
        "id": "h_6lznMvHHWn"
      },
      "source": [
        "# Lab 3- Tic Tac Toe\n",
        "\n",
        "[![Open In Colab](https://colab.research.google.com/assets/colab-badge.svg)](https://colab.research.google.com/github/UTA-DataScience/DATA1401.2020.Fall/blob/master/Labs/Lab.3/Lab.3.ipynb)\n",
        "\n",
        "In this lab your will build a n x n Tic Tac Toe game. As you do the exercises, make sure your solutions work for any size Tic Tac Toe game. "
      ]
    },
    {
      "cell_type": "markdown",
      "metadata": {
        "id": "NuoBulO_HHWn"
      },
      "source": [
        "*Exercise 1:* Write a function that creates an n by n matrix (of list of lists) which will represent the state of a Tie Tac Toe game. Let 0, 1, and 2 represent empty, \"X\", or \"O\".\n"
      ]
    },
    {
      "cell_type": "code",
      "metadata": {
        "id": "JVy9zHdNHHWo"
      },
      "source": [
        "# Write you solution here\n",
        "def createBoard(n):\n",
        "  board = []\n",
        "  for row in range(0, n):\n",
        "    r = [0] * n\n",
        "    board.append(r)\n",
        "  return board\n",
        "    "
      ],
      "execution_count": null,
      "outputs": []
    },
    {
      "cell_type": "code",
      "metadata": {
        "id": "MRqVj_X_HHWs",
        "outputId": "5910b60b-27ff-4d65-95eb-0620d33eed6c",
        "colab": {
          "base_uri": "https://localhost:8080/",
          "height": 34
        }
      },
      "source": [
        "createBoard(3)"
      ],
      "execution_count": null,
      "outputs": [
        {
          "output_type": "execute_result",
          "data": {
            "text/plain": [
              "[[0, 0, 0], [0, 0, 0], [0, 0, 0]]"
            ]
          },
          "metadata": {
            "tags": []
          },
          "execution_count": 4
        }
      ]
    },
    {
      "cell_type": "markdown",
      "metadata": {
        "id": "a12ZBEU-HHWv"
      },
      "source": [
        "*Exercise 2:* Write a function that takes a `n` by `n` matrix representing a tic-tac-toe game, and returns -1, 0, 1, or 2 indicating the game is incomplete, the game is a draw, player 1 has won, or player 2 has one, respectively. Here are some example inputs you can use to test your code:"
      ]
    },
    {
      "cell_type": "code",
      "metadata": {
        "id": "cxRmDsx2HHWv"
      },
      "source": [
        "winner_is_2 = [[2, 2, 0],\n",
        "\t[2, 1, 0],\n",
        "\t[2, 1, 1]]\n",
        "\n",
        "winner_is_1 = [[1, 2, 0],\n",
        "\t[2, 1, 0],\n",
        "\t[2, 1, 1]]\n",
        "\n",
        "winner_is_also_1 = [[0, 1, 0],\n",
        "\t[2, 1, 0],\n",
        "\t[2, 1, 1]]\n",
        "\n",
        "no_winner = [[1, 2, 0],\n",
        "\t[2, 1, 0],\n",
        "\t[2, 1, 2]]\n",
        "\n",
        "also_no_winner = [[1, 2, 0],\n",
        "\t[2, 1, 0],\n",
        "\t[2, 1, 0]]"
      ],
      "execution_count": null,
      "outputs": []
    },
    {
      "cell_type": "code",
      "metadata": {
        "id": "vt-v1LMrHHWy"
      },
      "source": [
        "def checkRow(board, rowNo):\n",
        "  # returns -1 if incomplete, 0 if not all elements are the same, 1 or 2 if all elements are 1 or 2\n",
        "  start = board[rowNo][0]\n",
        "  for value in board[rowNo]:\n",
        "    if value == 0:\n",
        "      return -1\n",
        "    if value != start:\n",
        "      return 0\n",
        "  return start\n",
        "\n",
        "def checkColumn(board, colNo):\n",
        "  # returns -1 if incomplete, 0 if not all elements are the same, 1 or 2 if all elements are 1 or 2\n",
        "  start = board[0][colNo]\n",
        "  for col in range(0, len(board)):\n",
        "    value = board[col][colNo]\n",
        "    if value == 0:\n",
        "      return -1\n",
        "    if value != start:\n",
        "      return 0\n",
        "  return start\n",
        "\n",
        "def checkDiagonal(board):\n",
        "  # returns -1 if incomplete, 1 or 2 if all elements are 1 or 2\n",
        "  start = board[0][0]\n",
        "  for no in range(0, len(board)):\n",
        "    value = board[no][no]\n",
        "    if value == 0:\n",
        "      return -1\n",
        "    if value != start:\n",
        "      return 0\n",
        "  return start\n",
        "\n",
        "  \n",
        "\n",
        "def gameStatus(board):\n",
        "  incomplete = False\n",
        "  oneWon = False\n",
        "  twoWon = False\n",
        "  # check rows and columns\n",
        "\n",
        "  for no in range(0, len(board)):\n",
        "    resultRow = checkRow(board, no)\n",
        "    resultCol = checkColumn(board, no)\n",
        "    if resultRow == -1 or resultCol == -1 :\n",
        "      incomplete = True\n",
        "    if resultRow == 1 or resultCol == 1:\n",
        "      oneWon = True\n",
        "    if resultRow == 2 or resultCol == 2:\n",
        "      twoWon = True\n",
        "  \n",
        "  # check Daigonal\n",
        "  resultDiag = checkDiagonal(board)\n",
        "  if resultDiag == -1:\n",
        "    incomplete = True\n",
        "  elif resultDiag == 1:\n",
        "    oneWon = True\n",
        "  elif resultDiag == 2:\n",
        "    twoWon = True\n",
        "  \n",
        "  if oneWon == True and twoWon == True:\n",
        "    return 0\n",
        "  elif  oneWon == True:\n",
        "    return 1\n",
        "  elif twoWon == True:\n",
        "    return 2\n",
        "  if incomplete == True:\n",
        "    return -1\n",
        "  else:\n",
        "    return 0\n",
        "  \n",
        "\n",
        "\n",
        "\n"
      ],
      "execution_count": null,
      "outputs": []
    },
    {
      "cell_type": "code",
      "metadata": {
        "id": "xHmty_avHHW0",
        "outputId": "8db1c2ca-ede2-42c3-b407-c14ddd4ad02a",
        "colab": {
          "base_uri": "https://localhost:8080/",
          "height": 102
        }
      },
      "source": [
        "print(gameStatus(winner_is_2))\n",
        "print(gameStatus(winner_is_1))\n",
        "print(gameStatus(winner_is_also_1))\n",
        "print(gameStatus(no_winner))\n",
        "print(gameStatus(also_no_winner))\n"
      ],
      "execution_count": null,
      "outputs": [
        {
          "output_type": "stream",
          "text": [
            "2\n",
            "1\n",
            "1\n",
            "-1\n",
            "-1\n"
          ],
          "name": "stdout"
        }
      ]
    },
    {
      "cell_type": "markdown",
      "metadata": {
        "id": "LfTscd46HHW3"
      },
      "source": [
        "*Exercise 3:* Write a function that takes 2 integers `n` and `m` as input and draws a `n` by `m` game board. For example the following is a 3x3 board:\n",
        "```\n",
        "   --- --- --- \n",
        "  |   |   |   | \n",
        "   --- --- ---  \n",
        "  |   |   |   | \n",
        "   --- --- ---  \n",
        "  |   |   |   | \n",
        "   --- --- --- \n",
        "   ```"
      ]
    },
    {
      "cell_type": "code",
      "metadata": {
        "id": "PQRN_vSoHHW4"
      },
      "source": [
        "def drawBoard(n, m):\n",
        "  for row in range(0, n * 2 + 1):\n",
        "    if row % 2 == 0:\n",
        "      for col in range(0, m):\n",
        "        print(' ---', end= '')\n",
        "    else:\n",
        "      for col in range(0, m + 1):\n",
        "        print('|   ', end= '')\n",
        "    print()\n"
      ],
      "execution_count": null,
      "outputs": []
    },
    {
      "cell_type": "code",
      "metadata": {
        "id": "hvx1WTYGHHW9",
        "outputId": "803a3b0a-8226-47a3-b272-c5152cb4e99b",
        "colab": {
          "base_uri": "https://localhost:8080/",
          "height": 136
        }
      },
      "source": [
        "drawBoard(3,3)"
      ],
      "execution_count": null,
      "outputs": [
        {
          "output_type": "stream",
          "text": [
            " --- --- ---\n",
            "|   |   |   |   \n",
            " --- --- ---\n",
            "|   |   |   |   \n",
            " --- --- ---\n",
            "|   |   |   |   \n",
            " --- --- ---\n"
          ],
          "name": "stdout"
        }
      ]
    },
    {
      "cell_type": "markdown",
      "metadata": {
        "id": "PG-qU8u2HHW_"
      },
      "source": [
        "*Exercise 4:* Modify exercise 3, so that it takes a matrix of the form from exercise 2 and draws a tic-tac-tie board with \"X\"s and \"O\"s.  "
      ]
    },
    {
      "cell_type": "code",
      "metadata": {
        "id": "hShUGClHHHW_"
      },
      "source": [
        "def getValue(no):\n",
        "  if no == 1:\n",
        "    return ' X '\n",
        "  elif no == 2:\n",
        "    return ' 0 '\n",
        "  else:\n",
        "    return '   '\n",
        "def drawBoard(board):\n",
        "  for row in range(0, len(board) * 2 + 1):\n",
        "    if row % 2 == 0:\n",
        "      for col in range(0, len(board)):\n",
        "        print(' ---', end= '')\n",
        "      print()\n",
        "    else:\n",
        "      rowNo = row // 2\n",
        "      for col in range(0, len(board)):\n",
        "        print('|' + getValue(board[rowNo][col]) , end= '')\n",
        "      print('|')\n",
        "    "
      ],
      "execution_count": null,
      "outputs": []
    },
    {
      "cell_type": "code",
      "metadata": {
        "id": "3R_MXjscHHXC",
        "outputId": "42867255-ee8b-486d-eb62-9bcaad1be176",
        "colab": {
          "base_uri": "https://localhost:8080/",
          "height": 612
        }
      },
      "source": [
        "drawBoard(winner_is_2)\n",
        "drawBoard(winner_is_1)\n",
        "drawBoard(winner_is_also_1)\n",
        "drawBoard(no_winner)\n",
        "drawBoard(also_no_winner)"
      ],
      "execution_count": null,
      "outputs": [
        {
          "output_type": "stream",
          "text": [
            " --- --- ---\n",
            "| 0 | 0 |   |\n",
            " --- --- ---\n",
            "| 0 | X |   |\n",
            " --- --- ---\n",
            "| 0 | X | X |\n",
            " --- --- ---\n",
            " --- --- ---\n",
            "| X | 0 |   |\n",
            " --- --- ---\n",
            "| 0 | X |   |\n",
            " --- --- ---\n",
            "| 0 | X | X |\n",
            " --- --- ---\n",
            " --- --- ---\n",
            "|   | X |   |\n",
            " --- --- ---\n",
            "| 0 | X |   |\n",
            " --- --- ---\n",
            "| 0 | X | X |\n",
            " --- --- ---\n",
            " --- --- ---\n",
            "| X | 0 |   |\n",
            " --- --- ---\n",
            "| 0 | X |   |\n",
            " --- --- ---\n",
            "| 0 | X | 0 |\n",
            " --- --- ---\n",
            " --- --- ---\n",
            "| X | 0 |   |\n",
            " --- --- ---\n",
            "| 0 | X |   |\n",
            " --- --- ---\n",
            "| 0 | X |   |\n",
            " --- --- ---\n"
          ],
          "name": "stdout"
        }
      ]
    },
    {
      "cell_type": "markdown",
      "metadata": {
        "id": "FKP1MTWCHHXE"
      },
      "source": [
        "*Exercise 5:* Write a function that takes a game board, player number, and `(x,y)` coordinates and places \"X\" or \"O\" in the correct location of the game board. Make sure that you only allow filling previously empty locations. Return `True` or `False` to indicate successful placement of \"X\" or \"O\"."
      ]
    },
    {
      "cell_type": "code",
      "metadata": {
        "id": "8Z4DeDyBHHXF"
      },
      "source": [
        "def updateBoard(board, playerNo, x, y):\n",
        "  if board[x][y] != 0:\n",
        "    return False\n",
        "  else:\n",
        "    board[x][y] = playerNo\n",
        "    return True"
      ],
      "execution_count": null,
      "outputs": []
    },
    {
      "cell_type": "code",
      "metadata": {
        "id": "I9WSL__zHHXI",
        "outputId": "d2c9dbb1-83f5-4007-cafb-044e30555603",
        "colab": {
          "base_uri": "https://localhost:8080/",
          "height": 272
        }
      },
      "source": [
        "drawBoard(winner_is_2)\n",
        "print(updateBoard(winner_is_2, 1, 1, 2))\n",
        "drawBoard(winner_is_2)"
      ],
      "execution_count": null,
      "outputs": [
        {
          "output_type": "stream",
          "text": [
            " --- --- ---\n",
            "| 0 | 0 |   |\n",
            " --- --- ---\n",
            "| 0 | X |   |\n",
            " --- --- ---\n",
            "| 0 | X | X |\n",
            " --- --- ---\n",
            "True\n",
            " --- --- ---\n",
            "| 0 | 0 |   |\n",
            " --- --- ---\n",
            "| 0 | X | X |\n",
            " --- --- ---\n",
            "| 0 | X | X |\n",
            " --- --- ---\n"
          ],
          "name": "stdout"
        }
      ]
    },
    {
      "cell_type": "markdown",
      "metadata": {
        "id": "6D-aMWqpHHXL"
      },
      "source": [
        "*Exercise 6:* Modify Exercise 4 to show column and row labels so that players can specify location using \"A2\" or \"C1\"."
      ]
    },
    {
      "cell_type": "code",
      "metadata": {
        "id": "xsKI5clKHHXL"
      },
      "source": [
        "def getValue(no, r, c):\n",
        "  if no == 1:\n",
        "    return ' X '\n",
        "  elif no == 2:\n",
        "    return ' 0 '\n",
        "  else:\n",
        "    return ' ' + chr(ord('A') + r) + str(c)\n",
        "def drawBoard(board):\n",
        "  for row in range(0, len(board) * 2 + 1):\n",
        "    if row % 2 == 0:\n",
        "      for col in range(0, len(board)):\n",
        "        print(' ---', end= '')\n",
        "      print()\n",
        "    else:\n",
        "      rowNo = row // 2\n",
        "      for col in range(0, len(board)):\n",
        "        print('|' + getValue(board[rowNo][col], rowNo, col) , end= '')\n",
        "      print('|')"
      ],
      "execution_count": null,
      "outputs": []
    },
    {
      "cell_type": "code",
      "metadata": {
        "id": "oUFmGZqVHHXN",
        "outputId": "7beae82c-89a0-4a29-88b2-04aac6a561f6",
        "colab": {
          "base_uri": "https://localhost:8080/",
          "height": 612
        }
      },
      "source": [
        "drawBoard(winner_is_2)\n",
        "drawBoard(winner_is_1)\n",
        "drawBoard(winner_is_also_1)\n",
        "drawBoard(no_winner)\n",
        "drawBoard(also_no_winner)"
      ],
      "execution_count": null,
      "outputs": [
        {
          "output_type": "stream",
          "text": [
            " --- --- ---\n",
            "| 0 | 0 | A2|\n",
            " --- --- ---\n",
            "| 0 | X | X |\n",
            " --- --- ---\n",
            "| 0 | X | X |\n",
            " --- --- ---\n",
            " --- --- ---\n",
            "| X | 0 | A2|\n",
            " --- --- ---\n",
            "| 0 | X | B2|\n",
            " --- --- ---\n",
            "| 0 | X | X |\n",
            " --- --- ---\n",
            " --- --- ---\n",
            "| A0| X | A2|\n",
            " --- --- ---\n",
            "| 0 | X | B2|\n",
            " --- --- ---\n",
            "| 0 | X | X |\n",
            " --- --- ---\n",
            " --- --- ---\n",
            "| X | 0 | A2|\n",
            " --- --- ---\n",
            "| 0 | X | B2|\n",
            " --- --- ---\n",
            "| 0 | X | 0 |\n",
            " --- --- ---\n",
            " --- --- ---\n",
            "| X | 0 | A2|\n",
            " --- --- ---\n",
            "| 0 | X | B2|\n",
            " --- --- ---\n",
            "| 0 | X | C2|\n",
            " --- --- ---\n"
          ],
          "name": "stdout"
        }
      ]
    },
    {
      "cell_type": "markdown",
      "metadata": {
        "id": "4F8FY7WmHHXP"
      },
      "source": [
        "*Exercise 7:* Write a function that takes a board, player number, and location specified as in exercise 6 and then calls exercise 5 to correctly modify the board.  "
      ]
    },
    {
      "cell_type": "code",
      "metadata": {
        "id": "GOOul0LuHHXR"
      },
      "source": [
        "def addToBoard(board, playerNo, location):\n",
        "  (rowL, col) = location\n",
        "  row = ord(rowL) - ord('A')\n",
        "  return updateBoard(board, playerNo, row, int(col))\n"
      ],
      "execution_count": null,
      "outputs": []
    },
    {
      "cell_type": "code",
      "metadata": {
        "id": "srYq1ydBHHXU",
        "outputId": "7554f6ab-48ed-4ffb-d2c4-f948bf8ba7d2",
        "colab": {
          "base_uri": "https://localhost:8080/",
          "height": 272
        }
      },
      "source": [
        "drawBoard(winner_is_1)\n",
        "print(addToBoard(winner_is_1, 2, 'B2'))\n",
        "drawBoard(winner_is_1)"
      ],
      "execution_count": null,
      "outputs": [
        {
          "output_type": "stream",
          "text": [
            " --- --- ---\n",
            "| X | 0 | X |\n",
            " --- --- ---\n",
            "| 0 | X | B2|\n",
            " --- --- ---\n",
            "| 0 | X | X |\n",
            " --- --- ---\n",
            "True\n",
            " --- --- ---\n",
            "| X | 0 | X |\n",
            " --- --- ---\n",
            "| 0 | X | 0 |\n",
            " --- --- ---\n",
            "| 0 | X | X |\n",
            " --- --- ---\n"
          ],
          "name": "stdout"
        }
      ]
    },
    {
      "cell_type": "markdown",
      "metadata": {
        "id": "xpo9qNLDHHXW"
      },
      "source": [
        "*Exercise 8:* Write a function is called with a board and player number, takes input from the player using python's `input`, and modifies the board using your function from exercise 7. Note that you should keep asking for input until you have gotten a valid input that results in a valid move."
      ]
    },
    {
      "cell_type": "code",
      "metadata": {
        "id": "QDVT63h2HHXX"
      },
      "source": [
        "# Write you solution here"
      ],
      "execution_count": null,
      "outputs": []
    },
    {
      "cell_type": "code",
      "metadata": {
        "id": "EaJF_pyIHHXa"
      },
      "source": [
        "# Test your solution here"
      ],
      "execution_count": null,
      "outputs": []
    },
    {
      "cell_type": "markdown",
      "metadata": {
        "id": "S03u3tbwHHXc"
      },
      "source": [
        "*Exercise 9:* Use all of the previous exercises to implement a full tic-tac-toe game, where an appropriate board is drawn, 2 players are repeatedly asked for a location coordinates of where they wish to place a mark, and the game status is checked until a player wins or a draw occurs."
      ]
    },
    {
      "cell_type": "code",
      "metadata": {
        "id": "WpJSkpS0HHXc"
      },
      "source": [
        "# Write you solution here"
      ],
      "execution_count": null,
      "outputs": []
    },
    {
      "cell_type": "code",
      "metadata": {
        "id": "MqM8ZFhcHHXe"
      },
      "source": [
        "# Test your solution here"
      ],
      "execution_count": null,
      "outputs": []
    },
    {
      "cell_type": "markdown",
      "metadata": {
        "id": "8myTlnnkHHXg"
      },
      "source": [
        "*Exercise 10:* Test that your game works for 5x5 Tic Tac Toe.  "
      ]
    },
    {
      "cell_type": "code",
      "metadata": {
        "id": "JiJzN9R_HHXg"
      },
      "source": [
        "# Test your solution here"
      ],
      "execution_count": null,
      "outputs": []
    },
    {
      "cell_type": "markdown",
      "metadata": {
        "id": "iR3k7KyVHHXj"
      },
      "source": [
        "*Exercise 11: (Extra Credit)* Develop a version of the game where one player is the computer. Note that you don't need to do an extensive seach for the best move. You can have the computer simply protect against loosing and otherwise try to win with straight or diagonal patterns."
      ]
    },
    {
      "cell_type": "code",
      "metadata": {
        "id": "5B1HVCFqHHXk"
      },
      "source": [
        "# Write you solution here"
      ],
      "execution_count": null,
      "outputs": []
    },
    {
      "cell_type": "code",
      "metadata": {
        "id": "WzHgXRUVHHXn"
      },
      "source": [
        "# Test your solution here"
      ],
      "execution_count": null,
      "outputs": []
    }
  ]
}