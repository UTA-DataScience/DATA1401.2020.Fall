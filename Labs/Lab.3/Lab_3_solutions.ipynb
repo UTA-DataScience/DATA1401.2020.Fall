{
  "nbformat": 4,
  "nbformat_minor": 0,
  "metadata": {
    "kernelspec": {
      "display_name": "Python 3",
      "language": "python",
      "name": "python3"
    },
    "language_info": {
      "codemirror_mode": {
        "name": "ipython",
        "version": 3
      },
      "file_extension": ".py",
      "mimetype": "text/x-python",
      "name": "python",
      "nbconvert_exporter": "python",
      "pygments_lexer": "ipython3",
      "version": "3.8.0"
    },
    "colab": {
      "name": "Copy of Lab.3.ipynb",
      "provenance": []
    }
  },
  "cells": [
    {
      "cell_type": "markdown",
      "metadata": {
        "id": "3V2ZDaTmtpLs"
      },
      "source": [
        "# Lab 3- Tic Tac Toe\n",
        "\n",
        "[![Open In Colab](https://colab.research.google.com/assets/colab-badge.svg)](https://colab.research.google.com/github/UTA-DataScience/DATA1401.2020.Fall/blob/master/Labs/Lab.3/Lab.3.ipynb)\n",
        "\n",
        "In this lab your will build a n x n Tic Tac Toe game. As you do the exercises, make sure your solutions work for any size Tic Tac Toe game. "
      ]
    },
    {
      "cell_type": "markdown",
      "metadata": {
        "id": "fA9rVCGNtpLu"
      },
      "source": [
        "*Exercise 1:* Write a function that creates an n by n matrix (of list of lists) which will represent the state of a Tie Tac Toe game. Let 0, 1, and 2 represent empty, \"X\", or \"O\".\n"
      ]
    },
    {
      "cell_type": "code",
      "metadata": {
        "id": "6Lc8hiINtpLy"
      },
      "source": [
        "def Tic_Tac_Toe(number):\n",
        "  empty = 0\n",
        "  X = 1\n",
        "  O=2\n",
        "  board=[]\n",
        "  for j in range (number):\n",
        "    row=[]\n",
        "    for i in range (number):\n",
        "      row.append(empty)\n",
        "    board.append(row) \n",
        "  return board\n"
      ],
      "execution_count": null,
      "outputs": []
    },
    {
      "cell_type": "code",
      "metadata": {
        "id": "Q4lL_NVqtpL8",
        "outputId": "77d07bba-7900-4be3-a718-f580571712db",
        "colab": {
          "base_uri": "https://localhost:8080/",
          "height": 111
        }
      },
      "source": [
        "Tic_Tac_Toe(5)"
      ],
      "execution_count": null,
      "outputs": [
        {
          "output_type": "execute_result",
          "data": {
            "text/plain": [
              "[[0, 0, 0, 0, 0],\n",
              " [0, 0, 0, 0, 0],\n",
              " [0, 0, 0, 0, 0],\n",
              " [0, 0, 0, 0, 0],\n",
              " [0, 0, 0, 0, 0]]"
            ]
          },
          "metadata": {
            "tags": []
          },
          "execution_count": 26
        }
      ]
    },
    {
      "cell_type": "markdown",
      "metadata": {
        "id": "Myy5KbQrtpMC"
      },
      "source": [
        "*Exercise 2:* Write a function that takes a `n` by `n` matrix representing a tic-tac-toe game, and returns -1, 0, 1, or 2 indicating the game is incomplete, the game is a draw, player 1 has won, or player 2 has one, respectively. Here are some example inputs you can use to test your code:"
      ]
    },
    {
      "cell_type": "code",
      "metadata": {
        "id": "-ztkg-DFtpME"
      },
      "source": [
        "winner_is_2 = [[2, 2, 0],\n",
        "\t[2, 1, 0],\n",
        "\t[2, 1, 1]]\n",
        "\n",
        "winner_is_1 = [[1, 2, 0],\n",
        "\t[2, 1, 0],\n",
        "\t[2, 1, 1]]\n",
        "\n",
        "winner_is_also_1 = [[0, 1, 0],\n",
        "\t[2, 1, 0],\n",
        "\t[2, 1, 1]]\n",
        "\n",
        "no_winner = [[1, 2, 0],\n",
        "\t[2, 1, 0],\n",
        "\t[2, 1, 2]]\n",
        "\n",
        "also_no_winner = [[1, 2, 0],\n",
        "\t[2, 1, 0],\n",
        "\t[2, 1, 0]]\n",
        "fourByfour_col_2 =[[0,1,2,2],\n",
        "\t\t\t\t\t\t\t\t\t[1,2,2,0],\n",
        "\t\t\t\t\t\t\t\t\t[1,1,2,1],\n",
        "\t\t\t\t\t\t\t\t\t[1,0,2,1]]\n",
        "fourByfour_diag_1=[[0,2,2,1],[0,1,1,0],[2,1,1,2],[1,0,2,1]]\n",
        "fourByfour_Not_complete=[[0,2,1,2],[0,0,0,0],[2,1,2,1],[1,2,2,0]]"
      ],
      "execution_count": 5,
      "outputs": []
    },
    {
      "cell_type": "code",
      "metadata": {
        "id": "faTdDQYZdpap"
      },
      "source": [
        "def gamecheck(player0,player_1,player_2,status,board):\n",
        "  if player0==len(board):  \n",
        "    print(\"game is incomplete\")\n",
        "    status=-1\n",
        "  if player_1==len(board):\n",
        "    status=1\n",
        "  if player_2==len(board):\n",
        "    status=2\n",
        "  player_1=0\n",
        "  player_2=0\n",
        "  player0=0\n",
        "  return status,player0,player_1,player_2\n",
        "\n",
        "def counter(row,col,player0,player_1,player_2,board):\n",
        "  if board[row][col]==1:\n",
        "    player_1+=1\n",
        "  if board[row][col]==2:\n",
        "    player_2+=1\n",
        "  if board[row][col]==0:\n",
        "    player0+=1\n",
        "  return player0,player_1,player_2\n",
        "  "
      ],
      "execution_count": 10,
      "outputs": []
    },
    {
      "cell_type": "code",
      "metadata": {
        "id": "iP62TKuFtpMI"
      },
      "source": [
        "def game_status(board):\n",
        "  player_1=0\n",
        "  player_2=0\n",
        "  player0=0\n",
        "  diag_0=0\n",
        "  diag_1=0\n",
        "  diag_2=0\n",
        "  col_0=0\n",
        "  col_1=0\n",
        "  col_2=0\n",
        "  status=-1\n",
        "  for row in range(len(board)):\n",
        "    player_1=0\n",
        "    player_2=0\n",
        "    player0=0\n",
        "    col_0=0\n",
        "    col_1=0\n",
        "    col_2=0\n",
        "    #column loop\n",
        "    for col in range(len(board[0])):\n",
        "      #diagonal check\n",
        "      if row==col:\n",
        "        if row==0 or board[0][-1]==board[-1][0]:\n",
        "          diag_0,diag_1,diag_2=counter(row,col,diag_0,diag_1,diag_2,board)\n",
        "          #print(\" 1st diag 1=\",diag_1,\"diag 2=\",diag_2,\"diag 0=\",diag_0)\n",
        "        if board[row][col]==board[col][row] or board[row][col]==board[-row][-col]:\n",
        "          diag_0,diag_1,diag_2=counter(row,col,diag_0,diag_1,diag_2,board)\n",
        "          #print(\"diag 1=\",diag_1,\"diag 2=\",diag_2,\"diag 0=\",diag_0)\n",
        "        if diag_1==len(board) or diag_2==len(board) or diag_0==len(board):\n",
        "          #print(\" end diag 1=\",diag_1,\"diag 2=\",diag_2,\"diag 0=\",diag_0)\n",
        "          status,diag_0,diag_1,diag_2=gamecheck(diag_0,diag_1,diag_2,status,board)\n",
        "          if status==1:\n",
        "            print(\"Player 1 won diagonal\")\n",
        "          return status\n",
        "          if status==2:\n",
        "            print(\"Player 2 won diagonal\")\n",
        "          return status\n",
        "       \n",
        "      #row check\n",
        "      player0,player_1,player_2=counter(row,col,player0,player_1,player_2,board)\n",
        "      #print(\"col=\",col,\"row 1=\",player_1,\"row 2=\",player_2,\"player0=\",player0)\n",
        "      if player_1==len(board) or player_2==len(board) or player0==len(board):\n",
        "        status,player0,player_1,player_2=gamecheck(player0,player_1,player_2,status,board)\n",
        "        if status==1:\n",
        "          print(\"Player 1 won row\")\n",
        "        return status\n",
        "        if status==2:\n",
        "          print(\"Player 2 won row\")\n",
        "        return status\n",
        "        \n",
        "        \n",
        "      #column check\n",
        "      col_0,col_1,col_2=counter(col,row,col_0,col_1,col_2,board)\n",
        "      #print(\"col=\",col,\"row=\",row)\n",
        "      #print(\"column 1=\",col_1,\"Column 2=\",col_2,\"column 0=\",col_0)\n",
        "      if col_1==len(board) or col_2==len(board) or col_0==len(board):\n",
        "        status,col_0,col_1,col_2=gamecheck(col_0,col_1,col_2,status,board)\n",
        "        if status==1:\n",
        "          print(\"Player 1 won column\")\n",
        "          return status\n",
        "        if status==2:\n",
        "          print(\"Player 2 won column\")\n",
        "          return status\n",
        "  if player0==len(board)/2 or diag_0==len(board)/2 or col_0==len(board)/2:\n",
        "    print(\"Game is a draw\")\n",
        "    status=0\n",
        "    return status\n",
        "      \n",
        "      \n"
      ],
      "execution_count": 11,
      "outputs": []
    },
    {
      "cell_type": "code",
      "metadata": {
        "id": "Vd18AdY0tpMN",
        "outputId": "1d4b8878-6e42-4f4e-dfae-9031a12e5dd9",
        "colab": {
          "base_uri": "https://localhost:8080/",
          "height": 54
        }
      },
      "source": [
        "game_status(fourByfour_diag_1)"
      ],
      "execution_count": 13,
      "outputs": [
        {
          "output_type": "stream",
          "text": [
            "Player 1 won diagonal\n"
          ],
          "name": "stdout"
        },
        {
          "output_type": "execute_result",
          "data": {
            "text/plain": [
              "1"
            ]
          },
          "metadata": {
            "tags": []
          },
          "execution_count": 13
        }
      ]
    },
    {
      "cell_type": "markdown",
      "metadata": {
        "id": "klG5fPd1tpMS"
      },
      "source": [
        "*Exercise 3:* Write a function that takes 2 integers `n` and `m` as input and draws a `n` by `m` game board. For example the following is a 3x3 board:\n",
        "```\n",
        "   --- --- --- \n",
        "  |   |   |   | \n",
        "   --- --- ---  \n",
        "  |   |   |   | \n",
        "   --- --- ---  \n",
        "  |   |   |   | \n",
        "   --- --- --- \n",
        "   ```"
      ]
    },
    {
      "cell_type": "code",
      "metadata": {
        "id": "Y6LMychjbmPK"
      },
      "source": [
        "def for_looper_func(num):\n",
        "  for i in range(num):\n",
        "    return\n"
      ],
      "execution_count": 64,
      "outputs": []
    },
    {
      "cell_type": "code",
      "metadata": {
        "id": "xEOm3RDntpMT"
      },
      "source": [
        "def draw_board(row,column):\n",
        "  board=[row][column]\n",
        "  if type(row)==int and type(column)==int:\n",
        "    for In_row in range(len(board(row))):\n",
        "      board[row][column]=\"--- --- ---\"\n",
        "      for In_column in range(len(board[0][column])):\n",
        "        board[column][row]=\"|   \"\n",
        "        print(board[row][column])\n",
        "        print(board[column][row])\n",
        "  return\n",
        "      \n",
        "     \n",
        "  return\n",
        " \n",
        " \n",
        "        "
      ],
      "execution_count": 76,
      "outputs": []
    },
    {
      "cell_type": "code",
      "metadata": {
        "id": "KsC2eUcDtpMW",
        "outputId": "e3a55812-d970-4bfe-8fd7-113033503ca1",
        "colab": {
          "base_uri": "https://localhost:8080/",
          "height": 305
        }
      },
      "source": [
        "draw_board(3,3)"
      ],
      "execution_count": 75,
      "outputs": [
        {
          "output_type": "error",
          "ename": "IndexError",
          "evalue": "ignored",
          "traceback": [
            "\u001b[0;31m---------------------------------------------------------------------------\u001b[0m",
            "\u001b[0;31mIndexError\u001b[0m                                Traceback (most recent call last)",
            "\u001b[0;32m<ipython-input-75-97c3a366ce94>\u001b[0m in \u001b[0;36m<module>\u001b[0;34m()\u001b[0m\n\u001b[0;32m----> 1\u001b[0;31m \u001b[0mdraw_board\u001b[0m\u001b[0;34m(\u001b[0m\u001b[0;36m3\u001b[0m\u001b[0;34m,\u001b[0m\u001b[0;36m3\u001b[0m\u001b[0;34m)\u001b[0m\u001b[0;34m\u001b[0m\u001b[0;34m\u001b[0m\u001b[0m\n\u001b[0m",
            "\u001b[0;32m<ipython-input-74-6bb541bdc975>\u001b[0m in \u001b[0;36mdraw_board\u001b[0;34m(row, column)\u001b[0m\n\u001b[1;32m      1\u001b[0m \u001b[0;32mdef\u001b[0m \u001b[0mdraw_board\u001b[0m\u001b[0;34m(\u001b[0m\u001b[0mrow\u001b[0m\u001b[0;34m,\u001b[0m\u001b[0mcolumn\u001b[0m\u001b[0;34m)\u001b[0m\u001b[0;34m:\u001b[0m\u001b[0;34m\u001b[0m\u001b[0;34m\u001b[0m\u001b[0m\n\u001b[0;32m----> 2\u001b[0;31m   \u001b[0mboard\u001b[0m\u001b[0;34m=\u001b[0m\u001b[0;34m[\u001b[0m\u001b[0mrow\u001b[0m\u001b[0;34m]\u001b[0m\u001b[0;34m[\u001b[0m\u001b[0mcolumn\u001b[0m\u001b[0;34m]\u001b[0m\u001b[0;34m\u001b[0m\u001b[0;34m\u001b[0m\u001b[0m\n\u001b[0m\u001b[1;32m      3\u001b[0m   \u001b[0;32mif\u001b[0m \u001b[0mtype\u001b[0m\u001b[0;34m(\u001b[0m\u001b[0mrow\u001b[0m\u001b[0;34m)\u001b[0m\u001b[0;34m==\u001b[0m\u001b[0mint\u001b[0m \u001b[0;32mand\u001b[0m \u001b[0mtype\u001b[0m\u001b[0;34m(\u001b[0m\u001b[0mcolumn\u001b[0m\u001b[0;34m)\u001b[0m\u001b[0;34m==\u001b[0m\u001b[0mint\u001b[0m\u001b[0;34m:\u001b[0m\u001b[0;34m\u001b[0m\u001b[0;34m\u001b[0m\u001b[0m\n\u001b[1;32m      4\u001b[0m     \u001b[0;32mfor\u001b[0m \u001b[0mIn_row\u001b[0m \u001b[0;32min\u001b[0m \u001b[0mrange\u001b[0m\u001b[0;34m(\u001b[0m\u001b[0mlen\u001b[0m\u001b[0;34m(\u001b[0m\u001b[0mboard\u001b[0m\u001b[0;34m(\u001b[0m\u001b[0mrow\u001b[0m\u001b[0;34m)\u001b[0m\u001b[0;34m)\u001b[0m\u001b[0;34m)\u001b[0m\u001b[0;34m:\u001b[0m\u001b[0;34m\u001b[0m\u001b[0;34m\u001b[0m\u001b[0m\n\u001b[1;32m      5\u001b[0m       \u001b[0;32mfor\u001b[0m \u001b[0mIn_column\u001b[0m \u001b[0;32min\u001b[0m \u001b[0mrange\u001b[0m\u001b[0;34m(\u001b[0m\u001b[0mlen\u001b[0m\u001b[0;34m(\u001b[0m\u001b[0mboard\u001b[0m\u001b[0;34m[\u001b[0m\u001b[0;36m0\u001b[0m\u001b[0;34m]\u001b[0m\u001b[0;34m[\u001b[0m\u001b[0mcolumn\u001b[0m\u001b[0;34m]\u001b[0m\u001b[0;34m)\u001b[0m\u001b[0;34m)\u001b[0m\u001b[0;34m:\u001b[0m\u001b[0;34m\u001b[0m\u001b[0;34m\u001b[0m\u001b[0m\n",
            "\u001b[0;31mIndexError\u001b[0m: list index out of range"
          ]
        }
      ]
    },
    {
      "cell_type": "markdown",
      "metadata": {
        "id": "XRyrMwC9tpMa"
      },
      "source": [
        "*Exercise 4:* Modify exercise 3, so that it takes a matrix of the form from exercise 2 and draws a tic-tac-tie board with \"X\"s and \"O\"s.  "
      ]
    },
    {
      "cell_type": "code",
      "metadata": {
        "id": "hyMR9up7tpMb"
      },
      "source": [
        "# Write you solution here"
      ],
      "execution_count": null,
      "outputs": []
    },
    {
      "cell_type": "code",
      "metadata": {
        "id": "UPY0QhBQtpMf"
      },
      "source": [
        "# Test your solution here"
      ],
      "execution_count": null,
      "outputs": []
    },
    {
      "cell_type": "markdown",
      "metadata": {
        "id": "_goq92ogtpMi"
      },
      "source": [
        "*Exercise 5:* Write a function that takes a game board, player number, and `(x,y)` coordinates and places \"X\" or \"O\" in the correct location of the game board. Make sure that you only allow filling previously empty locations. Return `True` or `False` to indicate successful placement of \"X\" or \"O\"."
      ]
    },
    {
      "cell_type": "code",
      "metadata": {
        "id": "tI0pBvNttpMk"
      },
      "source": [
        "# Write you solution here"
      ],
      "execution_count": null,
      "outputs": []
    },
    {
      "cell_type": "code",
      "metadata": {
        "id": "pJOIPV0GtpMo"
      },
      "source": [
        "# Test your solution here"
      ],
      "execution_count": null,
      "outputs": []
    },
    {
      "cell_type": "markdown",
      "metadata": {
        "id": "66fC9CvftpMs"
      },
      "source": [
        "*Exercise 6:* Modify Exercise 4 to show column and row labels so that players can specify location using \"A2\" or \"C1\"."
      ]
    },
    {
      "cell_type": "code",
      "metadata": {
        "id": "slVGrojJtpMs"
      },
      "source": [
        "# Write you solution here"
      ],
      "execution_count": null,
      "outputs": []
    },
    {
      "cell_type": "code",
      "metadata": {
        "id": "g6N6rYFWtpMv"
      },
      "source": [
        "# Test your solution here"
      ],
      "execution_count": null,
      "outputs": []
    },
    {
      "cell_type": "markdown",
      "metadata": {
        "id": "bQL6G_wetpMz"
      },
      "source": [
        "*Exercise 7:* Write a function that takes a board, player number, and location specified as in exercise 6 and then calls exercise 5 to correctly modify the board.  "
      ]
    },
    {
      "cell_type": "code",
      "metadata": {
        "id": "icTkMRh8tpM0"
      },
      "source": [
        "# Write you solution here"
      ],
      "execution_count": null,
      "outputs": []
    },
    {
      "cell_type": "code",
      "metadata": {
        "id": "9S6D0Xx2tpM3"
      },
      "source": [
        "# Test your solution here"
      ],
      "execution_count": null,
      "outputs": []
    },
    {
      "cell_type": "markdown",
      "metadata": {
        "id": "2UtEfAbBtpM6"
      },
      "source": [
        "*Exercise 8:* Write a function is called with a board and player number, takes input from the player using python's `input`, and modifies the board using your function from exercise 7. Note that you should keep asking for input until you have gotten a valid input that results in a valid move."
      ]
    },
    {
      "cell_type": "code",
      "metadata": {
        "id": "YaOMkh-ztpM7"
      },
      "source": [
        "# Write you solution here"
      ],
      "execution_count": null,
      "outputs": []
    },
    {
      "cell_type": "code",
      "metadata": {
        "id": "3R7iRR8ktpM-"
      },
      "source": [
        "# Test your solution here"
      ],
      "execution_count": null,
      "outputs": []
    },
    {
      "cell_type": "markdown",
      "metadata": {
        "id": "i6RnnGyUtpNB"
      },
      "source": [
        "*Exercise 9:* Use all of the previous exercises to implement a full tic-tac-toe game, where an appropriate board is drawn, 2 players are repeatedly asked for a location coordinates of where they wish to place a mark, and the game status is checked until a player wins or a draw occurs."
      ]
    },
    {
      "cell_type": "code",
      "metadata": {
        "id": "A5qRFsDZtpND"
      },
      "source": [
        "# Write you solution here"
      ],
      "execution_count": null,
      "outputs": []
    },
    {
      "cell_type": "code",
      "metadata": {
        "id": "w_UPmNwJtpNF"
      },
      "source": [
        "# Test your solution here"
      ],
      "execution_count": null,
      "outputs": []
    },
    {
      "cell_type": "markdown",
      "metadata": {
        "id": "aG2bZCrYtpNI"
      },
      "source": [
        "*Exercise 10:* Test that your game works for 5x5 Tic Tac Toe.  "
      ]
    },
    {
      "cell_type": "code",
      "metadata": {
        "id": "Civ_gX9-tpNJ"
      },
      "source": [
        "# Test your solution here"
      ],
      "execution_count": null,
      "outputs": []
    },
    {
      "cell_type": "markdown",
      "metadata": {
        "id": "32_uFFEFtpNM"
      },
      "source": [
        "*Exercise 11: (Extra Credit)* Develop a version of the game where one player is the computer. Note that you don't need to do an extensive seach for the best move. You can have the computer simply protect against loosing and otherwise try to win with straight or diagonal patterns."
      ]
    },
    {
      "cell_type": "code",
      "metadata": {
        "id": "Ey2AQc_ZtpNM"
      },
      "source": [
        "# Write you solution here"
      ],
      "execution_count": null,
      "outputs": []
    },
    {
      "cell_type": "code",
      "metadata": {
        "id": "ITMcXFrZtpNQ"
      },
      "source": [
        "# Test your solution here"
      ],
      "execution_count": null,
      "outputs": []
    }
  ]
}