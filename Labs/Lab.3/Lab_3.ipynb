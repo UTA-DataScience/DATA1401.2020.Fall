{
  "nbformat": 4,
  "nbformat_minor": 0,
  "metadata": {
    "kernelspec": {
      "display_name": "Python 3",
      "language": "python",
      "name": "python3"
    },
    "language_info": {
      "codemirror_mode": {
        "name": "ipython",
        "version": 3
      },
      "file_extension": ".py",
      "mimetype": "text/x-python",
      "name": "python",
      "nbconvert_exporter": "python",
      "pygments_lexer": "ipython3",
      "version": "3.8.0"
    },
    "colab": {
      "name": "Lab.3.ipynb",
      "provenance": [],
      "collapsed_sections": []
    }
  },
  "cells": [
    {
      "cell_type": "markdown",
      "metadata": {
        "id": "LarmwUuTAS0E"
      },
      "source": [
        "# Lab 3- Tic Tac Toe\n",
        "\n",
        "[![Open In Colab](https://colab.research.google.com/assets/colab-badge.svg)](https://colab.research.google.com/github/UTA-DataScience/DATA1401.2020.Fall/blob/master/Labs/Lab.3/Lab.3.ipynb)\n",
        "\n",
        "In this lab your will build a n x n Tic Tac Toe game. As you do the exercises, make sure your solutions work for any size Tic Tac Toe game. "
      ]
    },
    {
      "cell_type": "markdown",
      "metadata": {
        "id": "hVmroHL8AS0F"
      },
      "source": [
        "*Exercise 1:* Write a function that creates an n by n matrix (of list of lists) which will represent the state of a Tic Tac Toe game. Let 0, 1, and 2 represent empty, \"X\", or \"O\".\n"
      ]
    },
    {
      "cell_type": "code",
      "metadata": {
        "id": "w3ljzY8EAS0L"
      },
      "source": [
        "# Write you solution here:\n",
        "x = 1\n",
        "o = 0\n",
        "empty = 2\n",
        "n = 3\n",
        "\n",
        "lst = list(range(n))\n",
        "\n",
        "blank_format = [empty]*n\n",
        "\n",
        "def blank_board(n):\n",
        "  for lst in blank_format:\n",
        "    print(blank_format)"
      ],
      "execution_count": 1024,
      "outputs": []
    },
    {
      "cell_type": "code",
      "metadata": {
        "id": "skIpgDcqAS0T"
      },
      "source": [
        "# Test your solution here\n",
        "print(\" =================================\")\n",
        "print(\"     WELCOME TO TIC-TAC-TOE!!\")\n",
        "print(\"                                         \")\n",
        "print(\"      CURRENT BOARD SIZE:\", get_size())\n",
        "print(\"    RULES: 3 ROW WINT THE GAME!\")\n",
        "print(\" ==================================\")\n",
        "print(\"> start:\")\n",
        "blank_board(n)"
      ],
      "execution_count": null,
      "outputs": []
    },
    {
      "cell_type": "markdown",
      "metadata": {
        "id": "68EIaDCqAS0Z"
      },
      "source": [
        "*Exercise 2:* Write a function that takes a `n` by `n` matrix representing a tic-tac-toe game, and returns -1, 0, 1, or 2 indicating the game is incomplete, the game is a draw, player 1 has won, or player 2 has one, respectively. Here are some example inputs you can use to test your code:"
      ]
    },
    {
      "cell_type": "code",
      "metadata": {
        "id": "BlcRP6J8AS0Z"
      },
      "source": [
        "winner_is_2 = [[0, 1, 2], [0, 1, 2], [0, 2, 2]]\n",
        "\n",
        "winner_is_1 = [[1, 2, 0],[2, 1, 0],[2, 1, 1]]\n",
        "\n",
        "winner_is_also_1 = [[0, 1, 0],[2, 1, 0],[2, 1, 1]]\n",
        "\n",
        "no_winner = [[1, 2, 0],[2, 1, 0],[2, 1, 2]]\n",
        "\n",
        "also_no_winner = [[1, 2, 0],[2, 1, 0],[2, 1, 0]]"
      ],
      "execution_count": 1026,
      "outputs": []
    },
    {
      "cell_type": "code",
      "metadata": {
        "id": "2W3hsDYQAS0f"
      },
      "source": [
        "# Write you solution here\n",
        "player_1 = 1\n",
        "player_2 = 0\n",
        "n=3"
      ],
      "execution_count": 1027,
      "outputs": []
    },
    {
      "cell_type": "code",
      "metadata": {
        "id": "RnDutdzW-IIw"
      },
      "source": [
        "def player_1_1():\n",
        "  board_1=[([empty]*n) for i in lst]\n",
        "  for i in range(0,n):\n",
        "    board_1[0][1]=player_1\n",
        "    board_1[i][i]=empty\n",
        "  return board_1\n",
        "def player_2_1():\n",
        "  board_2=[([empty]*n) for i in lst]\n",
        "  for i in range(0,n):\n",
        "    board_2[0][1]=player_1\n",
        "    board_2[0][2]=player_2\n",
        "    board_2[i][i]=empty\n",
        "  return board_2\n",
        "def player_1_2():\n",
        "  board_3=[([empty]*n) for i in lst]\n",
        "  for i in range(0,n):\n",
        "    board_3[0][1]=player_1\n",
        "    board_3[1][1]=player_1\n",
        "    board_3[0][2]=player_2\n",
        "    board_3[i][i]=empty\n",
        "  return board_3\n",
        "def player_2_2():\n",
        "  board_4=[([empty]*n) for i in lst]\n",
        "  for i in range(0,n):\n",
        "    board_4[0][1]=player_1\n",
        "    board_4[0][2]=player_2\n",
        "    board_4[1][1]=player_1\n",
        "    board_4[-1][-2]=player_2\n",
        "    board_4[1][0]=player_1\n",
        "    board_4[1][2]=player_2\n",
        "    board_4[0][0]=player_1\n",
        "    board_4[-1][-1]=player_2\n",
        "    board_4[2][0]=empty\n",
        "  return board_4\n",
        "\n",
        "\n",
        "winner_is_2 = [[1, 1, 0], [1, 1, 0], [2, 0, 0]]\n",
        "winner_is_1 = [[1, 2, 0],[2, 1, 0],[2, 1, 1]]\n",
        "no_winner = [[1, 2, 0],[2, 1, 0],[2, 1, 2]]\n",
        "\n",
        "def winner():\n",
        "  for board in player_2_2():\n",
        "    if player_2_2() == winner_is_2:\n",
        "      print(\"2\")\n",
        "    elif player_2_2() == winner_is_1:\n",
        "      print(\"1\")\n",
        "    elif player_2_2() == no_winner:\n",
        "      print(\"0\")\n",
        "    else:\n",
        "      print(\"-1\")"
      ],
      "execution_count": 1028,
      "outputs": []
    },
    {
      "cell_type": "code",
      "metadata": {
        "id": "-0tTc5TCAS0k",
        "outputId": "639d17c7-db1c-48e3-c7f6-4051fccb076e",
        "colab": {
          "base_uri": "https://localhost:8080/",
          "height": 148
        }
      },
      "source": [
        "# Test your solution here\n",
        "print(\" =================================\")\n",
        "print(\"     WELCOME TO TIC-TAC-TOE!!\")\n",
        "print(\"                                         \")\n",
        "print(\"      CURRENT BOARD SIZE:\", get_size())\n",
        "print(\"    RULES: 3 ROW WINs THE GAME!\")\n",
        "print(\" ==================================\")\n",
        "print(\"> Player 1 move:\")\n",
        "player_1_1()"
      ],
      "execution_count": 1029,
      "outputs": [
        {
          "output_type": "stream",
          "text": [
            " =================================\n",
            "     WELCOME TO TIC-TAC-TOE!!\n",
            "                                         \n",
            "      CURRENT BOARD SIZE: 9\n",
            "    RULES: 3 ROW WINs THE GAME!\n",
            " ==================================\n",
            "> Player 1 move:\n"
          ],
          "name": "stdout"
        },
        {
          "output_type": "execute_result",
          "data": {
            "text/plain": [
              "[[2, 1, 2], [2, 2, 2], [2, 2, 2]]"
            ]
          },
          "metadata": {
            "tags": []
          },
          "execution_count": 1029
        }
      ]
    },
    {
      "cell_type": "code",
      "metadata": {
        "id": "y0QsN9RM_44Z",
        "outputId": "8d1f8e87-302a-4ae9-c393-bcae3cf2f0cf",
        "colab": {
          "base_uri": "https://localhost:8080/",
          "height": 49
        }
      },
      "source": [
        "print(\"> Player 2 move:\")\n",
        "player_2_1()"
      ],
      "execution_count": 1030,
      "outputs": [
        {
          "output_type": "stream",
          "text": [
            "> Player 2 move:\n"
          ],
          "name": "stdout"
        },
        {
          "output_type": "execute_result",
          "data": {
            "text/plain": [
              "[[2, 1, 0], [2, 2, 2], [2, 2, 2]]"
            ]
          },
          "metadata": {
            "tags": []
          },
          "execution_count": 1030
        }
      ]
    },
    {
      "cell_type": "code",
      "metadata": {
        "id": "Ou0teQtmHhZC",
        "outputId": "1e106a48-9618-41e7-b8b2-748e1a547c01",
        "colab": {
          "base_uri": "https://localhost:8080/",
          "height": 49
        }
      },
      "source": [
        "print(\"> Player 1 move:\")\n",
        "player_1_2()"
      ],
      "execution_count": 1031,
      "outputs": [
        {
          "output_type": "stream",
          "text": [
            "> Player 1 move:\n"
          ],
          "name": "stdout"
        },
        {
          "output_type": "execute_result",
          "data": {
            "text/plain": [
              "[[2, 1, 0], [2, 1, 2], [2, 2, 2]]"
            ]
          },
          "metadata": {
            "tags": []
          },
          "execution_count": 1031
        }
      ]
    },
    {
      "cell_type": "code",
      "metadata": {
        "id": "KBU6aLiuIE48",
        "outputId": "245b5e36-4f25-426d-8194-0aab3a864fd7",
        "colab": {
          "base_uri": "https://localhost:8080/",
          "height": 49
        }
      },
      "source": [
        "print(\"> Player 2 move:\")\n",
        "player_2_2()"
      ],
      "execution_count": 1032,
      "outputs": [
        {
          "output_type": "stream",
          "text": [
            "> Player 2 move:\n"
          ],
          "name": "stdout"
        },
        {
          "output_type": "execute_result",
          "data": {
            "text/plain": [
              "[[1, 1, 0], [1, 1, 0], [2, 0, 0]]"
            ]
          },
          "metadata": {
            "tags": []
          },
          "execution_count": 1032
        }
      ]
    },
    {
      "cell_type": "code",
      "metadata": {
        "id": "YmiUm_EoK9gu",
        "outputId": "e7987668-0c28-491f-e4b7-43ad59b8643f",
        "colab": {
          "base_uri": "https://localhost:8080/",
          "height": 66
        }
      },
      "source": [
        "winner()"
      ],
      "execution_count": 1033,
      "outputs": [
        {
          "output_type": "stream",
          "text": [
            "2\n",
            "2\n",
            "2\n"
          ],
          "name": "stdout"
        }
      ]
    },
    {
      "cell_type": "markdown",
      "metadata": {
        "id": "LJZ8zMNcAS0q"
      },
      "source": [
        "*Exercise 3:* Write a function that takes 2 integers `n` and `m` as input and draws a `n` by `m` game board. For example the following is a 3x3 board:\n",
        "```\n",
        "   --- --- --- \n",
        "  |   |   |   | \n",
        "   --- --- ---  \n",
        "  |   |   |   | \n",
        "   --- --- ---  \n",
        "  |   |   |   | \n",
        "   --- --- --- \n",
        "   ```"
      ]
    },
    {
      "cell_type": "code",
      "metadata": {
        "id": "mo2Q8Iq8AS0r"
      },
      "source": [
        "# Write you solution here\n",
        "m = 9\n",
        "def obscura():\n",
        "  board=[([empty]*m) for i in lst]\n",
        "  for i in range(n):\n",
        "    return board"
      ],
      "execution_count": 1080,
      "outputs": []
    },
    {
      "cell_type": "code",
      "metadata": {
        "id": "7eCn6pwjAS0w",
        "outputId": "697a7552-df6a-467d-c1dc-69cf18c2fda6",
        "colab": {
          "base_uri": "https://localhost:8080/",
          "height": 66
        }
      },
      "source": [
        "# Test your solution here\n",
        "\n",
        "obscura()"
      ],
      "execution_count": 1081,
      "outputs": [
        {
          "output_type": "execute_result",
          "data": {
            "text/plain": [
              "[[2, 2, 2, 2, 2, 2, 2, 2, 2],\n",
              " [2, 2, 2, 2, 2, 2, 2, 2, 2],\n",
              " [2, 2, 2, 2, 2, 2, 2, 2, 2]]"
            ]
          },
          "metadata": {
            "tags": []
          },
          "execution_count": 1081
        }
      ]
    },
    {
      "cell_type": "markdown",
      "metadata": {
        "id": "aCN5Rcj3AS02"
      },
      "source": [
        "*Exercise 4:* Modify exercise 3, so that it takes a matrix of the form from exercise 2 and draws a tic-tac-tie board with \"X\"s and \"O\"s.  "
      ]
    },
    {
      "cell_type": "code",
      "metadata": {
        "id": "ptZVPzYmAS1B"
      },
      "source": [
        "# Write you solution here\n",
        "m = 9\n",
        "size=3\n",
        "player_1 = 1\n",
        "player_2 = 0\n",
        "empty = 2\n",
        "x = 1\n",
        "o = 0\n",
        "e = 2\n",
        "player= {player_1 or player_2}\n",
        "def obscura2_2():\n",
        "  board=[[empty]*size for i in range(size)]\n",
        "  for i in range(0,n):\n",
        "    board[0][1]=player_1\n",
        "    board[0][2]=player_2\n",
        "    board[1][1]=player_1\n",
        "    board[-1][-2]=player_2\n",
        "    board[1][0]=player_1\n",
        "    board[1][2]=player_2\n",
        "    board[0][0]=player_1\n",
        "    board[-1][-1]=player_2\n",
        "    board[2][0]=empty\n",
        "  return board\n",
        "board_0=obscura2_2()\n",
        "player_1_value = \"X\"\n",
        "player_2_value = \"O\"\n",
        "empty_value = \" \"\n",
        "space_character= { player_1: player_1_value,\n",
        "                    player_2: player_2_value,\n",
        "                    empty: empty_value }\n",
        "def draw_board(board):\n",
        "    for i in range(size):\n",
        "        for j in range(size):\n",
        "          print(space_character[board[i][j]],end=\" \")\n",
        "        print()\n",
        "row_names=list(\"ABCDEFGHIJKLMNOPQRSTUVWXYZ\")\n",
        "row_map=dict(zip(row_names,range(size)))\n",
        "column_names=list(map(str,range(1,size+1)))\n",
        "column_map=dict(zip(column_names,range(size)))\n",
        "def final_game():\n",
        "  def draw_board(board_0):\n",
        "    for i in range(m):\n",
        "      print(row_names[i],end=\" \")\n",
        "      print(\" \",end=\" \")\n",
        "    for j in range(m):\n",
        "        print(column_names,[j], end=\" \")\n",
        "  return draw_board(board_0)\n",
        "\n",
        "\n",
        "winner_is_2 = [[1, 1, 0], [1, 1, 0], [2, 0, 0]]\n",
        "winner_is_1 = [[1, 2, 0],[2, 1, 0],[2, 1, 1]]\n",
        "no_winner = [[1, 2, 0],[2, 1, 0],[2, 1, 2]]\n",
        "\n",
        "def winner():\n",
        "  for board in obscura2_2():\n",
        "    if obscura2_2() == winner_is_2:\n",
        "      print(\"2\")\n",
        "    elif obscura2_2() == winner_is_1:\n",
        "      print(\"1\")\n",
        "    elif obscura2_2() == no_winner:\n",
        "      print(\"0\")\n",
        "    else:\n",
        "      print(\"-1\")"
      ],
      "execution_count": 221,
      "outputs": []
    },
    {
      "cell_type": "code",
      "metadata": {
        "id": "oRpKPimXAS1G",
        "outputId": "25f15157-fee4-435c-a4a8-249c29e5bda9",
        "colab": {
          "base_uri": "https://localhost:8080/",
          "height": 115
        }
      },
      "source": [
        "# Test your solution here\n",
        "draw_board(board_0)\n",
        "\n",
        "winner()"
      ],
      "execution_count": 222,
      "outputs": [
        {
          "output_type": "stream",
          "text": [
            "X X O \n",
            "X X O \n",
            "  O O \n",
            "2\n",
            "2\n",
            "2\n"
          ],
          "name": "stdout"
        }
      ]
    },
    {
      "cell_type": "markdown",
      "metadata": {
        "id": "g6Xp48vxAS1K"
      },
      "source": [
        "*Exercise 5:* Write a function that takes a game board, player number, and `(x,y)` coordinates and places \"X\" or \"O\" in the correct location of the game board. Make sure that you only allow filling previously empty locations. Return `True` or `False` to indicate successful placement of \"X\" or \"O\"."
      ]
    },
    {
      "cell_type": "code",
      "metadata": {
        "id": "axO7cNnpAS1K",
        "outputId": "85f0afa8-b608-4c78-bc38-db90004e86c0",
        "colab": {
          "base_uri": "https://localhost:8080/",
          "height": 66
        }
      },
      "source": [
        "# Write you solution here\n",
        "n = 3\n",
        "lst = list(range(n))\n",
        "blank_format = [empty]*n\n",
        "def board():\n",
        "  for lst in blank_format:\n",
        "    print(blank_format)\n",
        "board()\n",
        "\n",
        "(x,y) = (0,1)\n",
        "[i],[j] = [0],[1]\n",
        "[i,j] = [0,1]\n",
        "y = m\n",
        "x = n\n",
        "i = x\n",
        "j = y\n",
        "player_1_ = (x)\n",
        "player_2_ = (y)\n",
        "empty_ = \"none\"\n",
        "m = 3\n",
        "y = [0,\n",
        "     1,\n",
        "     2,]\n",
        "x = [0,\n",
        "     1,\n",
        "     2,]\n",
        "\n",
        "def player_C():\n",
        "  board = [([empty]*n) for i in lst]\n",
        "  for i in range(n):\n",
        "    player_1_ = (0,1)\n",
        "    player_2_ = (2,0)\n",
        "    empty_ = \"none\"\n",
        "  return board\n",
        "\n",
        "player= {player_1_ or player_2_}\n",
        "\n",
        "def new_table():\n",
        "  board=[([empty_]*m) for i in lst]\n",
        "  for i in range(n):\n",
        "    return board\n",
        "\n",
        "def obscura_coord():\n",
        "  board=[[empty]*n for i in range(n)]\n",
        "  for i in range(2,0):\n",
        "    player_2_ = (2,0)\n",
        "    player_1 = (1,0)\n",
        "    empty_ = \"none\"\n",
        "  return board\n",
        "\n",
        "board=obscura_coord()\n",
        "\n",
        "player_1_value_ = \"X\"\n",
        "player_2_value_ = \"O\"\n",
        "empty_value_ = \" \"\n",
        "def space_character(player):\n",
        "    if player==player_1_:\n",
        "        return player_1_value_\n",
        "    elif player==player_2_:\n",
        "        return player_2_value_\n",
        "    else:\n",
        "        return empty_value_\n",
        "def draw_board(board):\n",
        "    for i in range(n):\n",
        "        for j in range(n):\n",
        "            print(space_character[board[i][j]],end=\" \")\n",
        "        print()\n",
        "\n",
        "row_names=list(\"ABCDEFGHIJKLMNOPQRSTUVWXYZ\")\n",
        "row_map=dict(zip(row_names,range(n)))\n",
        "row_map\n",
        "column_names=list(map(str,range(1,n+1)))\n",
        "column_map=dict(zip(column_names,range(n)))\n",
        "column_map\n",
        "def draw_board(board):\n",
        "    print(\" \",end=\" \")\n",
        "    for j in range(n):\n",
        "      print(column_names[j],end=\" \")\n",
        "    for i in range(n):\n",
        "      print(row_names[i],end=\" \")\n",
        "    for j in range(n):\n",
        "      print(column_names[j],end=\" \")\n",
        "\n",
        "\n",
        "\n",
        "winner_is_2 = [[1, 1, 0], [1, 1, 0], [2, 0, 0]]\n",
        "winner_is_1 = [[1, 2, 0],[2, 1, 0],[2, 1, 1]]\n",
        "no_winner = [[2, 2, 2],[2, 2, 2],[2, 2, 2]]\n",
        "\n",
        "def winner():\n",
        "  for board in obscura_coord():\n",
        "    if obscura_coord() == winner_is_2:\n",
        "      print(\"2\")\n",
        "    elif obscura_coord() == winner_is_1:\n",
        "      print(\"1\")\n",
        "    elif obscura_coord() == no_winner:\n",
        "      print(\"0\")\n",
        "    else:\n",
        "      print(\"-1\")\n",
        "\n"
      ],
      "execution_count": 223,
      "outputs": [
        {
          "output_type": "stream",
          "text": [
            "[2, 2, 2]\n",
            "[2, 2, 2]\n",
            "[2, 2, 2]\n"
          ],
          "name": "stdout"
        }
      ]
    },
    {
      "cell_type": "code",
      "metadata": {
        "id": "0MI4U2dwhpl9",
        "outputId": "5df1573e-3710-4a92-d4a2-a9c81d7961d8",
        "colab": {
          "base_uri": "https://localhost:8080/",
          "height": 66
        }
      },
      "source": [
        "winner()"
      ],
      "execution_count": 224,
      "outputs": [
        {
          "output_type": "stream",
          "text": [
            "0\n",
            "0\n",
            "0\n"
          ],
          "name": "stdout"
        }
      ]
    },
    {
      "cell_type": "code",
      "metadata": {
        "id": "Y6xJLGCmdvbT",
        "outputId": "d9a4fcef-7534-4748-874a-6c7f7c01f4cd",
        "colab": {
          "base_uri": "https://localhost:8080/",
          "height": 33
        }
      },
      "source": [
        "\n",
        "obscura_coord()\n",
        "board=obscura_coord()\n",
        "board\n",
        "space_character(player_1_)\n",
        "\n",
        "row_map\n",
        "column_map\n",
        "draw_board(board)"
      ],
      "execution_count": 216,
      "outputs": [
        {
          "output_type": "stream",
          "text": [
            "  1 2 3 A B C 1 2 3 "
          ],
          "name": "stdout"
        }
      ]
    },
    {
      "cell_type": "markdown",
      "metadata": {
        "id": "9eFDiclCAS1S"
      },
      "source": [
        "*Exercise 6:* Modify Exercise 4 to show column and row labels so that players can specify location using \"A2\" or \"C1\"."
      ]
    },
    {
      "cell_type": "code",
      "metadata": {
        "id": "ULwIGC1xAS1T"
      },
      "source": [
        "# Write you solution here\n",
        "board_0=obscura2_2()\n",
        "player_1_value = \"X\"\n",
        "player_2_value = \"O\"\n",
        "empty_value = \" \"\n",
        "space_character= { player_1: player_1_value,\n",
        "                    player_2: player_2_value,\n",
        "                    empty: empty_value }\n",
        "def draw_board(board):\n",
        "    for i in range(size):\n",
        "        for j in range(size):\n",
        "          print(space_character[board[i][j]],end=\" \")\n",
        "        print()\n",
        "row_names=list(\"ABCDEFGHIJKLMNOPQRSTUVWXYZ\")\n",
        "row_map=dict(zip(row_names,range(size)))\n",
        "column_names=list(map(str,range(1,size+1)))\n",
        "column_map=dict(zip(column_names,range(size)))\n",
        "def final_game():\n",
        "  def draw_board(board_0):\n",
        "    for i in range(m):\n",
        "      print(row_names[i],end=\"A2\")\n",
        "      print(\" \",end=\" \")\n",
        "    for j in range(m):\n",
        "        print(column_names,[j], end=\"C1\")\n",
        "  return draw_board(board_0)\n",
        "\n",
        "\n"
      ],
      "execution_count": 206,
      "outputs": []
    },
    {
      "cell_type": "code",
      "metadata": {
        "id": "Qcc2r_PtfzYZ",
        "outputId": "f19c6d07-afae-4d1f-c4b6-626b3e4da721",
        "colab": {
          "base_uri": "https://localhost:8080/",
          "height": 33
        }
      },
      "source": [
        "print(row_names)"
      ],
      "execution_count": 207,
      "outputs": [
        {
          "output_type": "stream",
          "text": [
            "['A', 'B', 'C', 'D', 'E', 'F', 'G', 'H', 'I', 'J', 'K', 'L', 'M', 'N', 'O', 'P', 'Q', 'R', 'S', 'T', 'U', 'V', 'W', 'X', 'Y', 'Z']\n"
          ],
          "name": "stdout"
        }
      ]
    },
    {
      "cell_type": "code",
      "metadata": {
        "id": "aqqEQ5hbf2Gw",
        "outputId": "02d76954-19c8-4797-bdb0-b97386db0958",
        "colab": {
          "base_uri": "https://localhost:8080/",
          "height": 33
        }
      },
      "source": [
        "print(row_map)"
      ],
      "execution_count": 208,
      "outputs": [
        {
          "output_type": "stream",
          "text": [
            "{'A': 0, 'B': 1, 'C': 2}\n"
          ],
          "name": "stdout"
        }
      ]
    },
    {
      "cell_type": "code",
      "metadata": {
        "id": "POFAdgUpf4hC",
        "outputId": "ad9a16f5-6678-4e1c-9323-dc7b7f4da95d",
        "colab": {
          "base_uri": "https://localhost:8080/",
          "height": 33
        }
      },
      "source": [
        "print(column_names)"
      ],
      "execution_count": 209,
      "outputs": [
        {
          "output_type": "stream",
          "text": [
            "['1', '2', '3']\n"
          ],
          "name": "stdout"
        }
      ]
    },
    {
      "cell_type": "code",
      "metadata": {
        "id": "chLL-w5EAS1W",
        "outputId": "4e804617-a4d4-4003-e4ed-fa0c379684ac",
        "colab": {
          "base_uri": "https://localhost:8080/",
          "height": 82
        }
      },
      "source": [
        "# Test your solution here\n",
        "print(draw_board(board_0))"
      ],
      "execution_count": 211,
      "outputs": [
        {
          "output_type": "stream",
          "text": [
            "X X O \n",
            "X X O \n",
            "  O O \n",
            "None\n"
          ],
          "name": "stdout"
        }
      ]
    },
    {
      "cell_type": "markdown",
      "metadata": {
        "id": "yKaz3G18AS1a"
      },
      "source": [
        "*Exercise 7:* Write a function that takes a board, player number, and location specified as in exercise 6 and then calls exercise 5 to correctly modify the board.  "
      ]
    },
    {
      "cell_type": "code",
      "metadata": {
        "id": "FyZlwcMRAS1b"
      },
      "source": [
        "# Write you solution here\n",
        "board=obscura_coord()\n",
        "player_1_value_ = \"X\"\n",
        "player_2_value_ = \"O\"\n",
        "empty_value_ = \" \"\n",
        "def space_character(player):\n",
        "    if player==player_1_:\n",
        "        return player_1_value_\n",
        "    elif player==player_2_:\n",
        "        return player_2_value_\n",
        "    else:\n",
        "        return empty_value_\n",
        "\n",
        "        print()\n",
        "row_names=list(\"ABCDEFGHIJKLMNOPQRSTUVWXYZ\")\n",
        "row_map=dict(zip(row_names,range(n)))\n",
        "row_map\n",
        "column_names=list(map(str,range(1,n+1)))\n",
        "column_map=dict(zip(column_names,range(n)))\n",
        "column_map\n",
        "def final_game():\n",
        "  def draw_board(board):\n",
        "    for i in range(n):\n",
        "      print(row_names[i],end=\"A2\")\n",
        "      print(\"A1 \",end=\"C1 \")\n",
        "    for j in range(m):\n",
        "        print(column_names,[j], end=\"C1\")\n",
        "  return draw_board(board)"
      ],
      "execution_count": 239,
      "outputs": []
    },
    {
      "cell_type": "code",
      "metadata": {
        "id": "GWzqf-cYAS1e",
        "outputId": "278cd402-aa86-40af-973c-d3e8621e6a9a",
        "colab": {
          "base_uri": "https://localhost:8080/",
          "height": 294
        }
      },
      "source": [
        "# Test your solution here\n",
        "draw_board(board)"
      ],
      "execution_count": 240,
      "outputs": [
        {
          "output_type": "error",
          "ename": "TypeError",
          "evalue": "ignored",
          "traceback": [
            "\u001b[0;31m---------------------------------------------------------------------------\u001b[0m",
            "\u001b[0;31mTypeError\u001b[0m                                 Traceback (most recent call last)",
            "\u001b[0;32m<ipython-input-240-6d701894f6e4>\u001b[0m in \u001b[0;36m<module>\u001b[0;34m()\u001b[0m\n\u001b[1;32m      1\u001b[0m \u001b[0;31m# Test your solution here\u001b[0m\u001b[0;34m\u001b[0m\u001b[0;34m\u001b[0m\u001b[0;34m\u001b[0m\u001b[0m\n\u001b[0;32m----> 2\u001b[0;31m \u001b[0mdraw_board\u001b[0m\u001b[0;34m(\u001b[0m\u001b[0mboard\u001b[0m\u001b[0;34m)\u001b[0m\u001b[0;34m\u001b[0m\u001b[0;34m\u001b[0m\u001b[0m\n\u001b[0m",
            "\u001b[0;32m<ipython-input-237-d54f13938dbd>\u001b[0m in \u001b[0;36mdraw_board\u001b[0;34m(board)\u001b[0m\n\u001b[1;32m     14\u001b[0m     \u001b[0;32mfor\u001b[0m \u001b[0mi\u001b[0m \u001b[0;32min\u001b[0m \u001b[0mrange\u001b[0m\u001b[0;34m(\u001b[0m\u001b[0mn\u001b[0m\u001b[0;34m)\u001b[0m\u001b[0;34m:\u001b[0m\u001b[0;34m\u001b[0m\u001b[0;34m\u001b[0m\u001b[0m\n\u001b[1;32m     15\u001b[0m         \u001b[0;32mfor\u001b[0m \u001b[0mj\u001b[0m \u001b[0;32min\u001b[0m \u001b[0mrange\u001b[0m\u001b[0;34m(\u001b[0m\u001b[0mn\u001b[0m\u001b[0;34m)\u001b[0m\u001b[0;34m:\u001b[0m\u001b[0;34m\u001b[0m\u001b[0;34m\u001b[0m\u001b[0m\n\u001b[0;32m---> 16\u001b[0;31m             \u001b[0mprint\u001b[0m\u001b[0;34m(\u001b[0m\u001b[0mspace_character\u001b[0m\u001b[0;34m[\u001b[0m\u001b[0mboard\u001b[0m\u001b[0;34m[\u001b[0m\u001b[0mi\u001b[0m\u001b[0;34m]\u001b[0m\u001b[0;34m[\u001b[0m\u001b[0mj\u001b[0m\u001b[0;34m]\u001b[0m\u001b[0;34m]\u001b[0m\u001b[0;34m,\u001b[0m\u001b[0mend\u001b[0m\u001b[0;34m=\u001b[0m\u001b[0;34m\"C1\"\u001b[0m\u001b[0;34m)\u001b[0m\u001b[0;34m\u001b[0m\u001b[0;34m\u001b[0m\u001b[0m\n\u001b[0m\u001b[1;32m     17\u001b[0m         \u001b[0mprint\u001b[0m\u001b[0;34m(\u001b[0m\u001b[0;34m)\u001b[0m\u001b[0;34m\u001b[0m\u001b[0;34m\u001b[0m\u001b[0m\n\u001b[1;32m     18\u001b[0m \u001b[0mrow_names\u001b[0m\u001b[0;34m=\u001b[0m\u001b[0mlist\u001b[0m\u001b[0;34m(\u001b[0m\u001b[0;34m\"ABCDEFGHIJKLMNOPQRSTUVWXYZ\"\u001b[0m\u001b[0;34m)\u001b[0m\u001b[0;34m\u001b[0m\u001b[0;34m\u001b[0m\u001b[0m\n",
            "\u001b[0;31mTypeError\u001b[0m: 'function' object is not subscriptable"
          ]
        }
      ]
    },
    {
      "cell_type": "markdown",
      "metadata": {
        "id": "-pj8MFSfAS1h"
      },
      "source": [
        "*Exercise 8:* Write a function is called with a board and player number, takes input from the player using python's `input`, and modifies the board using your function from exercise 7. Note that you should keep asking for input until you have gotten a valid input that results in a valid move."
      ]
    },
    {
      "cell_type": "code",
      "metadata": {
        "id": "faLkR14DAS1i"
      },
      "source": [
        "# Write you solution here"
      ],
      "execution_count": null,
      "outputs": []
    },
    {
      "cell_type": "code",
      "metadata": {
        "id": "rXecv4nyAS1l"
      },
      "source": [
        "# Test your solution here"
      ],
      "execution_count": null,
      "outputs": []
    },
    {
      "cell_type": "markdown",
      "metadata": {
        "id": "b0fYrk36AS1o"
      },
      "source": [
        "*Exercise 9:* Use all of the previous exercises to implement a full tic-tac-toe game, where an appropriate board is drawn, 2 players are repeatedly asked for a location coordinates of where they wish to place a mark, and the game status is checked until a player wins or a draw occurs."
      ]
    },
    {
      "cell_type": "code",
      "metadata": {
        "id": "mX-c__yOAS1p"
      },
      "source": [
        "# Write you solution here"
      ],
      "execution_count": null,
      "outputs": []
    },
    {
      "cell_type": "code",
      "metadata": {
        "id": "Wn93u9XCAS1r"
      },
      "source": [
        "# Test your solution here"
      ],
      "execution_count": null,
      "outputs": []
    },
    {
      "cell_type": "markdown",
      "metadata": {
        "id": "iyKWSjWpAS1v"
      },
      "source": [
        "*Exercise 10:* Test that your game works for 5x5 Tic Tac Toe.  "
      ]
    },
    {
      "cell_type": "code",
      "metadata": {
        "id": "vj0jZH06AS1w"
      },
      "source": [
        "# Test your solution here\n",
        "n = 5\n",
        "m = 5\n",
        "def obs_2():\n",
        "  board=[[empty]*n for i in range(n)]\n",
        "  for i in range(0,n):\n",
        "    board[0][1]=player_1\n",
        "    board[0][2]=player_2\n",
        "    board[1][1]=player_1\n",
        "    board[-1][-2]=player_2\n",
        "    board[1][0]=player_1\n",
        "    board[1][2]=player_2\n",
        "    board[0][0]=player_1\n",
        "    board[-1][-1]=player_2\n",
        "    board[2][0]=empty\n",
        "  return board\n",
        "\n",
        "winner_is_2 = [[1, 1, 0], [1, 1, 0], [2, 0, 0]]\n",
        "winner_is_1 = [[1, 2, 0],[2, 1, 0],[2, 1, 1]]\n",
        "no_winner = [[2, 2, 2],[2, 2, 2],[2, 2, 2]]\n",
        "\n",
        "def winner():\n",
        "  for board in obs_2():\n",
        "    if obs_2() == winner_is_2:\n",
        "      print(\"2\")\n",
        "    elif obs_2() == winner_is_1:\n",
        "      print(\"1\")\n",
        "    elif obs_2() == no_winner:\n",
        "      print(\"0\")\n",
        "    else:\n",
        "      print(\"no winner: -1\")\n"
      ],
      "execution_count": 228,
      "outputs": []
    },
    {
      "cell_type": "code",
      "metadata": {
        "id": "LKZ_Vyb2iRxU",
        "outputId": "89559524-1906-4cb7-89d9-b7768ce522b0",
        "colab": {
          "base_uri": "https://localhost:8080/",
          "height": 99
        }
      },
      "source": [
        "winner()"
      ],
      "execution_count": 229,
      "outputs": [
        {
          "output_type": "stream",
          "text": [
            "no winner: -1\n",
            "no winner: -1\n",
            "no winner: -1\n",
            "no winner: -1\n",
            "no winner: -1\n"
          ],
          "name": "stdout"
        }
      ]
    },
    {
      "cell_type": "code",
      "metadata": {
        "id": "sN5ioWoRgmAE",
        "outputId": "4a57318c-75a6-4a5e-cc7a-d4540918ae6f",
        "colab": {
          "base_uri": "https://localhost:8080/",
          "height": 99
        }
      },
      "source": [
        "obs_2()\n"
      ],
      "execution_count": 227,
      "outputs": [
        {
          "output_type": "execute_result",
          "data": {
            "text/plain": [
              "[[1, 1, 0, 2, 2],\n",
              " [1, 1, 0, 2, 2],\n",
              " [2, 2, 2, 2, 2],\n",
              " [2, 2, 2, 2, 2],\n",
              " [2, 2, 2, 0, 0]]"
            ]
          },
          "metadata": {
            "tags": []
          },
          "execution_count": 227
        }
      ]
    },
    {
      "cell_type": "markdown",
      "metadata": {
        "id": "ECnOuj8aAS12"
      },
      "source": [
        "*Exercise 11: (Extra Credit)* Develop a version of the game where one player is the computer. Note that you don't need to do an extensive seach for the best move. You can have the computer simply protect against loosing and otherwise try to win with straight or diagonal patterns."
      ]
    },
    {
      "cell_type": "code",
      "metadata": {
        "id": "Nl-hZOBYAS13"
      },
      "source": [
        "# Write you solution here"
      ],
      "execution_count": null,
      "outputs": []
    },
    {
      "cell_type": "code",
      "metadata": {
        "id": "EulGAuP4AS18"
      },
      "source": [
        "# Test your solution here"
      ],
      "execution_count": null,
      "outputs": []
    }
  ]
}