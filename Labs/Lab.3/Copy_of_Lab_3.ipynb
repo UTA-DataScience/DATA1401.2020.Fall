{
  "nbformat": 4,
  "nbformat_minor": 0,
  "metadata": {
    "kernelspec": {
      "display_name": "Python 3",
      "language": "python",
      "name": "python3"
    },
    "language_info": {
      "codemirror_mode": {
        "name": "ipython",
        "version": 3
      },
      "file_extension": ".py",
      "mimetype": "text/x-python",
      "name": "python",
      "nbconvert_exporter": "python",
      "pygments_lexer": "ipython3",
      "version": "3.8.0"
    },
    "colab": {
      "name": "Copy of Lab.3.ipynb",
      "provenance": []
    }
  },
  "cells": [
    {
      "cell_type": "markdown",
      "metadata": {
        "id": "_jGzat99oZoz"
      },
      "source": [
        "# Lab 3- Tic Tac Toe\n",
        "\n",
        "[![Open In Colab](https://colab.research.google.com/assets/colab-badge.svg)](https://colab.research.google.com/github/UTA-DataScience/DATA1401.2020.Fall/blob/master/Labs/Lab.3/Lab.3.ipynb)\n",
        "\n",
        "In this lab your will build a n x n Tic Tac Toe game. As you do the exercises, make sure your solutions work for any size Tic Tac Toe game. "
      ]
    },
    {
      "cell_type": "markdown",
      "metadata": {
        "id": "pCZYvurioZo0"
      },
      "source": [
        "*Exercise 1:* Write a function that creates an n by n matrix (of list of lists) which will represent the state of a Tie Tac Toe game. Let 0, 1, and 2 represent empty, \"X\", or \"O\".\n"
      ]
    },
    {
      "cell_type": "code",
      "metadata": {
        "id": "GyKnoxY2oZo2"
      },
      "source": [
        "# Write you solution here\n",
        "def make_n_matrix(size):\n",
        "  empty=0\n",
        "  player_1=1\n",
        "  player_2=2\n",
        "  board= list()\n",
        "  for i in range(size):\n",
        "    row=list()\n",
        "    for j in range(size):\n",
        "      row.append(empty)\n",
        "    board.append(row)\n",
        "  return board"
      ],
      "execution_count": null,
      "outputs": []
    },
    {
      "cell_type": "code",
      "metadata": {
        "id": "oMSAZq2NoZo9",
        "outputId": "5d4c8506-6cab-4f2d-cb6b-c688cdecacaf",
        "colab": {
          "base_uri": "https://localhost:8080/",
          "height": 118
        }
      },
      "source": [
        "# Test your solution here\n",
        "make_n_matrix(6)"
      ],
      "execution_count": null,
      "outputs": [
        {
          "output_type": "execute_result",
          "data": {
            "text/plain": [
              "[[0, 0, 0, 0, 0, 0],\n",
              " [0, 0, 0, 0, 0, 0],\n",
              " [0, 0, 0, 0, 0, 0],\n",
              " [0, 0, 0, 0, 0, 0],\n",
              " [0, 0, 0, 0, 0, 0],\n",
              " [0, 0, 0, 0, 0, 0]]"
            ]
          },
          "metadata": {
            "tags": []
          },
          "execution_count": 3
        }
      ]
    },
    {
      "cell_type": "markdown",
      "metadata": {
        "id": "OZlYfoA0oZpD"
      },
      "source": [
        "*Exercise 2:* Write a function that takes a `n` by `n` matrix representing a tic-tac-toe game, and returns -1, 0, 1, or 2 indicating the game is incomplete, the game is a draw, player 1 has won, or player 2 has one, respectively. Here are some example inputs you can use to test your code:"
      ]
    },
    {
      "cell_type": "code",
      "metadata": {
        "id": "-1iH3mj1oZpI"
      },
      "source": [
        "winner_is_2 = [[2, 2, 0],\n",
        "\t[2, 1, 0],\n",
        "\t[2, 1, 1]]\n",
        "\n",
        "winner_is_1 = [[1, 2, 0],\n",
        "\t[2, 1, 0],\n",
        "\t[2, 1, 1]]\n",
        "\n",
        "winner_is_also_1 = [[0, 1, 0],\n",
        "\t[2, 1, 0],\n",
        "\t[2, 1, 1]]\n",
        "\n",
        "no_winner = [[1, 2, 0],\n",
        "\t[2, 1, 0],\n",
        "\t[2, 1, 2]]\n",
        "\n",
        "also_no_winner = [[1, 2, 0],\n",
        "\t[2, 1, 0],\n",
        "\t[2, 1, 0]]"
      ],
      "execution_count": null,
      "outputs": []
    },
    {
      "cell_type": "code",
      "metadata": {
        "id": "Q866S3D7oZpP"
      },
      "source": [
        "# Write you solution here\n",
        "def winner_check(board):\n",
        "  board_list= list(board)\n",
        "  #turning a matrix into list to compare the elements \n",
        "  #counting the elements in the list\n",
        "  count=0\n",
        "  for i in range(0,len(board_list)):\n",
        "    if i==1 or i==2:\n",
        "      count +=1\n",
        "  return (count)\n",
        "  #to start comparing the list must have atleast 5 games played in total\n",
        "  if count>=5:\n",
        "    if board_list[0]==board_list[1]==board_list[2]==1:\n",
        "      print(\"Winner=1!\")\n",
        "    elif board_list[0]==board_list[1]==board_list[2]==2:\n",
        "      print(\"winner==2\")\n",
        "    elif board_list[3]==board_list[4]==board_list[5]==1:\n",
        "      print(\"Winner=1!\")\n",
        "    elif board_list[3]==board_list[4]==board_list[5]==2:\n",
        "      print(\"Winner=2!\")\n",
        "    elif board_list[6]==board_list[7]==board_list[8]==1:\n",
        "      print(\"Winner=1!\")\n",
        "    elif board_list[6]==board_list[7]==board_list[8]==2:\n",
        "      print(\"Winner=2!\")\n",
        "    elif board_list[0]==board_list[3]==board_list[6]==1:\n",
        "      print(\"Winner=1!\")\n",
        "    elif board_list[1]==board_list[4]==board_list[7]==1:\n",
        "      print(\"Winner=1!\")\n",
        "    elif board_list[2]==board_list[5]==board_list[8]==1:\n",
        "      print(\"Winner=1!\")\n",
        "    elif board_list[0]==board_list[4]==board_list[8]==1:\n",
        "      print(\"Winner=1!\")\n",
        "    elif board_list[2]==board_list[4]==board_list[6]==1:\n",
        "      print(\"Winner=1!\")\n",
        "    elif board_list[0]==board_list[3]==board_list[6]==2:\n",
        "      print(\"Winner=2!\")\n",
        "    elif board_list[1]==board_list[4]==board_list[7]==2:\n",
        "      print(\"Winner=2!\")\n",
        "    elif board_list[2]==board_list[5]==board_list[8]==2:\n",
        "      print(\"Winner=2!\")\n",
        "    elif board_list[0]==board_list[4]==board_list[8]==2:\n",
        "      print(\"Winner=2!\")\n",
        "    elif board_list[2]==board_list[4]==board_list[6]==2:\n",
        "      print(\"Winner=2!\")\n",
        "    else:\n",
        "      print(\"its a draw: 0\")\n",
        "  else:\n",
        "    print(\"The game is incomplete!!=-1!\")"
      ],
      "execution_count": null,
      "outputs": []
    },
    {
      "cell_type": "code",
      "metadata": {
        "id": "Ldk4lorVoZpX",
        "outputId": "043e80e6-c59a-427b-e6f0-5af6dc1ced23",
        "colab": {
          "base_uri": "https://localhost:8080/",
          "height": 128
        }
      },
      "source": [
        "# Test your solution here\n",
        "def winner_check([1, 2, 0],\n",
        "\t[2, 1, 0],\n",
        "\t[2, 1, 0])"
      ],
      "execution_count": null,
      "outputs": [
        {
          "output_type": "error",
          "ename": "SyntaxError",
          "evalue": "ignored",
          "traceback": [
            "\u001b[0;36m  File \u001b[0;32m\"<ipython-input-8-046ba605fdbf>\"\u001b[0;36m, line \u001b[0;32m2\u001b[0m\n\u001b[0;31m    def winner_check([1, 2, 0],\u001b[0m\n\u001b[0m                     ^\u001b[0m\n\u001b[0;31mSyntaxError\u001b[0m\u001b[0;31m:\u001b[0m invalid syntax\n"
          ]
        }
      ]
    },
    {
      "cell_type": "markdown",
      "metadata": {
        "id": "wFKxXtd_oZpe"
      },
      "source": [
        "*Exercise 3:* Write a function that takes 2 integers `n` and `m` as input and draws a `n` by `m` game board. For example the following is a 3x3 board:\n",
        "```\n",
        "   --- --- --- \n",
        "  |   |   |   | \n",
        "   --- --- ---  \n",
        "  |   |   |   | \n",
        "   --- --- ---  \n",
        "  |   |   |   | \n",
        "   --- --- --- \n",
        "   ```"
      ]
    },
    {
      "cell_type": "code",
      "metadata": {
        "id": "cu80wyzOoZpf"
      },
      "source": [
        "# Write you solution here\n",
        "def board_structure(n,m):\n",
        "  for n in range(n):\n",
        "    if n%2==1:\n",
        "      rows1= [\"---\"]*(n-1)\n",
        "      print(rows1)\n",
        "    else:\n",
        "      rows2=[\"l\"]*(n-1)\n",
        "      print(rows2)\n",
        "  "
      ],
      "execution_count": null,
      "outputs": []
    },
    {
      "cell_type": "code",
      "metadata": {
        "id": "uTT83IISoZpo",
        "outputId": "03d380fe-69ea-434b-a9f8-26f9ac979fa2",
        "colab": {
          "base_uri": "https://localhost:8080/",
          "height": 34
        }
      },
      "source": [
        "# Test your solution here\n",
        "board_structure(3,3)"
      ],
      "execution_count": null,
      "outputs": [
        {
          "output_type": "stream",
          "text": [
            "[]\n"
          ],
          "name": "stdout"
        }
      ]
    },
    {
      "cell_type": "markdown",
      "metadata": {
        "id": "QrpWg-qVoZpv"
      },
      "source": [
        "*Exercise 4:* Modify exercise 3, so that it takes a matrix of the form from exercise 2 and draws a tic-tac-tie board with \"X\"s and \"O\"s.  "
      ]
    },
    {
      "cell_type": "code",
      "metadata": {
        "id": "cWqKtQDxoZpw"
      },
      "source": [
        "# Write you solution here"
      ],
      "execution_count": null,
      "outputs": []
    },
    {
      "cell_type": "code",
      "metadata": {
        "id": "j-dEUPgKoZp2"
      },
      "source": [
        "# Test your solution here"
      ],
      "execution_count": null,
      "outputs": []
    },
    {
      "cell_type": "markdown",
      "metadata": {
        "id": "a4DngO7PoZp-"
      },
      "source": [
        "*Exercise 5:* Write a function that takes a game board, player number, and `(x,y)` coordinates and places \"X\" or \"O\" in the correct location of the game board. Make sure that you only allow filling previously empty locations. Return `True` or `False` to indicate successful placement of \"X\" or \"O\"."
      ]
    },
    {
      "cell_type": "code",
      "metadata": {
        "id": "Ph1SE-8woZp_"
      },
      "source": [
        "# Write you solution here"
      ],
      "execution_count": null,
      "outputs": []
    },
    {
      "cell_type": "code",
      "metadata": {
        "id": "rM2_E2L8oZqG"
      },
      "source": [
        "# Test your solution here"
      ],
      "execution_count": null,
      "outputs": []
    },
    {
      "cell_type": "markdown",
      "metadata": {
        "id": "N-8T1sgqoZqM"
      },
      "source": [
        "*Exercise 6:* Modify Exercise 4 to show column and row labels so that players can specify location using \"A2\" or \"C1\"."
      ]
    },
    {
      "cell_type": "code",
      "metadata": {
        "id": "amt-O3RSoZqN"
      },
      "source": [
        "# Write you solution here"
      ],
      "execution_count": null,
      "outputs": []
    },
    {
      "cell_type": "code",
      "metadata": {
        "id": "gKOnt7QPoZqU"
      },
      "source": [
        "# Test your solution here"
      ],
      "execution_count": null,
      "outputs": []
    },
    {
      "cell_type": "markdown",
      "metadata": {
        "id": "W6BmhXlEoZqb"
      },
      "source": [
        "*Exercise 7:* Write a function that takes a board, player number, and location specified as in exercise 6 and then calls exercise 5 to correctly modify the board.  "
      ]
    },
    {
      "cell_type": "code",
      "metadata": {
        "id": "93dgegFdoZqc"
      },
      "source": [
        "# Write you solution here"
      ],
      "execution_count": null,
      "outputs": []
    },
    {
      "cell_type": "code",
      "metadata": {
        "id": "DgGJOyomoZqi"
      },
      "source": [
        "# Test your solution here"
      ],
      "execution_count": null,
      "outputs": []
    },
    {
      "cell_type": "markdown",
      "metadata": {
        "id": "26XZZgJMoZqq"
      },
      "source": [
        "*Exercise 8:* Write a function is called with a board and player number, takes input from the player using python's `input`, and modifies the board using your function from exercise 7. Note that you should keep asking for input until you have gotten a valid input that results in a valid move."
      ]
    },
    {
      "cell_type": "code",
      "metadata": {
        "id": "zkjwIwEIoZqr"
      },
      "source": [
        "# Write you solution here"
      ],
      "execution_count": null,
      "outputs": []
    },
    {
      "cell_type": "code",
      "metadata": {
        "id": "Ffc11E82oZqy"
      },
      "source": [
        "# Test your solution here"
      ],
      "execution_count": null,
      "outputs": []
    },
    {
      "cell_type": "markdown",
      "metadata": {
        "id": "-L-NFG4toZq3"
      },
      "source": [
        "*Exercise 9:* Use all of the previous exercises to implement a full tic-tac-toe game, where an appropriate board is drawn, 2 players are repeatedly asked for a location coordinates of where they wish to place a mark, and the game status is checked until a player wins or a draw occurs."
      ]
    },
    {
      "cell_type": "code",
      "metadata": {
        "id": "p5WzvRk4oZq4"
      },
      "source": [
        "# Write you solution here"
      ],
      "execution_count": null,
      "outputs": []
    },
    {
      "cell_type": "code",
      "metadata": {
        "id": "epo7XaaxoZq-"
      },
      "source": [
        "# Test your solution here"
      ],
      "execution_count": null,
      "outputs": []
    },
    {
      "cell_type": "markdown",
      "metadata": {
        "id": "XiNNsHC1oZrD"
      },
      "source": [
        "*Exercise 10:* Test that your game works for 5x5 Tic Tac Toe.  "
      ]
    },
    {
      "cell_type": "code",
      "metadata": {
        "id": "Iz87iT2qoZrE"
      },
      "source": [
        "# Test your solution here"
      ],
      "execution_count": null,
      "outputs": []
    },
    {
      "cell_type": "markdown",
      "metadata": {
        "id": "x-ruOL42oZrL"
      },
      "source": [
        "*Exercise 11: (Extra Credit)* Develop a version of the game where one player is the computer. Note that you don't need to do an extensive seach for the best move. You can have the computer simply protect against loosing and otherwise try to win with straight or diagonal patterns."
      ]
    },
    {
      "cell_type": "code",
      "metadata": {
        "id": "3PAcMjK_oZrN"
      },
      "source": [
        "# Write you solution here"
      ],
      "execution_count": null,
      "outputs": []
    },
    {
      "cell_type": "code",
      "metadata": {
        "id": "KAGgBM6RoZrZ"
      },
      "source": [
        "# Test your solution here"
      ],
      "execution_count": null,
      "outputs": []
    }
  ]
}