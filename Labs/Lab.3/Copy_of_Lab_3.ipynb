{
  "nbformat": 4,
  "nbformat_minor": 0,
  "metadata": {
    "kernelspec": {
      "display_name": "Python 3",
      "language": "python",
      "name": "python3"
    },
    "language_info": {
      "codemirror_mode": {
        "name": "ipython",
        "version": 3
      },
      "file_extension": ".py",
      "mimetype": "text/x-python",
      "name": "python",
      "nbconvert_exporter": "python",
      "pygments_lexer": "ipython3",
      "version": "3.8.0"
    },
    "colab": {
      "name": "Copy of Lab.3.ipynb",
      "provenance": []
    }
  },
  "cells": [
    {
      "cell_type": "markdown",
      "metadata": {
        "id": "g-vSNoU6nvfb"
      },
      "source": [
        "# Lab 3- Tic Tac Toe\n",
        "\n",
        "[![Open In Colab](https://colab.research.google.com/assets/colab-badge.svg)](https://colab.research.google.com/github/UTA-DataScience/DATA1401.2020.Fall/blob/master/Labs/Lab.3/Lab.3.ipynb)\n",
        "\n",
        "In this lab your will build a n x n Tic Tac Toe game. As you do the exercises, make sure your solutions work for any size Tic Tac Toe game. "
      ]
    },
    {
      "cell_type": "markdown",
      "metadata": {
        "id": "bvsR10njnvfh"
      },
      "source": [
        "*Exercise 1:* Write a function that creates an n by n matrix (of list of lists) which will represent the state of a Tie Tac Toe game. Let 0, 1, and 2 represent empty, \"X\", or \"O\".\n"
      ]
    },
    {
      "cell_type": "code",
      "metadata": {
        "id": "fOBBo2eDnvfj"
      },
      "source": [
        "# Write you solution here\n",
        "def ttt(size):\n",
        " p1=\"X\"\n",
        " p2=\"O\"\n",
        " players=[p1,p2]\n",
        " empty=0\n",
        " matrix=list()\n",
        " for i in range(size):\n",
        "    row=list()\n",
        "    for j in range(size):\n",
        "        row.append(empty)\n",
        "        \n",
        "    matrix.append(row)\n",
        "\n",
        " return matrix"
      ],
      "execution_count": null,
      "outputs": []
    },
    {
      "cell_type": "code",
      "metadata": {
        "id": "7fwMcG3anvf4",
        "outputId": "f5718707-73c4-46f8-d36e-3b1443e776df",
        "colab": {
          "base_uri": "https://localhost:8080/",
          "height": 35
        }
      },
      "source": [
        "# Test your solution here\n",
        "ttt(3)"
      ],
      "execution_count": null,
      "outputs": [
        {
          "output_type": "execute_result",
          "data": {
            "text/plain": [
              "[[0, 0, 0], [0, 0, 0], [0, 0, 0]]"
            ]
          },
          "metadata": {
            "tags": []
          },
          "execution_count": 20
        }
      ]
    },
    {
      "cell_type": "markdown",
      "metadata": {
        "id": "LEAUX_VFnvgD"
      },
      "source": [
        "*Exercise 2:* Write a function that takes a `n` by `n` matrix representing a tic-tac-toe game, and returns -1, 0, 1, or 2 indicating the game is incomplete, the game is a draw, player 1 has won, or player 2 has one, respectively. Here are some example inputs you can use to test your code:"
      ]
    },
    {
      "cell_type": "code",
      "metadata": {
        "id": "-9yBxdhjnvgF"
      },
      "source": [
        "winner_is_2 = [[2, 2, 0],\n",
        "\t[2, 1, 0],\n",
        "\t[2, 1, 1]]\n",
        "\n",
        "winner_is_1 = [[1, 2, 0],\n",
        "\t[2, 1, 0],\n",
        "\t[2, 1, 1]]\n",
        "\n",
        "winner_is_also_1 = [[0, 1, 0],\n",
        "\t[2, 1, 0],\n",
        "\t[2, 1, 1]]\n",
        "\n",
        "no_winner = [[1, 2, 0],\n",
        "\t[2, 1, 0],\n",
        "\t[2, 1, 2]]\n",
        "\n",
        "also_no_winner = [[1, 2, 0],\n",
        "\t[2, 1, 0],\n",
        "\t[2, 1, 0]]"
      ],
      "execution_count": 211,
      "outputs": []
    },
    {
      "cell_type": "code",
      "metadata": {
        "id": "EQ1OodbznvgS"
      },
      "source": [
        "# Write you solution here\n",
        "def get_diag(matrix,d=0):\n",
        "    size=len(matrix)\n",
        "    if d == 0:\n",
        "      return [matrix[i][i] for i in range(size)]\n",
        "    else:\n",
        "      return [matrix[i][size-i-1] for i in range(size)]\n",
        "\n",
        "def get_col(matrix,d):\n",
        "    size=len(matrix)\n",
        "    \n",
        "    for row in range(size):\n",
        "      w=True\n",
        "\n",
        "      for col in range(size):\n",
        "        if matrix[col][row] !=d:\n",
        "          w=False\n",
        "          continue\n",
        "      if w==True:\n",
        "            if d==1:\n",
        "              return 1\n",
        "            if d==2:\n",
        "              return 2\n",
        "            if d==0:\n",
        "              return 0    \n",
        "      else:\n",
        "        while col==' ' or row ==' ':\n",
        "          return -1\n",
        "      \n",
        "\n",
        "\n",
        "def get_row(matrix,d):\n",
        "    size=len(matrix)\n",
        "    \n",
        "    for row in range(size):\n",
        "      w=True\n",
        "\n",
        "      for col in range(size):\n",
        "        if matrix[row][col] !=d:\n",
        "          w=False\n",
        "          continue\n",
        "      if w==True:\n",
        "            if d==1:\n",
        "              return 1\n",
        "            if d==2:\n",
        "              return 2\n",
        "            if d==0:\n",
        "              return 0    \n",
        "      else:\n",
        "        while col==' ' or row ==' ':\n",
        "          return -1\n",
        "      \n",
        "\n",
        "    \n"
      ],
      "execution_count": 314,
      "outputs": []
    },
    {
      "cell_type": "code",
      "metadata": {
        "id": "pbzOyEfjnvgd",
        "outputId": "6c96bf5e-9b64-4523-c243-ed259d34aa7e",
        "colab": {
          "base_uri": "https://localhost:8080/",
          "height": 88
        }
      },
      "source": [
        "# Test column win\n",
        "m=winner_is_2\n",
        "print(m)\n",
        "print(get_col(m,0))\n",
        "print(get_col(m,1))\n",
        "print(get_col(m,2))"
      ],
      "execution_count": 312,
      "outputs": [
        {
          "output_type": "stream",
          "text": [
            "[[2, 2, 0], [2, 1, 0], [2, 1, 1]]\n",
            "None\n",
            "None\n",
            "2\n"
          ],
          "name": "stdout"
        }
      ]
    },
    {
      "cell_type": "code",
      "metadata": {
        "id": "X_LRmOoqcP8-",
        "outputId": "1ee1967d-fb10-4afc-af67-1c7ff46fb4c3",
        "colab": {
          "base_uri": "https://localhost:8080/",
          "height": 381
        }
      },
      "source": [
        "#Test row win\n",
        "m=winner_is_also_1\n",
        "print(m)\n",
        "print(get_row(m,0))\n",
        "print(get_row(m,1))\n",
        "print(get_row(m,2))"
      ],
      "execution_count": 315,
      "outputs": [
        {
          "output_type": "stream",
          "text": [
            "[[0, 1, 0], [2, 1, 0], [2, 1, 1]]\n"
          ],
          "name": "stdout"
        },
        {
          "output_type": "error",
          "ename": "IndexError",
          "evalue": "ignored",
          "traceback": [
            "\u001b[0;31m---------------------------------------------------------------------------\u001b[0m",
            "\u001b[0;31mIndexError\u001b[0m                                Traceback (most recent call last)",
            "\u001b[0;32m<ipython-input-315-d79434703431>\u001b[0m in \u001b[0;36m<module>\u001b[0;34m()\u001b[0m\n\u001b[1;32m      2\u001b[0m \u001b[0mm\u001b[0m\u001b[0;34m=\u001b[0m\u001b[0mwinner_is_also_1\u001b[0m\u001b[0;34m\u001b[0m\u001b[0;34m\u001b[0m\u001b[0m\n\u001b[1;32m      3\u001b[0m \u001b[0mprint\u001b[0m\u001b[0;34m(\u001b[0m\u001b[0mm\u001b[0m\u001b[0;34m)\u001b[0m\u001b[0;34m\u001b[0m\u001b[0;34m\u001b[0m\u001b[0m\n\u001b[0;32m----> 4\u001b[0;31m \u001b[0mprint\u001b[0m\u001b[0;34m(\u001b[0m\u001b[0mget_row\u001b[0m\u001b[0;34m(\u001b[0m\u001b[0mm\u001b[0m\u001b[0;34m,\u001b[0m\u001b[0;36m0\u001b[0m\u001b[0;34m)\u001b[0m\u001b[0;34m)\u001b[0m\u001b[0;34m\u001b[0m\u001b[0;34m\u001b[0m\u001b[0m\n\u001b[0m\u001b[1;32m      5\u001b[0m \u001b[0mprint\u001b[0m\u001b[0;34m(\u001b[0m\u001b[0mget_row\u001b[0m\u001b[0;34m(\u001b[0m\u001b[0mm\u001b[0m\u001b[0;34m,\u001b[0m\u001b[0;36m1\u001b[0m\u001b[0;34m)\u001b[0m\u001b[0;34m)\u001b[0m\u001b[0;34m\u001b[0m\u001b[0;34m\u001b[0m\u001b[0m\n\u001b[1;32m      6\u001b[0m \u001b[0mprint\u001b[0m\u001b[0;34m(\u001b[0m\u001b[0mget_row\u001b[0m\u001b[0;34m(\u001b[0m\u001b[0mm\u001b[0m\u001b[0;34m,\u001b[0m\u001b[0;36m2\u001b[0m\u001b[0;34m)\u001b[0m\u001b[0;34m)\u001b[0m\u001b[0;34m\u001b[0m\u001b[0;34m\u001b[0m\u001b[0m\n",
            "\u001b[0;32m<ipython-input-314-f3933dd53a0b>\u001b[0m in \u001b[0;36mget_row\u001b[0;34m(matrix, d)\u001b[0m\n\u001b[1;32m     37\u001b[0m \u001b[0;34m\u001b[0m\u001b[0m\n\u001b[1;32m     38\u001b[0m       \u001b[0;32mfor\u001b[0m \u001b[0mcol\u001b[0m \u001b[0;32min\u001b[0m \u001b[0mrange\u001b[0m\u001b[0;34m(\u001b[0m\u001b[0msize\u001b[0m\u001b[0;34m)\u001b[0m\u001b[0;34m:\u001b[0m\u001b[0;34m\u001b[0m\u001b[0;34m\u001b[0m\u001b[0m\n\u001b[0;32m---> 39\u001b[0;31m         \u001b[0;32mif\u001b[0m \u001b[0mmatrix\u001b[0m\u001b[0;34m[\u001b[0m\u001b[0mrow\u001b[0m\u001b[0;34m*\u001b[0m\u001b[0mcol\u001b[0m\u001b[0;34m]\u001b[0m \u001b[0;34m!=\u001b[0m\u001b[0md\u001b[0m\u001b[0;34m:\u001b[0m\u001b[0;34m\u001b[0m\u001b[0;34m\u001b[0m\u001b[0m\n\u001b[0m\u001b[1;32m     40\u001b[0m           \u001b[0mw\u001b[0m\u001b[0;34m=\u001b[0m\u001b[0;32mFalse\u001b[0m\u001b[0;34m\u001b[0m\u001b[0;34m\u001b[0m\u001b[0m\n\u001b[1;32m     41\u001b[0m           \u001b[0;32mcontinue\u001b[0m\u001b[0;34m\u001b[0m\u001b[0;34m\u001b[0m\u001b[0m\n",
            "\u001b[0;31mIndexError\u001b[0m: list index out of range"
          ]
        }
      ]
    },
    {
      "cell_type": "code",
      "metadata": {
        "id": "thIQyQ3TY9dg",
        "outputId": "6c52e84c-b1e3-4534-ba49-ab01d64195e7",
        "colab": {
          "base_uri": "https://localhost:8080/",
          "height": 70
        }
      },
      "source": [
        "# Test diagonal win\n",
        "m=winner_is_1\n",
        "print(m)\n",
        "print(get_diag(m,0))\n",
        "print(get_diag(m,1))\n"
      ],
      "execution_count": 251,
      "outputs": [
        {
          "output_type": "stream",
          "text": [
            "[[1, 2, 0], [2, 1, 0], [2, 1, 1]]\n",
            "[1, 1, 1]\n",
            "[0, 1, 2]\n"
          ],
          "name": "stdout"
        }
      ]
    },
    {
      "cell_type": "code",
      "metadata": {
        "id": "uQm54sYr7Scj",
        "outputId": "b2917096-faad-46e7-e38b-4b61fd336f7c",
        "colab": {
          "base_uri": "https://localhost:8080/",
          "height": 35
        }
      },
      "source": [
        "set(get_diag(m,0))"
      ],
      "execution_count": 252,
      "outputs": [
        {
          "output_type": "execute_result",
          "data": {
            "text/plain": [
              "{1}"
            ]
          },
          "metadata": {
            "tags": []
          },
          "execution_count": 252
        }
      ]
    },
    {
      "cell_type": "code",
      "metadata": {
        "id": "m9MB9A3s7ZUM",
        "outputId": "4bff2a9b-abb5-40af-8da6-b0340c28b2b6",
        "colab": {
          "base_uri": "https://localhost:8080/",
          "height": 35
        }
      },
      "source": [
        "len(set(get_diag(m,0)))"
      ],
      "execution_count": 253,
      "outputs": [
        {
          "output_type": "execute_result",
          "data": {
            "text/plain": [
              "1"
            ]
          },
          "metadata": {
            "tags": []
          },
          "execution_count": 253
        }
      ]
    },
    {
      "cell_type": "markdown",
      "metadata": {
        "id": "grmia2cMnvgo"
      },
      "source": [
        "*Exercise 3:* Write a function that takes 2 integers `n` and `m` as input and draws a `n` by `m` game board. For example the following is a 3x3 board:\n",
        "```\n",
        "   --- --- --- \n",
        "  |   |   |   | \n",
        "   --- --- ---  \n",
        "  |   |   |   | \n",
        "   --- --- ---  \n",
        "  |   |   |   | \n",
        "   --- --- --- \n",
        "   ```"
      ]
    },
    {
      "cell_type": "code",
      "metadata": {
        "id": "e_2_TLs7nvgv"
      },
      "source": [
        "# Write you solution here\n",
        "def draw_board(n,m):\n",
        "  #empty board\n",
        "    v = '|   '\n",
        "    h = ' ---'\n",
        "    var=0\n",
        "    for i in range(0,(n*2)+1):\n",
        "      if n==m:\n",
        "        if i%2==0:\n",
        "            var =print(h*n)\n",
        "        else:\n",
        "            var=print(v*(m+1))\n",
        "      if n!=m:\n",
        "        if i%2==0:\n",
        "            var =print(h*(n+1))\n",
        "        else:\n",
        "            var=print(v*(m+1))\n",
        "    return var\n"
      ],
      "execution_count": 159,
      "outputs": []
    },
    {
      "cell_type": "code",
      "metadata": {
        "id": "xNEAFbp1nvhA",
        "outputId": "9bf61638-8e9f-4d6e-d6c1-695ca9de8dae",
        "colab": {
          "base_uri": "https://localhost:8080/",
          "height": 266
        }
      },
      "source": [
        "# Test your solution here\n",
        "draw_board(3,3)\n",
        "draw_board(3,4)"
      ],
      "execution_count": 160,
      "outputs": [
        {
          "output_type": "stream",
          "text": [
            " --- --- ---\n",
            "|   |   |   |   \n",
            " --- --- ---\n",
            "|   |   |   |   \n",
            " --- --- ---\n",
            "|   |   |   |   \n",
            " --- --- ---\n",
            " --- --- --- ---\n",
            "|   |   |   |   |   \n",
            " --- --- --- ---\n",
            "|   |   |   |   |   \n",
            " --- --- --- ---\n",
            "|   |   |   |   |   \n",
            " --- --- --- ---\n"
          ],
          "name": "stdout"
        }
      ]
    },
    {
      "cell_type": "markdown",
      "metadata": {
        "id": "2UazBtPynvhP"
      },
      "source": [
        "*Exercise 4:* Modify exercise 3, so that it takes a matrix of the form from exercise 2 and draws a tic-tac-tie board with \"X\"s and \"O\"s.  "
      ]
    },
    {
      "cell_type": "code",
      "metadata": {
        "id": "EgoTWY6zdT4O"
      },
      "source": [
        "# Modified matrixes from exercise 2:\n",
        "winner_is_p2 = [['2', '2', '0'],\n",
        "\t              ['2', '1', '0'],\n",
        "\t              ['2', '1', '1']]\n",
        "\n",
        "winner_is_p1 = [['1', '2', '0'],\n",
        "\t              ['2', '1', '0'],\n",
        "\t              ['2', '1', '1']]\n",
        "\n",
        "winner_is_also_p1 = [['0', '1', '0'],\n",
        "\t                   ['2', '1', '0'],\n",
        "\t                   ['2', '1', '1']] \n",
        "\n",
        "\n",
        "no_win = [['1', '2', '0'],\n",
        "\t        ['2', '1', '0'],\n",
        "\t        ['2', '1', '2']]\n",
        "\n",
        "also_no_win = [['1', '2', '0'],\n",
        "\t             ['2', '1', '0'],\n",
        "\t             ['2', '1', '0']]\n",
        "               "
      ],
      "execution_count": 166,
      "outputs": []
    },
    {
      "cell_type": "code",
      "metadata": {
        "id": "fbMpF7DiqqKc"
      },
      "source": [
        "def design(board):\n",
        "    linums=[\"| \"+\" | \".join(i) for i in board]\n",
        "    slinums=[\" | \\n --- --- ---\\n\".join(linums)]\n",
        "\n",
        "    print(\" \\n --- --- ---\")\n",
        "    print(\"\\n --- --- ---\".join(slinums),\"|\")\n",
        "    print(\" --- --- ---\\n\")"
      ],
      "execution_count": 201,
      "outputs": []
    },
    {
      "cell_type": "code",
      "metadata": {
        "id": "6yjfz68T1oSy"
      },
      "source": [
        "def db(n,m):\n",
        "  #empty board\n",
        "    v = '|   '\n",
        "    h = ' ---'\n",
        "    var=0\n",
        "    for i in range(0,(n*2)+1):\n",
        "      if n==m:\n",
        "        if i%2==0:\n",
        "            var =print(h*n)\n",
        "        else:\n",
        "            var=v*(m+1)\n",
        "      if n!=m:\n",
        "        if i%2==0:\n",
        "            var =print(h*(n+1))\n",
        "        else:\n",
        "            var=print(v*(m+1))\n",
        "    return var"
      ],
      "execution_count": null,
      "outputs": []
    },
    {
      "cell_type": "code",
      "metadata": {
        "id": "TAvEfyptnvhR",
        "outputId": "aaae68bd-ece4-49ca-c9d8-a66b9908afdb",
        "colab": {
          "base_uri": "https://localhost:8080/",
          "height": 70
        }
      },
      "source": [
        "# Write you solution here\n",
        "def insertLetter(board,n):\n",
        "    py1='X'\n",
        "    py2='O'\n",
        "    players=[py1, py2]\n",
        "    empty=0\n",
        "\n",
        "    print(\"\\nWith X's and O's\")\n",
        "    for i in range(0,(n*n):\n",
        "      if board[1][1] ==p1:\n",
        "         board[1][1]= \"X\"\n",
        "         return board\n",
        "\n",
        "      if board[1][2] ==p1:\n",
        "         board[1][2]= \"X\"\n",
        "         return board\n",
        "      if board[1][3] ==p1:\n",
        "         board[1][3]= \"X\"\n",
        "         return board\n",
        "      if board[1][1] ==p2:\n",
        "         board[1][1]= \"O\"\n",
        "         return board\n",
        "      if board[1][2] ==p2:\n",
        "         board[1][2]= \"O\"\n",
        "         return board\n",
        "\n",
        "      if board[1][3] ==p2:\n",
        "         board[1][3]= \"O\"\n",
        "         return board\n",
        "\n",
        "      if board[1][1] ==0:\n",
        "         board[1][1]= \"0\"\n",
        "         return board\n",
        "\n",
        "      if board[1][2] ==0:\n",
        "         board[1][2]= \"0\"\n",
        "         return board\n",
        "\n",
        "      if board[1][3] ==0:\n",
        "         board[1][3]= \"0\"\n",
        "         return board\n",
        "\n",
        "    return board \n",
        "\n",
        "        \n",
        "print(*board, sep=\" \\n\")"
      ],
      "execution_count": 321,
      "outputs": [
        {
          "output_type": "stream",
          "text": [
            "['1', '2', '0'] \n",
            "['2', '1', '0'] \n",
            "['2', '1', '1']\n"
          ],
          "name": "stdout"
        }
      ]
    },
    {
      "cell_type": "code",
      "metadata": {
        "id": "IQgqfD3w4xPB"
      },
      "source": [
        "board=winner_is_p1"
      ],
      "execution_count": 167,
      "outputs": []
    },
    {
      "cell_type": "code",
      "metadata": {
        "id": "5ZV7Cfs-N1wA",
        "outputId": "32b41502-7b81-4cb0-d790-d07096855d8b",
        "colab": {
          "base_uri": "https://localhost:8080/",
          "height": 559
        }
      },
      "source": [
        "board=winner_is_p1\n",
        "design(board)\n",
        "insertLetter(board)\n",
        "\n",
        "print(\"\\nWith X's and O's\")\n",
        "design(board)"
      ],
      "execution_count": 318,
      "outputs": [
        {
          "output_type": "stream",
          "text": [
            " \n",
            " --- --- ---\n",
            "| 1 | 2 | 0 | \n",
            " --- --- ---\n",
            "| 2 | 1 | 0 | \n",
            " --- --- ---\n",
            "| 2 | 1 | 1 |\n",
            " --- --- ---\n",
            "\n",
            "\n",
            "With X's and O's\n"
          ],
          "name": "stdout"
        },
        {
          "output_type": "error",
          "ename": "TypeError",
          "evalue": "ignored",
          "traceback": [
            "\u001b[0;31m---------------------------------------------------------------------------\u001b[0m",
            "\u001b[0;31mTypeError\u001b[0m                                 Traceback (most recent call last)",
            "\u001b[0;32m<ipython-input-318-303f45cea657>\u001b[0m in \u001b[0;36m<module>\u001b[0;34m()\u001b[0m\n\u001b[1;32m      1\u001b[0m \u001b[0mboard\u001b[0m\u001b[0;34m=\u001b[0m\u001b[0mwinner_is_p1\u001b[0m\u001b[0;34m\u001b[0m\u001b[0;34m\u001b[0m\u001b[0m\n\u001b[1;32m      2\u001b[0m \u001b[0mdesign\u001b[0m\u001b[0;34m(\u001b[0m\u001b[0mboard\u001b[0m\u001b[0;34m)\u001b[0m\u001b[0;34m\u001b[0m\u001b[0;34m\u001b[0m\u001b[0m\n\u001b[0;32m----> 3\u001b[0;31m \u001b[0minsertLetter\u001b[0m\u001b[0;34m(\u001b[0m\u001b[0mboard\u001b[0m\u001b[0;34m)\u001b[0m\u001b[0;34m\u001b[0m\u001b[0;34m\u001b[0m\u001b[0m\n\u001b[0m\u001b[1;32m      4\u001b[0m \u001b[0;34m\u001b[0m\u001b[0m\n\u001b[1;32m      5\u001b[0m \u001b[0mprint\u001b[0m\u001b[0;34m(\u001b[0m\u001b[0;34m\"\\nWith X's and O's\"\u001b[0m\u001b[0;34m)\u001b[0m\u001b[0;34m\u001b[0m\u001b[0;34m\u001b[0m\u001b[0m\n",
            "\u001b[0;32m<ipython-input-317-76586f449367>\u001b[0m in \u001b[0;36minsertLetter\u001b[0;34m(board)\u001b[0m\n\u001b[1;32m      7\u001b[0m     \u001b[0mprint\u001b[0m\u001b[0;34m(\u001b[0m\u001b[0;34m\"\\nWith X's and O's\"\u001b[0m\u001b[0;34m)\u001b[0m\u001b[0;34m\u001b[0m\u001b[0;34m\u001b[0m\u001b[0m\n\u001b[1;32m      8\u001b[0m     \u001b[0;32mfor\u001b[0m \u001b[0mi\u001b[0m \u001b[0;32min\u001b[0m \u001b[0mboard\u001b[0m\u001b[0;34m:\u001b[0m\u001b[0;34m\u001b[0m\u001b[0;34m\u001b[0m\u001b[0m\n\u001b[0;32m----> 9\u001b[0;31m       \u001b[0;32mif\u001b[0m \u001b[0mboard\u001b[0m\u001b[0;34m[\u001b[0m\u001b[0mi\u001b[0m\u001b[0;34m]\u001b[0m\u001b[0;34m[\u001b[0m\u001b[0mi\u001b[0m\u001b[0;34m]\u001b[0m \u001b[0;34m==\u001b[0m\u001b[0mp1\u001b[0m\u001b[0;34m:\u001b[0m\u001b[0;34m\u001b[0m\u001b[0;34m\u001b[0m\u001b[0m\n\u001b[0m\u001b[1;32m     10\u001b[0m          \u001b[0mboard\u001b[0m\u001b[0;34m[\u001b[0m\u001b[0mi\u001b[0m\u001b[0;34m]\u001b[0m\u001b[0;34m[\u001b[0m\u001b[0mi\u001b[0m\u001b[0;34m]\u001b[0m\u001b[0;34m=\u001b[0m \u001b[0;34m\"X\"\u001b[0m\u001b[0;34m\u001b[0m\u001b[0;34m\u001b[0m\u001b[0m\n\u001b[1;32m     11\u001b[0m          \u001b[0;32mreturn\u001b[0m \u001b[0mboard\u001b[0m\u001b[0;34m\u001b[0m\u001b[0;34m\u001b[0m\u001b[0m\n",
            "\u001b[0;31mTypeError\u001b[0m: list indices must be integers or slices, not list"
          ]
        }
      ]
    },
    {
      "cell_type": "markdown",
      "metadata": {
        "id": "hSt0GwsYnviH"
      },
      "source": [
        "*Exercise 5:* Write a function that takes a game board, player number, and `(x,y)` coordinates and places \"X\" or \"O\" in the correct location of the game board. Make sure that you only allow filling previously empty locations. Return `True` or `False` to indicate successful placement of \"X\" or \"O\"."
      ]
    },
    {
      "cell_type": "code",
      "metadata": {
        "id": "XMHr4xAPnviL"
      },
      "source": [
        "# Write you solution here\n",
        "def possibility(board,pnum,x,y):\n",
        "    m = [] \n",
        "      \n",
        "    for i in range(len(board)): \n",
        "        for j in range(len(board)): \n",
        "              \n",
        "            if board[i][j] == 0: \n",
        "                l.append((i, j)) \n",
        "    return(m) \n",
        "  "
      ],
      "execution_count": 242,
      "outputs": []
    },
    {
      "cell_type": "code",
      "metadata": {
        "id": "nHPq3VTMnvi2"
      },
      "source": [
        "# Test your solution here"
      ],
      "execution_count": null,
      "outputs": []
    },
    {
      "cell_type": "markdown",
      "metadata": {
        "id": "2AEBLbB5nvn3"
      },
      "source": [
        "*Exercise 6:* Modify Exercise 4 to show column and row labels so that players can specify location using \"A2\" or \"C1\"."
      ]
    },
    {
      "cell_type": "code",
      "metadata": {
        "id": "DMcuh31Qnvn6"
      },
      "source": [
        "# Write you solution here\n",
        "#lec15 shows labels"
      ],
      "execution_count": null,
      "outputs": []
    },
    {
      "cell_type": "code",
      "metadata": {
        "id": "jG5_3UxInvoH"
      },
      "source": [
        "# Test your solution here"
      ],
      "execution_count": null,
      "outputs": []
    },
    {
      "cell_type": "markdown",
      "metadata": {
        "id": "JIiihDBKnvoX"
      },
      "source": [
        "*Exercise 7:* Write a function that takes a board, player number, and location specified as in exercise 6 and then calls exercise 5 to correctly modify the board.  "
      ]
    },
    {
      "cell_type": "code",
      "metadata": {
        "id": "c7gBAW0rnvoZ"
      },
      "source": [
        "# Write you solution here"
      ],
      "execution_count": null,
      "outputs": []
    },
    {
      "cell_type": "code",
      "metadata": {
        "id": "fRtfESnNnvoh"
      },
      "source": [
        "# Test your solution here"
      ],
      "execution_count": null,
      "outputs": []
    },
    {
      "cell_type": "markdown",
      "metadata": {
        "id": "T_YwdA5Knvos"
      },
      "source": [
        "*Exercise 8:* Write a function is called with a board and player number, takes input from the player using python's `input`, and modifies the board using your function from exercise 7. Note that you should keep asking for input until you have gotten a valid input that results in a valid move."
      ]
    },
    {
      "cell_type": "code",
      "metadata": {
        "id": "sBw68eTTnvot"
      },
      "source": [
        "# Write you solution here"
      ],
      "execution_count": null,
      "outputs": []
    },
    {
      "cell_type": "code",
      "metadata": {
        "id": "Q9gwPR9Znvo4"
      },
      "source": [
        "# Test your solution here"
      ],
      "execution_count": null,
      "outputs": []
    },
    {
      "cell_type": "markdown",
      "metadata": {
        "id": "3c8U0SgonvpD"
      },
      "source": [
        "*Exercise 9:* Use all of the previous exercises to implement a full tic-tac-toe game, where an appropriate board is drawn, 2 players are repeatedly asked for a location coordinates of where they wish to place a mark, and the game status is checked until a player wins or a draw occurs."
      ]
    },
    {
      "cell_type": "code",
      "metadata": {
        "id": "P1MUxrMunvpE"
      },
      "source": [
        "# Write you solution here"
      ],
      "execution_count": null,
      "outputs": []
    },
    {
      "cell_type": "code",
      "metadata": {
        "id": "kbN7kEoDnvpM"
      },
      "source": [
        "# Test your solution here"
      ],
      "execution_count": null,
      "outputs": []
    },
    {
      "cell_type": "markdown",
      "metadata": {
        "id": "_q4TlurPnvpa"
      },
      "source": [
        "*Exercise 10:* Test that your game works for 5x5 Tic Tac Toe.  "
      ]
    },
    {
      "cell_type": "code",
      "metadata": {
        "id": "TOTWGTWInvpb"
      },
      "source": [
        "# Test your solution here"
      ],
      "execution_count": null,
      "outputs": []
    },
    {
      "cell_type": "markdown",
      "metadata": {
        "id": "58Vtn_gqnvpq"
      },
      "source": [
        "*Exercise 11: (Extra Credit)* Develop a version of the game where one player is the computer. Note that you don't need to do an extensive seach for the best move. You can have the computer simply protect against loosing and otherwise try to win with straight or diagonal patterns."
      ]
    },
    {
      "cell_type": "code",
      "metadata": {
        "id": "eFcLtP6bnvps"
      },
      "source": [
        "# Write you solution here"
      ],
      "execution_count": null,
      "outputs": []
    },
    {
      "cell_type": "code",
      "metadata": {
        "id": "PXZSk8Zynvp_"
      },
      "source": [
        "# Test your solution here"
      ],
      "execution_count": null,
      "outputs": []
    }
  ]
}