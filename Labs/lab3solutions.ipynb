{
  "nbformat": 4,
  "nbformat_minor": 0,
  "metadata": {
    "kernelspec": {
      "display_name": "Python 3",
      "language": "python",
      "name": "python3"
    },
    "language_info": {
      "codemirror_mode": {
        "name": "ipython",
        "version": 3
      },
      "file_extension": ".py",
      "mimetype": "text/x-python",
      "name": "python",
      "nbconvert_exporter": "python",
      "pygments_lexer": "ipython3",
      "version": "3.8.0"
    },
    "colab": {
      "name": "lab3solutions.ipynb",
      "provenance": []
    }
  },
  "cells": [
    {
      "cell_type": "markdown",
      "metadata": {
        "id": "_LmLa-ZTrbue"
      },
      "source": [
        "# Lab 3- Tic Tac Toe\n",
        "\n",
        "[![Open In Colab](https://colab.research.google.com/assets/colab-badge.svg)](https://colab.research.google.com/github/UTA-DataScience/DATA1401.2020.Fall/blob/master/Labs/Lab.3/Lab.3.ipynb)\n",
        "\n",
        "In this lab your will build a n x n Tic Tac Toe game. As you do the exercises, make sure your solutions work for any size Tic Tac Toe game. "
      ]
    },
    {
      "cell_type": "markdown",
      "metadata": {
        "id": "VUMwJkgHrbuf"
      },
      "source": [
        "*Exercise 1:* Write a function that creates an n by n matrix (of list of lists) which will represent the state of a Tie Tac Toe game. Let 0, 1, and 2 represent empty, \"X\", or \"O\".\n"
      ]
    },
    {
      "cell_type": "code",
      "metadata": {
        "id": "JRL1Uzyurbug"
      },
      "source": [
        "#Empty Game Board\n",
        "empty = 0\n",
        "player1 = 1\n",
        "player2 = 2\n",
        "playerstate = {0: \" \", 1: \"X\", 2: \"O\"}\n",
        "\n",
        "def gameboard(n=3):\n",
        "  return [[empty] * n for i in range(n)]"
      ],
      "execution_count": 1,
      "outputs": []
    },
    {
      "cell_type": "code",
      "metadata": {
        "id": "d3IY1eFbrbum",
        "outputId": "620edd1f-f9dc-404d-c63c-9d6a90472853",
        "colab": {
          "base_uri": "https://localhost:8080/",
          "height": 34
        }
      },
      "source": [
        "print(gameboard())"
      ],
      "execution_count": 2,
      "outputs": [
        {
          "output_type": "stream",
          "text": [
            "[[0, 0, 0], [0, 0, 0], [0, 0, 0]]\n"
          ],
          "name": "stdout"
        }
      ]
    },
    {
      "cell_type": "markdown",
      "metadata": {
        "id": "pn8jfYucrbur"
      },
      "source": [
        "*Exercise 2:* Write a function that takes a `n` by `n` matrix representing a tic-tac-toe game, and returns -1, 0, 1, or 2 indicating the game is incomplete, the game is a draw, player 1 has won, or player 2 has one, respectively. Here are some example inputs you can use to test your code:"
      ]
    },
    {
      "cell_type": "code",
      "metadata": {
        "id": "EsohDeeGrbus"
      },
      "source": [
        "winner_is_2 = [[2, 2, 0],\n",
        "\t[2, 1, 0],\n",
        "\t[2, 1, 1]]\n",
        "\n",
        "winner_is_1 = [[1, 2, 0],\n",
        "\t[2, 1, 0],\n",
        "\t[2, 1, 1]]\n",
        "\n",
        "winner_is_also_1 = [[0, 1, 0],\n",
        "\t[2, 1, 0],\n",
        "\t[2, 1, 1]]\n",
        "\n",
        "no_winner = [[1, 2, 0],\n",
        "\t[2, 1, 0],\n",
        "\t[2, 1, 2]]\n",
        "\n",
        "also_no_winner = [[1, 2, 0],\n",
        "\t[2, 1, 0],\n",
        "\t[2, 1, 0]]"
      ],
      "execution_count": 3,
      "outputs": []
    },
    {
      "cell_type": "code",
      "metadata": {
        "id": "N9zQuwdGrbuw"
      },
      "source": [
        "\n",
        "def checkGrid(board):\n",
        "  winner = [row for row in board] \n",
        "  winner += [list(row) for row in zip(*board)] \n",
        "  winner += [[board[i][i] for i in range(len(board))]] \n",
        "  winner += [[board[len(board) - 1 - i][i] for i in range(len(board))]] \n",
        "  if [1] * len(board) in winner:\n",
        "    return 1\n",
        "  elif [2] * len(board) in winner:\n",
        "    return 2\n",
        "  elif True in [board[i][j] == 0 for i in range(len(board)) for j in range(len(board))]:\n",
        "    return 0"
      ],
      "execution_count": 4,
      "outputs": []
    },
    {
      "cell_type": "code",
      "metadata": {
        "id": "hXB-Bo7urbu1",
        "outputId": "6d38660c-281a-4a77-983b-8cc00f06a1c5",
        "colab": {
          "base_uri": "https://localhost:8080/",
          "height": 102
        }
      },
      "source": [
        "print(checkGrid(winner_is_1))\n",
        "print(checkGrid(winner_is_also_1))\n",
        "print(checkGrid(winner_is_2))\n",
        "print(checkGrid(no_winner))\n",
        "print(checkGrid(also_no_winner))"
      ],
      "execution_count": 5,
      "outputs": [
        {
          "output_type": "stream",
          "text": [
            "1\n",
            "1\n",
            "2\n",
            "0\n",
            "0\n"
          ],
          "name": "stdout"
        }
      ]
    },
    {
      "cell_type": "markdown",
      "metadata": {
        "id": "D402Aw0Grbu5"
      },
      "source": [
        "*Exercise 3:* Write a function that takes 2 integers `n` and `m` as input and draws a `n` by `m` game board. For example the following is a 3x3 board:\n",
        "```\n",
        "   --- --- --- \n",
        "  |   |   |   | \n",
        "   --- --- ---  \n",
        "  |   |   |   | \n",
        "   --- --- ---  \n",
        "  |   |   |   | \n",
        "   --- --- --- \n",
        "   ```"
      ]
    },
    {
      "cell_type": "code",
      "metadata": {
        "id": "w3WtBa8krbu6"
      },
      "source": [
        "def draw_matrix(m, n):\n",
        "  for row in range(m):\n",
        "    line_1 = \"\"\n",
        "    line_2 = \"\"\n",
        "    for col in range(n):\n",
        "      line_1 += \" ---\"\n",
        "      line_2 += \"|   \"\n",
        "    line_2 += \"|\"\n",
        "    print(line_1)\n",
        "    print(line_2)\n",
        "  bottom = \"\"\n",
        "  for col in range(n):\n",
        "    bottom += \" ---\"\n",
        "  print(bottom)\n",
        "\n"
      ],
      "execution_count": 6,
      "outputs": []
    },
    {
      "cell_type": "code",
      "metadata": {
        "id": "AusIUu9QoMGc",
        "outputId": "3f0f5495-efc8-4d30-fa9a-9454b5493819",
        "colab": {
          "base_uri": "https://localhost:8080/",
          "height": 204
        }
      },
      "source": [
        "draw_matrix(5,2)"
      ],
      "execution_count": 7,
      "outputs": [
        {
          "output_type": "stream",
          "text": [
            " --- ---\n",
            "|   |   |\n",
            " --- ---\n",
            "|   |   |\n",
            " --- ---\n",
            "|   |   |\n",
            " --- ---\n",
            "|   |   |\n",
            " --- ---\n",
            "|   |   |\n",
            " --- ---\n"
          ],
          "name": "stdout"
        }
      ]
    },
    {
      "cell_type": "markdown",
      "metadata": {
        "id": "ygdVnRMwrbvE"
      },
      "source": [
        "*Exercise 4:* Modify exercise 3, so that it takes a matrix of the form from exercise 2 and draws a tic-tac-tie board with \"X\"s and \"O\"s.  "
      ]
    },
    {
      "cell_type": "code",
      "metadata": {
        "id": "7OGFgPIGrbvF"
      },
      "source": [
        "def gamexo(board):\n",
        "  for row in board:\n",
        "    line_1 = \"\"\n",
        "    line_2 = \"\"\n",
        "    for col in row:\n",
        "      line_1 += \" ---\"\n",
        "      line_2 += \"| \" + playerstate[col] + \" \"\n",
        "    line_2 += \"|\"\n",
        "    print(line_1)\n",
        "    print(line_2)\n",
        "  bottom = \"\"\n",
        "  for col in board:\n",
        "    bottom += \" ---\"\n",
        "  print(bottom)"
      ],
      "execution_count": 8,
      "outputs": []
    },
    {
      "cell_type": "code",
      "metadata": {
        "id": "nyteiFr8rbvJ",
        "outputId": "391ec7d7-f997-45e2-f190-99833078c473",
        "colab": {
          "base_uri": "https://localhost:8080/",
          "height": 136
        }
      },
      "source": [
        "gamexo(winner_is_1)"
      ],
      "execution_count": 9,
      "outputs": [
        {
          "output_type": "stream",
          "text": [
            " --- --- ---\n",
            "| X | O |   |\n",
            " --- --- ---\n",
            "| O | X |   |\n",
            " --- --- ---\n",
            "| O | X | X |\n",
            " --- --- ---\n"
          ],
          "name": "stdout"
        }
      ]
    },
    {
      "cell_type": "markdown",
      "metadata": {
        "id": "eAK7PsC1rbvN"
      },
      "source": [
        "*Exercise 5:* Write a function that takes a game board, player number, and `(x,y)` coordinates and places \"X\" or \"O\" in the correct location of the game board. Make sure that you only allow filling previously empty locations. Return `True` or `False` to indicate successful placement of \"X\" or \"O\"."
      ]
    },
    {
      "cell_type": "code",
      "metadata": {
        "id": "GyzoTjtKrbvO"
      },
      "source": [
        "def place(board, player, coordinates):\n",
        "  x,y = coordinates\n",
        "  if board[x][y] == 0:\n",
        "      board[x][y] = player\n",
        "      return True\n",
        "  else:\n",
        "      return False"
      ],
      "execution_count": 10,
      "outputs": []
    },
    {
      "cell_type": "code",
      "metadata": {
        "id": "BWI8_j3XrbvS",
        "outputId": "3e9fd0aa-66a5-4041-d45f-f62cec449a7b",
        "colab": {
          "base_uri": "https://localhost:8080/",
          "height": 136
        }
      },
      "source": [
        "test = gameboard()\n",
        "place(test, 2, (0, 2))\n",
        "place(test, 1, (2, 2))\n",
        "gamexo(test)"
      ],
      "execution_count": 11,
      "outputs": [
        {
          "output_type": "stream",
          "text": [
            " --- --- ---\n",
            "|   |   | O |\n",
            " --- --- ---\n",
            "|   |   |   |\n",
            " --- --- ---\n",
            "|   |   | X |\n",
            " --- --- ---\n"
          ],
          "name": "stdout"
        }
      ]
    },
    {
      "cell_type": "markdown",
      "metadata": {
        "id": "-0F2CqM1rbvX"
      },
      "source": [
        "*Exercise 6:* Modify Exercise 4 to show column and row labels so that players can specify location using \"A2\" or \"C1\"."
      ]
    },
    {
      "cell_type": "code",
      "metadata": {
        "id": "4sbc6a3lrbvY"
      },
      "source": [
        "alphabet = \"ABCDEFGHIJKLMNOPQRSTUVWXYZ\"\n",
        "\n",
        "def gamexo(board):\n",
        "  top = \"   \"\n",
        "  for col in range(1, len(board) + 1):\n",
        "    top += \" \" + str(col) + \"  \"\n",
        "  print(top)\n",
        "  r = 0\n",
        "  for row in board:\n",
        "    line_1 = \"  \"\n",
        "    line_2 = alphabet[r] + \" \"\n",
        "    r += 1\n",
        "    for col in row:\n",
        "      line_1 += \" ---\"\n",
        "      line_2 += \"| \" + playerstate[col] + \" \"\n",
        "    line_2 += \"|\"\n",
        "    print(line_1)\n",
        "    print(line_2)\n",
        "  print(\"  \" + \" ---\" * len(board))"
      ],
      "execution_count": 12,
      "outputs": []
    },
    {
      "cell_type": "code",
      "metadata": {
        "id": "p9CeR3qirbvc",
        "outputId": "883e67fa-455b-4a1e-8fee-65d003d306f6",
        "colab": {
          "base_uri": "https://localhost:8080/",
          "height": 153
        }
      },
      "source": [
        "gamexo(winner_is_1)"
      ],
      "execution_count": 13,
      "outputs": [
        {
          "output_type": "stream",
          "text": [
            "    1   2   3  \n",
            "   --- --- ---\n",
            "A | X | O |   |\n",
            "   --- --- ---\n",
            "B | O | X |   |\n",
            "   --- --- ---\n",
            "C | O | X | X |\n",
            "   --- --- ---\n"
          ],
          "name": "stdout"
        }
      ]
    },
    {
      "cell_type": "markdown",
      "metadata": {
        "id": "whDiLRM_rbvg"
      },
      "source": [
        "*Exercise 7:* Write a function that takes a board, player number, and location specified as in exercise 6 and then calls exercise 5 to correctly modify the board.  "
      ]
    },
    {
      "cell_type": "code",
      "metadata": {
        "id": "Pba_Bakkrbvh"
      },
      "source": [
        "def move_place(board, player, location):\n",
        "    row = alphabet.find(location[0])\n",
        "    col = int(location[1:]) - 1\n",
        "    if board[row][col] == 0:\n",
        "        place(board, player, (row, col))\n",
        "        return True\n",
        "    else:\n",
        "        print(\"Cannot put \" + playerstate[player] + \" at the location \" + location)\n",
        "        return False"
      ],
      "execution_count": 14,
      "outputs": []
    },
    {
      "cell_type": "code",
      "metadata": {
        "id": "IdJAzFporbvl",
        "outputId": "3142ac9e-22fd-451d-8c60-73ea622d79aa",
        "colab": {
          "base_uri": "https://localhost:8080/",
          "height": 153
        }
      },
      "source": [
        "move_place(no_winner, 1, \"B3\")\n",
        "gamexo(no_winner)"
      ],
      "execution_count": 15,
      "outputs": [
        {
          "output_type": "stream",
          "text": [
            "    1   2   3  \n",
            "   --- --- ---\n",
            "A | X | O |   |\n",
            "   --- --- ---\n",
            "B | O | X | X |\n",
            "   --- --- ---\n",
            "C | O | X | O |\n",
            "   --- --- ---\n"
          ],
          "name": "stdout"
        }
      ]
    },
    {
      "cell_type": "markdown",
      "metadata": {
        "id": "iyFWe-jprbvp"
      },
      "source": [
        "*Exercise 8:* Write a function is called with a board and player number, takes input from the player using python's `input`, and modifies the board using your function from exercise 7. Note that you should keep asking for input until you have gotten a valid input that results in a valid move."
      ]
    },
    {
      "cell_type": "code",
      "metadata": {
        "id": "Kw7Bv2frrbvq"
      },
      "source": [
        "def player_move(board, player):\n",
        "  location = \"A1\"\n",
        "  while True:\n",
        "    gamexo(board)\n",
        "    location = input(\"Place \" + playerstate[player] + \" at: \").upper()\n",
        "    if location[0] in alphabet and alphabet.find(location[0]) < len(board) and location[1:].isnumeric() and 0 < int(location[1:]) <= len(board) <= 26:\n",
        "      break\n",
        "    else:\n",
        "      print(\"Invalid.\")\n",
        "  if move_place(board, player, location):\n",
        "    return True\n",
        "  else:\n",
        "    return player_move(board, player)"
      ],
      "execution_count": 16,
      "outputs": []
    },
    {
      "cell_type": "code",
      "metadata": {
        "id": "-kH3gMOBrbvy",
        "outputId": "5d79c4a0-c686-47ff-e04f-f692582945bd",
        "colab": {
          "base_uri": "https://localhost:8080/",
          "height": 306
        }
      },
      "source": [
        "player_move(no_winner, 1)\n",
        "gamexo(no_winner)"
      ],
      "execution_count": 17,
      "outputs": [
        {
          "output_type": "stream",
          "text": [
            "    1   2   3  \n",
            "   --- --- ---\n",
            "A | X | O |   |\n",
            "   --- --- ---\n",
            "B | O | X | X |\n",
            "   --- --- ---\n",
            "C | O | X | O |\n",
            "   --- --- ---\n",
            "Place X at: A3\n",
            "    1   2   3  \n",
            "   --- --- ---\n",
            "A | X | O | X |\n",
            "   --- --- ---\n",
            "B | O | X | X |\n",
            "   --- --- ---\n",
            "C | O | X | O |\n",
            "   --- --- ---\n"
          ],
          "name": "stdout"
        }
      ]
    },
    {
      "cell_type": "markdown",
      "metadata": {
        "id": "s4km5ovgrbv4"
      },
      "source": [
        "*Exercise 9:* Use all of the previous exercises to implement a full tic-tac-toe game, where an appropriate board is drawn, 2 players are repeatedly asked for a location coordinates of where they wish to place a mark, and the game status is checked until a player wins or a draw occurs."
      ]
    },
    {
      "cell_type": "code",
      "metadata": {
        "id": "uXQdY86Orbv5"
      },
      "source": [
        "def tic_tac_toe(n=3):\n",
        "  board = gameboard(n)\n",
        "  current_player = True\n",
        "  while checkGrid(board) == -1:\n",
        "    if current_player:\n",
        "      player_move(board, 1)\n",
        "    else:\n",
        "      player_move(board, 2)\n",
        "  gamexo(board)"
      ],
      "execution_count": 21,
      "outputs": []
    },
    {
      "cell_type": "code",
      "metadata": {
        "id": "27pPB4sFrbv_",
        "outputId": "d774916b-bec6-45d3-dbd1-132131a3bd96",
        "colab": {
          "base_uri": "https://localhost:8080/",
          "height": 153
        }
      },
      "source": [
        "tic_tac_toe()"
      ],
      "execution_count": 22,
      "outputs": [
        {
          "output_type": "stream",
          "text": [
            "    1   2   3  \n",
            "   --- --- ---\n",
            "A |   |   |   |\n",
            "   --- --- ---\n",
            "B |   |   |   |\n",
            "   --- --- ---\n",
            "C |   |   |   |\n",
            "   --- --- ---\n"
          ],
          "name": "stdout"
        }
      ]
    },
    {
      "cell_type": "markdown",
      "metadata": {
        "id": "F-izSYQFrbwL"
      },
      "source": [
        "*Exercise 10:* Test that your game works for 5x5 Tic Tac Toe.  "
      ]
    },
    {
      "cell_type": "code",
      "metadata": {
        "id": "WzkxIwWNrbwL",
        "outputId": "a3fd210d-3f44-4d47-81ca-d421264d0d05",
        "colab": {
          "base_uri": "https://localhost:8080/",
          "height": 221
        }
      },
      "source": [
        "tic_tac_toe(5)"
      ],
      "execution_count": 23,
      "outputs": [
        {
          "output_type": "stream",
          "text": [
            "    1   2   3   4   5  \n",
            "   --- --- --- --- ---\n",
            "A |   |   |   |   |   |\n",
            "   --- --- --- --- ---\n",
            "B |   |   |   |   |   |\n",
            "   --- --- --- --- ---\n",
            "C |   |   |   |   |   |\n",
            "   --- --- --- --- ---\n",
            "D |   |   |   |   |   |\n",
            "   --- --- --- --- ---\n",
            "E |   |   |   |   |   |\n",
            "   --- --- --- --- ---\n"
          ],
          "name": "stdout"
        }
      ]
    },
    {
      "cell_type": "markdown",
      "metadata": {
        "id": "7Ri74Vz_rbwQ"
      },
      "source": [
        "*Exercise 11: (Extra Credit)* Develop a version of the game where one player is the computer. Note that you don't need to do an extensive seach for the best move. You can have the computer simply protect against loosing and otherwise try to win with straight or diagonal patterns."
      ]
    },
    {
      "cell_type": "code",
      "metadata": {
        "id": "G1ShkrIPrbwR"
      },
      "source": [
        "# Write you solution here"
      ],
      "execution_count": null,
      "outputs": []
    },
    {
      "cell_type": "code",
      "metadata": {
        "id": "yb9XnEQorbwW"
      },
      "source": [
        "# Test your solution here"
      ],
      "execution_count": null,
      "outputs": []
    }
  ]
}