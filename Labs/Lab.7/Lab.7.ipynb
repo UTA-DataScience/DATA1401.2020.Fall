{
 "cells": [
  {
   "cell_type": "markdown",
   "metadata": {},
   "source": [
    "# Lab 7\n",
    "\n",
    "[![Open In Colab](https://colab.research.google.com/assets/colab-badge.svg)](https://colab.research.google.com/github//afarbin/DATA1401-Spring-2020/blob/master/Labs/Lab-7/Lab-7.ipynb)\n",
    "\n",
    "Here are the \"Gradebook\" classes from lecture. For this lab, you will use these classes and are encouraged to modify them as you need."
   ]
  },
  {
   "cell_type": "code",
   "execution_count": null,
   "metadata": {},
   "outputs": [],
   "source": [
    "import numpy as np\n",
    "import math\n",
    "\n",
    "# Create some virtual classes\n",
    "class base:\n",
    "    __name=\"\"\n",
    "    \n",
    "    def __init__(self,name):\n",
    "        self.__name=name\n",
    "\n",
    "    def name(self):\n",
    "        return self.__name\n",
    "\n",
    "class data(base):\n",
    "    def __init__(self,name):\n",
    "        base.__init__(self,name)\n",
    "        \n",
    "class alg(base):\n",
    "    def __init__(self,name):\n",
    "        base.__init__(self,name)"
   ]
  },
  {
   "cell_type": "code",
   "execution_count": null,
   "metadata": {},
   "outputs": [],
   "source": [
    "class grade(data):\n",
    "    __value=0\n",
    "    __numerical=True\n",
    "    __gradebook_name=str()\n",
    "    __letter_grades=[\"F-\",\"F\",\"F+\",\"D-\",\"D\",\"D+\",\"C-\",\"C\",\"C+\",\"B-\",\"B\",\"B+\",\"A-\",\"A\",\"A+\"]\n",
    "    \n",
    "    def __init__(self,name,numerical=True,value=None):\n",
    "        if value:\n",
    "            if isinstance(value,(int,float)):\n",
    "                self.__numerical=True\n",
    "            elif isinstance(value,str):\n",
    "                self.__numerical=False\n",
    "            self.set(value)\n",
    "        else:            \n",
    "            self.__numerical=numerical\n",
    "        self.__gradebook_name=name\n",
    "        data.__init__(self,name+\" Grade Algorithm\")        \n",
    "\n",
    "    def set(self,value):\n",
    "        if isinstance(value,(int,float)) and self.__numerical:\n",
    "            self.__value=value\n",
    "        elif isinstance(value,str) and not self.__numerical:\n",
    "            if value in self.__letter_grades:\n",
    "                self.__value=value\n",
    "        else:\n",
    "            print (self.name()+\" Error: Bad Grade.\")\n",
    "            raise Exception\n",
    "    \n",
    "    def value(self):\n",
    "        return self.__value\n",
    "    \n",
    "    def numerical(self):\n",
    "        return self.__numerical\n",
    "    \n",
    "    def gradebook_name(self):\n",
    "        return self.__gradebook_name\n",
    "    \n",
    "    def __str__(self):\n",
    "        return self.__gradebook_name+\": \"+str(self.__value)\n",
    "\n",
    "class student(data):\n",
    "    __id_number=0\n",
    "    __grades=dict()\n",
    "    \n",
    "    def __init__(self,first_name, last_name,id_number):\n",
    "        self.__id_number=id_number\n",
    "        self.__grades=dict()\n",
    "        data.__init__(self,first_name+\" \"+last_name+\" Student Data\")\n",
    "\n",
    "    def add_grade(self,a_grade,overwrite=False):\n",
    "        if overwrite or not a_grade.gradebook_name() in self.__grades:\n",
    "            self.__grades[a_grade.gradebook_name()]=a_grade\n",
    "        else:\n",
    "            print (self.name()+\" Error Adding Grade \"+a_grade.name()+\". Grade already exists.\")\n",
    "            raise Exception\n",
    "\n",
    "    def id_number(self):\n",
    "        return self.__id_number\n",
    "    \n",
    "    def __getitem__(self,key):\n",
    "        return self.__grades[key]\n",
    "    \n",
    "    def print_grades(self):\n",
    "        for grade in self.__grades:\n",
    "            print (self.__grades[grade])\n",
    "    \n"
   ]
  },
  {
   "cell_type": "code",
   "execution_count": null,
   "metadata": {},
   "outputs": [],
   "source": [
    "class calculator(alg):    \n",
    "    def __init__(self,name):\n",
    "        alg.__init__(self,name)\n",
    "\n",
    "    def apply(self,a_grade_book):\n",
    "        raise NotImplementedError\n"
   ]
  },
  {
   "cell_type": "code",
   "execution_count": null,
   "metadata": {},
   "outputs": [],
   "source": [
    "class grade_book(data):\n",
    "    # New member class to hold arbitrary data associated with the class\n",
    "\n",
    "    __data=dict()\n",
    "    __students=dict()\n",
    "    \n",
    "    def __init__(self,name):\n",
    "        data.__init__(self,name+\" Course Grade Book\")\n",
    "        self.__students=dict()\n",
    "        self.__data=dict()\n",
    "        \n",
    "    # New method to access data\n",
    "    def __getitem__(self,key):\n",
    "        return self.__data[key]\n",
    "            \n",
    "    # New method to add data\n",
    "    def __setitem__(self, key, value):\n",
    "        self.__data[key] = value\n",
    "        \n",
    "    def add_student(self,a_student):\n",
    "        self.__students[a_student.id_number()]=a_student\n",
    "\n",
    "    # New method to allow iterating over students\n",
    "    def get_students(self):\n",
    "        return self.__students\n",
    "    \n",
    "    def assign_grade(self,key,a_grade):\n",
    "        the_student=None\n",
    "        try:\n",
    "            the_student=self.__students[key]\n",
    "        except:\n",
    "            for id in self.__students:\n",
    "                if key == self.__students[id].name():\n",
    "                    the_student=self.__students[id]\n",
    "                    break\n",
    "        if the_student:\n",
    "            the_student.add_grade(a_grade)\n",
    "        else:\n",
    "            print (self.name()+\" Error: Did not find student.\")\n",
    "            \n",
    "    def apply_calculator(self,a_calculator,**kwargs):\n",
    "        a_calculator.apply(self,**kwargs)\n",
    "        \n",
    "    "
   ]
  },
  {
   "cell_type": "code",
   "execution_count": null,
   "metadata": {},
   "outputs": [],
   "source": [
    "class uncurved_letter_grade_percent(calculator):\n",
    "    __grades_definition=[ (.97,\"A+\"),\n",
    "                          (.93,\"A\"),\n",
    "                          (.9,\"A-\"),\n",
    "                          (.87,\"B+\"),\n",
    "                          (.83,\"B\"),\n",
    "                          (.8,\"B-\"),\n",
    "                          (.77,\"C+\"),\n",
    "                          (.73,\"C\"),\n",
    "                          (.7,\"C-\"),\n",
    "                          (.67,\"C+\"),\n",
    "                          (.63,\"C\"),\n",
    "                          (.6,\"C-\"),\n",
    "                          (.57,\"F+\"),\n",
    "                          (.53,\"F\"),\n",
    "                          (0.,\"F-\")]\n",
    "    __max_grade=100.\n",
    "    __grade_name=str()\n",
    "    \n",
    "    def __init__(self,grade_name,max_grade=100.):\n",
    "        self.__max_grade=max_grade\n",
    "        self.__grade_name=grade_name\n",
    "        calculator.__init__(self,\n",
    "                                  \"Uncurved Percent Based Grade Calculator \"+self.__grade_name+\" Max=\"+str(self.__max_grade))\n",
    "        \n",
    "    def apply(self,a_grade_book,grade_name=None,**kwargs):\n",
    "        if grade_name:\n",
    "            pass\n",
    "        else:\n",
    "            grade_name=self.__grade_name\n",
    "            \n",
    "  \n",
    "        for k,a_student in a_grade_book.get_students().iteritems():\n",
    "            a_grade=a_student[grade_name]\n",
    "\n",
    "            if not a_grade.numerical():\n",
    "                print (self.name()+ \" Error: Did not get a numerical grade as input.\")\n",
    "                raise Exception\n",
    "    \n",
    "            percent=a_grade.value()/self.__max_grade\n",
    "        \n",
    "            for i,v in enumerate(self.__grades_definition):\n",
    "                if percent>=v[0]:\n",
    "                    break\n",
    "                            \n",
    "            a_student.add_grade(grade(grade_name+\" Letter\",value=self.__grades_definition[i][1]))\n",
    "            "
   ]
  },
  {
   "cell_type": "code",
   "execution_count": null,
   "metadata": {},
   "outputs": [],
   "source": [
    "class mean_std_calculator(calculator):\n",
    "    def __init__(self):\n",
    "        calculator.__init__(self,\"Mean and Standard Deviation Calculator\")\n",
    "        \n",
    "    def apply(self,a_grade_book,grade_name,**kwargs):\n",
    "        grades=list()\n",
    "        for k,a_student in a_grade_book.get_students().iteritems():\n",
    "            grades.append(a_student[grade_name].value())\n",
    "        \n",
    "        a_grade_book[grade_name+\" Mean\"] = np.mean(grades)\n",
    "        a_grade_book[grade_name+\" STD\"] = math.sqrt(np.var(grades))\n"
   ]
  },
  {
   "cell_type": "markdown",
   "metadata": {
    "collapsed": true
   },
   "source": [
    "## CSV Reader\n",
    "\n",
    "*Exercise 1*: The data for a class are stored in a \"camma separated values\" (CSV) file name `Data1401-Grades.csv` in the directory of this lab. You can see the contents using the `cat` shell command:"
   ]
  },
  {
   "cell_type": "code",
   "execution_count": 1,
   "metadata": {},
   "outputs": [
    {
     "name": "stdout",
     "output_type": "stream",
     "text": [
      "l1_n,l1_1,12_n,l2_1,l2_2,l2_3,l2_4,l2_5,l2_6,l2_7,l3_n,l3_1,l3_2,l3_3,l3_4,l3_5,l3_6,l3_7,l3_8,l3_9,l3_10,l3_11,l3_12,l3_13,l3_14,l4_n,l4_1,l4_2,l4_3,l4_4,l4_5,l4_6,l4_7,l4_8,l4_9,l4_10,l4_11,q1_n,q1_1,e1_n,e1_1,e1_2,e1_3,e1_4,e1_5,e1_6,e1_7,e1_8,e1_9,e1_10,e1_11,e1_12,e1_13,e1_14,e1_15\r",
      "\r\n",
      "1,10,7,0,10,10,8,10,10,10,14,9,0,0,0,0,0,0,0,0,0,0,0,0,0,11,0,0,0,0,0,0,0,0,0,0,0,1,9.5,15,9,9,0,9,8,0,0,0,0,0,0,0,0,0,0\r",
      "\r\n",
      "1,10,7,0,0,0,0,0,0,0,14,0,0,0,0,0,0,0,0,0,0,0,0,0,0,11,0,0,0,0,0,0,0,0,0,0,0,1,0,15,0,0,0,0,0,0,0,0,0,0,0,0,0,0,0\r",
      "\r\n",
      "1,10,7,0,0,0,0,0,0,0,14,9,10,10,10,7,10,3,6,3,3,0,0,0,0,11,0,0,0,0,0,0,0,0,0,0,0,1,5,15,5,5,5,5,0,0,0,0,0,0,0,0,0,0,0\r",
      "\r\n",
      "1,10,7,10,10,3,9.5,10,10,9.5,14,10,10,10,8,5,10,5,10,3,0,10,3,10,8,11,10,10,10,10,10,10,0,0,10,5,0,1,10,15,9,9,10,9,7,9,0,0,10,10,9,5,10,8,10\r",
      "\r\n",
      "1,10,7,10,10,9.5,0,10,10,0,14,9.5,0,0,10,0,10,5,10,7,0,10,6,10,0,11,10,10,6,0,0,0,0,0,0,0,0,1,0,15,0,0,0,0,5,0,7,0,3,3,3,0,3,0,0\r",
      "\r\n",
      "1,10,7,10,10,10,9.5,10,10,9.5,14,5,9.5,9.5,8,10,10,8,10,8,0,5,6,0,0,11,0,10,10,10,0,5,0,0,0,0,0,1,9.5,15,9,9,10,9,9,10,7,0,9,9,9,0,5,0,0\r",
      "\r\n",
      "1,10,7,10,10,0,5,10,10,9.5,14,9.5,10,10,8,10,8,9,0,0,0,0,0,0,0,11,0,10,10,0,0,10,0,0,0,0,0,1,10,15,9,9,10,9,0,0,0,0,0,0,0,0,0,0,0\r",
      "\r\n",
      "1,10,7,10,10,10,9.5,10,10,9.5,14,10,10,10,10,0,0,0,0,0,0,0,0,0,0,11,10,10,10,10,3,3,0,0,5,0,0,1,10,15,9,9,10,0,10,0,7,5,9,9,9,0,0,0,0\r",
      "\r\n",
      "1,10,7,0,10,9.5,0,10,10,0,14,10,10,10,10,0,0,0,0,0,0,0,0,0,0,11,10,10,10,10,5,3,0,3,10,7,0,1,9.5,15,9,9,10,5,10,0,9,9,9,9,9,10,5,0,0\r",
      "\r\n",
      "1,10,7,10,10,0,10,10,10,10,14,10,6,10,0,0,0,0,0,0,0,0,0,0,0,11,10,10,0,7,0,0,0,0,0,0,0,1,9.5,15,9,9,10,9,5,9,7,9,10,10,10,5,10,5,0\r",
      "\r\n",
      "1,10,7,10,10,0,0,10,10,7,14,10,10,10,10,7,10,6,3,10,10,10,10,10,10,11,10,10,10,10,10,5,10,10,10,10,10,1,0,15,9,9,9,9,9,10,9,9,10,10,10,10,10,5,10\r",
      "\r\n",
      "1,10,7,10,10,9.5,9.5,10,10,9.5,14,9.5,10,10,10,8,10,8,10,10,7,5,0,0,0,11,10,10,10,10,5,6,0,0,0,0,0,1,10,15,9,9,10,9,8,9,7,9,10,10,10,10,0,0,0\r",
      "\r\n",
      "1,10,7,10,10,5,9.5,10,10,9.5,14,5,9,9,10,7,10,10,10,10,7,10,3,5,10,11,0,0,0,0,0,0,0,0,0,0,0,1,10,15,9,9,9,8,7,10,0,9,10,9,10,9,5,0,0\r",
      "\r\n",
      "1,10,7,10,10,9.5,0,10,10,0,14,9.5,10,10,10,10,10,10,10,0,0,10,5,10,10,11,0,10,10,0,0,5,0,0,0,0,0,1,0,15,9,9,10,0,8,9,7,9,10,10,10,10,10,0,0\r",
      "\r\n",
      "1,10,7,10,10,9.5,9,10,10,9.5,14,10,10,10,10,10,10,9,10,3,0,3,3,5,2,11,0,0,0,0,0,0,0,0,0,0,0,1,0,15,9,9,10,5,5,0,0,10,10,10,10,0,10,5,10\r",
      "\r\n",
      "1,10,7,10,10,3,7,10,10,9,14,10,10,10,10,0,10,9,10,7,7,3,7,5,8,11,10,10,10,8,5,3,0,0,7,0,0,1,9.5,15,9,9,10,10,7,10,10,10,10,10,10,10,9,8,2\r",
      "\r\n"
     ]
    }
   ],
   "source": [
    "!cat Data1401-Grades.csv "
   ]
  },
  {
   "cell_type": "markdown",
   "metadata": {},
   "source": [
    "You will note that the first line has the names of the \"columns\" of data, and that subsequent lines (or \"rows\") have the data for each student, separated by cammas.\n",
    "\n",
    "Recalling that in lecture we created a file reader, create a CSV reader function that takes a filename as input and returns data structure(s) that store the data in the file. Note that you are not allowed to use a library. The point here is for *you* to write the CSV reader. Some options for your data structures (pick one):\n",
    "\n",
    "* A list of dictionaries, where each element of the list is corresponds to a row of data and the dictionaries are keyed by the column name. For example `data[5][\"l3_5\"]` corresponds to the 6th student's grade on lab 3 question 5.\n",
    "\n",
    "* A list of lists (i.e. a 2-D array or matrix) and a dictionary, where each element of the \"matrix\" corresponds to a a specific grade for a specific student and the dictionary maps the name of the column to the column index. For example `data[5][column_names[\"l1_5\"]]` corresponds to the 6th student's grade on lab 3 question 5.\n",
    "\n",
    "* A dictionary of lists, where each element of the dictionary corresponds to a column of data and the lists contain the data in that column. For example `data[\"l3_5\"][5]` corresponds to the 6th student's grade on lab 3 question 5.\n",
    "\n",
    "* (Extra Credit) A class that simultaneously supports all of the above methods."
   ]
  },
  {
   "cell_type": "code",
   "execution_count": null,
   "metadata": {},
   "outputs": [],
   "source": [
    "# Your solution here.\n",
    "\n",
    "def cvs_reader(filename):\n",
    "    data=list() # if you choose first option\n",
    "    \n",
    "    return data"
   ]
  },
  {
   "cell_type": "markdown",
   "metadata": {},
   "source": [
    "## Creating a Gradebook\n",
    "\n",
    "*Exercise 2:* In lecture we used pandas to read the CSV file and create the grade book. The example below works for the CSV file for this lab. Modify the code below to use your CSV reader instead."
   ]
  },
  {
   "cell_type": "code",
   "execution_count": null,
   "metadata": {},
   "outputs": [],
   "source": [
    "import pandas as pd\n",
    "class_data=pd.read_csv(\"Data1401-Grades.csv\")\n",
    "\n",
    "a_grade_book=grade_book(\"Data 1401\")\n",
    "\n",
    "for student_i in range(class_data.shape[0]):\n",
    "    a_student_0=student(\"Student\",str(student_i),student_i)\n",
    "\n",
    "    for k in class_data.keys():\n",
    "        a_student_0.add_grade(grade(k,value=class_data[k][student_i]))\n",
    "\n",
    "    a_grade_book.add_student(a_student_0)\n",
    "        "
   ]
  },
  {
   "cell_type": "markdown",
   "metadata": {},
   "source": [
    "## Grade Summing\n",
    "\n",
    "*Exercise 3:* In lectre we will change the design of our algorithm classes and then update the `uncurved_letter_grade_percent` calculator. In lecture we also created a `grade_summer` calcuator that takes a prefix (for example `e1_` and a number `n`) and sums all grades starting with that prefix up to `n` and creates a new sum grade. Update this calculator (below) to the new design of our algorithm classes. Test your updated calculator by using it to sum the grades for all labs, quizzes, and exams of each student."
   ]
  },
  {
   "cell_type": "code",
   "execution_count": null,
   "metadata": {},
   "outputs": [],
   "source": [
    "# Note this is the OLD design... you will need to modify it.\n",
    "\n",
    "class summary_calculator(alg):   \n",
    "    def __init__(self,name):\n",
    "        alg.__init__(self,name)\n",
    "\n",
    "    def apply(self,a_student):\n",
    "        raise NotImplementedError\n",
    "\n",
    "class grade_summer(summary_calculator):\n",
    "    def __init__(self,prefix,n):\n",
    "        self.__prefix=prefix\n",
    "        self.__n=n\n",
    "        summary_calculator.__init__(self,\"Sum Grades\")\n",
    "        \n",
    "    def apply(self,a_student):\n",
    "        labels=[self.__prefix+str(x) for x in range(1,self.__n)]\n",
    "        \n",
    "        grade_sum=0.\n",
    "        for label in labels:\n",
    "            grade_sum+=a_student[label].value()\n",
    "\n",
    "        a_student.add_grade(grade(self.__prefix+\"sum\",value=grade_sum))"
   ]
  },
  {
   "cell_type": "markdown",
   "metadata": {},
   "source": [
    "## Curving Grades\n",
    "\n",
    "*Exercise 4:* Use the `mean_std_calculator` above to calculate the mean and standard deviation for every lab, quiz, and exam in the class. Add a new print function to the `grade_book` class to print out such information in a nice way, and use this function to show your results.\n"
   ]
  },
  {
   "cell_type": "code",
   "execution_count": null,
   "metadata": {},
   "outputs": [],
   "source": [
    "# Your solution here"
   ]
  },
  {
   "cell_type": "markdown",
   "metadata": {},
   "source": [
    "*Exercise 5:* In lecture we will change the design of our algorithms classes and then update the `uncurved_letter_grade_percent` calculator. Do the same for the `curved_letter_grade` calculator below and by curving all the lab, quiz, and exam grades."
   ]
  },
  {
   "cell_type": "code",
   "execution_count": null,
   "metadata": {},
   "outputs": [],
   "source": [
    "class curved_letter_grade(grade_calculator):\n",
    "    __grades_definition=[ (.97,\"A+\"),\n",
    "                          (.93,\"A\"),\n",
    "                          (.9,\"A-\"),\n",
    "                          (.87,\"B+\"),\n",
    "                          (.83,\"B\"),\n",
    "                          (.8,\"B-\"),\n",
    "                          (.77,\"C+\"),\n",
    "                          (.73,\"C\"),\n",
    "                          (.7,\"C-\"),\n",
    "                          (.67,\"C+\"),\n",
    "                          (.63,\"C\"),\n",
    "                          (.6,\"C-\"),\n",
    "                          (.57,\"F+\"),\n",
    "                          (.53,\"F\"),\n",
    "                          (0.,\"F-\")]\n",
    "    __max_grade=100.\n",
    "    __grade_name=str()\n",
    "    \n",
    "    def __init__(self,grade_name,mean,std,max_grade=100.):\n",
    "        self.__max_grade=max_grade\n",
    "        self.__mean=mean\n",
    "        self.__std=std\n",
    "        self.__grade_name=grade_name\n",
    "        grade_calculator.__init__(self,\n",
    "                                  \"Curved Percent Based Grade Calculator \"+self.__grade_name+ \\\n",
    "                                  \" Mean=\"+str(self.__mean)+\\\n",
    "                                  \" STD=\"+str(self.__std)+\\\n",
    "                                  \" Max=\"+str(self.__max_grade))\n",
    "        \n",
    "\n",
    "    def apply(self,a_grade):\n",
    "        if not isinstance(a_grade,grade):\n",
    "            print (self.name()+ \" Error: Did not get an proper grade as input.\")\n",
    "            raise Exception\n",
    "        if not a_grade.numerical():\n",
    "            print (self.name()+ \" Error: Did not get a numerical grade as input.\")\n",
    "            raise Exception\n",
    "    \n",
    "        # Rescale the grade\n",
    "        percent=a_grade.value()/self.__max_grade\n",
    "        shift_to_zero=percent-(self.__mean/self.__max_grade)\n",
    "        scale_std=0.1*shift_to_zero/(self.__std/self.__max_grade)\n",
    "        scaled_percent=scale_std+0.8\n",
    "        \n",
    "        for i,v in enumerate(self.__grades_definition):\n",
    "            if scaled_percent>=v[0]:\n",
    "                break\n",
    "                            \n",
    "        return grade(self.__grade_name,value=self.__grades_definition[i][1])\n",
    "            "
   ]
  },
  {
   "cell_type": "markdown",
   "metadata": {},
   "source": [
    "## Final Course Grade\n",
    "\n",
    "*Exercise 6:* Write a new calculator that sums grades with a prefix, as in the `grade_summer` calculator, but drops `n` lowest grades. Apply the algorithm to drop the lowest lab grade in the data.\n"
   ]
  },
  {
   "cell_type": "code",
   "execution_count": null,
   "metadata": {},
   "outputs": [],
   "source": [
    "# Your solution here"
   ]
  },
  {
   "cell_type": "markdown",
   "metadata": {},
   "source": [
    "*Exercise 7*: Write a new calculator that creates a new letter grade based on a weighted average of letter grades, by assigning the following numerical values to letter grades:"
   ]
  },
  {
   "cell_type": "code",
   "execution_count": null,
   "metadata": {},
   "outputs": [],
   "source": [
    "GradeMap={\"A+\":12,\n",
    "          \"A\":11,\n",
    "          \"A-\":10,\n",
    "          \"B+\":9,\n",
    "          \"B\":8,\n",
    "          \"B-\":7,\n",
    "          \"C+\":6,\n",
    "          \"C\":5,\n",
    "          \"C-\":4,\n",
    "          \"D+\":3,\n",
    "          \"D\":2,\n",
    "          \"D-\":1,\n",
    "          \"F\":0}"
   ]
  },
  {
   "cell_type": "markdown",
   "metadata": {},
   "source": [
    "Test you calculator by applying the weights from the syllabus of this course and computing everyone's grade in the course."
   ]
  },
  {
   "cell_type": "code",
   "execution_count": null,
   "metadata": {},
   "outputs": [],
   "source": [
    "# Your solution here"
   ]
  }
 ],
 "metadata": {
  "kernelspec": {
   "display_name": "Python 3",
   "language": "python",
   "name": "python3"
  },
  "language_info": {
   "codemirror_mode": {
    "name": "ipython",
    "version": 3
   },
   "file_extension": ".py",
   "mimetype": "text/x-python",
   "name": "python",
   "nbconvert_exporter": "python",
   "pygments_lexer": "ipython3",
   "version": "3.8.0"
  }
 },
 "nbformat": 4,
 "nbformat_minor": 2
}
