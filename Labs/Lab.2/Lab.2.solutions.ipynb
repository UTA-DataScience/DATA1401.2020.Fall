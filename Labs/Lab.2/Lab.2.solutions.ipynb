{
  "nbformat": 4,
  "nbformat_minor": 0,
  "metadata": {
    "colab": {
      "name": "Copy of Lab-2.ipynb",
      "provenance": [],
      "collapsed_sections": []
    },
    "kernelspec": {
      "display_name": "Python 3",
      "language": "python",
      "name": "python3"
    },
    "language_info": {
      "codemirror_mode": {
        "name": "ipython",
        "version": 3
      },
      "file_extension": ".py",
      "mimetype": "text/x-python",
      "name": "python",
      "nbconvert_exporter": "python",
      "pygments_lexer": "ipython3",
      "version": "3.8.0"
    }
  },
  "cells": [
    {
      "cell_type": "markdown",
      "metadata": {
        "id": "uk7yc0nadBGa"
      },
      "source": [
        "# Lab 2\n",
        "\n",
        "[![Open In Colab](https://colab.research.google.com/assets/colab-badge.svg)](https://colab.research.google.com/github/UTA-DataScience/DATA1401.2020.Fall/blob/master/Labs/Lab.2/Lab.2.ipynb)\n"
      ]
    },
    {
      "cell_type": "markdown",
      "metadata": {
        "id": "u9RAhs5b4vXY"
      },
      "source": [
        "\n",
        "## Make your fork private\n",
        "\n",
        "Navigate your fork of the course repository on GitHub and click the \"gear\" icon to change the settings. Select \"Options\" on the left and scroll all the way down. Then click on \"Make Private\" to make your repository private. \n",
        "\n",
        "Next select the collaborators on the left and add your Professor as a collaborator. "
      ]
    },
    {
      "cell_type": "markdown",
      "metadata": {
        "id": "q-gMWiE4dBG_"
      },
      "source": [
        "## Python Programming\n",
        "\n",
        "In the remainder of this lab you will practice python by solving some simple exercises. \n",
        "\n",
        "*Exercise 1:* Write 2 functions `even(x)` and `odd(x)` that take an integer and returns True if the input is even or odd, otherwise returns False. Use cell below for your solution. Use the subsequent cell to demonstrate that your solution works. Feel free to add additional cell as needed using the \"+\" button on the button bar above. "
      ]
    },
    {
      "cell_type": "code",
      "metadata": {
        "id": "jwN5jff1dBG_"
      },
      "source": [
        "# Write you solution here\n",
        "\n",
        "def even(num):\n",
        "  if num%2==0:\n",
        "    return True\n",
        "  else:\n",
        "    return False\n",
        "\n",
        "def odd(num):\n",
        "  return num%2==1"
      ],
      "execution_count": null,
      "outputs": []
    },
    {
      "cell_type": "code",
      "metadata": {
        "id": "xNJAcodhdBHB",
        "outputId": "a4cd8c18-4adc-4ef8-f7f1-c81994e1bc2e",
        "colab": {
          "base_uri": "https://localhost:8080/",
          "height": 85
        }
      },
      "source": [
        "# Test your solution here\n",
        "\n",
        "print(\"Even test and even input:\",even (6))\n",
        "print(\"Even test and odd input:\", even (101))\n",
        "\n",
        "print(\"Odd test and even input:\", odd(6))\n",
        "print(\"Odd test and odd input:\", odd (101))\n"
      ],
      "execution_count": null,
      "outputs": [
        {
          "output_type": "stream",
          "text": [
            "Even test and even input: True\n",
            "Even test and odd input: False\n",
            "Odd test and even input: False\n",
            "Odd test and odd input: True\n"
          ],
          "name": "stdout"
        }
      ]
    },
    {
      "cell_type": "markdown",
      "metadata": {
        "id": "KL_pyzG8dBHD"
      },
      "source": [
        "*Exercise 2:* Write a function that takes a list of numbers as input and returns a list of the subset of elements that are less that 10. Test your solution."
      ]
    },
    {
      "cell_type": "code",
      "metadata": {
        "id": "g8nt0wnldBHE"
      },
      "source": [
        "# Write you solution here\n",
        "def belowten(lst):\n",
        "  output_lst=list()\n",
        "  for element in lst:\n",
        "    if element<10:\n",
        "      output_lst.append(element)\n",
        "\n",
        "  return output_lst "
      ],
      "execution_count": null,
      "outputs": []
    },
    {
      "cell_type": "code",
      "metadata": {
        "id": "__HTUWA1dBHH",
        "outputId": "f6c94366-fe60-461a-b01b-a35c5b6964c1",
        "colab": {
          "base_uri": "https://localhost:8080/",
          "height": 34
        }
      },
      "source": [
        "# Test your solution here\n",
        "belowten ([3,4,5,6,80,40,75])\n"
      ],
      "execution_count": null,
      "outputs": [
        {
          "output_type": "execute_result",
          "data": {
            "text/plain": [
              "[3, 4, 5, 6]"
            ]
          },
          "metadata": {
            "tags": []
          },
          "execution_count": 11
        }
      ]
    },
    {
      "cell_type": "markdown",
      "metadata": {
        "id": "T0cx91JudBHK"
      },
      "source": [
        "*Exercise 3:* Write a function that takes a number `x_max` as input and returns a function that performs the same task as exercise 2, but for `x_max` instead of 10."
      ]
    },
    {
      "cell_type": "code",
      "metadata": {
        "id": "PqummMcmdBHK"
      },
      "source": [
        "# Write you solution here\n",
        "def belowten(lst, x_max):\n",
        "  output_lst=list()\n",
        "  for element in lst:\n",
        "    if element<x_max:\n",
        "      output_lst.append(element)\n",
        "\n",
        "  return output_lst\n"
      ],
      "execution_count": null,
      "outputs": []
    },
    {
      "cell_type": "code",
      "metadata": {
        "id": "evRYemjXdBHN",
        "outputId": "ff4def67-cd28-4064-c7b9-45ce512ac24c",
        "colab": {
          "base_uri": "https://localhost:8080/",
          "height": 34
        }
      },
      "source": [
        "# Test your solution here\n",
        "belowten([3,4,5,6,80,40,75], 5)\n",
        "\n",
        "\n"
      ],
      "execution_count": 253,
      "outputs": [
        {
          "output_type": "execute_result",
          "data": {
            "text/plain": [
              "[3, 4]"
            ]
          },
          "metadata": {
            "tags": []
          },
          "execution_count": 253
        }
      ]
    },
    {
      "cell_type": "markdown",
      "metadata": {
        "id": "h0I8M27LdBHP"
      },
      "source": [
        "*Exercise 4:* Write a function that takes an interger as input and returns a list of all divisors of that number."
      ]
    },
    {
      "cell_type": "code",
      "metadata": {
        "id": "k6GUpDyrdBHP"
      },
      "source": [
        "# Write you solution here\n",
        "def divisors(n):\n",
        "  output_lst=list()\n",
        "  for i in range(1, n+1):\n",
        "    if (n%i==0):\n",
        "      output_lst.append(i)\n",
        "\n",
        "  return output_lst"
      ],
      "execution_count": null,
      "outputs": []
    },
    {
      "cell_type": "code",
      "metadata": {
        "id": "YDvRmft-dBHR",
        "outputId": "709cae02-b2ba-4646-e5ac-279df48444f8",
        "colab": {
          "base_uri": "https://localhost:8080/",
          "height": 34
        }
      },
      "source": [
        "# Test your solution here\n",
        "divisors(10)"
      ],
      "execution_count": null,
      "outputs": [
        {
          "output_type": "execute_result",
          "data": {
            "text/plain": [
              "[1, 2, 5, 10]"
            ]
          },
          "metadata": {
            "tags": []
          },
          "execution_count": 22
        }
      ]
    },
    {
      "cell_type": "markdown",
      "metadata": {
        "id": "IOWnLMvxdBHT"
      },
      "source": [
        "*Exercise 5:* Write a function that takes 2 lists as input and returns a list that contains only the elements that are common between the lists (without duplicates). Make sure your program works on two lists of different sizes."
      ]
    },
    {
      "cell_type": "code",
      "metadata": {
        "id": "tR31bnTDdBHT"
      },
      "source": [
        "# Write you solution here\n",
        "def two_lists(one, two):\n",
        "  both= [] \n",
        "  if len(one) <= len(two):\n",
        "    for i in one:\n",
        "      if i in two and i not in both:\n",
        "        both.append(i)\n",
        "        \n",
        "\n",
        "  if len(one) >= len(two):\n",
        "    for i in two:\n",
        "      if i in one and i not in both:\n",
        "        both.append(i)\n",
        "        \n",
        "  print(both)"
      ],
      "execution_count": null,
      "outputs": []
    },
    {
      "cell_type": "code",
      "metadata": {
        "id": "IJDf6ebYdBHV",
        "outputId": "88b89c2b-6b03-4b1b-ce35-0b2d83b7d2a6",
        "colab": {
          "base_uri": "https://localhost:8080/",
          "height": 34
        }
      },
      "source": [
        "# Test your solution here\n",
        "one=[1,2,3,4,5]\n",
        "two=[2,3,4,5,6]\n",
        "\n",
        "two_lists(one, two)"
      ],
      "execution_count": null,
      "outputs": [
        {
          "output_type": "stream",
          "text": [
            "[2, 3, 4, 5]\n"
          ],
          "name": "stdout"
        }
      ]
    },
    {
      "cell_type": "markdown",
      "metadata": {
        "id": "3vA7M9pldBHX"
      },
      "source": [
        "*Exercise 6:* Write a function that reads takes a string and returns `True` if the string is a palindrome. (A palindrome is a string that reads the same forwards and backwards.)"
      ]
    },
    {
      "cell_type": "code",
      "metadata": {
        "id": "ncyMDzp6dBHX"
      },
      "source": [
        "# Write you solution here\n",
        "def isPalindrome(str):\n",
        " \n",
        "    # Run loop from 0 to len/2 \n",
        "    for i in range(0, int(len(str)/2)): \n",
        "        if str[i] != str[len(str)-i-1]:\n",
        "            return False\n",
        "    return True\n",
        " \n",
        "# main function\n",
        " "
      ],
      "execution_count": null,
      "outputs": []
    },
    {
      "cell_type": "code",
      "metadata": {
        "id": "v5cmVQ6MdBHZ",
        "outputId": "794e4a41-5a45-4fc9-f047-fd873f22d1d8",
        "colab": {
          "base_uri": "https://localhost:8080/",
          "height": 34
        }
      },
      "source": [
        "# Test your solution here\n",
        "isPalindrome(\"alla\")\n"
      ],
      "execution_count": null,
      "outputs": [
        {
          "output_type": "execute_result",
          "data": {
            "text/plain": [
              "True"
            ]
          },
          "metadata": {
            "tags": []
          },
          "execution_count": 171
        }
      ]
    },
    {
      "cell_type": "markdown",
      "metadata": {
        "id": "fT35xwandBHc"
      },
      "source": [
        "*Exercise 7:* Write a Rock-Paper-Scissors game function, that takes 2 strings, the inputs of player 1 and player 2, and output 1 or 2 corresponding to which player wins, or 0 if draw.\n",
        "\n",
        "Implement a Rock-Paper-Scissors game by soliciting input from 2 players, testing with this function, and repeating if there is a draw.\n",
        "\n",
        "Remember the rules:\n",
        "\n",
        "* Rock beats scissors\n",
        "* Scissors beats paper\n",
        "* Paper beats rock"
      ]
    },
    {
      "cell_type": "code",
      "metadata": {
        "id": "U1_HxxaWdBHd"
      },
      "source": [
        "def rockPaperScissor(player1Input, player2Input):\n",
        "  if player1Input == player2Input:\n",
        "    return 'draw'\n",
        "  if player1Input == 'rock':\n",
        "    if player2Input == 'scissors':\n",
        "      return '1'\n",
        "    else:\n",
        "      return '2'\n",
        "  if player1Input == 'paper':\n",
        "    if player2Input == 'rock':\n",
        "      return '1'\n",
        "    else:\n",
        "      return '2'\n",
        "  if player1Input == 'scissors':\n",
        "    if player2Input == 'paper':\n",
        "      return '1'\n",
        "    else:\n",
        "      return '2'\n"
      ],
      "execution_count": null,
      "outputs": []
    },
    {
      "cell_type": "code",
      "metadata": {
        "id": "ooR2ldZBdBHf",
        "outputId": "f625f846-8be9-49bd-f10a-bdf9f26f694c",
        "colab": {
          "base_uri": "https://localhost:8080/",
          "height": 35
        }
      },
      "source": [
        "# Test your solution here\n",
        "rockPaperScissor(\"rock\",\"rock\")\n"
      ],
      "execution_count": 252,
      "outputs": [
        {
          "output_type": "execute_result",
          "data": {
            "application/vnd.google.colaboratory.intrinsic+json": {
              "type": "string"
            },
            "text/plain": [
              "'draw'"
            ]
          },
          "metadata": {
            "tags": []
          },
          "execution_count": 252
        }
      ]
    },
    {
      "cell_type": "markdown",
      "metadata": {
        "id": "dJQzXNKzdBHh"
      },
      "source": [
        "*Exercise 8:* Write a function that takes a integer `n` as input and \n",
        "outputs a list of the first `n` Fibonnaci numbers.\n",
        "\n",
        "The Fibonnaci seqence is a sequence of numbers where the next number in the sequence is the sum of the previous two numbers in the sequence. The sequence looks like this: 1, 1, 2, 3, 5, 8, 13, …)"
      ]
    },
    {
      "cell_type": "code",
      "metadata": {
        "id": "G_4ooRXTdBHh"
      },
      "source": [
        "# Write you solution here\n",
        "def printFibonacciNumbers(n): \n",
        "      \n",
        "    f1 = 0\n",
        "    f2 = 1\n",
        "    if (n < 1): \n",
        "        return\n",
        "    for x in range(0, n): \n",
        "        print(f2, end = \" \") \n",
        "        next = f1 + f2 \n",
        "        f1 = f2 \n",
        "        f2 = next"
      ],
      "execution_count": null,
      "outputs": []
    },
    {
      "cell_type": "code",
      "metadata": {
        "id": "rzK5FskJdBHj",
        "outputId": "88b40aac-e73e-4ae6-d618-3ea2231af857",
        "colab": {
          "base_uri": "https://localhost:8080/",
          "height": 34
        }
      },
      "source": [
        "# Test your solution here\n",
        "printFibonacciNumbers(15)\n"
      ],
      "execution_count": null,
      "outputs": [
        {
          "output_type": "stream",
          "text": [
            "1 1 2 3 5 8 13 21 34 55 89 144 233 377 610 "
          ],
          "name": "stdout"
        }
      ]
    },
    {
      "cell_type": "markdown",
      "metadata": {
        "id": "q6c_AskadBHl"
      },
      "source": [
        "*Exercise 9:* Write a function that takes a string of consisting of several words and returns a string that reverses the order of the words.\n"
      ]
    },
    {
      "cell_type": "code",
      "metadata": {
        "id": "aJdXX6FHdBHl"
      },
      "source": [
        "def reverseWords(sentence):\n",
        "  wordList = sentence.split(' ')\n",
        "  revSentence = ''\n",
        "  index = len(wordList) - 1\n",
        "  while index >= 0:\n",
        "    revSentence = revSentence + wordList[index] + ' '\n",
        "    index = index - 1\n",
        "  return revSentence\n",
        "\n",
        "  "
      ],
      "execution_count": null,
      "outputs": []
    },
    {
      "cell_type": "code",
      "metadata": {
        "id": "nQyhnLZ_dBHn",
        "outputId": "1bac8c03-ae17-4d94-ad09-a898ce34b963",
        "colab": {
          "base_uri": "https://localhost:8080/",
          "height": 35
        }
      },
      "source": [
        "# Test your solution here\n",
        "reverseWords(\"Help me please\")\n",
        "\n"
      ],
      "execution_count": null,
      "outputs": [
        {
          "output_type": "execute_result",
          "data": {
            "application/vnd.google.colaboratory.intrinsic+json": {
              "type": "string"
            },
            "text/plain": [
              "'please me Help '"
            ]
          },
          "metadata": {
            "tags": []
          },
          "execution_count": 240
        }
      ]
    },
    {
      "cell_type": "markdown",
      "metadata": {
        "id": "NFSmRaSydBHq"
      },
      "source": [
        "*Exercise 10:* Write a guessing game program that will repeatedly guess a number that the users picks, with the user indicating higher or lower, until it correctly guesses the number."
      ]
    },
    {
      "cell_type": "code",
      "metadata": {
        "id": "Ie2E1JzCdBHr"
      },
      "source": [
        "def guessingGame():\n",
        "  print(\"Think of a number between 1 to 10. I will attempt to guess it\")\n",
        "  high = 10\n",
        "  low = 0\n",
        "  \n",
        "  while True:\n",
        "    if low > high:\n",
        "      print(\"error. Couldn't find no\")\n",
        "      break\n",
        "    guess = (high + low) // 2\n",
        "    ans = input(\"is \" + str(guess) + \" your guess? Type 'y' if Yes and 'n' if No\")\n",
        "    if ans == 'y':\n",
        "      print(\"I guessed it\")\n",
        "      break\n",
        "    ans = input(\"is \" + str(guess) + \" higher or lower than your guess? Type 'higher' or 'lower'\")\n",
        "    if ans == \"lower\":\n",
        "      low = guess\n",
        "    elif ans == \"higher\":\n",
        "      high = guess\n",
        "    else:\n",
        "      print(\"Invalid input\")\n",
        "      break\n",
        "\n",
        "    \n"
      ],
      "execution_count": 249,
      "outputs": []
    },
    {
      "cell_type": "code",
      "metadata": {
        "id": "6T8YdWSMdBHs",
        "outputId": "3e556e73-e7ca-4332-c786-f56fca0ce304",
        "colab": {
          "base_uri": "https://localhost:8080/",
          "height": 68
        }
      },
      "source": [
        "# Test your solution here\n",
        "guessingGame()\n"
      ],
      "execution_count": 251,
      "outputs": [
        {
          "output_type": "stream",
          "text": [
            "Think of a number between 1 to 10. I will attempt to guess it\n",
            "is 5 your guess? Type 'y' if Yes and 'n' if Noy\n",
            "I guessed it\n"
          ],
          "name": "stdout"
        }
      ]
    }
  ]
}