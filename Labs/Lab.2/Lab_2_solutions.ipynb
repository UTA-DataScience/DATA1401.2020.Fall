{
  "nbformat": 4,
  "nbformat_minor": 0,
  "metadata": {
    "colab": {
      "name": "Copy of Lab-2.ipynb",
      "provenance": [],
      "collapsed_sections": []
    },
    "kernelspec": {
      "display_name": "Python 3",
      "language": "python",
      "name": "python3"
    },
    "language_info": {
      "codemirror_mode": {
        "name": "ipython",
        "version": 3
      },
      "file_extension": ".py",
      "mimetype": "text/x-python",
      "name": "python",
      "nbconvert_exporter": "python",
      "pygments_lexer": "ipython3",
      "version": "3.8.0"
    }
  },
  "cells": [
    {
      "cell_type": "markdown",
      "metadata": {
        "colab_type": "text",
        "id": "uk7yc0nadBGa"
      },
      "source": [
        "# Lab 2\n",
        "\n",
        "[![Open In Colab](https://colab.research.google.com/assets/colab-badge.svg)](https://colab.research.google.com/github/UTA-DataScience/DATA1401.2020.Fall/blob/master/Labs/Lab.2/Lab.2.ipynb)\n"
      ]
    },
    {
      "cell_type": "markdown",
      "metadata": {
        "colab_type": "text",
        "id": "u9RAhs5b4vXY"
      },
      "source": [
        "\n",
        "## Make your fork private\n",
        "\n",
        "Navigate your fork of the course repository on GitHub and click the \"gear\" icon to change the settings. Select \"Options\" on the left and scroll all the way down. Then click on \"Make Private\" to make your repository private. \n",
        "\n",
        "Next select the collaborators on the left and add your Professor as a collaborator. "
      ]
    },
    {
      "cell_type": "markdown",
      "metadata": {
        "colab_type": "text",
        "id": "q-gMWiE4dBG_"
      },
      "source": [
        "## Python Programming\n",
        "\n",
        "In the remainder of this lab you will practice python by solving some simple exercises. \n",
        "\n",
        "*Exercise 1:* Write 2 functions `even(x)` and `odd(x)` that take an integer and returns True if the input is even or odd, otherwise returns False. Use cell below for your solution. Use the subsequent cell to demonstrate that your solution works. Feel free to add additional cell as needed using the \"+\" button on the button bar above. "
      ]
    },
    {
      "cell_type": "code",
      "metadata": {
        "colab_type": "code",
        "id": "jwN5jff1dBG_",
        "colab": {}
      },
      "source": [
        "# Write you solution here\n",
        "\n",
        "def even(num):\n",
        "  if num%2==0:\n",
        "    return True\n",
        "  else:\n",
        "    return False"
      ],
      "execution_count": 68,
      "outputs": []
    },
    {
      "cell_type": "code",
      "metadata": {
        "colab_type": "code",
        "id": "xNJAcodhdBHB",
        "colab": {
          "base_uri": "https://localhost:8080/",
          "height": 51
        },
        "outputId": "35c73f4e-279e-4c54-9d9b-d51e4d7c1a9a"
      },
      "source": [
        "# Test your solution here\n",
        "\n",
        "print(\"Even test, even input:\",even(2))\n",
        "print(\"Even test, odd input:\",even(223))\n",
        "\n",
        "\n"
      ],
      "execution_count": 69,
      "outputs": [
        {
          "output_type": "stream",
          "text": [
            "Even test, even input: True\n",
            "Even test, odd input: False\n"
          ],
          "name": "stdout"
        }
      ]
    },
    {
      "cell_type": "markdown",
      "metadata": {
        "colab_type": "text",
        "id": "KL_pyzG8dBHD"
      },
      "source": [
        "*Exercise 2:* Write a function that takes a list of numbers as input and returns a list of the subset of elements that are less that 10. Test your solution."
      ]
    },
    {
      "cell_type": "code",
      "metadata": {
        "colab_type": "code",
        "id": "g8nt0wnldBHE",
        "colab": {
          "base_uri": "https://localhost:8080/",
          "height": 34
        },
        "outputId": "fc862e68-9189-471f-f4ef-8d95aa2b360a"
      },
      "source": [
        "# Write you solution here\n",
        "\n",
        "input_string = input(\"Enter a list element separated by comma \")\n",
        "list  = input_string.split(\",\")\n"
      ],
      "execution_count": 130,
      "outputs": [
        {
          "output_type": "stream",
          "text": [
            "Enter a list element separated by comma 1,12,6\n"
          ],
          "name": "stdout"
        }
      ]
    },
    {
      "cell_type": "code",
      "metadata": {
        "colab_type": "code",
        "id": "__HTUWA1dBHH",
        "colab": {
          "base_uri": "https://localhost:8080/",
          "height": 214
        },
        "outputId": "de6824d7-7db6-4a61-a8db-ab61bb0da1dc"
      },
      "source": [
        "# Test your solution here\n",
        "\n",
        "if list < 10:\n",
        "  print(list)"
      ],
      "execution_count": 131,
      "outputs": [
        {
          "output_type": "error",
          "ename": "TypeError",
          "evalue": "ignored",
          "traceback": [
            "\u001b[0;31m---------------------------------------------------------------------------\u001b[0m",
            "\u001b[0;31mTypeError\u001b[0m                                 Traceback (most recent call last)",
            "\u001b[0;32m<ipython-input-131-ba273d56f8ad>\u001b[0m in \u001b[0;36m<module>\u001b[0;34m()\u001b[0m\n\u001b[1;32m      1\u001b[0m \u001b[0;31m# Test your solution here\u001b[0m\u001b[0;34m\u001b[0m\u001b[0;34m\u001b[0m\u001b[0;34m\u001b[0m\u001b[0m\n\u001b[1;32m      2\u001b[0m \u001b[0;34m\u001b[0m\u001b[0m\n\u001b[0;32m----> 3\u001b[0;31m \u001b[0;32mif\u001b[0m \u001b[0mlist\u001b[0m \u001b[0;34m<\u001b[0m \u001b[0;36m10\u001b[0m\u001b[0;34m:\u001b[0m\u001b[0;34m\u001b[0m\u001b[0;34m\u001b[0m\u001b[0m\n\u001b[0m\u001b[1;32m      4\u001b[0m   \u001b[0mprint\u001b[0m\u001b[0;34m(\u001b[0m\u001b[0mlist\u001b[0m\u001b[0;34m)\u001b[0m\u001b[0;34m\u001b[0m\u001b[0;34m\u001b[0m\u001b[0m\n",
            "\u001b[0;31mTypeError\u001b[0m: '<' not supported between instances of 'list' and 'int'"
          ]
        }
      ]
    },
    {
      "cell_type": "markdown",
      "metadata": {
        "colab_type": "text",
        "id": "T0cx91JudBHK"
      },
      "source": [
        "*Exercise 3:* Write a function that takes a number `x_max` as input and returns a function that performs the same task as exercise 2, but for `x_max` instead of 10."
      ]
    },
    {
      "cell_type": "code",
      "metadata": {
        "colab_type": "code",
        "id": "PqummMcmdBHK",
        "colab": {
          "base_uri": "https://localhost:8080/",
          "height": 34
        },
        "outputId": "4deaa53c-5172-4ee3-b5d8-a53408c058d5"
      },
      "source": [
        "# Write you solution here\n",
        "\n",
        "input_string = input(\"Enter a list element separated by comma \")\n",
        "list  = input_string.split(\",\")\n",
        "\n"
      ],
      "execution_count": 123,
      "outputs": [
        {
          "output_type": "stream",
          "text": [
            "Enter a list element separated by comma 4,7,8\n"
          ],
          "name": "stdout"
        }
      ]
    },
    {
      "cell_type": "code",
      "metadata": {
        "colab_type": "code",
        "id": "evRYemjXdBHN",
        "colab": {
          "base_uri": "https://localhost:8080/",
          "height": 34
        },
        "outputId": "77b59b85-f9a1-409a-81c6-b2ff31e50059"
      },
      "source": [
        "# Test your solution here\n",
        "\n",
        "print(\"The largest number is:\", max(list))"
      ],
      "execution_count": 124,
      "outputs": [
        {
          "output_type": "stream",
          "text": [
            "The largest number is: 8\n"
          ],
          "name": "stdout"
        }
      ]
    },
    {
      "cell_type": "markdown",
      "metadata": {
        "colab_type": "text",
        "id": "h0I8M27LdBHP"
      },
      "source": [
        "*Exercise 4:* Write a function that takes an interger as input and returns a list of all divisors of that number."
      ]
    },
    {
      "cell_type": "code",
      "metadata": {
        "colab_type": "code",
        "id": "k6GUpDyrdBHP",
        "colab": {
          "base_uri": "https://localhost:8080/",
          "height": 85
        },
        "outputId": "e3750006-1cde-45d2-e781-8ac5d1bff84d"
      },
      "source": [
        "# Write you solution here\n",
        "\n",
        "a=int(input(\"Enter a number:\"))\n",
        "\n",
        "print(\"The divisors are:\")\n",
        "for x in range(1,a+1):\n",
        "    if(a%x==0):\n",
        "      print(x)\n",
        "        "
      ],
      "execution_count": 66,
      "outputs": [
        {
          "output_type": "stream",
          "text": [
            "Enter a number:3\n",
            "The divisors are:\n",
            "1\n",
            "3\n"
          ],
          "name": "stdout"
        }
      ]
    },
    {
      "cell_type": "markdown",
      "metadata": {
        "colab_type": "text",
        "id": "IOWnLMvxdBHT"
      },
      "source": [
        "*Exercise 5:* Write a function that takes 2 lists as input and returns a list that contains only the elements that are common between the lists (without duplicates). Make sure your program works on two lists of different sizes."
      ]
    },
    {
      "cell_type": "code",
      "metadata": {
        "colab_type": "code",
        "id": "tR31bnTDdBHT",
        "colab": {}
      },
      "source": [
        "# Write you solution here\n",
        "\n",
        "x = [2, 4, 6, 6, 8, 2, 68, 4, 9, 23, 48, 25, 11]\n",
        "y = [1, 2, 2, 68, 13, 23, 7, 43, 45, 11, 99, 101, 123]\n",
        "\n",
        "a=set(x) & set(y)\n",
        "\n"
      ],
      "execution_count": 35,
      "outputs": []
    },
    {
      "cell_type": "code",
      "metadata": {
        "colab_type": "code",
        "id": "IJDf6ebYdBHV",
        "colab": {
          "base_uri": "https://localhost:8080/",
          "height": 34
        },
        "outputId": "14ada68b-848a-46f4-bb9a-fd5065ccb92d"
      },
      "source": [
        "# Test your solution here\n",
        "\n",
        "print(a)"
      ],
      "execution_count": 36,
      "outputs": [
        {
          "output_type": "stream",
          "text": [
            "{2, 11, 68, 23}\n"
          ],
          "name": "stdout"
        }
      ]
    },
    {
      "cell_type": "markdown",
      "metadata": {
        "colab_type": "text",
        "id": "3vA7M9pldBHX"
      },
      "source": [
        "*Exercise 6:* Write a function that reads takes a string and returns `True` if the string is a palindrome. (A palindrome is a string that reads the same forwards and backwards.)"
      ]
    },
    {
      "cell_type": "code",
      "metadata": {
        "colab_type": "code",
        "id": "ncyMDzp6dBHX",
        "colab": {}
      },
      "source": [
        "# Write you solution here\n",
        "\n",
        "def palindrome(x):\n",
        "    return x == x[::-1]\n"
      ],
      "execution_count": 59,
      "outputs": []
    },
    {
      "cell_type": "code",
      "metadata": {
        "colab_type": "code",
        "id": "v5cmVQ6MdBHZ",
        "colab": {
          "base_uri": "https://localhost:8080/",
          "height": 51
        },
        "outputId": "67afbd41-5159-402b-ccba-fe31650fb742"
      },
      "source": [
        "# Test your solution here\n",
        "\n",
        "x= input()\n",
        "ans = palindrome(x)\n",
        " \n",
        "if ans:\n",
        "    print(\"Yes\")\n",
        "else:\n",
        "    print(\"No\")"
      ],
      "execution_count": 65,
      "outputs": [
        {
          "output_type": "stream",
          "text": [
            "non\n",
            "Yes\n"
          ],
          "name": "stdout"
        }
      ]
    },
    {
      "cell_type": "markdown",
      "metadata": {
        "colab_type": "text",
        "id": "fT35xwandBHc"
      },
      "source": [
        "*Exercise 7:* Write a Rock-Paper-Scissors game function, that takes 2 strings, the inputs of player 1 and player 2, and output 1 or 2 corresponding to which player wins, or 0 if draw.\n",
        "\n",
        "Implement a Rock-Paper-Scissors game by soliciting input from 2 players, testing with this function, and repeating if there is a draw.\n",
        "\n",
        "Remember the rules:\n",
        "\n",
        "* Rock beats scissors\n",
        "* Scissors beats paper\n",
        "* Paper beats rock"
      ]
    },
    {
      "cell_type": "code",
      "metadata": {
        "colab_type": "code",
        "id": "U1_HxxaWdBHd",
        "colab": {}
      },
      "source": [
        "# Write you solution here"
      ],
      "execution_count": null,
      "outputs": []
    },
    {
      "cell_type": "code",
      "metadata": {
        "colab_type": "code",
        "id": "ooR2ldZBdBHf",
        "colab": {}
      },
      "source": [
        "# Test your solution here"
      ],
      "execution_count": null,
      "outputs": []
    },
    {
      "cell_type": "markdown",
      "metadata": {
        "colab_type": "text",
        "id": "dJQzXNKzdBHh"
      },
      "source": [
        "*Exercise 8:* Write a function that takes a integer `n` as input and \n",
        "outputs a list of the first `n` Fibonnaci numbers.\n",
        "\n",
        "The Fibonnaci seqence is a sequence of numbers where the next number in the sequence is the sum of the previous two numbers in the sequence. The sequence looks like this: 1, 1, 2, 3, 5, 8, 13, …)"
      ]
    },
    {
      "cell_type": "code",
      "metadata": {
        "colab_type": "code",
        "id": "G_4ooRXTdBHh",
        "colab": {}
      },
      "source": [
        "# Write you solution here\n",
        "\n",
        "def Fibonacci(n): \n",
        "    if n<0: \n",
        "        return\n",
        "    \n",
        "    elif n==0: \n",
        "        return 0\n",
        "    \n",
        "    elif n==1: \n",
        "        return 1\n",
        "    else: \n",
        "        return Fibonacci(n-1)+Fibonacci(n-2) "
      ],
      "execution_count": 92,
      "outputs": []
    },
    {
      "cell_type": "code",
      "metadata": {
        "colab_type": "code",
        "id": "rzK5FskJdBHj",
        "colab": {
          "base_uri": "https://localhost:8080/",
          "height": 51
        },
        "outputId": "2ba0aba7-9889-4d4c-dcbd-f8831f516474"
      },
      "source": [
        "# Test your solution here\n",
        "\n",
        "n=int(input(\"Enter a number:\"))\n",
        "print(Fibonacci(n))\n"
      ],
      "execution_count": 93,
      "outputs": [
        {
          "output_type": "stream",
          "text": [
            "Enter a number:9\n",
            "34\n"
          ],
          "name": "stdout"
        }
      ]
    },
    {
      "cell_type": "markdown",
      "metadata": {
        "colab_type": "text",
        "id": "q6c_AskadBHl"
      },
      "source": [
        "*Exercise 9:* Write a function that takes a string of consisting of several words and returns a string that reverses the order of the words.\n"
      ]
    },
    {
      "cell_type": "code",
      "metadata": {
        "colab_type": "code",
        "id": "aJdXX6FHdBHl",
        "colab": {}
      },
      "source": [
        "# Write you solution here\n",
        "\n",
        "def word(a):\n",
        "  words=a.split(' ')\n",
        "  string=[]\n",
        "  for word in words:\n",
        "    string.insert(0, word)\n",
        "\n"
      ],
      "execution_count": 106,
      "outputs": []
    },
    {
      "cell_type": "code",
      "metadata": {
        "colab_type": "code",
        "id": "nQyhnLZ_dBHn",
        "colab": {
          "base_uri": "https://localhost:8080/",
          "height": 51
        },
        "outputId": "6403322f-8750-45ae-c149-b14ab51ac9c6"
      },
      "source": [
        "# Test your solution here\n",
        "\n",
        "a=input()\n",
        "\n",
        "print(\" \".join(string))"
      ],
      "execution_count": 107,
      "outputs": [
        {
          "output_type": "stream",
          "text": [
            "i am matt\n",
            "matt am i\n"
          ],
          "name": "stdout"
        }
      ]
    },
    {
      "cell_type": "markdown",
      "metadata": {
        "colab_type": "text",
        "id": "NFSmRaSydBHq"
      },
      "source": [
        "*Exercise 10:* Write a guessing game program that will repeatedly guess a number that the users picks, with the user indicating higher or lower, until it correctly guesses the number."
      ]
    },
    {
      "cell_type": "code",
      "metadata": {
        "colab_type": "code",
        "id": "Ie2E1JzCdBHr",
        "colab": {}
      },
      "source": [
        "# Write you solution here\n",
        "\n",
        "right = 9\n",
        "guess = 0\n",
        "c = 0\n"
      ],
      "execution_count": 135,
      "outputs": []
    },
    {
      "cell_type": "code",
      "metadata": {
        "colab_type": "code",
        "id": "6T8YdWSMdBHs",
        "colab": {
          "base_uri": "https://localhost:8080/",
          "height": 221
        },
        "outputId": "b7fb5467-ce24-449e-80a6-d4a62329735a"
      },
      "source": [
        "# Test your solution here\n",
        "while guess != right and guess != \"exit\":\n",
        "    guess = input(\"Enter a guess \")\n",
        "\n",
        "    if guess == \"exit\":\n",
        "        break\n",
        "\n",
        "    guess = int(guess)\n",
        "    c += 1\n",
        "\n",
        "    if guess < right:\n",
        "        print(\"low\")\n",
        "    elif guess > right:\n",
        "        print(\"high\")\n",
        "    else:\n",
        "        print(\"Yes\")\n"
      ],
      "execution_count": 136,
      "outputs": [
        {
          "output_type": "stream",
          "text": [
            "Enter a guess 7\n",
            "low\n",
            "Enter a guess 4\n",
            "low\n",
            "Enter a guess 25\n",
            "high\n",
            "Enter a guess 11\n",
            "high\n",
            "Enter a guess 10\n",
            "high\n",
            "Enter a guess 9\n",
            "Yes\n"
          ],
          "name": "stdout"
        }
      ]
    }
  ]
}