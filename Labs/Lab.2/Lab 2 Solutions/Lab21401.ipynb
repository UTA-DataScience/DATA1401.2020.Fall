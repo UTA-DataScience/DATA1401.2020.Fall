{
  "nbformat": 4,
  "nbformat_minor": 0,
  "metadata": {
    "colab": {
      "name": "Lab21401.ipynb",
      "provenance": [],
      "collapsed_sections": []
    },
    "kernelspec": {
      "display_name": "Python 3",
      "language": "python",
      "name": "python3"
    },
    "language_info": {
      "codemirror_mode": {
        "name": "ipython",
        "version": 3
      },
      "file_extension": ".py",
      "mimetype": "text/x-python",
      "name": "python",
      "nbconvert_exporter": "python",
      "pygments_lexer": "ipython3",
      "version": "3.8.0"
    }
  },
  "cells": [
    {
      "cell_type": "markdown",
      "metadata": {
        "colab_type": "text",
        "id": "uk7yc0nadBGa"
      },
      "source": [
        "# Lab 2\n",
        "\n",
        "[![Open In Colab](https://colab.research.google.com/assets/colab-badge.svg)](https://colab.research.google.com/github/UTA-DataScience/DATA1401.2020.Fall/blob/master/Labs/Lab.2/Lab.2.ipynb)\n"
      ]
    },
    {
      "cell_type": "markdown",
      "metadata": {
        "colab_type": "text",
        "id": "u9RAhs5b4vXY"
      },
      "source": [
        "\n",
        "## Make your fork private\n",
        "\n",
        "Navigate your fork of the course repository on GitHub and click the \"gear\" icon to change the settings. Select \"Options\" on the left and scroll all the way down. Then click on \"Make Private\" to make your repository private. \n",
        "\n",
        "Next select the collaborators on the left and add your Professor as a collaborator. "
      ]
    },
    {
      "cell_type": "markdown",
      "metadata": {
        "colab_type": "text",
        "id": "q-gMWiE4dBG_"
      },
      "source": [
        "## Python Programming\n",
        "\n",
        "In the remainder of this lab you will practice python by solving some simple exercises. \n",
        "\n",
        "*Exercise 1:* Write 2 functions `even(x)` and `odd(x)` that take an integer and returns True if the input is even or odd, otherwise returns False. Use cell below for your solution. Use the subsequent cell to demonstrate that your solution works. Feel free to add additional cell as needed using the \"+\" button on the button bar above. "
      ]
    },
    {
      "cell_type": "code",
      "metadata": {
        "colab_type": "code",
        "id": "jwN5jff1dBG_",
        "colab": {}
      },
      "source": [
        "# Write you solution here\n",
        "def even(num):\n",
        "  if num%2==0:\n",
        "    return True\n",
        "  else:\n",
        "    return False\n",
        "\n",
        "def odd(num):\n",
        "  if num%2==1: \n",
        "    return True\n",
        "  else:\n",
        "    return False"
      ],
      "execution_count": null,
      "outputs": []
    },
    {
      "cell_type": "code",
      "metadata": {
        "colab_type": "code",
        "id": "xNJAcodhdBHB",
        "colab": {
          "base_uri": "https://localhost:8080/",
          "height": 85
        },
        "outputId": "41b91589-2027-4825-ad79-875201085073"
      },
      "source": [
        "# Test your solution here\n",
        "print(\"Even test, even input: \", even(2))\n",
        "print(\"Even test, odd input: \",even(3))\n",
        "\n",
        "print(\"Odd test, odd input: \",odd(3))\n",
        "print(\"Odd test, even input: \",odd(4))"
      ],
      "execution_count": null,
      "outputs": [
        {
          "output_type": "stream",
          "text": [
            "Even test, even input:  True\n",
            "Even test, odd input:  False\n",
            "Odd test, odd input:  True\n",
            "Odd test, even input:  False\n"
          ],
          "name": "stdout"
        }
      ]
    },
    {
      "cell_type": "markdown",
      "metadata": {
        "colab_type": "text",
        "id": "KL_pyzG8dBHD"
      },
      "source": [
        "*Exercise 2:* Write a function that takes a list of numbers as input and returns a list of the subset of elements that are less that 10. Test your solution."
      ]
    },
    {
      "cell_type": "code",
      "metadata": {
        "colab_type": "code",
        "id": "g8nt0wnldBHE",
        "colab": {}
      },
      "source": [
        "# Write you solution here\n",
        "def less_than_ten(lst):\n",
        "  out_list=list()\n",
        "  for element in lst: \n",
        "    if element<10:\n",
        "      out_list.append(element)\n",
        "\n",
        "  return out_list"
      ],
      "execution_count": null,
      "outputs": []
    },
    {
      "cell_type": "code",
      "metadata": {
        "colab_type": "code",
        "id": "__HTUWA1dBHH",
        "colab": {
          "base_uri": "https://localhost:8080/",
          "height": 34
        },
        "outputId": "5d6e70f2-9e8e-4d4f-bd4a-60633dfd8691"
      },
      "source": [
        "# Test your solution here\n",
        "less_than_ten([1,3,6,11,40,50,100,7])"
      ],
      "execution_count": null,
      "outputs": [
        {
          "output_type": "execute_result",
          "data": {
            "text/plain": [
              "[1, 3, 6, 7]"
            ]
          },
          "metadata": {
            "tags": []
          },
          "execution_count": 19
        }
      ]
    },
    {
      "cell_type": "markdown",
      "metadata": {
        "colab_type": "text",
        "id": "T0cx91JudBHK"
      },
      "source": [
        "*Exercise 3:* Write a function that takes a number `x_max` as input and returns a function that performs the same task as exercise 2, but for `x_max` instead of 10."
      ]
    },
    {
      "cell_type": "code",
      "metadata": {
        "colab_type": "code",
        "id": "PqummMcmdBHK",
        "colab": {}
      },
      "source": [
        "# Write you solution here\n",
        "def less_than_max(x_max):\n",
        "  out_list=list()\n",
        "\n",
        "  for num in range(x_max):\n",
        "    if num%2==1:\n",
        "      out_list.append(num)\n",
        "\n",
        "  return out_list\n",
        "  "
      ],
      "execution_count": null,
      "outputs": []
    },
    {
      "cell_type": "code",
      "metadata": {
        "colab_type": "code",
        "id": "evRYemjXdBHN",
        "colab": {
          "base_uri": "https://localhost:8080/",
          "height": 34
        },
        "outputId": "af490de9-bfbd-443c-f5a3-bf29b6c60afd"
      },
      "source": [
        "# Test your solution here\n",
        "less_than_max(10)"
      ],
      "execution_count": null,
      "outputs": [
        {
          "output_type": "execute_result",
          "data": {
            "text/plain": [
              "[1, 3, 5, 7, 9]"
            ]
          },
          "metadata": {
            "tags": []
          },
          "execution_count": 3
        }
      ]
    },
    {
      "cell_type": "markdown",
      "metadata": {
        "colab_type": "text",
        "id": "h0I8M27LdBHP"
      },
      "source": [
        "*Exercise 4:* Write a function that takes an interger as input and returns a list of all divisors of that number."
      ]
    },
    {
      "cell_type": "code",
      "metadata": {
        "colab_type": "code",
        "id": "k6GUpDyrdBHP",
        "colab": {}
      },
      "source": [
        "# Write you solution here\n",
        "def divisible_by(num):\n",
        "  divisible_list=list()\n",
        "  i=1\n",
        "  while i<=num:\n",
        "    if num%i==0:\n",
        "      divisible_list.append(i)\n",
        "    i=i+1\n",
        "\n",
        "  return divisible_list\n"
      ],
      "execution_count": null,
      "outputs": []
    },
    {
      "cell_type": "code",
      "metadata": {
        "colab_type": "code",
        "id": "YDvRmft-dBHR",
        "colab": {
          "base_uri": "https://localhost:8080/",
          "height": 34
        },
        "outputId": "0b869d39-1c2f-4d37-a237-607d851bcf6e"
      },
      "source": [
        "# Test your solution here\n",
        "divisible_by(17)"
      ],
      "execution_count": null,
      "outputs": [
        {
          "output_type": "execute_result",
          "data": {
            "text/plain": [
              "[1, 17]"
            ]
          },
          "metadata": {
            "tags": []
          },
          "execution_count": 5
        }
      ]
    },
    {
      "cell_type": "markdown",
      "metadata": {
        "colab_type": "text",
        "id": "IOWnLMvxdBHT"
      },
      "source": [
        "*Exercise 5:* Write a function that takes 2 lists as input and returns a list that contains only the elements that are common between the lists (without duplicates). Make sure your program works on two lists of different sizes."
      ]
    },
    {
      "cell_type": "code",
      "metadata": {
        "colab_type": "code",
        "id": "tR31bnTDdBHT",
        "colab": {}
      },
      "source": [
        "# Write you solution here\n",
        "def common_numbers(flst,slst):\n",
        "  common_list=list()\n",
        "\n",
        "  for num1 in flst:\n",
        "    for num2 in slst:\n",
        "      if num2==num1:\n",
        "        common_list.append(num2)\n",
        "  \n",
        "  return common_list\n"
      ],
      "execution_count": null,
      "outputs": []
    },
    {
      "cell_type": "code",
      "metadata": {
        "colab_type": "code",
        "id": "IJDf6ebYdBHV",
        "colab": {
          "base_uri": "https://localhost:8080/",
          "height": 34
        },
        "outputId": "f7dc12f8-c477-4c05-92c9-1e34a091562d"
      },
      "source": [
        "# Test your solution here\n",
        "common_numbers([1,2,5,8,10],[1,60,8,5])"
      ],
      "execution_count": null,
      "outputs": [
        {
          "output_type": "execute_result",
          "data": {
            "text/plain": [
              "[1, 5, 8]"
            ]
          },
          "metadata": {
            "tags": []
          },
          "execution_count": 12
        }
      ]
    },
    {
      "cell_type": "markdown",
      "metadata": {
        "colab_type": "text",
        "id": "3vA7M9pldBHX"
      },
      "source": [
        "*Exercise 6:* Write a function that reads takes a string and returns `True` if the string is a palindrome. (A palindrome is a string that reads the same forwards and backwards.)"
      ]
    },
    {
      "cell_type": "code",
      "metadata": {
        "colab_type": "code",
        "id": "ncyMDzp6dBHX",
        "colab": {}
      },
      "source": [
        "# Write you solution here\n",
        "def palindrome(Word): \n",
        "  backward = \"\"\n",
        "  for char in Word[ : : -1]:\n",
        "    backward+=char\n",
        "  \n",
        "  if backward==Word:\n",
        "    return True\n",
        "  else:\n",
        "    return False\n"
      ],
      "execution_count": null,
      "outputs": []
    },
    {
      "cell_type": "code",
      "metadata": {
        "colab_type": "code",
        "id": "v5cmVQ6MdBHZ",
        "colab": {
          "base_uri": "https://localhost:8080/",
          "height": 34
        },
        "outputId": "375ab626-1a38-4273-bed5-8e7be351ac2e"
      },
      "source": [
        "# Test your solution here\n",
        "palindrome('aaeeieeaa')"
      ],
      "execution_count": null,
      "outputs": [
        {
          "output_type": "execute_result",
          "data": {
            "text/plain": [
              "True"
            ]
          },
          "metadata": {
            "tags": []
          },
          "execution_count": 27
        }
      ]
    },
    {
      "cell_type": "markdown",
      "metadata": {
        "colab_type": "text",
        "id": "fT35xwandBHc"
      },
      "source": [
        "*Exercise 7:* Write a Rock-Paper-Scissors game function, that takes 2 strings, the inputs of player 1 and player 2, and output 1 or 2 corresponding to which player wins, or 0 if draw.\n",
        "\n",
        "Implement a Rock-Paper-Scissors game by soliciting input from 2 players, testing with this function, and repeating if there is a draw.\n",
        "\n",
        "Remember the rules:\n",
        "\n",
        "* Rock beats scissors\n",
        "* Scissors beats paper\n",
        "* Paper beats rock"
      ]
    },
    {
      "cell_type": "code",
      "metadata": {
        "colab_type": "code",
        "id": "U1_HxxaWdBHd",
        "colab": {}
      },
      "source": [
        "# Write you solution here\n",
        "def RPS(player1,player2):\n",
        "  exit = \"Please input valid entries\"\n",
        "  player1 = player1.lower()\n",
        "  player2 = player2.lower()\n",
        "  if ((player1 == 'rock' or player1 == 'scissors' or player1 == 'paper') or (player2 == 'rock' or player2 == 'scissors' or player2 == 'paper')):\n",
        "    if player1 == 'rock' and player2 == 'scissors':\n",
        "      return 1\n",
        "    elif player1 == 'scissors' and player2 == 'paper':\n",
        "      return 1\n",
        "    elif player1 == 'paper' and player2 == 'rock':\n",
        "      return 1\n",
        "    elif player2 == 'rock' and player1 == 'scissors':\n",
        "      return 2\n",
        "    elif player2 == 'scissors' and player1 == 'paper':\n",
        "      return 2\n",
        "    elif player2 == 'paper' and player1 == 'rock':\n",
        "      return 2\n",
        "    elif player1 == player2:\n",
        "      return 0\n",
        "  else:\n",
        "    return exit"
      ],
      "execution_count": null,
      "outputs": []
    },
    {
      "cell_type": "code",
      "metadata": {
        "colab_type": "code",
        "id": "ooR2ldZBdBHf",
        "colab": {
          "base_uri": "https://localhost:8080/",
          "height": 34
        },
        "outputId": "731ee703-f8e9-48a9-aa78-f37b76b15203"
      },
      "source": [
        "# Test your solution here\n",
        "RPS('rock','paper')\n"
      ],
      "execution_count": null,
      "outputs": [
        {
          "output_type": "execute_result",
          "data": {
            "text/plain": [
              "2"
            ]
          },
          "metadata": {
            "tags": []
          },
          "execution_count": 56
        }
      ]
    },
    {
      "cell_type": "markdown",
      "metadata": {
        "colab_type": "text",
        "id": "dJQzXNKzdBHh"
      },
      "source": [
        "*Exercise 8:* Write a function that takes a integer `n` as input and \n",
        "outputs a list of the first `n` Fibonnaci numbers.\n",
        "\n",
        "The Fibonnaci seqence is a sequence of numbers where the next number in the sequence is the sum of the previous two numbers in the sequence. The sequence looks like this: 1, 1, 2, 3, 5, 8, 13, …)"
      ]
    },
    {
      "cell_type": "code",
      "metadata": {
        "colab_type": "code",
        "id": "G_4ooRXTdBHh",
        "colab": {}
      },
      "source": [
        "# Write you solution here\n",
        "def Fibonnaci(n):\n",
        "  fibonnaci_sequence = list()\n",
        "  fibonnaci_sequence.append(1)\n",
        "  fibonnaci_sequence.append(1)\n",
        "  i = 1 \n",
        "  for i in range(2,n):\n",
        "    fibonnaci_sequence.append(fibonnaci_sequence[i-1]+fibonnaci_sequence[i-2])\n",
        "    i+=1\n",
        "\n",
        "  return fibonnaci_sequence\n",
        "  \n",
        "  "
      ],
      "execution_count": null,
      "outputs": []
    },
    {
      "cell_type": "code",
      "metadata": {
        "colab_type": "code",
        "id": "rzK5FskJdBHj",
        "colab": {
          "base_uri": "https://localhost:8080/",
          "height": 34
        },
        "outputId": "98d87cde-b294-4185-e921-482a47c8947f"
      },
      "source": [
        "# Test your solution here\n",
        "Fibonnaci(10)"
      ],
      "execution_count": null,
      "outputs": [
        {
          "output_type": "execute_result",
          "data": {
            "text/plain": [
              "[1, 1, 2, 3, 5, 8, 13, 21, 34, 55]"
            ]
          },
          "metadata": {
            "tags": []
          },
          "execution_count": 18
        }
      ]
    },
    {
      "cell_type": "markdown",
      "metadata": {
        "colab_type": "text",
        "id": "q6c_AskadBHl"
      },
      "source": [
        "*Exercise 9:* Write a function that takes a string of consisting of several words and returns a string that reverses the order of the words.\n"
      ]
    },
    {
      "cell_type": "code",
      "metadata": {
        "colab_type": "code",
        "id": "aJdXX6FHdBHl",
        "colab": {}
      },
      "source": [
        "# Write you solution here\n",
        "def reverse(Word):\n",
        "  back = \"\"\n",
        "  for char in Word[ : : -1]:\n",
        "    back+=char\n",
        "  return back"
      ],
      "execution_count": null,
      "outputs": []
    },
    {
      "cell_type": "code",
      "metadata": {
        "colab_type": "code",
        "id": "nQyhnLZ_dBHn",
        "colab": {
          "base_uri": "https://localhost:8080/",
          "height": 35
        },
        "outputId": "993d4c1c-95b4-4d5c-9728-c069803e3d98"
      },
      "source": [
        "# Test your solution here\n",
        "reverse('hello')"
      ],
      "execution_count": null,
      "outputs": [
        {
          "output_type": "execute_result",
          "data": {
            "application/vnd.google.colaboratory.intrinsic+json": {
              "type": "string"
            },
            "text/plain": [
              "'olleh'"
            ]
          },
          "metadata": {
            "tags": []
          },
          "execution_count": 30
        }
      ]
    },
    {
      "cell_type": "markdown",
      "metadata": {
        "colab_type": "text",
        "id": "NFSmRaSydBHq"
      },
      "source": [
        "*Exercise 10:* Write a guessing game program that will repeatedly guess a number that the users picks, with the user indicating higher or lower, until it correctly guesses the number."
      ]
    },
    {
      "cell_type": "code",
      "metadata": {
        "colab_type": "code",
        "id": "Ie2E1JzCdBHr",
        "colab": {}
      },
      "source": [
        "# Write you solution here\n",
        "def guessinggame():\n",
        "  num = 17\n",
        "  usernum=input('Please guess the number between 1 - 20: ')\n",
        "  usernum=int(usernum)\n",
        "  while (usernum!=num):\n",
        "    if (usernum<num):\n",
        "      print('The number is higher.')\n",
        "      usernum=int(input('Guess again: '))\n",
        "    else:\n",
        "      print('The number is lower.')\n",
        "      usernum=int(input('Guess again: '))\n",
        "  \n",
        "  if (usernum==num):\n",
        "     print('Great Job. You guess it right!!')\n"
      ],
      "execution_count": null,
      "outputs": []
    },
    {
      "cell_type": "code",
      "metadata": {
        "colab_type": "code",
        "id": "6T8YdWSMdBHs",
        "colab": {
          "base_uri": "https://localhost:8080/",
          "height": 221
        },
        "outputId": "2b467d3f-a142-46d9-f644-81b711fecea7"
      },
      "source": [
        "# Test your solution here\n",
        "guessinggame()"
      ],
      "execution_count": null,
      "outputs": [
        {
          "output_type": "stream",
          "text": [
            "Please guess the number between 1 - 20: 1\n",
            "The number is higher.\n",
            "Guess again: 2\n",
            "The number is higher.\n",
            "Guess again: 3\n",
            "The number is higher.\n",
            "Guess again: 20\n",
            "The number is lower.\n",
            "Guess again: 18\n",
            "The number is lower.\n",
            "Guess again: 17\n",
            "Great Job. You guess it right!!\n"
          ],
          "name": "stdout"
        }
      ]
    }
  ]
}