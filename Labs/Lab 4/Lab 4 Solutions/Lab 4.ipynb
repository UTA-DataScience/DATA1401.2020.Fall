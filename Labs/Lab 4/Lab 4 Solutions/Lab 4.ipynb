{
  "nbformat": 4,
  "nbformat_minor": 0,
  "metadata": {
    "kernelspec": {
      "display_name": "Python 3",
      "language": "python",
      "name": "python3"
    },
    "language_info": {
      "codemirror_mode": {
        "name": "ipython",
        "version": 3
      },
      "file_extension": ".py",
      "mimetype": "text/x-python",
      "name": "python",
      "nbconvert_exporter": "python",
      "pygments_lexer": "ipython3",
      "version": "3.8.1"
    },
    "colab": {
      "name": "Copy of Lab.4.ipynb",
      "provenance": [],
      "collapsed_sections": []
    }
  },
  "cells": [
    {
      "cell_type": "markdown",
      "metadata": {
        "id": "6-vpSjjf6Set"
      },
      "source": [
        "## Lab 4\n",
        "\n",
        "[![Open In Colab](https://colab.research.google.com/assets/colab-badge.svg)](https://colab.research.google.com/github//afarbin/DATA1401-Spring-2020/blob/master/Labs/Lab-4/Lab-4.ipynb)\n",
        "\n",
        "In this lab we will become familiar with distributions, histograms, and functional programming. \n",
        "\n",
        "\n",
        "### Uniform Distribution\n",
        "Lets start with generating some fake random data. You can get a random number between 0 and 1 using the python random module as follow:"
      ]
    },
    {
      "cell_type": "code",
      "metadata": {
        "id": "jcv1BEJ46Seu",
        "outputId": "3b83b672-2f5f-470b-f46f-c6beee7827df",
        "colab": {
          "base_uri": "https://localhost:8080/",
          "height": 34
        }
      },
      "source": [
        "import random\n",
        "x=random.random()\n",
        "print(\"The Value of x is\", x)"
      ],
      "execution_count": 122,
      "outputs": [
        {
          "output_type": "stream",
          "text": [
            "The Value of x is 0.029034337513467845\n"
          ],
          "name": "stdout"
        }
      ]
    },
    {
      "cell_type": "markdown",
      "metadata": {
        "id": "L42ss5lV6Sey"
      },
      "source": [
        "Everytime you call random, you will get a new number.\n",
        "\n",
        "*Exercise 1:* Using random, write a function `generate_uniform(N, mymin, mymax)`, that returns a python list containing N random numbers between specified minimum and maximum value. Note that you may want to quickly work out on paper how to turn numbers between 0 and 1 to between other values. "
      ]
    },
    {
      "cell_type": "code",
      "metadata": {
        "id": "0wDtJQf16Sey"
      },
      "source": [
        "# Skeleton\n",
        "def generate_uniform(N,x_min,x_max):\n",
        "    out = []\n",
        "    ### BEGIN SOLUTION\n",
        "\n",
        "    # Fill in your solution here \n",
        "    min = x_min\n",
        "    max = x_max\n",
        "\n",
        "    while (len(out)!=N):\n",
        "      ran = random.uniform(min,max)\n",
        "      out.append(ran)\n",
        "\n",
        "\n",
        "   \n",
        "      \n",
        "\n",
        "      \n",
        "\n",
        "\n",
        "      \n",
        "     \n",
        "    ### END SOLUTION\n",
        "    return out"
      ],
      "execution_count": 123,
      "outputs": []
    },
    {
      "cell_type": "code",
      "metadata": {
        "id": "n_lqhCa86Se0",
        "outputId": "e1556143-a101-465d-98f6-7585d9607623",
        "colab": {
          "base_uri": "https://localhost:8080/",
          "height": 101
        }
      },
      "source": [
        "# Test your solution here\n",
        "data=generate_uniform(1000,-10,10)\n",
        "print (\"Data Type:\", type(data))\n",
        "print (\"Data Length:\", len(data))\n",
        "if len(data)>0: \n",
        "    print (\"Type of Data Contents:\", type(data[0]))\n",
        "    print (\"Data Minimum:\", min(data))\n",
        "    print (\"Data Maximum:\", max(data))"
      ],
      "execution_count": 124,
      "outputs": [
        {
          "output_type": "stream",
          "text": [
            "Data Type: <class 'list'>\n",
            "Data Length: 1000\n",
            "Type of Data Contents: <class 'float'>\n",
            "Data Minimum: -9.982577040895737\n",
            "Data Maximum: 9.937914063835578\n"
          ],
          "name": "stdout"
        }
      ]
    },
    {
      "cell_type": "markdown",
      "metadata": {
        "id": "pO9iyDFI6Se2"
      },
      "source": [
        "*Exercise 2a:* \n",
        "Write a function that computes the mean of values in a list."
      ]
    },
    {
      "cell_type": "code",
      "metadata": {
        "id": "YtVAvdg56Se3"
      },
      "source": [
        "# Skeleton\n",
        "def mean(Data):\n",
        "    m=0.\n",
        "    \n",
        "    ### BEGIN SOLUTION\n",
        "\n",
        "    # Fill in your solution here        \n",
        "    length = len(data)\n",
        "    sum = 0\n",
        "    for elements in Data: \n",
        "      sum += elements\n",
        "    m = sum/length\n",
        "    ### END SOLUTION\n",
        "    \n",
        "    return m"
      ],
      "execution_count": 125,
      "outputs": []
    },
    {
      "cell_type": "code",
      "metadata": {
        "id": "yTPeQ72P6Se5",
        "outputId": "c21496c3-391d-4cb3-89e3-eb03723e98f7",
        "colab": {
          "base_uri": "https://localhost:8080/",
          "height": 34
        }
      },
      "source": [
        "# Test your solution here\n",
        "print (\"Mean of Data:\", mean(data))"
      ],
      "execution_count": 126,
      "outputs": [
        {
          "output_type": "stream",
          "text": [
            "Mean of Data: 0.015390163258806157\n"
          ],
          "name": "stdout"
        }
      ]
    },
    {
      "cell_type": "markdown",
      "metadata": {
        "id": "ofbYz_Hr6Se7"
      },
      "source": [
        "*Exercise 2b:* \n",
        "Write a function that computes the variance of values in a list."
      ]
    },
    {
      "cell_type": "code",
      "metadata": {
        "id": "-QoM52oy6Se7"
      },
      "source": [
        "# Skeleton\n",
        "import math\n",
        "def variance(Data):\n",
        "    m=0.\n",
        "    \n",
        "    ### BEGIN SOLUTION\n",
        "\n",
        "    # Fill in your solution here        \n",
        "    length = len(Data)\n",
        "    Sum = 0\n",
        "    for elements in Data: \n",
        "      Sum += elements\n",
        "    mean = Sum/length\n",
        "    sum=0\n",
        "    for numbers in Data:  \n",
        "\n",
        "      sum += math.pow(numbers,2)\n",
        "    m = sum/length\n",
        "    ### END SOLUTION\n",
        "    \n",
        "    return m"
      ],
      "execution_count": 127,
      "outputs": []
    },
    {
      "cell_type": "code",
      "metadata": {
        "id": "JTUW6zok6Se-",
        "outputId": "61b13d40-4b50-4308-99f8-831e74a0606a",
        "colab": {
          "base_uri": "https://localhost:8080/",
          "height": 34
        }
      },
      "source": [
        "# Test your solution here\n",
        "print (\"Variance of Data:\", variance(data))"
      ],
      "execution_count": 128,
      "outputs": [
        {
          "output_type": "stream",
          "text": [
            "Variance of Data: 32.908681828203015\n"
          ],
          "name": "stdout"
        }
      ]
    },
    {
      "cell_type": "markdown",
      "metadata": {
        "id": "-vKM0r7X6SfA"
      },
      "source": [
        "## Histogramming"
      ]
    },
    {
      "cell_type": "markdown",
      "metadata": {
        "id": "3akQSzOz6SfB"
      },
      "source": [
        "*Exercise 3:* Write a function that bins the data so that you can create a histogram. An example of how to implement histogramming is the following logic:\n",
        "\n",
        "* User inputs a list of values `x` and optionally `n_bins` which defaults to 10.\n",
        "* If not supplied, find the minimum and maximum (`x_min`,`x_max`) of the values in x.\n",
        "* Determine the bin size (`bin_size`) by dividing the range of the function by the number of bins.\n",
        "* Create an empty list of zeros of size `n_bins`, call it `hist`.\n",
        "* Loop over the values in `x`\n",
        "    * Loop over the values in `hist` with index `i`:\n",
        "        * If x is between `x_min+i*bin_size` and `x_min+(i+1)*bin_size`, increment `hist[i].` \n",
        "        * For efficiency, try to use continue to goto the next bin and data point.\n",
        "* Return `hist` and the list corresponding of the bin edges (i.e. of `x_min+i*bin_size`).    "
      ]
    },
    {
      "cell_type": "code",
      "metadata": {
        "id": "fnMK1VGP6SfB"
      },
      "source": [
        "# Solution\n",
        "def setup(min,max,steps=10):\n",
        "  step = (max-min)/steps\n",
        "  out = list()\n",
        "  for i in range(steps):\n",
        "    out.append(min)\n",
        "    min += step\n",
        "  return out\n",
        "def histogram(x,n_bins=10,x_min=None,x_max=None):\n",
        "    ### BEGIN SOLUTION\n",
        "\n",
        "    # Fill in your solution here        \n",
        "    if x_min==None:\n",
        "      x_min = min(x)\n",
        "    if x_max==None:\n",
        "      x_max = max(x)\n",
        "    \n",
        "    bin_size = x_max/n_bins\n",
        "    bin_edges = setup(x_min,x_max,n_bins)\n",
        "    hist =[0]*n_bins\n",
        "\n",
        "    for xvalues in x: \n",
        "      for i in hist: \n",
        "        if xvalues>=(x_min+i*bin_size) and xvalues<=(x_max+i*bin_size):\n",
        "          hist[i] = hist[i]+1\n",
        "          continue\n",
        "    \n",
        "\n",
        "    ### END SOLUTION\n",
        "\n",
        "    return hist,bin_edges"
      ],
      "execution_count": 132,
      "outputs": []
    },
    {
      "cell_type": "code",
      "metadata": {
        "id": "0TnHc9j36SfD",
        "outputId": "fcf7d5e8-0a85-4aec-cbaa-74a0a868f759",
        "colab": {
          "base_uri": "https://localhost:8080/",
          "height": 313
        }
      },
      "source": [
        "# Test your solution here\n",
        "h,b=histogram(data,100)\n",
        "print(h)"
      ],
      "execution_count": 133,
      "outputs": [
        {
          "output_type": "error",
          "ename": "IndexError",
          "evalue": "ignored",
          "traceback": [
            "\u001b[0;31m---------------------------------------------------------------------------\u001b[0m",
            "\u001b[0;31mIndexError\u001b[0m                                Traceback (most recent call last)",
            "\u001b[0;32m<ipython-input-133-e175ea60a47e>\u001b[0m in \u001b[0;36m<module>\u001b[0;34m()\u001b[0m\n\u001b[1;32m      1\u001b[0m \u001b[0;31m# Test your solution here\u001b[0m\u001b[0;34m\u001b[0m\u001b[0;34m\u001b[0m\u001b[0;34m\u001b[0m\u001b[0m\n\u001b[0;32m----> 2\u001b[0;31m \u001b[0mh\u001b[0m\u001b[0;34m,\u001b[0m\u001b[0mb\u001b[0m\u001b[0;34m=\u001b[0m\u001b[0mhistogram\u001b[0m\u001b[0;34m(\u001b[0m\u001b[0mdata\u001b[0m\u001b[0;34m,\u001b[0m\u001b[0;36m100\u001b[0m\u001b[0;34m)\u001b[0m\u001b[0;34m\u001b[0m\u001b[0;34m\u001b[0m\u001b[0m\n\u001b[0m\u001b[1;32m      3\u001b[0m \u001b[0mprint\u001b[0m\u001b[0;34m(\u001b[0m\u001b[0mh\u001b[0m\u001b[0;34m)\u001b[0m\u001b[0;34m\u001b[0m\u001b[0;34m\u001b[0m\u001b[0m\n",
            "\u001b[0;32m<ipython-input-132-52f79e825f96>\u001b[0m in \u001b[0;36mhistogram\u001b[0;34m(x, n_bins, x_min, x_max)\u001b[0m\n\u001b[1;32m     23\u001b[0m       \u001b[0;32mfor\u001b[0m \u001b[0mi\u001b[0m \u001b[0;32min\u001b[0m \u001b[0mhist\u001b[0m\u001b[0;34m:\u001b[0m\u001b[0;34m\u001b[0m\u001b[0;34m\u001b[0m\u001b[0m\n\u001b[1;32m     24\u001b[0m         \u001b[0;32mif\u001b[0m \u001b[0mxvalues\u001b[0m\u001b[0;34m>=\u001b[0m\u001b[0;34m(\u001b[0m\u001b[0mx_min\u001b[0m\u001b[0;34m+\u001b[0m\u001b[0mi\u001b[0m\u001b[0;34m*\u001b[0m\u001b[0mbin_size\u001b[0m\u001b[0;34m)\u001b[0m \u001b[0;32mand\u001b[0m \u001b[0mxvalues\u001b[0m\u001b[0;34m<=\u001b[0m\u001b[0;34m(\u001b[0m\u001b[0mx_max\u001b[0m\u001b[0;34m+\u001b[0m\u001b[0mi\u001b[0m\u001b[0;34m*\u001b[0m\u001b[0mbin_size\u001b[0m\u001b[0;34m)\u001b[0m\u001b[0;34m:\u001b[0m\u001b[0;34m\u001b[0m\u001b[0;34m\u001b[0m\u001b[0m\n\u001b[0;32m---> 25\u001b[0;31m           \u001b[0mhist\u001b[0m\u001b[0;34m[\u001b[0m\u001b[0mi\u001b[0m\u001b[0;34m]\u001b[0m \u001b[0;34m=\u001b[0m \u001b[0mhist\u001b[0m\u001b[0;34m[\u001b[0m\u001b[0mi\u001b[0m\u001b[0;34m]\u001b[0m\u001b[0;34m+\u001b[0m\u001b[0;36m1\u001b[0m\u001b[0;34m\u001b[0m\u001b[0;34m\u001b[0m\u001b[0m\n\u001b[0m\u001b[1;32m     26\u001b[0m           \u001b[0;32mcontinue\u001b[0m\u001b[0;34m\u001b[0m\u001b[0;34m\u001b[0m\u001b[0m\n\u001b[1;32m     27\u001b[0m \u001b[0;34m\u001b[0m\u001b[0m\n",
            "\u001b[0;31mIndexError\u001b[0m: list index out of range"
          ]
        }
      ]
    },
    {
      "cell_type": "markdown",
      "metadata": {
        "id": "lGxPnaus6SfF"
      },
      "source": [
        "*Exercise 4:* Write a function that uses the histogram function in the previous exercise to create a text-based \"graph\". For example the output could look like the following:\n",
        "```\n",
        "[  0,  1] : ######\n",
        "[  1,  2] : #####\n",
        "[  2,  3] : ######\n",
        "[  3,  4] : ####\n",
        "[  4,  5] : ####\n",
        "[  5,  6] : ######\n",
        "[  6,  7] : #####\n",
        "[  7,  8] : ######\n",
        "[  8,  9] : ####\n",
        "[  9, 10] : #####\n",
        "```\n",
        "\n",
        "Where each line corresponds to a bin and the number of `#`'s are proportional to the value of the data in the bin. "
      ]
    },
    {
      "cell_type": "code",
      "metadata": {
        "id": "6qxQQIzW6SfF"
      },
      "source": [
        "# Solution\n",
        "def draw_histogram(x,n_bins,x_min=None,x_max=None,character=\"#\",max_character_per_line=20):\n",
        "    ### BEGIN SOLUTION\n",
        "\n",
        "    # Fill in your solution here        \n",
        "    \n",
        "    ### END SOLUTION\n",
        "\n",
        "    return hist,bin_edges"
      ],
      "execution_count": null,
      "outputs": []
    },
    {
      "cell_type": "code",
      "metadata": {
        "id": "p4IdpjDd6SfH",
        "outputId": "c7104290-9140-429e-f840-4ed4f6ac4dc7",
        "colab": {
          "base_uri": "https://localhost:8080/",
          "height": 296
        }
      },
      "source": [
        "# Test your solution here\n",
        "h,b=histogram(data,20)"
      ],
      "execution_count": 116,
      "outputs": [
        {
          "output_type": "error",
          "ename": "IndexError",
          "evalue": "ignored",
          "traceback": [
            "\u001b[0;31m---------------------------------------------------------------------------\u001b[0m",
            "\u001b[0;31mIndexError\u001b[0m                                Traceback (most recent call last)",
            "\u001b[0;32m<ipython-input-116-43b5039f4c7a>\u001b[0m in \u001b[0;36m<module>\u001b[0;34m()\u001b[0m\n\u001b[1;32m      1\u001b[0m \u001b[0;31m# Test your solution here\u001b[0m\u001b[0;34m\u001b[0m\u001b[0;34m\u001b[0m\u001b[0;34m\u001b[0m\u001b[0m\n\u001b[0;32m----> 2\u001b[0;31m \u001b[0mh\u001b[0m\u001b[0;34m,\u001b[0m\u001b[0mb\u001b[0m\u001b[0;34m=\u001b[0m\u001b[0mhistogram\u001b[0m\u001b[0;34m(\u001b[0m\u001b[0mdata\u001b[0m\u001b[0;34m,\u001b[0m\u001b[0;36m20\u001b[0m\u001b[0;34m)\u001b[0m\u001b[0;34m\u001b[0m\u001b[0;34m\u001b[0m\u001b[0m\n\u001b[0m",
            "\u001b[0;32m<ipython-input-29-8f57518dca9d>\u001b[0m in \u001b[0;36mhistogram\u001b[0;34m(x, n_bins, x_min, x_max)\u001b[0m\n\u001b[1;32m     24\u001b[0m       \u001b[0;32mfor\u001b[0m \u001b[0mi\u001b[0m \u001b[0;32min\u001b[0m \u001b[0mhist\u001b[0m\u001b[0;34m:\u001b[0m\u001b[0;34m\u001b[0m\u001b[0;34m\u001b[0m\u001b[0m\n\u001b[1;32m     25\u001b[0m         \u001b[0;32mif\u001b[0m \u001b[0mxvalues\u001b[0m\u001b[0;34m>=\u001b[0m\u001b[0;34m(\u001b[0m\u001b[0mx_min\u001b[0m\u001b[0;34m+\u001b[0m\u001b[0mi\u001b[0m\u001b[0;34m*\u001b[0m\u001b[0mbin_size\u001b[0m\u001b[0;34m)\u001b[0m \u001b[0;32mand\u001b[0m \u001b[0mxvalues\u001b[0m\u001b[0;34m<=\u001b[0m\u001b[0;34m(\u001b[0m\u001b[0mx_max\u001b[0m\u001b[0;34m+\u001b[0m\u001b[0mi\u001b[0m\u001b[0;34m*\u001b[0m\u001b[0mbin_size\u001b[0m\u001b[0;34m)\u001b[0m\u001b[0;34m:\u001b[0m\u001b[0;34m\u001b[0m\u001b[0;34m\u001b[0m\u001b[0m\n\u001b[0;32m---> 26\u001b[0;31m           \u001b[0mhist\u001b[0m\u001b[0;34m[\u001b[0m\u001b[0mi\u001b[0m\u001b[0;34m]\u001b[0m \u001b[0;34m+=\u001b[0m \u001b[0;36m1\u001b[0m\u001b[0;34m\u001b[0m\u001b[0;34m\u001b[0m\u001b[0m\n\u001b[0m\u001b[1;32m     27\u001b[0m           \u001b[0;32mbreak\u001b[0m\u001b[0;34m\u001b[0m\u001b[0;34m\u001b[0m\u001b[0m\n\u001b[1;32m     28\u001b[0m \u001b[0;34m\u001b[0m\u001b[0m\n",
            "\u001b[0;31mIndexError\u001b[0m: list index out of range"
          ]
        }
      ]
    },
    {
      "cell_type": "markdown",
      "metadata": {
        "id": "uop3HWw96SfJ"
      },
      "source": [
        "## Functional Programming\n",
        "\n",
        "*Exercise 5:* Write a function the applies a booling function (that returns true/false) to every element in data, and return a list of indices of elements where the result was true. Use this function to find the indices of entries greater than 0.5. "
      ]
    },
    {
      "cell_type": "code",
      "metadata": {
        "id": "HznZlz1G6SfJ"
      },
      "source": [
        "\n",
        "def where(mylist,myfunc):\n",
        "    out= []\n",
        "    \n",
        "    ### BEGIN SOLUTION\n",
        "\n",
        "    # Fill in your solution here  \n",
        "\n",
        "    for i,element in enumerate(mylist):\n",
        "      if myfunc(element)==True and element>0.5:\n",
        "        out.append(i)\n",
        "    ### END SOLUTION\n",
        "    \n",
        "    return out"
      ],
      "execution_count": 134,
      "outputs": []
    },
    {
      "cell_type": "code",
      "metadata": {
        "id": "yxOnX71e6SfL",
        "outputId": "0f6b2bd7-9d74-498a-deda-a6522229ea86",
        "colab": {
          "base_uri": "https://localhost:8080/",
          "height": 1000
        }
      },
      "source": [
        "# Test your solution here\n",
        "where(data,bool)"
      ],
      "execution_count": 135,
      "outputs": [
        {
          "output_type": "execute_result",
          "data": {
            "text/plain": [
              "[1,\n",
              " 5,\n",
              " 9,\n",
              " 10,\n",
              " 11,\n",
              " 15,\n",
              " 19,\n",
              " 20,\n",
              " 21,\n",
              " 22,\n",
              " 23,\n",
              " 24,\n",
              " 25,\n",
              " 26,\n",
              " 27,\n",
              " 29,\n",
              " 30,\n",
              " 32,\n",
              " 33,\n",
              " 36,\n",
              " 38,\n",
              " 40,\n",
              " 41,\n",
              " 42,\n",
              " 43,\n",
              " 51,\n",
              " 52,\n",
              " 60,\n",
              " 61,\n",
              " 62,\n",
              " 66,\n",
              " 67,\n",
              " 70,\n",
              " 74,\n",
              " 75,\n",
              " 76,\n",
              " 77,\n",
              " 78,\n",
              " 79,\n",
              " 81,\n",
              " 82,\n",
              " 84,\n",
              " 86,\n",
              " 89,\n",
              " 90,\n",
              " 93,\n",
              " 95,\n",
              " 96,\n",
              " 97,\n",
              " 98,\n",
              " 99,\n",
              " 103,\n",
              " 107,\n",
              " 108,\n",
              " 111,\n",
              " 113,\n",
              " 114,\n",
              " 117,\n",
              " 119,\n",
              " 122,\n",
              " 123,\n",
              " 126,\n",
              " 127,\n",
              " 129,\n",
              " 131,\n",
              " 136,\n",
              " 138,\n",
              " 139,\n",
              " 141,\n",
              " 144,\n",
              " 148,\n",
              " 150,\n",
              " 151,\n",
              " 152,\n",
              " 154,\n",
              " 157,\n",
              " 165,\n",
              " 166,\n",
              " 171,\n",
              " 177,\n",
              " 178,\n",
              " 179,\n",
              " 180,\n",
              " 187,\n",
              " 188,\n",
              " 190,\n",
              " 191,\n",
              " 194,\n",
              " 198,\n",
              " 204,\n",
              " 206,\n",
              " 208,\n",
              " 209,\n",
              " 212,\n",
              " 214,\n",
              " 215,\n",
              " 223,\n",
              " 225,\n",
              " 226,\n",
              " 227,\n",
              " 228,\n",
              " 230,\n",
              " 231,\n",
              " 232,\n",
              " 233,\n",
              " 235,\n",
              " 240,\n",
              " 241,\n",
              " 242,\n",
              " 248,\n",
              " 249,\n",
              " 250,\n",
              " 251,\n",
              " 255,\n",
              " 257,\n",
              " 258,\n",
              " 259,\n",
              " 260,\n",
              " 261,\n",
              " 262,\n",
              " 266,\n",
              " 269,\n",
              " 270,\n",
              " 272,\n",
              " 273,\n",
              " 274,\n",
              " 277,\n",
              " 280,\n",
              " 282,\n",
              " 284,\n",
              " 287,\n",
              " 289,\n",
              " 290,\n",
              " 291,\n",
              " 292,\n",
              " 294,\n",
              " 295,\n",
              " 296,\n",
              " 298,\n",
              " 299,\n",
              " 300,\n",
              " 301,\n",
              " 302,\n",
              " 304,\n",
              " 307,\n",
              " 308,\n",
              " 309,\n",
              " 311,\n",
              " 312,\n",
              " 313,\n",
              " 316,\n",
              " 317,\n",
              " 319,\n",
              " 321,\n",
              " 322,\n",
              " 324,\n",
              " 326,\n",
              " 328,\n",
              " 329,\n",
              " 331,\n",
              " 332,\n",
              " 337,\n",
              " 339,\n",
              " 340,\n",
              " 342,\n",
              " 343,\n",
              " 344,\n",
              " 345,\n",
              " 346,\n",
              " 347,\n",
              " 348,\n",
              " 349,\n",
              " 350,\n",
              " 351,\n",
              " 352,\n",
              " 353,\n",
              " 356,\n",
              " 358,\n",
              " 361,\n",
              " 363,\n",
              " 366,\n",
              " 368,\n",
              " 370,\n",
              " 372,\n",
              " 373,\n",
              " 376,\n",
              " 378,\n",
              " 379,\n",
              " 381,\n",
              " 383,\n",
              " 384,\n",
              " 385,\n",
              " 387,\n",
              " 388,\n",
              " 393,\n",
              " 394,\n",
              " 395,\n",
              " 402,\n",
              " 403,\n",
              " 406,\n",
              " 409,\n",
              " 411,\n",
              " 414,\n",
              " 415,\n",
              " 416,\n",
              " 418,\n",
              " 422,\n",
              " 424,\n",
              " 425,\n",
              " 428,\n",
              " 430,\n",
              " 432,\n",
              " 433,\n",
              " 434,\n",
              " 436,\n",
              " 438,\n",
              " 443,\n",
              " 445,\n",
              " 446,\n",
              " 449,\n",
              " 452,\n",
              " 455,\n",
              " 457,\n",
              " 459,\n",
              " 460,\n",
              " 461,\n",
              " 462,\n",
              " 463,\n",
              " 465,\n",
              " 472,\n",
              " 473,\n",
              " 474,\n",
              " 476,\n",
              " 477,\n",
              " 478,\n",
              " 479,\n",
              " 483,\n",
              " 484,\n",
              " 487,\n",
              " 489,\n",
              " 490,\n",
              " 494,\n",
              " 495,\n",
              " 496,\n",
              " 498,\n",
              " 499,\n",
              " 500,\n",
              " 504,\n",
              " 505,\n",
              " 510,\n",
              " 512,\n",
              " 513,\n",
              " 516,\n",
              " 517,\n",
              " 519,\n",
              " 520,\n",
              " 522,\n",
              " 523,\n",
              " 524,\n",
              " 526,\n",
              " 527,\n",
              " 528,\n",
              " 530,\n",
              " 535,\n",
              " 544,\n",
              " 545,\n",
              " 546,\n",
              " 547,\n",
              " 551,\n",
              " 555,\n",
              " 556,\n",
              " 557,\n",
              " 559,\n",
              " 561,\n",
              " 564,\n",
              " 566,\n",
              " 567,\n",
              " 570,\n",
              " 571,\n",
              " 572,\n",
              " 573,\n",
              " 574,\n",
              " 575,\n",
              " 579,\n",
              " 580,\n",
              " 583,\n",
              " 584,\n",
              " 587,\n",
              " 588,\n",
              " 590,\n",
              " 591,\n",
              " 592,\n",
              " 593,\n",
              " 594,\n",
              " 596,\n",
              " 597,\n",
              " 601,\n",
              " 602,\n",
              " 609,\n",
              " 611,\n",
              " 612,\n",
              " 614,\n",
              " 616,\n",
              " 617,\n",
              " 622,\n",
              " 626,\n",
              " 632,\n",
              " 633,\n",
              " 634,\n",
              " 635,\n",
              " 637,\n",
              " 638,\n",
              " 645,\n",
              " 646,\n",
              " 648,\n",
              " 651,\n",
              " 652,\n",
              " 654,\n",
              " 655,\n",
              " 661,\n",
              " 662,\n",
              " 664,\n",
              " 667,\n",
              " 673,\n",
              " 674,\n",
              " 681,\n",
              " 683,\n",
              " 684,\n",
              " 685,\n",
              " 687,\n",
              " 690,\n",
              " 691,\n",
              " 697,\n",
              " 699,\n",
              " 701,\n",
              " 703,\n",
              " 704,\n",
              " 711,\n",
              " 714,\n",
              " 716,\n",
              " 721,\n",
              " 724,\n",
              " 725,\n",
              " 730,\n",
              " 731,\n",
              " 732,\n",
              " 733,\n",
              " 734,\n",
              " 735,\n",
              " 737,\n",
              " 739,\n",
              " 740,\n",
              " 742,\n",
              " 743,\n",
              " 749,\n",
              " 750,\n",
              " 755,\n",
              " 759,\n",
              " 761,\n",
              " 763,\n",
              " 765,\n",
              " 766,\n",
              " 769,\n",
              " 773,\n",
              " 776,\n",
              " 779,\n",
              " 781,\n",
              " 783,\n",
              " 784,\n",
              " 785,\n",
              " 787,\n",
              " 788,\n",
              " 789,\n",
              " 790,\n",
              " 791,\n",
              " 793,\n",
              " 795,\n",
              " 797,\n",
              " 798,\n",
              " 807,\n",
              " 808,\n",
              " 809,\n",
              " 811,\n",
              " 812,\n",
              " 813,\n",
              " 815,\n",
              " 817,\n",
              " 818,\n",
              " 819,\n",
              " 822,\n",
              " 827,\n",
              " 829,\n",
              " 831,\n",
              " 833,\n",
              " 834,\n",
              " 838,\n",
              " 839,\n",
              " 840,\n",
              " 841,\n",
              " 842,\n",
              " 843,\n",
              " 845,\n",
              " 846,\n",
              " 848,\n",
              " 849,\n",
              " 850,\n",
              " 852,\n",
              " 853,\n",
              " 854,\n",
              " 855,\n",
              " 857,\n",
              " 858,\n",
              " 863,\n",
              " 869,\n",
              " 870,\n",
              " 873,\n",
              " 875,\n",
              " 879,\n",
              " 880,\n",
              " 882,\n",
              " 883,\n",
              " 885,\n",
              " 888,\n",
              " 890,\n",
              " 891,\n",
              " 897,\n",
              " 898,\n",
              " 901,\n",
              " 903,\n",
              " 906,\n",
              " 908,\n",
              " 913,\n",
              " 914,\n",
              " 917,\n",
              " 919,\n",
              " 920,\n",
              " 923,\n",
              " 924,\n",
              " 925,\n",
              " 926,\n",
              " 927,\n",
              " 928,\n",
              " 934,\n",
              " 935,\n",
              " 936,\n",
              " 938,\n",
              " 939,\n",
              " 940,\n",
              " 941,\n",
              " 943,\n",
              " 944,\n",
              " 946,\n",
              " 947,\n",
              " 950,\n",
              " 953,\n",
              " 954,\n",
              " 955,\n",
              " 957,\n",
              " 960,\n",
              " 961,\n",
              " 965,\n",
              " 968,\n",
              " 969,\n",
              " 970,\n",
              " 973,\n",
              " 974,\n",
              " 975,\n",
              " 976,\n",
              " 979,\n",
              " 980,\n",
              " 983,\n",
              " 984,\n",
              " 986,\n",
              " 987,\n",
              " 988,\n",
              " 990,\n",
              " 991,\n",
              " 993,\n",
              " 997,\n",
              " 998,\n",
              " 999]"
            ]
          },
          "metadata": {
            "tags": []
          },
          "execution_count": 135
        }
      ]
    },
    {
      "cell_type": "markdown",
      "metadata": {
        "id": "PwJdP0qh6SfN"
      },
      "source": [
        "*Exercise 6:* The inrange(mymin,mymax) function below returns a function that tests if it's input is between the specified values. Write corresponding functions that test:\n",
        "* Even\n",
        "* Odd\n",
        "* Greater than\n",
        "* Less than\n",
        "* Equal\n",
        "* Divisible by"
      ]
    },
    {
      "cell_type": "code",
      "metadata": {
        "id": "Ep0eh6FT6SfO",
        "outputId": "09b7129e-4b86-48fe-89af-db58af639f16",
        "colab": {
          "base_uri": "https://localhost:8080/",
          "height": 84
        }
      },
      "source": [
        "def inrange(mymin,mymax):\n",
        "    def testrange(x):\n",
        "        return x<mymax and x>=mymin\n",
        "    return testrange\n",
        "\n",
        "# Examples:\n",
        "F1=inrange(0,10)\n",
        "F2=inrange(10,20)\n",
        "\n",
        "# Test of in_range\n",
        "print (F1(0), F1(1), F1(10), F1(15), F1(20))\n",
        "print (F2(0), F2(1), F2(10), F2(15), F2(20))\n",
        "\n",
        "print (\"Number of Entries passing F1:\", len(where(data,F1)))\n",
        "print (\"Number of Entries passing F2:\", len(where(data,F2)))"
      ],
      "execution_count": 136,
      "outputs": [
        {
          "output_type": "stream",
          "text": [
            "True True False False False\n",
            "False False True True False\n",
            "Number of Entries passing F1: 481\n",
            "Number of Entries passing F2: 0\n"
          ],
          "name": "stdout"
        }
      ]
    },
    {
      "cell_type": "code",
      "metadata": {
        "id": "y83oMS1n6SfQ"
      },
      "source": [
        "### BEGIN SOLUTION\n",
        "\n",
        "    # Fill in your solution here        \n",
        "def Even(num):\n",
        "  if (num%2==0):\n",
        "    return True\n",
        "  else:\n",
        "    return False\n",
        "\n",
        "def Odd(num):\n",
        "  if (num%2==1):\n",
        "    return True\n",
        "  else:\n",
        "    return False\n",
        "\n",
        "def GreaterThan(numtobetested,constant):\n",
        "  if (numtobetested>constant):\n",
        "    return True\n",
        "  else:\n",
        "    return False\n",
        "\n",
        "def LessThan(numtobetested,constant):\n",
        "  if (numtobetested<constant):\n",
        "    return True\n",
        "  else:\n",
        "    return False\n",
        "\n",
        "def Equal(num1,num2):\n",
        "  if (num1==num2):\n",
        "    return True\n",
        "  else:\n",
        "    return False\n",
        "\n",
        "def DivisibleBy(dividend,divisor):\n",
        "  if (dividend%divisor==0):\n",
        "    return True\n",
        "  else:\n",
        "    return False\n",
        "### END SOLUTION"
      ],
      "execution_count": 137,
      "outputs": []
    },
    {
      "cell_type": "code",
      "metadata": {
        "id": "14MHVFyo6SfS",
        "outputId": "4ac0f8bd-9dcd-423b-8589-d0cf8dd66775",
        "colab": {
          "base_uri": "https://localhost:8080/",
          "height": 218
        }
      },
      "source": [
        "# Test your solution\n",
        "print(Even(3))\n",
        "print(Even(4))\n",
        "print(Odd(3))\n",
        "print(Odd(4))\n",
        "print(GreaterThan(2,3))\n",
        "print(GreaterThan(4,3))\n",
        "print(LessThan(2,3))\n",
        "print(LessThan(4,3))\n",
        "print(Equal(2,3))\n",
        "print(Equal(3,3))\n",
        "print(DivisibleBy(2,3))\n",
        "print(DivisibleBy(6,3))"
      ],
      "execution_count": 138,
      "outputs": [
        {
          "output_type": "stream",
          "text": [
            "False\n",
            "True\n",
            "True\n",
            "False\n",
            "False\n",
            "True\n",
            "True\n",
            "False\n",
            "False\n",
            "True\n",
            "False\n",
            "True\n"
          ],
          "name": "stdout"
        }
      ]
    },
    {
      "cell_type": "markdown",
      "metadata": {
        "id": "HNqwIxPp6SfU"
      },
      "source": [
        "*Exercise 7:* Repeat the previous exercise using `lambda` and the built-in python functions sum and map instead of your solution above. "
      ]
    },
    {
      "cell_type": "code",
      "metadata": {
        "id": "VHl_LLeP6SfU"
      },
      "source": [
        "### BEGIN SOLUTION\n",
        "\n",
        "    # Fill in your solution here        \n",
        "Evennum = lambda num: True if (num%2==0) else False\n",
        "Oddnum = lambda n: True if (n%2==1) else False\n",
        "Greater = lambda numtobetested,constant: True if (numtobetested>constant) else False\n",
        "Less = lambda numtobetest,constant: True if (numtobetest<constant) else False\n",
        "equalnum = lambda num1,num2: True if (num1==num2) else False\n",
        "Divisible = lambda dividend,divisor: True if (dividend%divisor==0) else False\n",
        "### END SOLUTION"
      ],
      "execution_count": 139,
      "outputs": []
    },
    {
      "cell_type": "code",
      "metadata": {
        "id": "Qml2pyBaMys4",
        "outputId": "7f033bc2-9f40-468b-ca66-9f12e0f85c76",
        "colab": {
          "base_uri": "https://localhost:8080/",
          "height": 218
        }
      },
      "source": [
        "print(Evennum(2))\n",
        "print(Evennum(3))\n",
        "print(Oddnum(3))\n",
        "print(Oddnum(4))\n",
        "print(Greater(2,3))\n",
        "print(Greater(4,3))\n",
        "print(Less(2,3))\n",
        "print(Less(4,3))\n",
        "print(equalnum(2,3))\n",
        "print(equalnum(3,3))\n",
        "print(DivisibleBy(2,3))\n",
        "print(DivisibleBy(6,3))"
      ],
      "execution_count": 88,
      "outputs": [
        {
          "output_type": "stream",
          "text": [
            "True\n",
            "False\n",
            "True\n",
            "False\n",
            "False\n",
            "True\n",
            "True\n",
            "False\n",
            "False\n",
            "True\n",
            "False\n",
            "True\n"
          ],
          "name": "stdout"
        }
      ]
    },
    {
      "cell_type": "markdown",
      "metadata": {
        "id": "3d-EZXSQ6SfX"
      },
      "source": [
        "## Monte Carlo\n",
        "\n",
        "*Exercise 7:* Write a \"generator\" function called `generate_function(func,x_min,x_max,N)`, that instead of generating a flat distribution, generates a distribution with functional form coded in `func`. Note that `func` will always be > 0.  \n",
        "\n",
        "Use the test function below and your histogramming functions above to demonstrate that your generator is working properly.\n",
        "\n",
        "Hint: A simple, but slow, solution is to a draw random number test_x within the specified range and another number p between the min and max of the function (which you will have to determine). If p<=function(test_x), then place test_x on the output. If not, repeat the process, drawing two new numbers. Repeat until you have the specified number of generated numbers, N. For this problem, it's OK to determine the min and max by numerically sampling the function.  "
      ]
    },
    {
      "cell_type": "code",
      "metadata": {
        "id": "ZIXFbxUY6SfX"
      },
      "source": [
        "def generate_function(func,x_min,x_max,N=1000):\n",
        "    out = list()\n",
        "    ### BEGIN SOLUTION\n",
        "\n",
        "    # Fill in your solution here  \n",
        "    while(len(out)!=N):\n",
        "      test_x = random.randint(x_min,x_max) #let's just use only integers even though we could use random.uniform for decimals for cleanliness\n",
        "      min_func = min(func)\n",
        "      max_func = max(func)\n",
        "      p = random.randint(min_func,max_func)\n",
        "      if (p<=func(test_x)):\n",
        "        out.append(test_x)\n",
        "      else: \n",
        "        continue\n",
        "    ### END SOLUTION\n",
        "    \n",
        "    return out"
      ],
      "execution_count": 104,
      "outputs": []
    },
    {
      "cell_type": "code",
      "metadata": {
        "id": "5kegMXVI6SfZ"
      },
      "source": [
        "# A test function\n",
        "def test_func(x,a=1,b=1):\n",
        "    return abs(a*x+b)\n"
      ],
      "execution_count": 114,
      "outputs": []
    },
    {
      "cell_type": "markdown",
      "metadata": {
        "id": "jGov63UX6Sfb"
      },
      "source": [
        "*Exercise 8:* Use your function to generate 1000 numbers that are normal distributed, using the `gaussian` function below. Confirm the mean and variance of the data is close to the mean and variance you specify when building the Gaussian. Histogram the data. "
      ]
    },
    {
      "cell_type": "code",
      "metadata": {
        "id": "XDXFCcbl6Sfb"
      },
      "source": [
        "import math\n",
        "\n",
        "def gaussian(mean, sigma):\n",
        "    def f(x):\n",
        "        return math.exp(-((x-mean)**2)/(2*sigma**2))/math.sqrt(math.pi*sigma)\n",
        "    return f\n",
        "\n",
        "# Example Instantiation\n",
        "g1=gaussian(0,1)\n",
        "g2=gaussian(10,3)"
      ],
      "execution_count": 144,
      "outputs": []
    },
    {
      "cell_type": "code",
      "metadata": {
        "id": "x3MtNngobkk8",
        "outputId": "c27d0dd5-b533-440b-b4ab-ac9ff1e67bab",
        "colab": {
          "base_uri": "https://localhost:8080/",
          "height": 34
        }
      },
      "source": [
        "gaussian(0,1)"
      ],
      "execution_count": 146,
      "outputs": [
        {
          "output_type": "execute_result",
          "data": {
            "text/plain": [
              "<function __main__.gaussian.<locals>.f>"
            ]
          },
          "metadata": {
            "tags": []
          },
          "execution_count": 146
        }
      ]
    },
    {
      "cell_type": "markdown",
      "metadata": {
        "id": "goMKFptQ6Sfd"
      },
      "source": [
        "*Exercise 9:* Combine your `generate_function`, `where`, and `in_range` functions above to create an integrate function. Use your integrate function to show that approximately 68% of Normal distribution is within one variance."
      ]
    },
    {
      "cell_type": "code",
      "metadata": {
        "id": "AcZhvjM36Sfd"
      },
      "source": [
        "def integrate(func, x_min, x_max, n_points=1000):\n",
        "    \n",
        "    return integral"
      ],
      "execution_count": null,
      "outputs": []
    },
    {
      "cell_type": "code",
      "metadata": {
        "id": "JXI3efa96Sff"
      },
      "source": [
        ""
      ],
      "execution_count": null,
      "outputs": []
    }
  ]
}