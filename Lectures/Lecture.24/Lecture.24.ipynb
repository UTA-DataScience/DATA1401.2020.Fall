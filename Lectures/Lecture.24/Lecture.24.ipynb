{
 "cells": [
  {
   "cell_type": "markdown",
   "metadata": {},
   "source": [
    "# Lecture 24- Object Oriented Programming\n",
    "\n",
    "\n",
    "## Motivation\n",
    "\n",
    "You are used to data types like strings and floats and the operations you can do on them, for example\n",
    "\n",
    "    1.0 + 2.5 → 3.5\n",
    "    “Hello” + “ “ + “World” → “Hello World”\n",
    "   \n",
    "What if you wanted new type of data with operations that are unique to it? For example the Matrices. For example:\n",
    "\n",
    "\\begin{equation}\n",
    "\\begin{pmatrix} 1 & 2 \\\\ 2 & 3 \\end{pmatrix} + \\begin{pmatrix}3 & 2 \\\\ 2 & 1 \\end{pmatrix} →\n",
    "\\begin{pmatrix}\n",
    "4 & 4 \\\\\n",
    "4 & 4\n",
    "\\end{pmatrix}\n",
    "\\end{equation}\n",
    "\n",
    "## Object Oriented Programming\n",
    "\n",
    "*Encapsulate* data and the operations into a new concept called an object. An object\n",
    "   * has a *type* referred to as a **class**, analogous to “float” or “string”.\n",
    "   * holds *data* in form of fields or **attributes** (sometimes referred to as **properties**). \n",
    "   * holds *code* in form of **methods**.\n",
    "\n",
    "For example, lets say we want to keep information on students in this class for computing grades. We can create a new class of object called a “student”:\n",
    "\n",
    "   * **Attributes**: name, id number, gender, year, grades, …\n",
    "   * **Methods**: add_grade, average_grade, …\n",
    "   \n",
    "In python, here's an example creating such a class:\n"
   ]
  },
  {
   "cell_type": "code",
   "execution_count": 1,
   "metadata": {},
   "outputs": [],
   "source": [
    "class student:\n",
    "    name=str()\n",
    "    id_number=int()\n",
    "    gender=str()\n",
    "    year=int()\n",
    "    grades=list()\n",
    "    \n",
    "    def add_grade(self,grade):\n",
    "        self.grades.append(grade)\n",
    "        \n",
    "    def average_grade(self):\n",
    "        return sum(self.grades)/len(self.grade)"
   ]
  },
  {
   "cell_type": "markdown",
   "metadata": {},
   "source": [
    "Any given student is an instance of the student class.  Note that `self` is how we refer to data or methods of the class itself."
   ]
  },
  {
   "cell_type": "code",
   "execution_count": 2,
   "metadata": {},
   "outputs": [
    {
     "name": "stdout",
     "output_type": "stream",
     "text": [
      "The student class: <class 'type'>\n",
      "The student instance: <class '__main__.student'>\n"
     ]
    }
   ],
   "source": [
    "a_student=student()\n",
    "\n",
    "print(\"The student class:\", type(student))\n",
    "print(\"The student instance:\", type(a_student))"
   ]
  },
  {
   "cell_type": "markdown",
   "metadata": {},
   "source": [
    "Why would such a construction be helpful? An alternative way of keeping all doing all of the book-keeping for the students would have been to create a bunch of lists for each of the attributes and make sure that the first student's information is always at index 0, second student index 1, and so on. \n",
    "\n",
    "For exmaple:"
   ]
  },
  {
   "cell_type": "code",
   "execution_count": 3,
   "metadata": {},
   "outputs": [],
   "source": [
    "names=list()\n",
    "id_numbers=list()\n",
    "genders=list()\n",
    "years=list()\n",
    "grades=list()\n",
    "\n",
    "# Create an \"instance\" of a student\n",
    "\n",
    "names.append(str())\n",
    "id_numbers.append(int())\n",
    "genders.append(str())\n",
    "years.append(str())\n",
    "grades.append(list())"
   ]
  },
  {
   "cell_type": "markdown",
   "metadata": {},
   "source": [
    "We could write functions to help make all of this look nicer, but it would be cumbersome to manage and ugly to read. By encapsulating concepts into objects, you ultimately reduce the complexity of your code.\n",
    "\n",
    "\n",
    "## Constructor / Destructor\n",
    "\n",
    "We created an instance of student in the example above, but we didn't take care to carefully make sure all that the student instance was carefully setup. The first important OO concept are **constructors** and **destructors**. These are optional methods that are called when an object is created or destroyed. Since python manages memory for us, we typically don't need to implement destructors, but constructors are always a good idea. \n",
    "\n",
    "In python the names of build-in methods of classes typically start and end with 2 underscores. `__init__(self,...)` and `__del__(self)` are class constructor and destructors, respectively. \n",
    "\n",
    "For example:"
   ]
  },
  {
   "cell_type": "code",
   "execution_count": 4,
   "metadata": {},
   "outputs": [],
   "source": [
    "class student:\n",
    "    def __init__(self, name, id_number, gender, year):\n",
    "        self.name=name\n",
    "        self.id_number=id_number\n",
    "        self.gender=gender\n",
    "        self.year=year\n",
    "        self.grades=list()\n",
    "    \n",
    "    def add_grade(self,grade):\n",
    "        self.grades.append(grade)\n",
    "        \n",
    "    def average_grade(self):\n",
    "        return sum(self.grades)/len(self.grades)\n",
    "    \n",
    "    def print_grades(self):\n",
    "        for grade in self.grades:\n",
    "            print(grade)\n",
    "            "
   ]
  },
  {
   "cell_type": "markdown",
   "metadata": {},
   "source": [
    "Now when you instantiate a student you would do:"
   ]
  },
  {
   "cell_type": "code",
   "execution_count": 5,
   "metadata": {},
   "outputs": [
    {
     "name": "stdout",
     "output_type": "stream",
     "text": [
      "85\n",
      "90\n",
      "Average: 87.5\n"
     ]
    }
   ],
   "source": [
    "a_student=student(\"John Doe\", 111, \"Male\", 0)\n",
    "\n",
    "a_student.add_grade(85)\n",
    "a_student.add_grade(90)\n",
    "\n",
    "a_student.print_grades()\n",
    "\n",
    "print(\"Average:\", a_student.average_grade())\n"
   ]
  },
  {
   "cell_type": "markdown",
   "metadata": {},
   "source": [
    "And you can keep all of the information for all of your students in a list:"
   ]
  },
  {
   "cell_type": "code",
   "execution_count": 6,
   "metadata": {},
   "outputs": [
    {
     "name": "stdout",
     "output_type": "stream",
     "text": [
      "Name: John Doe\n",
      "Name: Jane Doe\n"
     ]
    }
   ],
   "source": [
    "students=list()\n",
    "\n",
    "students.append(student(\"John Doe\", 111, \"Male\", 0))\n",
    "students.append(student(\"Jane Doe\", 112, \"Female\", 0))\n",
    "\n",
    "for student in students:\n",
    "    print(\"Name:\", student.name)\n"
   ]
  },
  {
   "cell_type": "markdown",
   "metadata": {},
   "source": [
    "There are lots of built-in methods for classes, some of which have default implementations that you can **overload**, others that you can optionally implement. For example, if you have objects that you want python to know how to add, you can implement `__add__(self,other)` method."
   ]
  },
  {
   "cell_type": "markdown",
   "metadata": {},
   "source": [
    "Object oriented programming allows you to  establish and maintain abstractions more effectively. Once an object has been implemented, users of the object don't need to know how the internals work and how it stores data to use it. They simply use the objects methods. It also makes it easier to change implementations. As long as the class maintains the same method names (aka interface), you can improve and evolve the data and methods as you like without effecting any application that uses your class."
   ]
  },
  {
   "cell_type": "markdown",
   "metadata": {},
   "source": [
    "## Classes and Instances\n",
    "\n",
    "Consider the following simple class and instances."
   ]
  },
  {
   "cell_type": "code",
   "execution_count": 7,
   "metadata": {},
   "outputs": [
    {
     "name": "stdout",
     "output_type": "stream",
     "text": [
      "Hello, my name is Bob\n",
      "Hello, my name is Bill\n"
     ]
    }
   ],
   "source": [
    "class person:\n",
    "    name = \"\"\n",
    " \n",
    "    def __init__(self, name):\n",
    "        self.name = name\n",
    " \n",
    "    def say_hello(self):\n",
    "        print(\"Hello, my name is \" + self.name)\n",
    " \n",
    "# create objects\n",
    "bob = person(\"Bob\")\n",
    "bill = person(\"Bill\")\n",
    " \n",
    "# call methods owned by virtual objects\n",
    "bob.say_hello()\n",
    "bill.say_hello()"
   ]
  },
  {
   "cell_type": "code",
   "execution_count": 9,
   "metadata": {},
   "outputs": [],
   "source": [
    "people = [person(\"Jane\"),person(\"John\")]\n",
    "Jane = people[0]"
   ]
  },
  {
   "cell_type": "markdown",
   "metadata": {},
   "source": [
    "## Inheritance\n",
    "\n",
    "A powerful feature of object-oriented programming is inheritance, which allows you to build a hierarchy of classes. For example what if we wanted to keep track of students and faculty at the University. There would be some aspects of students and faculty that would be in common, while other would be different. We can store the common atrributes and methods in a common class called \"person\" that both \"student\" and \"faculty\" **inherit** from. \n",
    "\n",
    "For example:\n"
   ]
  },
  {
   "cell_type": "code",
   "execution_count": null,
   "metadata": {},
   "outputs": [],
   "source": [
    "class person:\n",
    "    def __init__(self, name, id_number, gender):\n",
    "        self.name=name\n",
    "        self.id_number=id_number\n",
    "        self.gender=gender\n",
    "    \n",
    "    \n",
    "class student(person):\n",
    "    def __init__(self, name, id_number, gender, year):\n",
    "        super(student,self).__init__(name,id_number,gender)\n",
    "        self.year=year\n",
    "        self.grades=list()\n",
    "    \n",
    "    def add_grade(self,grade):\n",
    "        self.grades.append(grade)\n",
    "        \n",
    "    def average_grade(self):\n",
    "        return sum(self.grades)/len(self.grades)\n",
    "    \n",
    "    def print_grades(self):\n",
    "        for grade in self.grades:\n",
    "            print(grade)\n",
    "\n",
    "            \n",
    "class faculty(person):\n",
    "    def __init__(self, name, id_number, gender):\n",
    "        super(faculty,self).__init__(name,id_number,gender)\n",
    "        self.courses=list()\n",
    "    \n",
    "    def add_courses(self,course):\n",
    "        self.grades.append(course)\n",
    "        \n",
    "    def print_courses(self):\n",
    "        for courses in self.courses:\n",
    "            print(course)\n",
    "\n"
   ]
  },
  {
   "cell_type": "markdown",
   "metadata": {},
   "source": [
    "Inheritance helps in reducing the need to copy and paste code and to make it easier to use your code by establishing common interface and behaviors between different objects."
   ]
  },
  {
   "cell_type": "markdown",
   "metadata": {},
   "source": [
    "## Public and Private Methods\n",
    "\n",
    "By convention, methods that start with two underscores (`__`) are considered to be private and are meant to be only called by the class."
   ]
  },
  {
   "cell_type": "code",
   "execution_count": 10,
   "metadata": {},
   "outputs": [
    {
     "name": "stdout",
     "output_type": "stream",
     "text": [
      "updating software\n",
      "operate\n"
     ]
    },
    {
     "ename": "AttributeError",
     "evalue": "'device' object has no attribute '__update'",
     "output_type": "error",
     "traceback": [
      "\u001b[0;31m---------------------------------------------------------------------------\u001b[0m",
      "\u001b[0;31mAttributeError\u001b[0m                            Traceback (most recent call last)",
      "\u001b[0;32m<ipython-input-10-d55e7b0cb24f>\u001b[0m in \u001b[0;36m<module>\u001b[0;34m\u001b[0m\n\u001b[1;32m     14\u001b[0m \u001b[0;34m\u001b[0m\u001b[0m\n\u001b[1;32m     15\u001b[0m \u001b[0;31m# This will fail\u001b[0m\u001b[0;34m\u001b[0m\u001b[0;34m\u001b[0m\u001b[0;34m\u001b[0m\u001b[0m\n\u001b[0;32m---> 16\u001b[0;31m \u001b[0ma_device\u001b[0m\u001b[0;34m.\u001b[0m\u001b[0m__update\u001b[0m\u001b[0;34m(\u001b[0m\u001b[0;34m)\u001b[0m\u001b[0;34m\u001b[0m\u001b[0;34m\u001b[0m\u001b[0m\n\u001b[0m",
      "\u001b[0;31mAttributeError\u001b[0m: 'device' object has no attribute '__update'"
     ]
    }
   ],
   "source": [
    "class device: \n",
    "    def __init__(self):\n",
    "        self.__update()\n",
    " \n",
    "    def operate(self):\n",
    "        print('operate')\n",
    " \n",
    "    def __update(self):\n",
    "        print('updating software')\n",
    " \n",
    "a_device= device()\n",
    "\n",
    "a_device.operate()\n",
    "\n",
    "# This will fail\n",
    "a_device.__update()"
   ]
  },
  {
   "cell_type": "markdown",
   "metadata": {},
   "source": [
    "## Public and Private Data\n",
    "\n",
    "Usually a class needs to control the data it holds. If an external class or user changes a data member of a class in a unexpected way, then the class can fail.\n",
    "\n",
    "The way to control the data in your classes is to make the varibles holding the data private and create \"setter\" and \"accessor\" functions."
   ]
  },
  {
   "cell_type": "code",
   "execution_count": null,
   "metadata": {},
   "outputs": [],
   "source": [
    "class car:\n",
    "    __name = \"\"\n",
    "    __n_doors = 0\n",
    "    __n_passangers = 0\n",
    "    __max_passangers = 4\n",
    "    \n",
    "    def __init__(self,name=\"Unnamed\",n_doors=4, max_passangers=4):\n",
    "        self.__name=name\n",
    "        self.__n_doors=n_doors\n",
    "        self.__max_passangers=max_passangers\n",
    "        \n",
    "    ## Accessors\n",
    "    def name(self):\n",
    "        return self.__name\n",
    "    \n",
    "    def n_doors(self):\n",
    "        return self.__n_doors\n",
    "    \n",
    "    def n_passangers(self):\n",
    "        return self.__n_passangers\n",
    "    \n",
    "    ## Setter\n",
    "    def set_name(self,name):\n",
    "        if isinstance(name,str):\n",
    "            self.__name=name\n",
    "        else:\n",
    "            print (\"Name must be a string.\")\n",
    "        \n",
    "    ## Can't change number of doors on a car... so no setter for __n_doors\n",
    "        \n",
    "    ## We can only add and remove passangers\n",
    "    def add_passanger(self,n=1):\n",
    "        if isinstance(n,(int,float)):\n",
    "            self.__n_passangers+=n\n",
    "            if self.__n_passangers>self.__max_passangers:\n",
    "                self.__n_passangers=self.__max_passangers\n",
    "                print (\"Car is full. \",n-self.max_passangers,\" passangers were left outside.\")\n",
    "        else:\n",
    "            print (\"Number of passangers must be an interger.\")\n",
    "        \n",
    "    def remove_passanger(self,n=1):\n",
    "        if isinstance(n,int):\n",
    "            self.__n_passangers-=n\n",
    "            if self.__n_passangers<0:\n",
    "                self.__n_passangers=0            \n",
    "        else:\n",
    "            print(\"Number of passangers must be an interger.\")\n",
    "\n",
    "\n",
    "\n",
    "my_car=car()\n",
    "print (my_car.name())\n",
    "my_car.set_name(\"My Car\")\n",
    "print (my_car.name())\n",
    "\n",
    "my_car.add_passanger()\n",
    "print (my_car.n_passangers())\n",
    "\n"
   ]
  },
  {
   "cell_type": "markdown",
   "metadata": {},
   "source": [
    "## Method Overloading\n"
   ]
  },
  {
   "cell_type": "code",
   "execution_count": 11,
   "metadata": {},
   "outputs": [
    {
     "name": "stdout",
     "output_type": "stream",
     "text": [
      "Learning...\n",
      "Teaching...\n"
     ]
    }
   ],
   "source": [
    "\n",
    "class person:\n",
    "    __name=\"\"\n",
    "    __gender=\"\"\n",
    "    def __init__(self, name,gender):\n",
    "        self.__name=name\n",
    "        self.__gender=gender\n",
    "    \n",
    "    # This is a virtual method\n",
    "    def do_work(self):\n",
    "        raise NotImplementedError\n",
    "    \n",
    "class student(person):\n",
    "    __year=0\n",
    "    __grades=list()\n",
    "    \n",
    "    def __init__(self, name, gender, year):\n",
    "        person.__init__(self,name,gender)\n",
    "        self.__year=year\n",
    "    \n",
    "    def add_grade(self,grade):\n",
    "        self.__grades.append(grade)\n",
    "        \n",
    "    def average_grade(self):\n",
    "        return sum(self.__grades)/len(self.__grades)\n",
    "    \n",
    "    def print_grades(self):\n",
    "        for grade in self.__grades:\n",
    "            print (grade)\n",
    "            \n",
    "    def do_work(self):\n",
    "        print (\"Learning...\")\n",
    "\n",
    "            \n",
    "class faculty(person):\n",
    "    __courses=list()\n",
    "    \n",
    "    def __init__(self, name, gender):\n",
    "        person.__init__(self,name,gender)\n",
    "    \n",
    "    def add_courses(self,course):\n",
    "        self.__courses.append(course)\n",
    "        \n",
    "    def print_courses(self):\n",
    "        for courses in self.__courses:\n",
    "            print (course)\n",
    "\n",
    "    def do_work(self):\n",
    "        print (\"Teaching...\")\n",
    "\n",
    "    \n",
    "    \n",
    "a_student=student(\"Bob\",\"Male\",2)\n",
    "a_teacher=faculty(\"Mary\",\"Female\")\n",
    "\n",
    "a_student.do_work()\n",
    "a_teacher.do_work()"
   ]
  },
  {
   "cell_type": "markdown",
   "metadata": {},
   "source": [
    "## Polymorphism\n"
   ]
  },
  {
   "cell_type": "code",
   "execution_count": 12,
   "metadata": {},
   "outputs": [
    {
     "name": "stdout",
     "output_type": "stream",
     "text": [
      "Learning...\n",
      "Teaching...\n"
     ]
    }
   ],
   "source": [
    "people= [student(\"Bob\",\"Male\",2), faculty(\"Mary\",\"Female\")]\n",
    "\n",
    "for person in people:\n",
    "    person.do_work()"
   ]
  },
  {
   "cell_type": "code",
   "execution_count": 13,
   "metadata": {},
   "outputs": [
    {
     "data": {
      "text/plain": [
       "True"
      ]
     },
     "execution_count": 13,
     "metadata": {},
     "output_type": "execute_result"
    }
   ],
   "source": [
    "isinstance(a_student,student)"
   ]
  },
  {
   "cell_type": "code",
   "execution_count": 14,
   "metadata": {},
   "outputs": [
    {
     "name": "stdout",
     "output_type": "stream",
     "text": [
      "100.0\n"
     ]
    }
   ],
   "source": [
    "for person in people:\n",
    "    if isinstance(person,student):\n",
    "        person.add_grade(100.)\n",
    "    if isinstance(person,faculty):\n",
    "        person.add_courses(\"Data 1401\")\n",
    "\n",
    "people[0].print_grades()\n",
    "\n"
   ]
  },
  {
   "cell_type": "markdown",
   "metadata": {},
   "source": [
    "## Overloading Built-ins\n",
    "\n",
    "I found [this](https://realpython.com/operator-function-overloading/) walk through of overloading python operators to be very well done, so lets go through it.\n",
    "\n",
    "For a complete list of operators, look at the table at the bottom of the [Operator Library referece](https://docs.python.org/3.7/library/operator.html).\n",
    "\n",
    "\n"
   ]
  },
  {
   "cell_type": "code",
   "execution_count": null,
   "metadata": {},
   "outputs": [],
   "source": []
  }
 ],
 "metadata": {
  "kernelspec": {
   "display_name": "Python 3",
   "language": "python",
   "name": "python3"
  },
  "language_info": {
   "codemirror_mode": {
    "name": "ipython",
    "version": 3
   },
   "file_extension": ".py",
   "mimetype": "text/x-python",
   "name": "python",
   "nbconvert_exporter": "python",
   "pygments_lexer": "ipython3",
   "version": "3.8.0"
  }
 },
 "nbformat": 4,
 "nbformat_minor": 2
}
