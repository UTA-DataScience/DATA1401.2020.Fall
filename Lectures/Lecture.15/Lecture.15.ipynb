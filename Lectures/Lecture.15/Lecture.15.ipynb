{
 "cells": [
  {
   "cell_type": "markdown",
   "metadata": {},
   "source": [
    "# Lecture 15\n",
    "\n",
    "[![Open In Colab](https://colab.research.google.com/assets/colab-badge.svg)](https://colab.research.google.com/github/UTA-DataScience/DATA1401.2020.Fall/blob/master/Lectures/Lecture.15/Lecture.15.ipynb)\n",
    "\n"
   ]
  },
  {
   "cell_type": "markdown",
   "metadata": {},
   "source": [
    "## Quiz\n",
    "\n",
    "1. Create a list of numbers ranging from 1 to 10.\n",
    "\n",
    "2. Use indexing / slicing to create a sublist of 2nd to 5th elements.\n",
    "\n",
    "3. Use indexing / slicing to create a sublist of 2nd to 5th elements, in reverse order.\n",
    "\n",
    "4. Use indexing / slicing to get the last element.\n",
    "\n",
    "5. Use indexing / slicing to get a list of the last 3 elements.\n",
    "\n",
    "6. Use indexing / slicing to get a list of the last 4 elements, excluding the very last element.\n",
    "\n",
    "7. Use indexing / slicing to reverse the list.\n",
    "\n",
    "8. Write a function that creates an n by n matrix with all emlements having the same provided value.\n",
    "\n",
    "9. Write a function that creates an n by n identity matrix (elements along diagonal are 1, all other elements are 0).\n",
    "\n",
    "10. Write a function that tests if a matrix and it's transpose (flipped along the diagonal) are the same.\n",
    "\n",
    " "
   ]
  },
  {
   "cell_type": "code",
   "execution_count": 3,
   "metadata": {},
   "outputs": [
    {
     "data": {
      "text/plain": [
       "[1, 2, 3, 4, 5, 6, 7, 8, 9]"
      ]
     },
     "execution_count": 3,
     "metadata": {},
     "output_type": "execute_result"
    }
   ],
   "source": [
    "#1 \n",
    "lst = list(range(1,10))\n",
    "lst"
   ]
  },
  {
   "cell_type": "code",
   "execution_count": 7,
   "metadata": {},
   "outputs": [
    {
     "data": {
      "text/plain": [
       "[3, 4, 5]"
      ]
     },
     "execution_count": 7,
     "metadata": {},
     "output_type": "execute_result"
    }
   ],
   "source": [
    "#2\n",
    "lst[2:5]"
   ]
  },
  {
   "cell_type": "code",
   "execution_count": 9,
   "metadata": {},
   "outputs": [
    {
     "data": {
      "text/plain": [
       "[6, 5, 4]"
      ]
     },
     "execution_count": 9,
     "metadata": {},
     "output_type": "execute_result"
    }
   ],
   "source": [
    "#3\n",
    "lst[5:2:-1]"
   ]
  },
  {
   "cell_type": "code",
   "execution_count": 10,
   "metadata": {},
   "outputs": [
    {
     "data": {
      "text/plain": [
       "9"
      ]
     },
     "execution_count": 10,
     "metadata": {},
     "output_type": "execute_result"
    }
   ],
   "source": [
    "#4\n",
    "lst[-1]"
   ]
  },
  {
   "cell_type": "code",
   "execution_count": 12,
   "metadata": {},
   "outputs": [
    {
     "data": {
      "text/plain": [
       "[7, 8, 9]"
      ]
     },
     "execution_count": 12,
     "metadata": {},
     "output_type": "execute_result"
    }
   ],
   "source": [
    "#5\n",
    "lst[-3:]"
   ]
  },
  {
   "cell_type": "code",
   "execution_count": 13,
   "metadata": {},
   "outputs": [
    {
     "data": {
      "text/plain": [
       "[6, 7, 8]"
      ]
     },
     "execution_count": 13,
     "metadata": {},
     "output_type": "execute_result"
    }
   ],
   "source": [
    "#6\n",
    "lst[-4:-1]"
   ]
  },
  {
   "cell_type": "code",
   "execution_count": 14,
   "metadata": {},
   "outputs": [
    {
     "data": {
      "text/plain": [
       "[9, 8, 7, 6, 5, 4, 3, 2, 1]"
      ]
     },
     "execution_count": 14,
     "metadata": {},
     "output_type": "execute_result"
    }
   ],
   "source": [
    "#7\n",
    "lst[::-1]"
   ]
  },
  {
   "cell_type": "code",
   "execution_count": 19,
   "metadata": {},
   "outputs": [],
   "source": [
    "#8\n",
    "def make_constant_matrix(size,value=0.):\n",
    "    return [[value]*size for i in range(size)]"
   ]
  },
  {
   "cell_type": "code",
   "execution_count": 20,
   "metadata": {},
   "outputs": [
    {
     "data": {
      "text/plain": [
       "[[2, 2, 2, 2, 2, 2, 2, 2, 2, 2],\n",
       " [2, 2, 2, 2, 2, 2, 2, 2, 2, 2],\n",
       " [2, 2, 2, 2, 2, 2, 2, 2, 2, 2],\n",
       " [2, 2, 2, 2, 2, 2, 2, 2, 2, 2],\n",
       " [2, 2, 2, 2, 2, 2, 2, 2, 2, 2],\n",
       " [2, 2, 2, 2, 2, 2, 2, 2, 2, 2],\n",
       " [2, 2, 2, 2, 2, 2, 2, 2, 2, 2],\n",
       " [2, 2, 2, 2, 2, 2, 2, 2, 2, 2],\n",
       " [2, 2, 2, 2, 2, 2, 2, 2, 2, 2],\n",
       " [2, 2, 2, 2, 2, 2, 2, 2, 2, 2]]"
      ]
     },
     "execution_count": 20,
     "metadata": {},
     "output_type": "execute_result"
    }
   ],
   "source": [
    "make_constant_matrix(10,2)"
   ]
  },
  {
   "cell_type": "code",
   "execution_count": 23,
   "metadata": {},
   "outputs": [],
   "source": [
    "def make_constant_matrix(size,value=0.):\n",
    "    matrix = list()\n",
    "    for _ in range(size):\n",
    "        row = list()\n",
    "        for _ in range(size):\n",
    "            row.append(value)\n",
    "        matrix.append(row)\n",
    "    return matrix"
   ]
  },
  {
   "cell_type": "code",
   "execution_count": 24,
   "metadata": {},
   "outputs": [
    {
     "data": {
      "text/plain": [
       "[[2, 2, 2, 2, 2, 2, 2, 2, 2, 2],\n",
       " [2, 2, 2, 2, 2, 2, 2, 2, 2, 2],\n",
       " [2, 2, 2, 2, 2, 2, 2, 2, 2, 2],\n",
       " [2, 2, 2, 2, 2, 2, 2, 2, 2, 2],\n",
       " [2, 2, 2, 2, 2, 2, 2, 2, 2, 2],\n",
       " [2, 2, 2, 2, 2, 2, 2, 2, 2, 2],\n",
       " [2, 2, 2, 2, 2, 2, 2, 2, 2, 2],\n",
       " [2, 2, 2, 2, 2, 2, 2, 2, 2, 2],\n",
       " [2, 2, 2, 2, 2, 2, 2, 2, 2, 2],\n",
       " [2, 2, 2, 2, 2, 2, 2, 2, 2, 2]]"
      ]
     },
     "execution_count": 24,
     "metadata": {},
     "output_type": "execute_result"
    }
   ],
   "source": [
    "make_constant_matrix(10,2)"
   ]
  },
  {
   "cell_type": "code",
   "execution_count": 25,
   "metadata": {},
   "outputs": [],
   "source": [
    "#9\n",
    "def eye(size):\n",
    "    matrix=make_constant_matrix(size)\n",
    "    for i in range(size):\n",
    "        matrix[i][i]=1.\n",
    "    return matrix"
   ]
  },
  {
   "cell_type": "code",
   "execution_count": 26,
   "metadata": {},
   "outputs": [
    {
     "data": {
      "text/plain": [
       "[[1.0, 0.0, 0.0, 0.0, 0.0, 0.0],\n",
       " [0.0, 1.0, 0.0, 0.0, 0.0, 0.0],\n",
       " [0.0, 0.0, 1.0, 0.0, 0.0, 0.0],\n",
       " [0.0, 0.0, 0.0, 1.0, 0.0, 0.0],\n",
       " [0.0, 0.0, 0.0, 0.0, 1.0, 0.0],\n",
       " [0.0, 0.0, 0.0, 0.0, 0.0, 1.0]]"
      ]
     },
     "execution_count": 26,
     "metadata": {},
     "output_type": "execute_result"
    }
   ],
   "source": [
    "eye(6)"
   ]
  },
  {
   "cell_type": "code",
   "execution_count": 27,
   "metadata": {},
   "outputs": [],
   "source": [
    "#10\n",
    "def test_matrix(matrix):\n",
    "    size = len(matrix)\n",
    "    for i in range(size):\n",
    "        for j in range(size): \n",
    "            if not matrix[i][j] == matrix[j][i]:\n",
    "                return False\n",
    "    \n",
    "    return True "
   ]
  },
  {
   "cell_type": "code",
   "execution_count": 28,
   "metadata": {},
   "outputs": [
    {
     "data": {
      "text/plain": [
       "True"
      ]
     },
     "execution_count": 28,
     "metadata": {},
     "output_type": "execute_result"
    }
   ],
   "source": [
    "test_matrix( [ [1,2] , [2,1]])"
   ]
  },
  {
   "cell_type": "code",
   "execution_count": 30,
   "metadata": {},
   "outputs": [
    {
     "data": {
      "text/plain": [
       "False"
      ]
     },
     "execution_count": 30,
     "metadata": {},
     "output_type": "execute_result"
    }
   ],
   "source": [
    "test_matrix( [ [1,2] , [1,2]])"
   ]
  },
  {
   "cell_type": "markdown",
   "metadata": {},
   "source": [
    "## Computer Checkers Opponent\n",
    "\n",
    "In order to play the game, we need to define a score that the computer attempts to optimize. For example, the number of pieces compared to the number of opponent's pieces."
   ]
  },
  {
   "cell_type": "code",
   "execution_count": 32,
   "metadata": {},
   "outputs": [],
   "source": [
    "import copy\n",
    "from checkers import *\n",
    "\n",
    "# Method to generate a score for a game board\n",
    "# Just take difference between the number of pieces for each player\n",
    "\n",
    "def score_board(board,player):\n",
    "    return count_pieces(board,player)-count_pieces(board,switch_player(player))"
   ]
  },
  {
   "cell_type": "markdown",
   "metadata": {},
   "source": [
    "Lets test:"
   ]
  },
  {
   "cell_type": "code",
   "execution_count": 33,
   "metadata": {},
   "outputs": [
    {
     "name": "stdout",
     "output_type": "stream",
     "text": [
      "  1 2 3 4 5 6 7 8 \n",
      "A   X   X   X   X \n",
      "B X   X   X   X   \n",
      "C   X   X   X   X \n",
      "D                 \n",
      "E                 \n",
      "F O   O   O   O   \n",
      "G   O   O   O   O \n",
      "H O   O   O   O   \n"
     ]
    },
    {
     "data": {
      "text/plain": [
       "0"
      ]
     },
     "execution_count": 33,
     "metadata": {},
     "output_type": "execute_result"
    }
   ],
   "source": [
    "board=make_game_board()\n",
    "draw_board(board)\n",
    "score_board(board,player_1)"
   ]
  },
  {
   "cell_type": "markdown",
   "metadata": {},
   "source": [
    "Score is 0 when both opponents have the same number of pieces.\n",
    "\n",
    "How about if the computer looses a piece?"
   ]
  },
  {
   "cell_type": "code",
   "execution_count": 34,
   "metadata": {},
   "outputs": [
    {
     "name": "stdout",
     "output_type": "stream",
     "text": [
      "  1 2 3 4 5 6 7 8 \n",
      "A   X   X   X   X \n",
      "B X   X   X   X   \n",
      "C       X   X   X \n",
      "D                 \n",
      "E                 \n",
      "F O   O   O   O   \n",
      "G   O   O   O   O \n",
      "H O   O   O   O   \n"
     ]
    },
    {
     "data": {
      "text/plain": [
       "-1"
      ]
     },
     "execution_count": 34,
     "metadata": {},
     "output_type": "execute_result"
    }
   ],
   "source": [
    "board[2][1]=0\n",
    "draw_board(board)\n",
    "score_board(board,player_1)"
   ]
  },
  {
   "cell_type": "markdown",
   "metadata": {},
   "source": [
    "Now we need a way to generate all possible valid moves. Note that once a move is made, then we want to consider possible subsequence moves... we do this recursively:"
   ]
  },
  {
   "cell_type": "code",
   "execution_count": 36,
   "metadata": {},
   "outputs": [],
   "source": [
    "# Method for generating all possible moves\n",
    "# Output is a list of moves and the score of resulting board\n",
    "\n",
    "def generate_moves(board,player,current_player,depth):\n",
    "    \"\"\"\n",
    "    generate_moves(board,player,current_player,depth)\n",
    "    \n",
    "    Recursively generate moves to up to a depth.\n",
    "\n",
    "    board : starting board\n",
    "    player : the player who's score we are maximizing\n",
    "    current_player : the player's move we are currently generating\n",
    "    depth : current depth\n",
    "    \n",
    "    \"\"\"\n",
    "    \n",
    "    # If depth == 0 => no moves to generate just compute the score\n",
    "    if depth==0:\n",
    "        return list(),score_board(board,player)\n",
    "\n",
    "    # Lists to keep Moves and Scores\n",
    "    moves=list()\n",
    "    scores=list()\n",
    "    \n",
    "    # Search through the board looking for pieces to move\n",
    "    for i in range(size):\n",
    "        for j in range(size):\n",
    "            if board[i][j]==current_player:\n",
    "                # We found a piece for the appropriate player\n",
    "                \n",
    "                # Now consider moving the piece in the two possible directions\n",
    "                for move in [left_move,right_move]:\n",
    "                    # Make a copy of the board so to not mess up the original\n",
    "                    # This new board will represent the game after the hypothetical move.\n",
    "                    new_board=copy.deepcopy(board)\n",
    "\n",
    "                    # Test if the move is possible\n",
    "                    if move_piece(new_board,current_player,(i,j),move,verbose=False):\n",
    "                        # If the move is possible, then generate the next move after\n",
    "                        # Note that the next move will be by the other player\n",
    "                        # Also reduce depth so the process can stop\n",
    "                        next_moves,score=generate_moves(new_board, \n",
    "                                                        player,\n",
    "                                                        switch_player(current_player), \n",
    "                                                        depth-1)\n",
    "                        \n",
    "                        # Store the information for this move\n",
    "                        this_move=[(current_player,(i,j),move)] \n",
    "                        \n",
    "                        # Store the information for subsequent moves, after this move\n",
    "                        this_move.extend(next_moves)\n",
    "                        \n",
    "                        # Add this move/score to list of possible moves\n",
    "                        moves.append(this_move)\n",
    "                        scores.append(score)\n",
    "\n",
    "    return moves,scores"
   ]
  },
  {
   "cell_type": "markdown",
   "metadata": {},
   "source": [
    "Let's do a simple test..."
   ]
  },
  {
   "cell_type": "code",
   "execution_count": 37,
   "metadata": {},
   "outputs": [
    {
     "name": "stdout",
     "output_type": "stream",
     "text": [
      "  1 2 3 4 5 6 7 8 \n",
      "A   X   X   X   X \n",
      "B X   X   X   X   \n",
      "C   X   X   X   X \n",
      "D                 \n",
      "E                 \n",
      "F O   O   O   O   \n",
      "G   O   O   O   O \n",
      "H O   O   O   O   \n"
     ]
    }
   ],
   "source": [
    "board=make_game_board()\n",
    "draw_board(board)\n",
    "possible_moves,scores=generate_moves(board,player_1,player_1,1)"
   ]
  },
  {
   "cell_type": "markdown",
   "metadata": {},
   "source": [
    "Let's look at the possible first moves and their scores:"
   ]
  },
  {
   "cell_type": "code",
   "execution_count": 10,
   "metadata": {},
   "outputs": [
    {
     "data": {
      "text/plain": [
       "[([(1, (2, 1), 0)], 0),\n",
       " ([(1, (2, 1), 1)], 0),\n",
       " ([(1, (2, 3), 0)], 0),\n",
       " ([(1, (2, 3), 1)], 0),\n",
       " ([(1, (2, 5), 0)], 0),\n",
       " ([(1, (2, 5), 1)], 0),\n",
       " ([(1, (2, 7), 1)], 0)]"
      ]
     },
     "execution_count": 10,
     "metadata": {},
     "output_type": "execute_result"
    }
   ],
   "source": [
    "list(zip(possible_moves,scores))"
   ]
  },
  {
   "cell_type": "markdown",
   "metadata": {},
   "source": [
    "Now increase the depth:"
   ]
  },
  {
   "cell_type": "code",
   "execution_count": 38,
   "metadata": {},
   "outputs": [],
   "source": [
    "possible_moves,scores=generate_moves(board,player_1,player_1,2)"
   ]
  },
  {
   "cell_type": "code",
   "execution_count": 12,
   "metadata": {},
   "outputs": [
    {
     "data": {
      "text/plain": [
       "[([(1, (2, 1), 0),\n",
       "   [(2, (5, 0), 1)],\n",
       "   [(2, (5, 2), 0)],\n",
       "   [(2, (5, 2), 1)],\n",
       "   [(2, (5, 4), 0)],\n",
       "   [(2, (5, 4), 1)],\n",
       "   [(2, (5, 6), 0)],\n",
       "   [(2, (5, 6), 1)]],\n",
       "  [0, 0, 0, 0, 0, 0, 0]),\n",
       " ([(1, (2, 1), 1),\n",
       "   [(2, (5, 0), 1)],\n",
       "   [(2, (5, 2), 0)],\n",
       "   [(2, (5, 2), 1)],\n",
       "   [(2, (5, 4), 0)],\n",
       "   [(2, (5, 4), 1)],\n",
       "   [(2, (5, 6), 0)],\n",
       "   [(2, (5, 6), 1)]],\n",
       "  [0, 0, 0, 0, 0, 0, 0]),\n",
       " ([(1, (2, 3), 0),\n",
       "   [(2, (5, 0), 1)],\n",
       "   [(2, (5, 2), 0)],\n",
       "   [(2, (5, 2), 1)],\n",
       "   [(2, (5, 4), 0)],\n",
       "   [(2, (5, 4), 1)],\n",
       "   [(2, (5, 6), 0)],\n",
       "   [(2, (5, 6), 1)]],\n",
       "  [0, 0, 0, 0, 0, 0, 0]),\n",
       " ([(1, (2, 3), 1),\n",
       "   [(2, (5, 0), 1)],\n",
       "   [(2, (5, 2), 0)],\n",
       "   [(2, (5, 2), 1)],\n",
       "   [(2, (5, 4), 0)],\n",
       "   [(2, (5, 4), 1)],\n",
       "   [(2, (5, 6), 0)],\n",
       "   [(2, (5, 6), 1)]],\n",
       "  [0, 0, 0, 0, 0, 0, 0]),\n",
       " ([(1, (2, 5), 0),\n",
       "   [(2, (5, 0), 1)],\n",
       "   [(2, (5, 2), 0)],\n",
       "   [(2, (5, 2), 1)],\n",
       "   [(2, (5, 4), 0)],\n",
       "   [(2, (5, 4), 1)],\n",
       "   [(2, (5, 6), 0)],\n",
       "   [(2, (5, 6), 1)]],\n",
       "  [0, 0, 0, 0, 0, 0, 0]),\n",
       " ([(1, (2, 5), 1),\n",
       "   [(2, (5, 0), 1)],\n",
       "   [(2, (5, 2), 0)],\n",
       "   [(2, (5, 2), 1)],\n",
       "   [(2, (5, 4), 0)],\n",
       "   [(2, (5, 4), 1)],\n",
       "   [(2, (5, 6), 0)],\n",
       "   [(2, (5, 6), 1)]],\n",
       "  [0, 0, 0, 0, 0, 0, 0]),\n",
       " ([(1, (2, 7), 1),\n",
       "   [(2, (5, 0), 1)],\n",
       "   [(2, (5, 2), 0)],\n",
       "   [(2, (5, 2), 1)],\n",
       "   [(2, (5, 4), 0)],\n",
       "   [(2, (5, 4), 1)],\n",
       "   [(2, (5, 6), 0)],\n",
       "   [(2, (5, 6), 1)]],\n",
       "  [0, 0, 0, 0, 0, 0, 0])]"
      ]
     },
     "execution_count": 12,
     "metadata": {},
     "output_type": "execute_result"
    }
   ],
   "source": [
    "list(zip(possible_moves,scores))"
   ]
  },
  {
   "cell_type": "markdown",
   "metadata": {},
   "source": [
    "Lets increase the depth until we get a squence of moves that changes the score:"
   ]
  },
  {
   "cell_type": "code",
   "execution_count": 39,
   "metadata": {},
   "outputs": [],
   "source": [
    "possible_moves,scores=generate_moves(board,player_1,player_1,3)"
   ]
  },
  {
   "cell_type": "code",
   "execution_count": 41,
   "metadata": {},
   "outputs": [
    {
     "data": {
      "text/plain": [
       "8"
      ]
     },
     "execution_count": 41,
     "metadata": {},
     "output_type": "execute_result"
    }
   ],
   "source": [
    "len(possible_moves[0])"
   ]
  },
  {
   "cell_type": "code",
   "execution_count": 14,
   "metadata": {},
   "outputs": [
    {
     "data": {
      "text/plain": [
       "[(1, (2, 1), 0),\n",
       " [(2, (5, 0), 1),\n",
       "  [(1, (1, 0), 0)],\n",
       "  [(1, (1, 2), 1)],\n",
       "  [(1, (2, 3), 0)],\n",
       "  [(1, (2, 5), 0)],\n",
       "  [(1, (2, 5), 1)],\n",
       "  [(1, (2, 7), 1)],\n",
       "  [(1, (3, 2), 0)],\n",
       "  [(1, (3, 2), 1)]],\n",
       " [(2, (5, 2), 0),\n",
       "  [(1, (1, 0), 0)],\n",
       "  [(1, (1, 2), 1)],\n",
       "  [(1, (2, 3), 0)],\n",
       "  [(1, (2, 5), 0)],\n",
       "  [(1, (2, 5), 1)],\n",
       "  [(1, (2, 7), 1)],\n",
       "  [(1, (3, 2), 0)]],\n",
       " [(2, (5, 2), 1),\n",
       "  [(1, (1, 0), 0)],\n",
       "  [(1, (1, 2), 1)],\n",
       "  [(1, (2, 3), 0)],\n",
       "  [(1, (2, 5), 0)],\n",
       "  [(1, (2, 5), 1)],\n",
       "  [(1, (2, 7), 1)],\n",
       "  [(1, (3, 2), 1)]],\n",
       " [(2, (5, 4), 0),\n",
       "  [(1, (1, 0), 0)],\n",
       "  [(1, (1, 2), 1)],\n",
       "  [(1, (2, 3), 0)],\n",
       "  [(1, (2, 5), 0)],\n",
       "  [(1, (2, 5), 1)],\n",
       "  [(1, (2, 7), 1)],\n",
       "  [(1, (3, 2), 0)],\n",
       "  [(1, (3, 2), 1)]],\n",
       " [(2, (5, 4), 1),\n",
       "  [(1, (1, 0), 0)],\n",
       "  [(1, (1, 2), 1)],\n",
       "  [(1, (2, 3), 0)],\n",
       "  [(1, (2, 5), 0)],\n",
       "  [(1, (2, 5), 1)],\n",
       "  [(1, (2, 7), 1)],\n",
       "  [(1, (3, 2), 0)],\n",
       "  [(1, (3, 2), 1)]],\n",
       " [(2, (5, 6), 0),\n",
       "  [(1, (1, 0), 0)],\n",
       "  [(1, (1, 2), 1)],\n",
       "  [(1, (2, 3), 0)],\n",
       "  [(1, (2, 5), 0)],\n",
       "  [(1, (2, 5), 1)],\n",
       "  [(1, (2, 7), 1)],\n",
       "  [(1, (3, 2), 0)],\n",
       "  [(1, (3, 2), 1)]],\n",
       " [(2, (5, 6), 1),\n",
       "  [(1, (1, 0), 0)],\n",
       "  [(1, (1, 2), 1)],\n",
       "  [(1, (2, 3), 0)],\n",
       "  [(1, (2, 5), 0)],\n",
       "  [(1, (2, 5), 1)],\n",
       "  [(1, (2, 7), 1)],\n",
       "  [(1, (3, 2), 0)],\n",
       "  [(1, (3, 2), 1)]]]"
      ]
     },
     "execution_count": 14,
     "metadata": {},
     "output_type": "execute_result"
    }
   ],
   "source": [
    "possible_moves[0]"
   ]
  },
  {
   "cell_type": "code",
   "execution_count": 42,
   "metadata": {},
   "outputs": [
    {
     "data": {
      "text/plain": [
       "[[0, 0, 0, 0, 0, 0, 0, 1],\n",
       " [0, 0, 0, 0, 0, 0, 0],\n",
       " [0, 0, 0, 0, 0, 0, 0],\n",
       " [0, 0, 0, 0, 0, 0, 1, 0],\n",
       " [0, 0, 0, 0, 0, 0, 0, 0],\n",
       " [0, 0, 0, 0, 0, 0, 0, 0],\n",
       " [0, 0, 0, 0, 0, 0, 0, 0]]"
      ]
     },
     "execution_count": 42,
     "metadata": {},
     "output_type": "execute_result"
    }
   ],
   "source": [
    "scores[0]"
   ]
  },
  {
   "cell_type": "markdown",
   "metadata": {},
   "source": [
    "What we have is a tree of moves, where the path to any leaf corresponds to a sequnce of moves. In order to determine what path to take, we'll need to create a composite score for each path."
   ]
  },
  {
   "cell_type": "code",
   "execution_count": 43,
   "metadata": {},
   "outputs": [],
   "source": [
    "def tree_search(t,depth=1.):\n",
    "    # Using depth here to weight later moves less\n",
    "    if isinstance(t[0],list):\n",
    "        return sum([float(tree_search(item,depth+1.))/depth for item in t])\n",
    "    else:\n",
    "        return max(t)+min(t)"
   ]
  },
  {
   "cell_type": "code",
   "execution_count": 44,
   "metadata": {},
   "outputs": [
    {
     "data": {
      "text/plain": [
       "[2.0, 1.0, 2.0, 2.0, 1.0, 2.0, 1.0]"
      ]
     },
     "execution_count": 44,
     "metadata": {},
     "output_type": "execute_result"
    }
   ],
   "source": [
    "list(map(tree_search,scores))"
   ]
  },
  {
   "cell_type": "code",
   "execution_count": 45,
   "metadata": {},
   "outputs": [],
   "source": [
    "def pick_move(board,player,depth=5,func=max):\n",
    "    # Generate all possible moves to a depth\n",
    "    moves,scores=generate_moves(board,player,player,depth)\n",
    "    \n",
    "    # Compute a score for each possible sequence of moves\n",
    "    result=list(map(tree_search,scores))\n",
    "    \n",
    "    # Pick the a move based on a criteria (e.g. max score)\n",
    "    move_index=result.index(func(result))\n",
    "    \n",
    "    # Return the first move from the sequence of moves\n",
    "    return moves[move_index][0]"
   ]
  },
  {
   "cell_type": "code",
   "execution_count": 46,
   "metadata": {},
   "outputs": [
    {
     "data": {
      "text/plain": [
       "(1, (2, 1), 1)"
      ]
     },
     "execution_count": 46,
     "metadata": {},
     "output_type": "execute_result"
    }
   ],
   "source": [
    "pick_move(board,player_1)"
   ]
  },
  {
   "cell_type": "markdown",
   "metadata": {},
   "source": [
    "Now a full game with a computer player:"
   ]
  },
  {
   "cell_type": "code",
   "execution_count": 47,
   "metadata": {},
   "outputs": [],
   "source": [
    "def checkers_game_AI(max_depth=5):\n",
    "    \n",
    "    print (\"Welcome to Checkers.\")\n",
    "    print (\"--------------------\")\n",
    "\n",
    "    # Make a game board\n",
    "    board_0=make_game_board()\n",
    "    \n",
    "    # Start with player 1\n",
    "    player=player_1\n",
    "    \n",
    "    this_game_won=False\n",
    "    while not this_game_won:\n",
    "        # Draw the board\n",
    "        draw_board(board_0)\n",
    "        \n",
    "        # Make a move\n",
    "        if player==player_1:\n",
    "            print(\"Player\",player,\"move:\")\n",
    "            take_move(board_0,player)\n",
    "        else:\n",
    "            the_move=pick_move(board_0,player_2,depth=max_depth)\n",
    "            move_piece(board_0,*the_move)\n",
    "            \n",
    "        # Check if the game has been won\n",
    "        this_game_won=game_won(board_0)\n",
    "\n",
    "       # Switch players\n",
    "        player=switch_player(player)          \n",
    "\n",
    "    print(\"Player 1 Pieces:\", count_pieces(board_0,player_1))\n",
    "    print(\"Player 2 Pieces:\", count_pieces(board_0,player_2))\n",
    "    \n",
    "    if this_game_won:\n",
    "        print(\"Winner is player:\",this_game_won)"
   ]
  },
  {
   "cell_type": "code",
   "execution_count": null,
   "metadata": {
    "scrolled": false
   },
   "outputs": [
    {
     "name": "stdout",
     "output_type": "stream",
     "text": [
      "Welcome to Checkers.\n",
      "--------------------\n",
      "  1 2 3 4 5 6 7 8 \n",
      "A   X   X   X   X \n",
      "B X   X   X   X   \n",
      "C   X   X   X   X \n",
      "D                 \n",
      "E                 \n",
      "F O   O   O   O   \n",
      "G   O   O   O   O \n",
      "H O   O   O   O   \n",
      "Player 1 move:\n",
      "Input location:C4\n",
      "Input move (L/R):R\n",
      "Moved.\n",
      "  1 2 3 4 5 6 7 8 \n",
      "A   X   X   X   X \n",
      "B X   X   X   X   \n",
      "C   X       X   X \n",
      "D     X           \n",
      "E                 \n",
      "F O   O   O   O   \n",
      "G   O   O   O   O \n",
      "H O   O   O   O   \n",
      "Moved.\n",
      "  1 2 3 4 5 6 7 8 \n",
      "A   X   X   X   X \n",
      "B X   X   X   X   \n",
      "C   X       X   X \n",
      "D     X           \n",
      "E           O     \n",
      "F O   O   O       \n",
      "G   O   O   O   O \n",
      "H O   O   O   O   \n",
      "Player 1 move:\n",
      "Input location:C6\n",
      "Input move (L/R):L\n",
      "Moved.\n",
      "  1 2 3 4 5 6 7 8 \n",
      "A   X   X   X   X \n",
      "B X   X   X   X   \n",
      "C   X           X \n",
      "D     X       X   \n",
      "E           O     \n",
      "F O   O   O       \n",
      "G   O   O   O   O \n",
      "H O   O   O   O   \n",
      "Moved.\n",
      "  1 2 3 4 5 6 7 8 \n",
      "A   X   X   X   X \n",
      "B X   X   X   X   \n",
      "C   X           X \n",
      "D     X   O   X   \n",
      "E                 \n",
      "F O   O   O       \n",
      "G   O   O   O   O \n",
      "H O   O   O   O   \n",
      "Player 1 move:\n",
      "Input location:B5\n",
      "Input move (L/R):r\n",
      "Moved.\n",
      "  1 2 3 4 5 6 7 8 \n",
      "A   X   X   X   X \n",
      "B X   X       X   \n",
      "C   X   X       X \n",
      "D     X   O   X   \n",
      "E                 \n",
      "F O   O   O       \n",
      "G   O   O   O   O \n",
      "H O   O   O   O   \n",
      "Moved.\n",
      "  1 2 3 4 5 6 7 8 \n",
      "A   X   X   X   X \n",
      "B X   X       X   \n",
      "C   X   X       X \n",
      "D     X   O   X   \n",
      "E                 \n",
      "F O   O   O   O   \n",
      "G   O   O       O \n",
      "H O   O   O   O   \n",
      "Player 1 move:\n",
      "Input location:c4\n",
      "Input move (L/R):L\n",
      "Took opponent's piece.\n",
      "  1 2 3 4 5 6 7 8 \n",
      "A   X   X   X   X \n",
      "B X   X       X   \n",
      "C   X           X \n",
      "D     X       X   \n",
      "E           X     \n",
      "F O   O   O   O   \n",
      "G   O   O       O \n",
      "H O   O   O   O   \n",
      "Took opponent's piece.\n",
      "  1 2 3 4 5 6 7 8 \n",
      "A   X   X   X   X \n",
      "B X   X       X   \n",
      "C   X           X \n",
      "D     X   O   X   \n",
      "E                 \n",
      "F O   O   O       \n",
      "G   O   O       O \n",
      "H O   O   O   O   \n",
      "Player 1 move:\n",
      "Input location:c2\n",
      "Input move (L/R):r\n",
      "Moved.\n",
      "  1 2 3 4 5 6 7 8 \n",
      "A   X   X   X   X \n",
      "B X   X       X   \n",
      "C               X \n",
      "D X   X   O   X   \n",
      "E                 \n",
      "F O   O   O       \n",
      "G   O   O       O \n",
      "H O   O   O   O   \n",
      "Moved.\n",
      "  1 2 3 4 5 6 7 8 \n",
      "A   X   X   X   X \n",
      "B X   X       X   \n",
      "C               X \n",
      "D X   X   O   X   \n",
      "E                 \n",
      "F O   O   O   O   \n",
      "G   O   O         \n",
      "H O   O   O   O   \n",
      "Player 1 move:\n"
     ]
    }
   ],
   "source": [
    "checkers_game_AI()"
   ]
  },
  {
   "cell_type": "code",
   "execution_count": null,
   "metadata": {},
   "outputs": [],
   "source": []
  }
 ],
 "metadata": {
  "kernelspec": {
   "display_name": "Python 3",
   "language": "python",
   "name": "python3"
  },
  "language_info": {
   "codemirror_mode": {
    "name": "ipython",
    "version": 3
   },
   "file_extension": ".py",
   "mimetype": "text/x-python",
   "name": "python",
   "nbconvert_exporter": "python",
   "pygments_lexer": "ipython3",
   "version": "3.8.0"
  }
 },
 "nbformat": 4,
 "nbformat_minor": 2
}
