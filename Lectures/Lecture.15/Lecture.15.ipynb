{
 "cells": [
  {
   "cell_type": "markdown",
   "metadata": {},
   "source": [
    "# Lecture 15\n",
    "\n",
    "[![Open In Colab](https://colab.research.google.com/assets/colab-badge.svg)](https://colab.research.google.com/github/UTA-DataScience/DATA1401.2020.Fall/blob/master/Lectures/Lecture.15/Lecture.15.ipynb)\n",
    "\n"
   ]
  },
  {
   "cell_type": "markdown",
   "metadata": {},
   "source": [
    "## Quiz\n",
    "\n",
    "1. Create a list of numbers ranging from 1 to 10.\n",
    "\n",
    "2. Use indexing / slicing to create a sublist of 2nd to 5th elements.\n",
    "\n",
    "3. Use indexing / slicing to create a sublist of 2nd to 5th elements, in reverse order.\n",
    "\n",
    "4. Use indexing / slicing to get the last element.\n",
    "\n",
    "5. Use indexing / slicing to get a list of the last 3 elements.\n",
    "\n",
    "6. Use indexing / slicing to get a list of the last 4 elements, excluding the very last element.\n",
    "\n",
    "7. Use indexing / slicing to reverse the list.\n",
    "\n",
    "8. Write a function that creates an n by n matrix with all emlements having the same provided value.\n",
    "\n",
    "9. Write a function that creates an n by n identity matrix (elements along diagonal are 1, all other elements are 0).\n",
    "\n",
    "10. Write a function that tests if a matrix and it's transpose (flipped along the diagonal) are the same.\n",
    "\n",
    " "
   ]
  },
  {
   "cell_type": "code",
   "execution_count": null,
   "metadata": {},
   "outputs": [],
   "source": [
    "import copy\n",
    "from checkers import *\n",
    "\n",
    "# Method to generate a score for a game board\n",
    "# Just take difference between the number of pieces for each player\n",
    "\n",
    "def score_board(board,player):\n",
    "    return count_pieces(board,player)-count_pieces(board,switch_player(player))"
   ]
  },
  {
   "cell_type": "code",
   "execution_count": null,
   "metadata": {},
   "outputs": [],
   "source": [
    "board=make_game_board()\n",
    "draw_board(board)\n",
    "score_board(board,player_1)"
   ]
  },
  {
   "cell_type": "code",
   "execution_count": null,
   "metadata": {},
   "outputs": [],
   "source": [
    "board[2][1]=0\n",
    "score_board(board,player_1)"
   ]
  },
  {
   "cell_type": "code",
   "execution_count": null,
   "metadata": {},
   "outputs": [],
   "source": [
    "# Method for generating all possible moves\n",
    "# Output is a list of moves and the score of resulting board\n",
    "\n",
    "def generate_moves(board,player,current_player,depth):\n",
    "    \"\"\"\n",
    "    generate_moves(board,player,current_player,depth)\n",
    "    \n",
    "    Recursively generate moves to up to a depth.\n",
    "\n",
    "    board : starting board\n",
    "    player : the player who's score we are maximizing\n",
    "    current_player : the player's move we are currently generating\n",
    "    depth : current depth\n",
    "    \"\"\"\n",
    "    \n",
    "    # If depth == 0 => no moves to generate just compute the score\n",
    "    if depth==0:\n",
    "        return list(),score_board(board,player)\n",
    "\n",
    "    # Lists to keep Moves and Scores\n",
    "    moves=list()\n",
    "    scores=list()\n",
    "    \n",
    "    # Search through the board looking for pieces to move\n",
    "    for i in range(size):\n",
    "        for j in range(size):\n",
    "            if board[i][j]==current_player:\n",
    "                # We found a piece for the appropriate player\n",
    "                \n",
    "                # Now consider moving the piece in the two possible directions\n",
    "                for move in [left_move,right_move]:\n",
    "                    # Make a copy of the board so to not mess up the original\n",
    "                    # This new board will represent the game after the hypothetical move.\n",
    "                    new_board=copy.deepcopy(board)\n",
    "\n",
    "                    # Test if the move is possible\n",
    "                    if move_piece(new_board,current_player,(i,j),move,verbose=False):\n",
    "                        # If the move is possible, then generate the next move after\n",
    "                        # Note that the next move will be by the other player\n",
    "                        # Also reduce depth so the process can stop\n",
    "                        next_moves,score=generate_moves(new_board, \n",
    "                                                        player,\n",
    "                                                        switch_player(current_player), \n",
    "                                                        depth-1)\n",
    "                        \n",
    "                        # Store the information for this move\n",
    "                        this_move=[(current_player,(i,j),move)]\n",
    "                        \n",
    "                        # Store the information for subsequent moves, after this move\n",
    "                        this_move.extend(next_moves)\n",
    "                        \n",
    "                        # Add this move/score to list of possible moves\n",
    "                        moves.append(this_move)\n",
    "                        scores.append(score)\n",
    "\n",
    "    return moves,scores\n",
    "\n"
   ]
  },
  {
   "cell_type": "code",
   "execution_count": null,
   "metadata": {},
   "outputs": [],
   "source": [
    "board=make_game_board()\n",
    "draw_board(board)\n",
    "possible_moves,scores=generate_moves(board,player_1,player_1,1)"
   ]
  },
  {
   "cell_type": "code",
   "execution_count": null,
   "metadata": {},
   "outputs": [],
   "source": [
    "list(zip(possible_moves,scores))"
   ]
  },
  {
   "cell_type": "code",
   "execution_count": null,
   "metadata": {},
   "outputs": [],
   "source": [
    "possible_moves,scores=generate_moves(board,player_1,player_1,2)"
   ]
  },
  {
   "cell_type": "code",
   "execution_count": null,
   "metadata": {},
   "outputs": [],
   "source": [
    "list(zip(possible_moves,scores))"
   ]
  },
  {
   "cell_type": "code",
   "execution_count": null,
   "metadata": {},
   "outputs": [],
   "source": [
    "possible_moves,scores=generate_moves(board,player_1,player_1,3)"
   ]
  },
  {
   "cell_type": "code",
   "execution_count": null,
   "metadata": {},
   "outputs": [],
   "source": [
    "possible_moves[0]"
   ]
  },
  {
   "cell_type": "code",
   "execution_count": null,
   "metadata": {},
   "outputs": [],
   "source": [
    "scores[0]"
   ]
  },
  {
   "cell_type": "code",
   "execution_count": null,
   "metadata": {},
   "outputs": [],
   "source": [
    "def tree_search(t,depth=1):\n",
    "    if isinstance(t[0],list):\n",
    "        return sum([float(tree_search(item,depth+1))/depth for item in t])\n",
    "    else:\n",
    "        return max(t)+min(t)"
   ]
  },
  {
   "cell_type": "code",
   "execution_count": null,
   "metadata": {},
   "outputs": [],
   "source": [
    "list(map(tree_search,scores))"
   ]
  },
  {
   "cell_type": "code",
   "execution_count": null,
   "metadata": {},
   "outputs": [],
   "source": [
    "def pick_move(board,player,depth=5,func=max):\n",
    "    # Generate all possible moves to a depth\n",
    "    moves,scores=generate_moves(board,player,player,depth)\n",
    "    \n",
    "    # Compute a score for each possible sequence of moves\n",
    "    result=list(map(tree_search,scores))\n",
    "    \n",
    "    # Pick the a move based on a criteria (e.g. max score)\n",
    "    move_index=result.index(func(result))\n",
    "    \n",
    "    # Return the first move from the sequence of moves\n",
    "    return moves[move_index][0]"
   ]
  },
  {
   "cell_type": "code",
   "execution_count": null,
   "metadata": {},
   "outputs": [],
   "source": [
    "pick_move(board,player_1)"
   ]
  },
  {
   "cell_type": "code",
   "execution_count": null,
   "metadata": {},
   "outputs": [],
   "source": [
    "def checkers_game_AI():\n",
    "    \n",
    "    print (\"Welcome to Checkers.\")\n",
    "    print (\"--------------------\")\n",
    "\n",
    "    # Make a game board\n",
    "    board_0=make_game_board()\n",
    "    \n",
    "    # Start with player 1\n",
    "    player=player_1\n",
    "    \n",
    "    this_game_won=False\n",
    "    while not this_game_won:\n",
    "        # Draw the board\n",
    "        draw_board(board_0)\n",
    "        \n",
    "        # Make a move\n",
    "        if player==player_1:\n",
    "            print(\"Player\",player,\"move:\")\n",
    "            take_move(board_0,player)\n",
    "        else:\n",
    "            the_move=pick_move(board_0,player_2)\n",
    "            #print(the_move)\n",
    "            move_piece(board_0,*the_move)\n",
    "            \n",
    "        # Check if the game has been won\n",
    "        this_game_won=game_won(board_0)\n",
    "\n",
    "       # Switch players\n",
    "        player=switch_player(player)          \n",
    "\n",
    "    print(\"Player 1 Pieces:\", count_pieces(board_0,player_1))\n",
    "    print(\"Player 2 Pieces:\", count_pieces(board_0,player_2))\n",
    "    \n",
    "    if this_game_won:\n",
    "        print(\"Winner is player:\",this_game_won)"
   ]
  }
 ],
 "metadata": {
  "kernelspec": {
   "display_name": "Python 3",
   "language": "python",
   "name": "python3"
  },
  "language_info": {
   "codemirror_mode": {
    "name": "ipython",
    "version": 3
   },
   "file_extension": ".py",
   "mimetype": "text/x-python",
   "name": "python",
   "nbconvert_exporter": "python",
   "pygments_lexer": "ipython3",
   "version": "3.8.0"
  }
 },
 "nbformat": 4,
 "nbformat_minor": 2
}
