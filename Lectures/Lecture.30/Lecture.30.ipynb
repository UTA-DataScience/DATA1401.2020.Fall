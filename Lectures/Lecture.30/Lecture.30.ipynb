{
 "cells": [
  {
   "cell_type": "markdown",
   "metadata": {},
   "source": [
    "# Lecture 30\n",
    "\n",
    "[![Open In Colab](https://colab.research.google.com/assets/colab-badge.svg)](https://colab.research.google.com/github/UTA-DataScience/DATA1401.2020.Fall/blob/master/Lectures/Lecture.30/Lecture.30.ipynb)\n",
    "\n",
    "From previous lecture:"
   ]
  },
  {
   "cell_type": "code",
   "execution_count": null,
   "metadata": {},
   "outputs": [],
   "source": [
    "# Import libraries we will use\n",
    "import pandas as pd\n",
    "import numpy as np\n",
    "%matplotlib inline\n",
    "import matplotlib.pyplot as plt\n",
    "from collections import OrderedDict"
   ]
  },
  {
   "cell_type": "markdown",
   "metadata": {},
   "source": [
    "We have an updated CSV file (with Lab 4 grades)... lets load up this new file. First drop the first line as we did last time:"
   ]
  },
  {
   "cell_type": "code",
   "execution_count": null,
   "metadata": {},
   "outputs": [],
   "source": [
    "!wc -l Data-1401-Grades.csv"
   ]
  },
  {
   "cell_type": "code",
   "execution_count": null,
   "metadata": {},
   "outputs": [],
   "source": [
    "!tail -230 Data-1401-Grades.csv"
   ]
  },
  {
   "cell_type": "code",
   "execution_count": null,
   "metadata": {},
   "outputs": [],
   "source": [
    "!tail -230 Data-1401-Grades.csv > Data-1401-Grades-Fixed.csv"
   ]
  },
  {
   "cell_type": "code",
   "execution_count": null,
   "metadata": {},
   "outputs": [],
   "source": [
    "# Read Data into a Pandas DataFrame\n",
    "df = pd.read_csv(\"Data-1401-Grades-Fixed.csv\")"
   ]
  },
  {
   "cell_type": "code",
   "execution_count": null,
   "metadata": {},
   "outputs": [],
   "source": [
    "# Create mask to keep only lines with numbers\n",
    "mask=list()\n",
    "for i in range(16):\n",
    "    mask.append(True)\n",
    "    mask.append(False)"
   ]
  },
  {
   "cell_type": "code",
   "execution_count": null,
   "metadata": {},
   "outputs": [],
   "source": [
    "# Apply mask and remove NaNs\n",
    "df_0=df[mask].fillna(0)"
   ]
  },
  {
   "cell_type": "code",
   "execution_count": null,
   "metadata": {},
   "outputs": [],
   "source": [
    "# Fix Exam 1 entries\n",
    "df_0[\"Exam 1 Fixed\"] = list(map(lambda x: int(x.split(\"-\")[0]) ,df_0[\"Exam 1\"].tolist()))"
   ]
  },
  {
   "cell_type": "code",
   "execution_count": null,
   "metadata": {
    "scrolled": true
   },
   "outputs": [],
   "source": [
    "df_0"
   ]
  },
  {
   "cell_type": "code",
   "execution_count": null,
   "metadata": {},
   "outputs": [],
   "source": [
    "grade_def = [(\"A+\",100),\n",
    "             (\"A\",90),\n",
    "             (\"B\",80), \n",
    "             (\"C\",70),\n",
    "             (\"D\",60),\n",
    "             (\"F\",0) ]\n",
    "\n",
    "grades=OrderedDict(grade_def[::-1])\n",
    "\n",
    "grades_inverse=OrderedDict(zip(list(grades.values())[::-1],\n",
    "                               list(grades.keys())[::-1]))"
   ]
  },
  {
   "cell_type": "code",
   "execution_count": null,
   "metadata": {},
   "outputs": [],
   "source": [
    "def grade_summary(df_0,grades,min_grade=0.):\n",
    "    df=df_0[df_0>min_grade]\n",
    "    N_total=sum(df>min_grade)\n",
    "    hist,bins=np.histogram(df,bins=list(grades.values()))\n",
    "\n",
    "    print(\"Mean:\",np.mean(df))\n",
    "    print(\"Std:\",np.std(df))\n",
    "    \n",
    "    for grade_letter,bin_count in zip(grades.keys(),hist):\n",
    "        print(grade_letter+\": \"+str(bin_count),\n",
    "              float(bin_count/N_total) )\n",
    "    "
   ]
  },
  {
   "cell_type": "code",
   "execution_count": null,
   "metadata": {},
   "outputs": [],
   "source": [
    "grade_summary(df_0[\"Exam 1 Fixed\"],grades,55)"
   ]
  },
  {
   "cell_type": "code",
   "execution_count": null,
   "metadata": {},
   "outputs": [],
   "source": [
    "def compute_curve(df_0, min_grade=None):\n",
    "\n",
    "    if min_grade:\n",
    "        pass\n",
    "    else:\n",
    "        min_grade=np.max(df_0)/2.\n",
    "    \n",
    "    print(\"Min grade:\",min_grade)\n",
    "\n",
    "    df=df_0[df_0>min_grade]\n",
    "    N_total=sum(df_0>min_grade)\n",
    "    \n",
    "    print(\"N Total (post cut):\",N_total)\n",
    "    print(\"N Total (pre cut):\",df_0.shape)\n",
    "    \n",
    "    mean=np.mean(df)\n",
    "    std=np.std(df)\n",
    "\n",
    "    print(\"Mean:\",mean)\n",
    "    print(\"Std:\",std)\n",
    "    \n",
    "    grade_def=[(\"A+\",np.max(df)),\n",
    "               (\"A\", min(np.max(df),mean+std)),\n",
    "               (\"B\",mean), \n",
    "               (\"C\",mean-std),\n",
    "               (\"D\",mean-2*std),\n",
    "               (\"F\",0.)]\n",
    "    \n",
    "    grade_def.reverse()\n",
    "    grades=OrderedDict( grade_def )\n",
    "    \n",
    "    \n",
    "    hist,bins=np.histogram(df,bins=list(grades.values()))\n",
    "    \n",
    "    _=plt.hist(df)\n",
    "    plt.show()\n",
    "    \n",
    "    for grade_letter,bin_count,min_grade in zip(grades.keys(),hist,grades.values()):\n",
    "        print(\"{:2.2f}\".format(min_grade),\n",
    "              grade_letter+\": \"+str(bin_count),\n",
    "              \"{:2.2f}%\".format(100.*float(bin_count/N_total)) )\n",
    "    return grades\n",
    "    "
   ]
  },
  {
   "cell_type": "code",
   "execution_count": null,
   "metadata": {},
   "outputs": [],
   "source": [
    "compute_curve(df_0[\"Exam 1 Fixed\"],55)"
   ]
  },
  {
   "cell_type": "markdown",
   "metadata": {},
   "source": [
    "## Grading Strategies\n",
    "\n",
    "Thinking about what we did, we noticed that we have 2 grading strategies:\n",
    "1. \"Standard\": 70, 80, 90 scheme.\n",
    "2. \"Curved\": Using mean and standard deviation.\n",
    "\n",
    "There is a third strategy that I often apply when the grade distribution doesn't look like a normal distribution. When we curve the letter grades mean the following, based on the fact that 68% of normal distribution lies between -1 and 1 $\\sigma$ of the mean.\n",
    "|\n",
    "* B and C: comprise of the 68% of the students withing 1 $\\sigma$ of the mean, with the top 34% subset assigned a B and the bottom 34% assigned a C. Nearly all of the remaining 32% of the students will be within 2 $\\sigma$ of the mean.\n",
    "* A: The approximately 16% that are more than 1 $\\sigma$ above the mean are assigned an A.\n",
    "* D: The approximately 16% that are more are between 1 $\\sigma$ and 2 $\\sigma$ below the mean are assigned a D.\n",
    "\n",
    "All of this assume a normal distribution. If the grade distribution isn't normal, we can still assign grades in a way that we could interpret in the same way as the curved grades by simply assigning the top 16% an A, next 32% B, then assign C to the 32% and D to the the 16% after.\n",
    "\n",
    "\n"
   ]
  },
  {
   "cell_type": "markdown",
   "metadata": {},
   "source": [
    "# Disecting the Task at Hand\n",
    "\n",
    "We can also note that all the strategies are defined by the boundries between letter grades. Therefore we can factorize the operation of assigning a letter grade into several steps:\n",
    "* Perform statistical analysis of the grades to obtain basic parameters.\n",
    "    * Minimum cut-off\n",
    "    * Mean / Sigma\n",
    "* Establish grade boundries.\n",
    "    * Potentially apply several strategies.\n",
    "    * Select a strategy appropriate for given distribution of grades.\n",
    "* Use grade boundries to assign grades.\n",
    "* Validate the assigned grades.\n",
    "\n"
   ]
  },
  {
   "cell_type": "markdown",
   "metadata": {},
   "source": [
    "## Quiz\n",
    "\n",
    "Work out the total Lab grade by:\n",
    "\n",
    "1. Summing the lab grades: extract the lab grade values, sum them, and add the sum as new column to the DataFrame. \n",
    "2. Histogram the lab grades.\n",
    "3. Apply the curve. Does it give a non-punative bell-curve letter grade distribution (i.e. not worse than non-curved standard scheme)?\n",
    "4. Determine good grade boundries for the labs."
   ]
  },
  {
   "cell_type": "code",
   "execution_count": null,
   "metadata": {},
   "outputs": [],
   "source": [
    "# Work here... add cells as needed."
   ]
  },
  {
   "cell_type": "markdown",
   "metadata": {},
   "source": [
    "## Organizing Our Code\n",
    "\n",
    "It is possible to perform the steps above without any (or with minimal) generalization or abstraction (ie using functions). We could work out a grade with a series of steps... then copy and paste for the other grades. The benefits would be that without generalization, we could fine tune every grade easily. But it could become tedious and our results would be error prone.\n",
    "\n",
    "Alternatively, we can recognize that each of the steps above can be done with a set of functions that have the same inputs and outputs:\n",
    "\n",
    "* Statistical Analysis Functions: Input list of grades. Output mean, standard deviation, and minium grade.\n",
    "* Grade Boundries Functions: Input stats (and list of grades). Output boundries.\n",
    "* Assign Grades Function: Input boundries and list grades. Output corresponding list of assigned letter grades.\n",
    "* Validate Function: Input assigned letter grades, output percentage of each grade.\n",
    "\n",
    "In addition, we will need to do a weighted sum of the grades to assign a class grade. \n",
    "\n",
    "We also have to note that beyond the procedural steps, we will have to make choices about how we represent the input/output data of each step. For example, previously we represented grade boundries as an `OrderedDict`. \n",
    "\n"
   ]
  },
  {
   "cell_type": "markdown",
   "metadata": {},
   "source": [
    "## Building a System\n",
    "\n",
    "We are starting to recognize that depending on the context, we may choose different levels of sophistication for our code to solve a problem:\n",
    "\n",
    "* Quickly solve a problem once: Cut and paste can be sufficient.\n",
    "* Scale or solve the problem on many data points: Implement functions that perform tasks.\n",
    "* Solve the same problem with different data: Identify tasks and generalize functions with defined input/outputs\n",
    "* Enable others to use your code to solve the same problem.\n",
    "* Build a production system or service that solves the problem.\n",
    "\n"
   ]
  },
  {
   "cell_type": "markdown",
   "metadata": {},
   "source": [
    "## An Object Oriented Approach\n",
    "\n",
    "Object Oriented programming is not required to solve problems. But in many cases, OO can greatly simplify the development process and ability to further add functionality to the code. Even within OO, there are many approaches to solving the same problem, and while some may have advatanges, often it takes several iterations and revisions to approach optimality... and even then, there are stylistic and historical choices.\n",
    "\n",
    "Lets explore one OO approach to building a Grade Book system.\n"
   ]
  },
  {
   "cell_type": "markdown",
   "metadata": {},
   "source": [
    "## Base Classes"
   ]
  },
  {
   "cell_type": "code",
   "execution_count": null,
   "metadata": {},
   "outputs": [],
   "source": [
    "# Create some virtual classes\n",
    "\n",
    "class base:\n",
    "    __name=\"\"\n",
    "    \n",
    "    def __init__(self,name):\n",
    "        self.__name=name\n",
    "\n",
    "    def name(self):\n",
    "        return self.__name\n",
    "    \n",
    "\n",
    "class data(base):\n",
    "    def __init__(self,name):\n",
    "        base.__init__(self,name)\n",
    "        \n",
    "class alg(base):\n",
    "    def __init__(self,name):\n",
    "        base.__init__(self,name)\n"
   ]
  },
  {
   "cell_type": "code",
   "execution_count": null,
   "metadata": {},
   "outputs": [],
   "source": [
    "a=alg(\"Hello\")\n",
    "a.name()"
   ]
  },
  {
   "cell_type": "code",
   "execution_count": null,
   "metadata": {},
   "outputs": [],
   "source": [
    "dir(a)"
   ]
  },
  {
   "cell_type": "markdown",
   "metadata": {},
   "source": [
    "## Grade Representation\n",
    "\n",
    "We note that we have two types of grades: numerical and letter. We have a choice of how to represent grades. Below is one. What might be another way?"
   ]
  },
  {
   "cell_type": "code",
   "execution_count": null,
   "metadata": {},
   "outputs": [],
   "source": [
    "class grade(data):\n",
    "    __letter_grades=[\"F-\",\"F\",\"F+\",\"D-\",\"D\",\"D+\",\"C-\",\"C\",\"C+\",\"B-\",\"B\",\"B+\",\"A-\",\"A\",\"A+\"]\n",
    "    \n",
    "    def __init__(self,name,numerical=True,value=None):\n",
    "        self.__value=value\n",
    "        self.__numerical=numerical\n",
    "        self.__gradebook_name=str()\n",
    "        \n",
    "        if value:\n",
    "            if isinstance(value,(int,float)):\n",
    "                self.__numerical=True\n",
    "            elif isinstance(value,str):\n",
    "                self.__numerical=False\n",
    "            self.set(value)\n",
    "        else:            \n",
    "            self.__numerical=numerical\n",
    "        self.__gradebook_name=name\n",
    "        data.__init__(self,name+\" Grade Data Object\")        \n",
    "\n",
    "    def set(self,value):\n",
    "        if isinstance(value,(int,float)) and self.__numerical:\n",
    "            self.__value=value\n",
    "        elif isinstance(value,str) and not self.__numerical:\n",
    "            if value in self.__letter_grades:\n",
    "                self.__value=value\n",
    "        else:\n",
    "            print( self.name()+\" Error: Bad Grade.\")\n",
    "            raise Exception\n",
    "    \n",
    "    def value(self):\n",
    "        return self.__value\n",
    "    \n",
    "    def numerical(self):\n",
    "        return self.__numerical\n",
    "    \n",
    "    def gradebook_name(self):\n",
    "        return self.__gradebook_name\n",
    "    \n",
    "    def __str__(self):\n",
    "        return self.__gradebook_name+\": \"+str(self.__value)\n"
   ]
  },
  {
   "cell_type": "markdown",
   "metadata": {},
   "source": [
    "## Student Representation"
   ]
  },
  {
   "cell_type": "code",
   "execution_count": null,
   "metadata": {},
   "outputs": [],
   "source": [
    "class student(data):\n",
    "    \n",
    "    def __init__(self, first_name, last_name, id_number):\n",
    "        self.__grades=dict()\n",
    "        self.__id_number=id_number\n",
    "        data.__init__(self,first_name+\" \"+last_name+\" Student Data\")\n",
    "\n",
    "    def add_grade(self,a_grade,overwrite=False):\n",
    "        if overwrite or not a_grade.gradebook_name() in self.__grades:\n",
    "            self.__grades[a_grade.gradebook_name()]=a_grade\n",
    "        else:\n",
    "            print (self.name()+\" Error Adding Grade \"+a_grade.name()+\". Grade already exists.\")\n",
    "            raise Exception\n",
    "\n",
    "    def id_number(self):\n",
    "        return self.__id_number\n",
    "    \n",
    "    def __getitem__(self,key):\n",
    "        return self.__grades[key]\n",
    "    \n",
    "    def print_grades(self):\n",
    "        for grade in self.__grades:\n",
    "            print (self.__grades[grade])"
   ]
  },
  {
   "cell_type": "code",
   "execution_count": null,
   "metadata": {},
   "outputs": [],
   "source": [
    "a_student=student(\"John\",\"Doe\",111)\n",
    "\n",
    "a_student.add_grade(grade(\"Exam 1\",value=95))\n",
    "a_student.add_grade(grade(\"Exam 1 Letter\",value=\"A\"))\n",
    "\n",
    "a_student.print_grades()"
   ]
  },
  {
   "cell_type": "markdown",
   "metadata": {},
   "source": [
    "## Grade Calculator"
   ]
  },
  {
   "cell_type": "code",
   "execution_count": null,
   "metadata": {},
   "outputs": [],
   "source": [
    "class grade_calculator(alg):    \n",
    "    def __init__(self,name,stats):\n",
    "        self.__stats=stats\n",
    "        alg.__init__(self,name)\n",
    "\n",
    "    def apply(self,a_grade):\n",
    "        raise NotImplementedError\n",
    "        \n",
    "\n",
    "class uncurved_letter_grade_percent(grade_calculator):\n",
    "    __grades_definition=[ (.97,\"A+\"),\n",
    "                          (.93,\"A\"),\n",
    "                          (.9,\"A-\"),\n",
    "                          (.87,\"B+\"),\n",
    "                          (.83,\"B\"),\n",
    "                          (.8,\"B-\"),\n",
    "                          (.77,\"C+\"),\n",
    "                          (.73,\"C\"),\n",
    "                          (.7,\"C-\"),\n",
    "                          (.67,\"C+\"),\n",
    "                          (.63,\"C\"),\n",
    "                          (.6,\"C-\"),\n",
    "                          (.57,\"F+\"),\n",
    "                          (.53,\"F\"),\n",
    "                          (0.,\"F-\")]\n",
    "    __max_grade=100.\n",
    "    __grade_name=str()\n",
    "    \n",
    "    def __init__(self,grade_name,max_grade=100.):\n",
    "        self.__max_grade=max_grade\n",
    "        self.__grade_name=grade_name\n",
    "        grade_calculator.__init__(self,\n",
    "                                  \"Uncurved Percent Based Grade Calculator \"+self.__grade_name+\" Max=\"+str(self.__max_grade),\n",
    "                                 False)\n",
    "        \n",
    "\n",
    "    def apply(self,a_grade):\n",
    "        if not isinstance(a_grade,grade):\n",
    "            print (self.name()+ \" Error: Did not get an proper grade as input.\")\n",
    "            raise Exception\n",
    "        if not a_grade.numerical():\n",
    "            print (self.name()+ \" Error: Did not get a numerical grade as input.\")\n",
    "            raise Exception\n",
    "\n",
    "        percent=a_grade.value()/self.__max_grade\n",
    "        \n",
    "        for i,v in enumerate(self.__grades_definition):\n",
    "            if percent>=v[0]:\n",
    "                break\n",
    "                            \n",
    "        return grade(self.__grade_name,value=self.__grades_definition[i][1])\n",
    "            "
   ]
  },
  {
   "cell_type": "code",
   "execution_count": null,
   "metadata": {},
   "outputs": [],
   "source": [
    "a_grader=uncurved_letter_grade_percent(grade_name=\"Exam 1 Test Grade\")\n",
    "print(a_grader.apply(a_student[\"Exam 1\"]))"
   ]
  },
  {
   "cell_type": "code",
   "execution_count": null,
   "metadata": {},
   "outputs": [],
   "source": [
    "print(a_grader.apply(grade(\"Test Grade\",value=81.)))"
   ]
  },
  {
   "cell_type": "code",
   "execution_count": null,
   "metadata": {},
   "outputs": [],
   "source": [
    "class curved_letter_grade(grade_calculator):\n",
    "    __grades_definition=[ (.97,\"A+\"),\n",
    "                          (.93,\"A\"),\n",
    "                          (.9,\"A-\"),\n",
    "                          (.87,\"B+\"),\n",
    "                          (.83,\"B\"),\n",
    "                          (.8,\"B-\"),\n",
    "                          (.77,\"C+\"),\n",
    "                          (.73,\"C\"),\n",
    "                          (.7,\"C-\"),\n",
    "                          (.67,\"C+\"),\n",
    "                          (.63,\"C\"),\n",
    "                          (.6,\"C-\"),\n",
    "                          (.57,\"F+\"),\n",
    "                          (.53,\"F\"),\n",
    "                          (0.,\"F-\")]\n",
    "    __max_grade=100.\n",
    "    __grade_name=str()\n",
    "    \n",
    "    def __init__(self,grade_name,mean,std,max_grade=100.):\n",
    "        self.__max_grade=max_grade\n",
    "        self.__mean=mean\n",
    "        self.__std=std\n",
    "        self.__grade_name=grade_name\n",
    "        grade_calculator.__init__(self,\n",
    "                                  \"Curved Percent Based Grade Calculator \"+self.__grade_name+ \\\n",
    "                                  \" Mean=\"+str(self.__mean)+\\\n",
    "                                  \" STD=\"+str(self.__std)+\\\n",
    "                                  \" Max=\"+str(self.__max_grade),\n",
    "                                   False)\n",
    "        \n",
    "\n",
    "    def apply(self,a_grade):\n",
    "        if not isinstance(a_grade,grade):\n",
    "            print (self.name()+ \" Error: Did not get an proper grade as input.\")\n",
    "            raise Exception\n",
    "        if not a_grade.numerical():\n",
    "            print (self.name()+ \" Error: Did not get a numerical grade as input.\")\n",
    "            raise Exception\n",
    "    \n",
    "        # Rescale the grade\n",
    "        percent=a_grade.value()/self.__max_grade\n",
    "        shift_to_zero=percent-(self.__mean/self.__max_grade)\n",
    "        scale_std=0.1*shift_to_zero/(self.__std/self.__max_grade)\n",
    "        scaled_percent=scale_std+0.8\n",
    "        \n",
    "        for i,v in enumerate(self.__grades_definition):\n",
    "            if scaled_percent>=v[0]:\n",
    "                break\n",
    "                            \n",
    "        return grade(self.__grade_name,value=self.__grades_definition[i][1])\n",
    "            "
   ]
  },
  {
   "cell_type": "code",
   "execution_count": null,
   "metadata": {},
   "outputs": [],
   "source": [
    "a_student=student(\"John\",\"Doe\",111)\n",
    "\n",
    "a_student.print_grades()\n",
    "\n",
    "a_student.add_grade(grade(\"Exam 1\",value=70))\n",
    "a_student.add_grade(grade(\"Exam 1 Letter\",value=\"A\"))\n",
    "\n",
    "a_student.print_grades()"
   ]
  },
  {
   "cell_type": "code",
   "execution_count": null,
   "metadata": {},
   "outputs": [],
   "source": [
    "a_grader=curved_letter_grade(grade_name=\"Exam 1 Test Grade\",mean=50.,std=10.)\n",
    "print( a_grader.apply(a_student[\"Exam 1\"]))"
   ]
  },
  {
   "cell_type": "code",
   "execution_count": null,
   "metadata": {},
   "outputs": [],
   "source": [
    "print( a_grader.apply(grade(\"Test Grade\",value=75.)))"
   ]
  },
  {
   "cell_type": "markdown",
   "metadata": {},
   "source": [
    "## Stats Computation"
   ]
  },
  {
   "cell_type": "code",
   "execution_count": null,
   "metadata": {},
   "outputs": [],
   "source": [
    "import numpy as np\n",
    "import math\n",
    "\n",
    "class statistics_calculator(alg):    \n",
    "    def __init__(self,name):\n",
    "        alg.__init__(self,name)\n",
    "\n",
    "    def apply(self,grades):\n",
    "        raise NotImplementedError\n",
    "        \n",
    "class mean_std_calculator(statistics_calculator):\n",
    "    def __init__(self):\n",
    "        statistics_calculator.__init__(self,\"Mean and Standard Deviation Calculator\")\n",
    "        \n",
    "    def apply(self,grades):\n",
    "        return np.mean(grades),math.sqrt(np.var(grades))\n",
    "\n"
   ]
  },
  {
   "cell_type": "markdown",
   "metadata": {},
   "source": [
    "## Grade Summing"
   ]
  },
  {
   "cell_type": "code",
   "execution_count": null,
   "metadata": {},
   "outputs": [],
   "source": [
    "class summary_calculator(alg):    \n",
    "    def __init__(self,name):\n",
    "        alg.__init__(self,name)\n",
    "\n",
    "    def apply(self,a_student):\n",
    "        raise NotImplementedError\n",
    "        \n",
    "class grade_summer(summary_calculator):\n",
    "    def __init__(self,prefix,n):\n",
    "        self.__prefix=prefix\n",
    "        self.__n=n\n",
    "        statistics_calculator.__init__(self,\"Sum Grades\")\n",
    "        \n",
    "    def apply(self,a_student):\n",
    "        labels=[prefix+str(x) for x in range(1,n)]\n",
    "        \n",
    "        grade_sum=0.\n",
    "        for label in labels:\n",
    "            grade_sum+=a_student[label]\n",
    "            \n",
    "        a_student.add_grade(grade(prefix+\"sum\",value=grade_sum))"
   ]
  },
  {
   "cell_type": "markdown",
   "metadata": {},
   "source": [
    "## Gradebook"
   ]
  },
  {
   "cell_type": "code",
   "execution_count": null,
   "metadata": {},
   "outputs": [],
   "source": [
    "class grade_book(data):\n",
    "    \n",
    "    def __init__(self,name):\n",
    "        data.__init__(self,name+\" Course Grade Book\")\n",
    "        self.__students=dict()\n",
    "    \n",
    "    def add_student(self,a_student):\n",
    "        self.__students[a_student.id_number()]=a_student\n",
    "        \n",
    "    def assign_grade(self,key,a_grade):\n",
    "        the_student=None\n",
    "        try:\n",
    "            the_student=self.__students[key]\n",
    "        except:\n",
    "            for id in self.__students:\n",
    "                if key == self.__students[id].name():\n",
    "                    the_student=self.__students[id]\n",
    "                    break\n",
    "        if the_student:\n",
    "            the_student.add_grade(a_grade)\n",
    "        else:\n",
    "            print (self.name()+\" Error: Did not find student.\")\n",
    "            \n",
    "    def apply_grader(self,a_grader,grade_name):\n",
    "        for k,a_student in self.__students.items():\n",
    "            a_student.add_grade(a_grader.apply(a_student[grade_name]))\n",
    "            \n",
    "    def apply_stats(self,a_stat_comp,grade_name):\n",
    "        grades=list()\n",
    "        for k,a_student in self.__students.items():\n",
    "            grades.append(a_student[grade_name].value())\n",
    "            \n",
    "        return a_stat_comp.apply(grades)\n",
    "        \n",
    "    def print(self):\n",
    "        for id,student in self.__students.items():\n",
    "            print(\"Student:\",id)\n",
    "            student.print_grades()\n",
    "    "
   ]
  },
  {
   "cell_type": "markdown",
   "metadata": {},
   "source": [
    "## Building a Gradebook"
   ]
  },
  {
   "cell_type": "code",
   "execution_count": null,
   "metadata": {},
   "outputs": [],
   "source": [
    "df_0.keys()"
   ]
  },
  {
   "cell_type": "code",
   "execution_count": null,
   "metadata": {},
   "outputs": [],
   "source": [
    "a_grade_book=grade_book(\"Data 1401\")\n",
    "\n",
    "for student_i in range(df_0.shape[0]):\n",
    "    a_student_0=student(\"Student\",str(student_i),student_i)\n",
    "\n",
    "    for k in df_0.keys():\n",
    "        a_student_0.add_grade(grade(k,value=df_0[k].tolist()[student_i]))\n",
    "\n",
    "    a_grade_book.add_student(a_student_0)\n",
    "        "
   ]
  },
  {
   "cell_type": "code",
   "execution_count": null,
   "metadata": {},
   "outputs": [],
   "source": [
    "a_grade_book.apply_stats(mean_std_calculator(),\"Exam 1 Fixed\")"
   ]
  },
  {
   "cell_type": "code",
   "execution_count": null,
   "metadata": {},
   "outputs": [],
   "source": [
    "a_grade_book.print()"
   ]
  }
 ],
 "metadata": {
  "kernelspec": {
   "display_name": "Python 3",
   "language": "python",
   "name": "python3"
  },
  "language_info": {
   "codemirror_mode": {
    "name": "ipython",
    "version": 3
   },
   "file_extension": ".py",
   "mimetype": "text/x-python",
   "name": "python",
   "nbconvert_exporter": "python",
   "pygments_lexer": "ipython3",
   "version": "3.8.0"
  }
 },
 "nbformat": 4,
 "nbformat_minor": 2
}
