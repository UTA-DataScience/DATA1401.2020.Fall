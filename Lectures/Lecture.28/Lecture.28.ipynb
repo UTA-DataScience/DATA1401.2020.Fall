{
 "cells": [
  {
   "cell_type": "markdown",
   "metadata": {},
   "source": [
    "# Lecture 28\n",
    "\n",
    "Reminder from Lecture 23:\n",
    "\n",
    "## Linear Algebra\n",
    "\n",
    "Linear Algebra was invented to solve equations like this:\n",
    "\n",
    "\\begin{align}\n",
    "4 x_1 + 5 x_2 &=& 12\\\\\n",
    "-2 x_1 - x_2 &=& 2\n",
    "\\end{align}\n",
    "\n",
    "by representing them as matrices like this:\n",
    "\n",
    "\\begin{equation*}\n",
    "\\begin{pmatrix}\n",
    "4 & 5 & 12\\\\\n",
    "-2 & -1 & 2\n",
    "\\end{pmatrix}\n",
    "\\end{equation*}\n",
    "\n",
    "or\n",
    "\n",
    "\\begin{equation*}\n",
    "A = \\begin{pmatrix} 4 & 5 \\\\ -2 & -1\\end{pmatrix}, \n",
    "\\vec{x} = \\begin{pmatrix} x_1 \\\\ x_2\\end{pmatrix}, \n",
    "\\vec{y} = \\begin{pmatrix} 12 \\\\2 \\end{pmatrix},\n",
    "\\end{equation*}\n",
    "\n",
    "\\begin{equation*}\n",
    "A\\vec{x}=\\vec{y} \\Rightarrow \\vec{x}=A^{-1} \\vec{y}\n",
    "\\end{equation*}\n",
    "\n",
    "Where $A^{-1}$ is the inverse of $A$, which if the equations are not linearly dependent can be computed algorithmically.\n",
    "\n",
    "\\begin{equation*}\n",
    "\\end{equation*}"
   ]
  },
  {
   "cell_type": "markdown",
   "metadata": {},
   "source": [
    "## Properties of Matrices\n",
    "$$\n",
    "(AB)C=A(BC)\n",
    "$$\n",
    "$$\n",
    "A(B+C)=AB+AC\n",
    "$$\n",
    "$$\n",
    "AB\\neq BA\n",
    "$$\n",
    "$$\n",
    "AI=A\n",
    "$$"
   ]
  },
  {
   "cell_type": "markdown",
   "metadata": {},
   "source": [
    "Where $I$ the identify matrix is a square matrix:\n",
    "\n",
    "\\begin{equation*}\n",
    "I = \n",
    " \\begin{pmatrix}\n",
    "  1 & 0 & \\cdots & 0 \\\\\n",
    "  0 & 1 & \\cdots & 0 \\\\\n",
    "  \\vdots  & \\vdots  & \\ddots & \\vdots\\\\\n",
    "  0 & 0 & \\cdots & 1 \n",
    "\\end{pmatrix}\n",
    "\\end{equation*}"
   ]
  },
  {
   "cell_type": "markdown",
   "metadata": {},
   "source": [
    "## Matrix Elements\n",
    "Consider an arbitrary matrix $A$:\n",
    "\n",
    "\\begin{equation*}\n",
    "A_{m,n} = \n",
    " \\begin{pmatrix}\n",
    "  a_{11} & a_{12} & \\cdots & a_{1n} \\\\\n",
    "  a_{21} & a_{22} & \\cdots & a_{2n} \\\\\n",
    "  \\vdots  & \\vdots  & \\ddots & \\vdots\\\\\n",
    "  a_{m1} & a_{m2} & \\cdots & a_{mn} \n",
    "\\end{pmatrix}\n",
    "\\end{equation*}\n",
    "\n",
    "we define the columns as $a_j=A_{:,j}$:\n",
    "\n",
    "\\begin{pmatrix} \n",
    "| & | &  &|\\\\\n",
    "a_1 & a_2 & \\dots &\\ a_n\\\\\n",
    "| & | &  &|\n",
    "\\end{pmatrix}\n",
    "\n",
    "and rows $a^T_i = A_{i,:}$:\n",
    "\n",
    "\\begin{pmatrix} \n",
    "- & a^T_1 & -\\\\\n",
    "- & a^T_2 & -\\\\\n",
    " & \\vdots & \\\\\n",
    "- & a^T_3 & -\\\\\n",
    "\\end{pmatrix}\n"
   ]
  },
  {
   "cell_type": "markdown",
   "metadata": {},
   "source": [
    "# Matrix Operations\n",
    "\n",
    "* Transpose: $(A^T)_{ij} = A_{ji}$\n",
    "* Sum (elementwise): $C_{ij} = A_{ij} + B_{ij}$\n",
    "* Elementwise product: $C_{ij} = A_{ij} B_{ij}$\n",
    "* Matrix product: $C=A \\cdot B$: $C_{ij} = \\sum_{k} A_{ik} B_{kj}$.\n",
    "   * Note than if size of $A$ is $n \\times m$ then $B$ has to be of size $m \\times k$ and the resulting matrix will be of size $n \\times k$.\n",
    "   * Good way to visualize product:\n",
    "    \\begin{equation*}\n",
    "    AB=\n",
    "\\begin{pmatrix} \n",
    "- & a_1 & -\\\\\n",
    "- & a_2 & -\\\\\n",
    " & \\vdots & \\\\\n",
    "- & a_m & -\\\\\n",
    "\\end{pmatrix} \n",
    "\\begin{pmatrix} \n",
    "| & | &  &|\\\\\n",
    "b_1 & b_2 & \\dots &\\ b_n\\\\\n",
    "| & | &  &|\n",
    "\\end{pmatrix}=\n",
    "\\begin{pmatrix}\n",
    "a^T_1b_1 & a^T_1b_2 & \\dots & a^T_1b_n\\\\\n",
    "a^T_2b_1 & a^T_2b_2 & \\dots & a^T_2b_n\\\\\n",
    "\\vdots & \\vdots & \\ddots & \\vdots \\\\\n",
    "a^T_mb_1 & a^T_mb_2 & \\dots & a^T_mb_n\n",
    "\\end{pmatrix}\n",
    "\\end{equation*}"
   ]
  },
  {
   "cell_type": "markdown",
   "metadata": {},
   "source": [
    "$A$ is $m_1$ by $n_1$ and $B$ is  $m_2$ by $n_2$ then you can multiply ($AB$) if $n_1=m_2$."
   ]
  },
  {
   "cell_type": "markdown",
   "metadata": {},
   "source": [
    "## Vector Products\n",
    "\n",
    "* Dot product: $x\\cdot y = x^T y = \\sum_{i=1}^n x_i y_i$\n",
    "* Other product: \n",
    "\\begin{equation*}\n",
    "\\begin{pmatrix} x_1\\\\x_2\\\\ \\vdots \\\\x_m \\end{pmatrix} \\begin{pmatrix} y_1&y_2& \\dots &y_n\\end{pmatrix} =\n",
    "\\begin{pmatrix}\n",
    "x_1y_1 & x_1y_2 & \\dots & x_1y_n\\\\\n",
    "x_2y_1 & x_2y_2 & \\dots & x_2y_n\\\\\n",
    "\\vdots & \\vdots & \\ddots & \\vdots \\\\\n",
    "x_my_1 & x_my_2 & \\dots & x_my_n\n",
    "\\end{pmatrix}\n",
    "\\end{equation*}\n"
   ]
  },
  {
   "cell_type": "markdown",
   "metadata": {},
   "source": [
    "## Norms\n",
    "* $l=1$ Norm: $\\parallel x \\parallel_1 = \\sum_{i=1}^{n}|x_i|$\n",
    "* $l=2$ Norm: $\\parallel x \\parallel_2 = \\sqrt{\\sum_{i=1}^{n}x_i^2}$\n",
    "* $l=p$ Norm: $\\parallel x \\parallel_p = \\left(\\sum_{i=1}^{n}x_i^p\\right)^\\frac{1}{p}$\n",
    "* $l=\\infty$ Norm: $\\parallel x \\parallel_\\infty = \\max_i |x_i|$\n",
    "* Law of cosines: $x \\cdot y = \\parallel x \\parallel_2 \\parallel y \\parallel_2 \\cos{\\theta}$\n"
   ]
  },
  {
   "cell_type": "markdown",
   "metadata": {},
   "source": [
    "## Linear Independence\n",
    "Given vectors \n",
    "$$\n",
    "\\{\\vec{x}_1,\\vec{x}_2,\\dots,\\vec{x}_n\\},\n",
    "$$\n",
    "a linear combination of these vectors is\n",
    "$$\n",
    "\\sum_{i=0}^{n}=c_i \\vec{x}_i=\\begin{pmatrix} \n",
    "| & | &  &|\\\\\n",
    "\\vec{x}_1 & \\vec{x}_2 & \\dots &\\ \\vec{x}_n\\\\\n",
    "| & | &  &|\n",
    "\\end{pmatrix}\n",
    "\\begin{pmatrix} \n",
    "c_1\\\\\n",
    "c_2\\\\\n",
    "\\vdots\\\\\n",
    "c_n\n",
    "\\end{pmatrix}\n",
    "$$\n",
    "where $\\{c_1,c_2,\\dots,c_n\\}$ are a set of coefficients (a single number, not a vector). \n",
    "\n",
    "A vector $\\vec{y}$ is linearly independent from the set $\\{\\vec{x}_i\\}$ if $\\vec{y}$ cannot be written as a linear combination of $\\{\\vec{x}_i\\}$. "
   ]
  },
  {
   "cell_type": "markdown",
   "metadata": {},
   "source": [
    "## Implementing Matrix Operations"
   ]
  },
  {
   "cell_type": "code",
   "execution_count": null,
   "metadata": {},
   "outputs": [],
   "source": [
    "def zero_matrix(m,n):\n",
    "    return [ [0 for _ in range(m)] for _ in range(n)]"
   ]
  },
  {
   "cell_type": "code",
   "execution_count": null,
   "metadata": {},
   "outputs": [],
   "source": [
    "def zero_matrix(m,n):\n",
    "    out=list()\n",
    "    for i in range(m):\n",
    "        row=list()\n",
    "        for j in range(n):\n",
    "            row.append(0.)\n",
    "        out.append(row)\n",
    "    return out"
   ]
  },
  {
   "cell_type": "code",
   "execution_count": null,
   "metadata": {},
   "outputs": [],
   "source": [
    "zero_matrix(5,10)"
   ]
  },
  {
   "cell_type": "code",
   "execution_count": null,
   "metadata": {},
   "outputs": [],
   "source": [
    "def is_matrix(M):\n",
    "    if isinstance(M,list):\n",
    "        row_length=len(M[0])\n",
    "        for row in M:\n",
    "            if not row_length==len(row):\n",
    "                return False\n",
    "    else:\n",
    "        False\n",
    "    return True\n",
    "        "
   ]
  },
  {
   "cell_type": "code",
   "execution_count": null,
   "metadata": {},
   "outputs": [],
   "source": [
    "is_matrix(zero_matrix(10,4))"
   ]
  },
  {
   "cell_type": "code",
   "execution_count": null,
   "metadata": {},
   "outputs": [],
   "source": [
    "is_matrix( [[ 2,3],[1,2,3]])"
   ]
  },
  {
   "cell_type": "code",
   "execution_count": null,
   "metadata": {},
   "outputs": [],
   "source": [
    "def matrix_shape(M):\n",
    "    if is_matrix(M):\n",
    "        m=len(M)\n",
    "        n=len(M[0])\n",
    "        return m,n\n",
    "    else:\n",
    "        0,0"
   ]
  },
  {
   "cell_type": "code",
   "execution_count": null,
   "metadata": {},
   "outputs": [],
   "source": [
    "matrix_shape(zero_matrix(10,5))"
   ]
  },
  {
   "cell_type": "code",
   "execution_count": null,
   "metadata": {},
   "outputs": [],
   "source": [
    "def is_square_matrix(M):\n",
    "    m,n=matrix_shape(M)\n",
    "    if m==0 or n==0:\n",
    "        return False\n",
    "    return m==n"
   ]
  },
  {
   "cell_type": "code",
   "execution_count": null,
   "metadata": {},
   "outputs": [],
   "source": [
    "is_square_matrix(zero_matrix(10,10))"
   ]
  },
  {
   "cell_type": "code",
   "execution_count": null,
   "metadata": {},
   "outputs": [],
   "source": [
    "def matrix_add(M1,M2):\n",
    "    m1,n1=matrix_shape(M1)\n",
    "    m2,n2=matrix_shape(M2)\n",
    "    \n",
    "    if m1==m2 and n1==n2:\n",
    "        M3=zero_matrix(m1,n1)\n",
    "        for i in range(m1):\n",
    "            for j in range(n1):\n",
    "                M3[i][j]=M1[i][j]+M2[i][j]\n",
    "        return M3\n",
    "    \n",
    "    return False"
   ]
  },
  {
   "cell_type": "code",
   "execution_count": null,
   "metadata": {},
   "outputs": [],
   "source": [
    "A= [ [ 1,2,3],\n",
    "     [ 2,4,5]]\n",
    "\n",
    "B= [ [ 5,2,1],\n",
    "     [ 1,3,2]]\n",
    "\n",
    "matrix_add(A,B)\n"
   ]
  },
  {
   "cell_type": "code",
   "execution_count": null,
   "metadata": {},
   "outputs": [],
   "source": [
    "def matrix_scalar_multiply(M,a):\n",
    "    m,n=matrix_shape(M)\n",
    "    M_out=zero_matrix(m,n)\n",
    "    for i in range(m):\n",
    "        for j in range(n):\n",
    "            M_out[i][j]=a*M[i][j]\n",
    "    return M_out\n",
    "    \n",
    "    "
   ]
  },
  {
   "cell_type": "code",
   "execution_count": null,
   "metadata": {},
   "outputs": [],
   "source": [
    "matrix_scalar_multiply(A,4)"
   ]
  },
  {
   "cell_type": "code",
   "execution_count": null,
   "metadata": {},
   "outputs": [],
   "source": [
    "def matrix_neg(M):\n",
    "    return matrix_scalar_multiply(M,-1)"
   ]
  },
  {
   "cell_type": "code",
   "execution_count": null,
   "metadata": {},
   "outputs": [],
   "source": [
    "matrix_neg(A)"
   ]
  },
  {
   "cell_type": "code",
   "execution_count": null,
   "metadata": {},
   "outputs": [],
   "source": [
    "def matrix_sub(M1,M2):\n",
    "    return matrix_add(M1, matrix_neg(M2))"
   ]
  },
  {
   "cell_type": "code",
   "execution_count": null,
   "metadata": {},
   "outputs": [],
   "source": [
    "matrix_sub(A,B)"
   ]
  },
  {
   "cell_type": "code",
   "execution_count": null,
   "metadata": {},
   "outputs": [],
   "source": [
    "def matrix_transpose(M):\n",
    "    m,n=matrix_shape(M)\n",
    "    M_out=zero_matrix(n,m)\n",
    "    for i in range(m):\n",
    "        for j in range(n):\n",
    "            M_out[j][i]=M[i][j]\n",
    "    return M_out\n",
    "    "
   ]
  },
  {
   "cell_type": "code",
   "execution_count": null,
   "metadata": {},
   "outputs": [],
   "source": [
    "matrix_transpose(A)"
   ]
  },
  {
   "cell_type": "markdown",
   "metadata": {},
   "source": [
    "## Matrix Multiplication\n",
    "\n",
    "Let's implement:\n",
    "\n",
    "$C_{ij} = \\sum_{k} A_{ik} B_{kj}$.\n",
    "\n",
    "Note that the first index of $C$ ($i$) is also the first index of $A$, so they must be the same size. \n",
    "Second index of $C$ ($j$) is also the second index of $B$, so they also must be the same size.\n",
    "And the second index of $A$ and the first index of $B$ have to similarily be the same size. In other words in terms of matrix size, matrix multiplication is:\n",
    "$$\n",
    "(n,l) * (l,m) \\rightarrow (n,m)\n",
    "$$\n",
    "\n",
    "\n",
    "Start with `matrix_add` from above and modify:\n"
   ]
  },
  {
   "cell_type": "code",
   "execution_count": null,
   "metadata": {},
   "outputs": [],
   "source": [
    "def matrix_add(M1,M2):\n",
    "    m1,n1=matrix_shape(M1)\n",
    "    m2,n2=matrix_shape(M2)\n",
    "    \n",
    "    if m1==m2 and n1==n2:\n",
    "        M3=zero_matrix(m1,n1)\n",
    "        for i in range(m1):\n",
    "            for j in range(n1):\n",
    "                M3[i][j]=M1[i][j]+M2[i][j]\n",
    "        return M3\n",
    "    \n",
    "    return False"
   ]
  },
  {
   "cell_type": "markdown",
   "metadata": {},
   "source": [
    "## Indexing"
   ]
  },
  {
   "cell_type": "code",
   "execution_count": null,
   "metadata": {},
   "outputs": [],
   "source": [
    "class my_list:\n",
    "    def __init__(self,a_list):\n",
    "        self._list=a_list\n",
    "        \n",
    "    def __getitem__(self,key):\n",
    "        print(key)\n",
    "        "
   ]
  },
  {
   "cell_type": "code",
   "execution_count": null,
   "metadata": {},
   "outputs": [],
   "source": [
    "obj = my_list([5,5,5])\n",
    "\n",
    "obj[1]\n",
    "obj[1,2]\n",
    "obj[1,2,3]\n",
    "obj[1:2]"
   ]
  },
  {
   "cell_type": "code",
   "execution_count": null,
   "metadata": {},
   "outputs": [],
   "source": [
    "slice(1,2,3).stop"
   ]
  },
  {
   "cell_type": "code",
   "execution_count": null,
   "metadata": {},
   "outputs": [],
   "source": [
    "class my_list:\n",
    "  def __init__(self,a_list):\n",
    "    self._list=a_list\n",
    "\n",
    "  def __getitem__(self, key):\n",
    "    if isinstance(key, slice):\n",
    "        start = key.start or 0\n",
    "        stop = key.stop or len(self._list)\n",
    "        step = key.step or 1        \n",
    "        return [self._list[i] for i in range(start, stop, step)]\n",
    "    elif isinstance(key, int):\n",
    "        return self._list(key)\n",
    "    elif isinstance(key, tuple):\n",
    "        raise NotImplementedError\n",
    "    else:\n",
    "        raise TypeError "
   ]
  },
  {
   "cell_type": "code",
   "execution_count": null,
   "metadata": {},
   "outputs": [],
   "source": [
    "my_list([1,2,3,4,5,6,7])[2:6:2]"
   ]
  },
  {
   "cell_type": "markdown",
   "metadata": {},
   "source": [
    "How do you handle both `M[i][j]` and `M[i,j]`?"
   ]
  },
  {
   "cell_type": "code",
   "execution_count": null,
   "metadata": {},
   "outputs": [],
   "source": [
    "class DataRow:\n",
    "    def __init__(self,fields,data):\n",
    "        self.__fields=fields\n",
    "        self.__data=data\n",
    "        \n",
    "    def __getitem__(self,key):\n",
    "        return self.__data[self.__fields.index(key)]\n",
    "\n",
    "\n",
    "class Data:\n",
    "    def __init__(self):\n",
    "        self.__fields=list()\n",
    "        self.__data=list()\n",
    "        \n",
    "    def set_fields(self,fields):\n",
    "        self.__fields=fields\n",
    "        \n",
    "    def add_data_point(self,data_point):\n",
    "        if isinstance(data_point,list):\n",
    "            if len(data_point) == len(self.__fields):\n",
    "                self.__data.append(DataRow(self.__fields,data_point))\n",
    "            else:\n",
    "                print(\"Expected {} fields, got {} fields.\".format(len(self.__fields),len(fields)))\n",
    "        else:\n",
    "            print(\"Data Point must be given as a list.\")\n",
    "\n",
    "    def add_data_points(self,data_points):\n",
    "        for data_point in data_points:\n",
    "            self.add_data_point(data_point)\n",
    "            \n",
    "    def fields(self):\n",
    "        return self.__fields\n",
    "    \n",
    "    def __getitem__(self,key):\n",
    "        return self.__data[key]\n",
    "\n",
    "    def __str__(self):\n",
    "        return self.__fields"
   ]
  },
  {
   "cell_type": "markdown",
   "metadata": {},
   "source": [
    "## Lazy Evaluation\n"
   ]
  },
  {
   "cell_type": "code",
   "execution_count": null,
   "metadata": {},
   "outputs": [],
   "source": [
    "def matrix_multiply(M1,M2):\n",
    "    m1,n1=matrix_shape(M1)\n",
    "    m2,n2=matrix_shape(M2)\n",
    "    \n",
    "    if n1==m2:\n",
    "        \n",
    "        M3=zero_matrix(m1,n2)\n",
    "        for i in range(m1):\n",
    "            for j in range(n2):\n",
    "                for k in range(n1):\n",
    "                    M3[i][j]+=M1[i][k]*M2[k][j]\n",
    "        return M3\n",
    "    \n",
    "    return False"
   ]
  },
  {
   "cell_type": "code",
   "execution_count": null,
   "metadata": {},
   "outputs": [],
   "source": [
    "M1 =  [ [ 1, 2 ] , [ 2, 3 ] ]\n",
    "M2 =  [ [ 1, 2 ] , [ 2, 3 ] ]\n",
    "\n",
    "matrix_multiply(M1,M2)\n",
    "    "
   ]
  },
  {
   "cell_type": "code",
   "execution_count": null,
   "metadata": {},
   "outputs": [],
   "source": []
  },
  {
   "cell_type": "code",
   "execution_count": null,
   "metadata": {},
   "outputs": [],
   "source": [
    "class lazy_multiplied_matrix:\n",
    "    def __init__(self,M1,M2):\n",
    "        m1,n1=matrix_shape(M1)\n",
    "        m2,n2=matrix_shape(M2)\n",
    "        \n",
    "        assert(n1==m2)\n",
    "        self._n1=n1\n",
    "        \n",
    "        self._m=m1\n",
    "        self._n=n2\n",
    "        \n",
    "        self._M1=M1\n",
    "        self._M2=M2\n",
    "\n",
    "        self._M3= [ [None for _ in range(self._m)] for _ in range(self._n)]\n",
    "        \n",
    "    def __getitem__(self,key):\n",
    "        if isinstance(key,tuple):\n",
    "            i,j=key\n",
    "            \n",
    "        if self._M3[i][j]:\n",
    "            return self._M3[i][j]\n",
    "        else:\n",
    "            self._M3[i][j]=0.\n",
    "\n",
    "            for k in range(self._n1):\n",
    "                self._M3[i][j]+=self._M1[i][k]*self._M2[k][j]\n",
    "                \n",
    "            return self._M3[i][j]\n",
    "        \n",
    "    def __str__(self):\n",
    "        return str(self._M3)\n",
    "    \n",
    "    __repr__ = __str__\n",
    "    \n",
    "                    "
   ]
  },
  {
   "cell_type": "code",
   "execution_count": null,
   "metadata": {},
   "outputs": [],
   "source": [
    "M3=lazy_multiplied_matrix(M1,M2)"
   ]
  },
  {
   "cell_type": "code",
   "execution_count": null,
   "metadata": {},
   "outputs": [],
   "source": [
    "M3"
   ]
  },
  {
   "cell_type": "code",
   "execution_count": null,
   "metadata": {},
   "outputs": [],
   "source": [
    "M3[1,1]"
   ]
  },
  {
   "cell_type": "code",
   "execution_count": null,
   "metadata": {},
   "outputs": [],
   "source": [
    "M3"
   ]
  }
 ],
 "metadata": {
  "kernelspec": {
   "display_name": "Python 3",
   "language": "python",
   "name": "python3"
  },
  "language_info": {
   "codemirror_mode": {
    "name": "ipython",
    "version": 3
   },
   "file_extension": ".py",
   "mimetype": "text/x-python",
   "name": "python",
   "nbconvert_exporter": "python",
   "pygments_lexer": "ipython3",
   "version": "3.8.0"
  }
 },
 "nbformat": 4,
 "nbformat_minor": 2
}
