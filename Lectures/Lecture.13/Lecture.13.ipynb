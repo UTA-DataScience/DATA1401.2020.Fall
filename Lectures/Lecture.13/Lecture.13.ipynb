{
 "cells": [
  {
   "cell_type": "markdown",
   "metadata": {},
   "source": [
    "# Lecture 13"
   ]
  },
  {
   "cell_type": "markdown",
   "metadata": {},
   "source": [
    "[![Open In Colab](https://colab.research.google.com/assets/colab-badge.svg)](https://colab.research.google.com/github/UTA-DataScience/DATA1401.2020.Fall/blob/master/Lectures/Lecture.13/Lecture.13.ipynb)\n",
    "\n"
   ]
  },
  {
   "cell_type": "markdown",
   "metadata": {},
   "source": [
    "# Quiz\n",
    "\n",
    "Write 3 functions that take as in input a matrix, represented as a list of lists, and return:\n",
    "   * Sum of all elements (`sum_all()`)\n",
    "   * List of the sum of the rows (`sum_rows()`)\n",
    "   * List of the sum of the columns (`sum_columns()`)\n",
    "   "
   ]
  },
  {
   "cell_type": "code",
   "execution_count": null,
   "metadata": {},
   "outputs": [],
   "source": [
    "# Example Matrix\n",
    "D = [ [ 1, 2, 3 ],\n",
    "      [ 4, 5, 6 ],\n",
    "      [ 7, 8, 9 ]\n",
    "      ]"
   ]
  },
  {
   "cell_type": "code",
   "execution_count": 1,
   "metadata": {},
   "outputs": [],
   "source": [
    "# Your solution here"
   ]
  },
  {
   "cell_type": "markdown",
   "metadata": {
    "collapsed": true
   },
   "source": [
    "# More Python...\n",
    "\n",
    "In this lecture, we will introduce a few other aspects of python that can be very powerful. The next leaps in power will come when we introduce object oriented programming. \n",
    "\n",
    "## None Type\n",
    "\n",
    "There is one python built-in datatype that we haven't explored yet: `None`. None represents a null or no value at all. It is not the same as 0, `False`, or empty string. And it has it's own type (`NoneType`).\n",
    "\n",
    "Some Examples:"
   ]
  },
  {
   "cell_type": "code",
   "execution_count": null,
   "metadata": {},
   "outputs": [],
   "source": [
    "x = None\n",
    "\n",
    "print (\"None:\",x)\n",
    "\n",
    "if x:\n",
    "    print (\"None is True!\")\n",
    "else:\n",
    "    print( \"None is not True!\")\n",
    "\n",
    "# A list with None in it\n",
    "[x]"
   ]
  },
  {
   "cell_type": "markdown",
   "metadata": {},
   "source": [
    "Also note that comparing None to anything except None will return False:"
   ]
  },
  {
   "cell_type": "code",
   "execution_count": null,
   "metadata": {},
   "outputs": [],
   "source": [
    "print (\"None test:\", None == None)\n",
    "print (\"String test:\", \"a string\" == None)\n",
    "print (\"Number test:\", 1 == None)\n",
    "print (\"List test:\", [None]==None)"
   ]
  },
  {
   "cell_type": "markdown",
   "metadata": {},
   "source": [
    "Note that since `None` is not true, so often times it is used in if statements to check if a value is set for something. For example:"
   ]
  },
  {
   "cell_type": "code",
   "execution_count": null,
   "metadata": {
    "scrolled": true
   },
   "outputs": [],
   "source": [
    "def my_func(x=None):\n",
    "    if x:\n",
    "        print (x+1)\n",
    "    else:\n",
    "        print (\"x is not set\")\n",
    "        \n",
    "my_func()\n",
    "\n",
    "my_func(1)"
   ]
  },
  {
   "cell_type": "markdown",
   "metadata": {},
   "source": [
    "## Variable Argument Type Functions \n",
    "\n",
    "Since python is late binding, the type of any variable is only relevant at the time of its usage, so you can write functions that behave differently based on the type of the variable. \n",
    "\n",
    "For example:"
   ]
  },
  {
   "cell_type": "code",
   "execution_count": null,
   "metadata": {},
   "outputs": [],
   "source": [
    "def always_extend(list1,obj):\n",
    "    if isinstance(obj,list):\n",
    "        list1.extend(obj)\n",
    "    else:\n",
    "        list1.append(obj)\n",
    "        \n",
    "    return list1"
   ]
  },
  {
   "cell_type": "code",
   "execution_count": null,
   "metadata": {},
   "outputs": [],
   "source": [
    "print (always_extend([1,2,3],[4,5,6]))\n",
    "print (always_extend([1,2,3],5))"
   ]
  },
  {
   "cell_type": "markdown",
   "metadata": {},
   "source": [
    "### Error Handling\n",
    "\n",
    "Error handling is a advance part of many languages. In python it is an acceptable usage pattern for checking the type of objects. Lets say you want a part of your code to add a number to another number correctly, even when one number is in string form.\n",
    "\n",
    "Here's an example of a failure. Note the error."
   ]
  },
  {
   "cell_type": "code",
   "execution_count": null,
   "metadata": {},
   "outputs": [],
   "source": [
    "def always_add(number,obj):\n",
    "    return number+obj\n",
    "\n",
    "always_add(1,\"2\")"
   ]
  },
  {
   "cell_type": "code",
   "execution_count": null,
   "metadata": {},
   "outputs": [],
   "source": [
    "def always_add(number,obj):\n",
    "    try:\n",
    "        return number+obj\n",
    "    except TypeError:\n",
    "        return number+float(obj)\n",
    "\n",
    "always_add(1,\"2\")"
   ]
  },
  {
   "cell_type": "markdown",
   "metadata": {},
   "source": [
    "Note that specifying the error, in this case `TypeError`, is optional. It is good practice to specify the error, because otherwise the exception will catch any error and you could incorrectly handle an error you didn't anticipate."
   ]
  },
  {
   "cell_type": "markdown",
   "metadata": {},
   "source": [
    "## Variable Number of Argument Functions"
   ]
  },
  {
   "cell_type": "markdown",
   "metadata": {},
   "source": [
    "If the number of arguments that is to be accepted by a function is not known then a asterisk symbol is used before the argument."
   ]
  },
  {
   "cell_type": "code",
   "execution_count": null,
   "metadata": {},
   "outputs": [],
   "source": [
    "def add_n(*args):\n",
    "    res = 0\n",
    "    reslist = []\n",
    "    for i in args:\n",
    "        reslist.append(i)\n",
    "    print (reslist)\n",
    "    return sum(reslist)"
   ]
  },
  {
   "cell_type": "markdown",
   "metadata": {},
   "source": [
    "The above function accepts any number of arguments, defines a list and appends all the arguments into that list and return the sum of all the arguments."
   ]
  },
  {
   "cell_type": "code",
   "execution_count": null,
   "metadata": {},
   "outputs": [],
   "source": [
    "add_n(1,2,3,4,5)"
   ]
  },
  {
   "cell_type": "code",
   "execution_count": null,
   "metadata": {},
   "outputs": [],
   "source": [
    "add_n(1,2,3)"
   ]
  },
  {
   "cell_type": "markdown",
   "metadata": {},
   "source": [
    "Note that `*args` is a tuple:"
   ]
  },
  {
   "cell_type": "code",
   "execution_count": null,
   "metadata": {},
   "outputs": [],
   "source": [
    "def test_arg(*args):\n",
    "    print (type(args))\n",
    "    print (args)"
   ]
  },
  {
   "cell_type": "code",
   "execution_count": null,
   "metadata": {},
   "outputs": [],
   "source": [
    "print (\"String Test:\")\n",
    "test_arg(\"Hello\")\n",
    "\n",
    "print (\"List Test:\")\n",
    "test_arg([1,2,3])\n"
   ]
  },
  {
   "cell_type": "markdown",
   "metadata": {},
   "source": [
    "Note that you can mix required arguments with additional variable arguments:"
   ]
  },
  {
   "cell_type": "code",
   "execution_count": null,
   "metadata": {},
   "outputs": [],
   "source": [
    "def test_arg_1(x,*args):\n",
    "    print (type(args))\n",
    "    print (args)\n",
    "    \n",
    "test_arg_1(\"Hello\")\n",
    "\n",
    "test_arg_1([1,2,3],\"Hello\")\n",
    "\n"
   ]
  },
  {
   "cell_type": "markdown",
   "metadata": {},
   "source": [
    "Another way to get variable arguments is to use `**args`. Here the arguments will be put into a dictionary, but you will have to specify explicity the name of the arguments:"
   ]
  },
  {
   "cell_type": "code",
   "execution_count": null,
   "metadata": {},
   "outputs": [],
   "source": [
    "def test_arg_2(**args):\n",
    "    print (type(args))\n",
    "    print (args)"
   ]
  },
  {
   "cell_type": "code",
   "execution_count": null,
   "metadata": {},
   "outputs": [],
   "source": [
    "print (\"String Test:\")\n",
    "test_arg_2(x=\"Hello\")\n",
    "\n",
    "print (\"List Test:\")\n",
    "test_arg_2(x=[1,2,3])"
   ]
  },
  {
   "cell_type": "markdown",
   "metadata": {},
   "source": [
    "### Optional Arguments and `**args` (Advanced)\n",
    "\n",
    "Some libraries use a powerful usage pattern with `**args`. These libraries typically have functions that call other functions. Imagine two functions: `func1(x)` and `func2(y,a=1,b=2,c=3)` that is called by `func1`. If you want to change the value of `a` when you call `func1`, you could add a `a` as an optional argument to `func1` and take care to propagate the `a` to `func2`. It becomes very combersome if `func1` wants calls the lots of functions and you want to be able to change any inner function argument when you call `func1`.\n",
    "\n",
    "Here's an example that shows how to elegantly address this problem in a general way. Simply add `**args` to all of your functions:"
   ]
  },
  {
   "cell_type": "code",
   "execution_count": null,
   "metadata": {},
   "outputs": [],
   "source": [
    "def func1(name=None,**args):\n",
    "    if name:\n",
    "        print (\"My name is\", name)\n",
    "\n",
    "def func2(message=None,**args):\n",
    "    if message:\n",
    "        print (\"My message is\", message)\n",
    "    \n",
    "def func3(**args):\n",
    "    if \"name\" in args:\n",
    "        print (args[\"name\"],\"said:\")\n",
    "    func1(**args)\n",
    "    func2(**args)\n",
    "    "
   ]
  },
  {
   "cell_type": "code",
   "execution_count": null,
   "metadata": {},
   "outputs": [],
   "source": [
    "func3(name=\"John\",message=\"Hello!\")"
   ]
  },
  {
   "cell_type": "markdown",
   "metadata": {},
   "source": [
    "## Lambda Functions"
   ]
  },
  {
   "cell_type": "markdown",
   "metadata": {},
   "source": [
    "Sometimes you don't want to define a small function that you may use once. `lambda` allows you to implement small functions which are not defined with any name and carry a single expression whose result is returned. Lambda functions are very handy when operating with lists. These function are defined by the keyword `lambda` followed by the variables, a colon and the respective expression."
   ]
  },
  {
   "cell_type": "code",
   "execution_count": null,
   "metadata": {},
   "outputs": [],
   "source": [
    "z = lambda x: x * x"
   ]
  },
  {
   "cell_type": "code",
   "execution_count": null,
   "metadata": {},
   "outputs": [],
   "source": [
    "z(8)"
   ]
  },
  {
   "cell_type": "markdown",
   "metadata": {},
   "source": [
    "To appreciate the power of `lambda`, lets introduce some built-in functional programming abilties of python: `map` and `filter`."
   ]
  },
  {
   "cell_type": "markdown",
   "metadata": {},
   "source": [
    "### map"
   ]
  },
  {
   "cell_type": "markdown",
   "metadata": {},
   "source": [
    "**map( )** function basically executes the function that is defined to each of the list's element separately."
   ]
  },
  {
   "cell_type": "code",
   "execution_count": null,
   "metadata": {},
   "outputs": [],
   "source": [
    "list1 = [1,2,3,4,5,6,7,8,9]"
   ]
  },
  {
   "cell_type": "code",
   "execution_count": null,
   "metadata": {},
   "outputs": [],
   "source": [
    "eg = map(lambda x:x+2, list1)\n",
    "print (eg)"
   ]
  },
  {
   "cell_type": "markdown",
   "metadata": {},
   "source": [
    "In python 3 you don't get the result, but rather a iterable which will compute the result as needed:"
   ]
  },
  {
   "cell_type": "code",
   "execution_count": null,
   "metadata": {},
   "outputs": [],
   "source": [
    "for x in eg:\n",
    "    print(x)"
   ]
  },
  {
   "cell_type": "markdown",
   "metadata": {},
   "source": [
    "If you want to compute the result, just force it in the following way:"
   ]
  },
  {
   "cell_type": "code",
   "execution_count": null,
   "metadata": {},
   "outputs": [],
   "source": [
    "eg = list(map(lambda x:x+2, list1))\n",
    "print (eg)"
   ]
  },
  {
   "cell_type": "markdown",
   "metadata": {},
   "source": [
    "You can also add two lists."
   ]
  },
  {
   "cell_type": "code",
   "execution_count": null,
   "metadata": {},
   "outputs": [],
   "source": [
    "list2 = [9,8,7,6,5,4,3,2,1]"
   ]
  },
  {
   "cell_type": "code",
   "execution_count": null,
   "metadata": {},
   "outputs": [],
   "source": [
    "eg2 = list(map(lambda x,y:x+y, list1,list2))\n",
    "print (eg2)"
   ]
  },
  {
   "cell_type": "markdown",
   "metadata": {},
   "source": [
    "Not only lambda function but also other built in functions can also be used."
   ]
  },
  {
   "cell_type": "code",
   "execution_count": null,
   "metadata": {},
   "outputs": [],
   "source": [
    "eg3 = list(map(str,eg2))\n",
    "print (eg3)"
   ]
  },
  {
   "cell_type": "markdown",
   "metadata": {},
   "source": [
    "### filter"
   ]
  },
  {
   "cell_type": "markdown",
   "metadata": {},
   "source": [
    "**filter( )** function is used to filter out the values in a list. Note that **filter()** function returns the result in a new list."
   ]
  },
  {
   "cell_type": "code",
   "execution_count": null,
   "metadata": {},
   "outputs": [],
   "source": [
    "list1 = [1,2,3,4,5,6,7,8,9]"
   ]
  },
  {
   "cell_type": "markdown",
   "metadata": {},
   "source": [
    "To get the elements which are less than 5,"
   ]
  },
  {
   "cell_type": "code",
   "execution_count": null,
   "metadata": {},
   "outputs": [],
   "source": [
    "list(filter(lambda x:x<5,list1))"
   ]
  },
  {
   "cell_type": "markdown",
   "metadata": {},
   "source": [
    "Notice what happens when **map()** is used."
   ]
  },
  {
   "cell_type": "code",
   "execution_count": null,
   "metadata": {},
   "outputs": [],
   "source": [
    "list(map(lambda x:x<5, list1))"
   ]
  },
  {
   "cell_type": "markdown",
   "metadata": {},
   "source": [
    "We can conclude that, whatever is returned true in **map( )** function that particular element is returned when **filter( )** function is used."
   ]
  },
  {
   "cell_type": "code",
   "execution_count": null,
   "metadata": {},
   "outputs": [],
   "source": [
    "list(filter(lambda x:x%4==0,list1))"
   ]
  },
  {
   "cell_type": "markdown",
   "metadata": {},
   "source": [
    "## File IO\n",
    "\n",
    "Python makes it easy to read/write files. There are two types of files we will need to be aware of:\n",
    "1. Text files: consisting of lines of sequences of characters terminated by End Of Line (EOL) character.\n",
    "2. Binary files: everything else.\n",
    "\n",
    "You can open a file for reading or writing with the `open` built-in function:"
   ]
  },
  {
   "cell_type": "code",
   "execution_count": null,
   "metadata": {},
   "outputs": [],
   "source": [
    "file_obj = open(\"a_file.txt\",\"w\")\n",
    "print (file_obj)\n",
    "file_obj.close()"
   ]
  },
  {
   "cell_type": "markdown",
   "metadata": {},
   "source": [
    "The first argument of `open` is the filename (a string). The second argument (also a string) indicate the mode in which you are opening the file:\n",
    "\n",
    "* ‘r’ – Read mode which is used when the file is only being read.\n",
    "* ‘w’ – Write mode which is used to edit and write new information to the file (any existing files with the same name will be erased when this mode is activated).\n",
    "* ‘a’ – Appending mode, which is used to add new data to the end of the file; that is new information is automatically amended to the end. \n",
    "* ‘r+’ – Special read and write mode, which is used to handle both actions when working with a file. \n",
    "\n",
    "You can write text in the file as follows:"
   ]
  },
  {
   "cell_type": "code",
   "execution_count": null,
   "metadata": {},
   "outputs": [],
   "source": [
    "file_obj = open(\"a_file.txt\",\"w\")\n",
    "file_obj.write(\"This is our first line \\n\")\n",
    "file_obj.write(\"This is our second line \\n\")\n",
    "file_obj.write(\"This is our third line \\n\")\n",
    "\n",
    "file_obj.close()"
   ]
  },
  {
   "cell_type": "markdown",
   "metadata": {},
   "source": [
    "Note the \"\\n\" tells puts the new line character at the end of each line.\n",
    "\n",
    "If you ran the cell above, you made a file. Lets use the \"cat\" shell command to print out its contents:"
   ]
  },
  {
   "cell_type": "code",
   "execution_count": null,
   "metadata": {},
   "outputs": [],
   "source": [
    "!cat a_file.txt"
   ]
  },
  {
   "cell_type": "markdown",
   "metadata": {},
   "source": [
    "We can do the same using in python read."
   ]
  },
  {
   "cell_type": "code",
   "execution_count": null,
   "metadata": {},
   "outputs": [],
   "source": [
    "file_obj = open(\"a_file.txt\",\"r\")\n",
    "contents= file_obj.read()\n",
    "print (type(contents))\n",
    "print (contents)\n",
    "file_obj.close()"
   ]
  },
  {
   "cell_type": "markdown",
   "metadata": {},
   "source": [
    "You can specify how many characters to read:"
   ]
  },
  {
   "cell_type": "code",
   "execution_count": null,
   "metadata": {},
   "outputs": [],
   "source": [
    "file_obj = open(\"a_file.txt\",\"r\")\n",
    "print (file_obj.read(10))\n",
    "file_obj.close()"
   ]
  },
  {
   "cell_type": "markdown",
   "metadata": {},
   "source": [
    "Or read one line at a time:"
   ]
  },
  {
   "cell_type": "code",
   "execution_count": null,
   "metadata": {},
   "outputs": [],
   "source": [
    "file_obj = open(\"a_file.txt\",\"r\")\n",
    "print (file_obj.readline())\n",
    "print (file_obj.readline())\n",
    "file_obj.close()\n"
   ]
  },
  {
   "cell_type": "markdown",
   "metadata": {},
   "source": [
    "Read all of the lines into a list:"
   ]
  },
  {
   "cell_type": "code",
   "execution_count": null,
   "metadata": {},
   "outputs": [],
   "source": [
    "file_obj = open(\"a_file.txt\",\"r\")\n",
    "print (file_obj.readlines())\n",
    "file_obj.close()"
   ]
  },
  {
   "cell_type": "markdown",
   "metadata": {},
   "source": [
    "What if we don't know how many lines to read? We can loop over the lines:"
   ]
  },
  {
   "cell_type": "code",
   "execution_count": null,
   "metadata": {},
   "outputs": [],
   "source": [
    "file_obj = open(\"a_file.txt\", \"r\") \n",
    "for line in file_obj: \n",
    "    print (line,end=\"\" )\n",
    "file_obj.close()\n"
   ]
  },
  {
   "cell_type": "markdown",
   "metadata": {},
   "source": [
    "So far we just stored strings, what if we want to store numbers? "
   ]
  },
  {
   "cell_type": "code",
   "execution_count": null,
   "metadata": {},
   "outputs": [],
   "source": [
    "numbers=[1,2,3,4]\n",
    "\n",
    "file_obj = open(\"a_file_with_numbers.txt\",\"w\")\n",
    "for number in numbers:\n",
    "    file_obj.write(str(number))\n",
    "\n",
    "file_obj.close()\n",
    "\n",
    "!cat a_file_with_numbers.txt"
   ]
  },
  {
   "cell_type": "markdown",
   "metadata": {},
   "source": [
    "That's not quite what we want (why?), lets try something else:"
   ]
  },
  {
   "cell_type": "code",
   "execution_count": null,
   "metadata": {},
   "outputs": [],
   "source": [
    "numbers=[1,2,3,4]\n",
    "\n",
    "file_obj = open(\"a_file_with_numbers.txt\",\"w\")\n",
    "first=True\n",
    "for number in numbers:\n",
    "    if not first:\n",
    "        file_obj.write(\",\")\n",
    "    first=False\n",
    "    file_obj.write(str(number))\n",
    "\n",
    "file_obj.close()\n",
    "!cat a_file_with_numbers.txt"
   ]
  },
  {
   "cell_type": "markdown",
   "metadata": {},
   "source": [
    "We just created a Camma Separated File (CSV).\n",
    "\n",
    "Let's read it back:"
   ]
  },
  {
   "cell_type": "code",
   "execution_count": null,
   "metadata": {},
   "outputs": [],
   "source": [
    "file_obj = open(\"a_file_with_numbers.txt\",\"r\")\n",
    "\n",
    "numbers=list()\n",
    "\n",
    "for line in file_obj:\n",
    "    numbers.extend(map(int,line.split(\",\")))\n",
    "\n",
    "file_obj.close()\n",
    "print (numbers)"
   ]
  }
 ],
 "metadata": {
  "kernelspec": {
   "display_name": "Python 3",
   "language": "python",
   "name": "python3"
  },
  "language_info": {
   "codemirror_mode": {
    "name": "ipython",
    "version": 3
   },
   "file_extension": ".py",
   "mimetype": "text/x-python",
   "name": "python",
   "nbconvert_exporter": "python",
   "pygments_lexer": "ipython3",
   "version": "3.8.0"
  }
 },
 "nbformat": 4,
 "nbformat_minor": 2
}
