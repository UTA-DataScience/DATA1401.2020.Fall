{
 "cells": [
  {
   "cell_type": "markdown",
   "metadata": {},
   "source": [
    "# Lecture 25\n"
   ]
  },
  {
   "cell_type": "markdown",
   "metadata": {},
   "source": [
    "Recall the Box-Muller transform. This transform generates 2 random variables $Z_0$ and $Z_1$ that are Normal distributed from two uniformly distributed random variables $U_1$ and $U_2$ using the relation:\n",
    "\n",
    "$$\n",
    "Z_0 = \\sqrt{-2 \\log{U_1}}\\cos{(2\\pi U_2)}\\\\\n",
    "Z_1 = \\sqrt{-2 \\log{U_1}}\\sin{(2\\pi U_2)}\n",
    "$$"
   ]
  },
  {
   "cell_type": "code",
   "execution_count": 1,
   "metadata": {},
   "outputs": [
    {
     "data": {
      "text/plain": [
       "0.17386743025918128"
      ]
     },
     "execution_count": 1,
     "metadata": {},
     "output_type": "execute_result"
    }
   ],
   "source": [
    "import math\n",
    "import random\n",
    "\n",
    "x=.1\n",
    "# Useful functions\n",
    "math.pi\n",
    "math.sin(x)\n",
    "math.cos(x)\n",
    "math.log(x)\n",
    "math.sqrt(x)\n",
    "random.random()\n"
   ]
  },
  {
   "cell_type": "code",
   "execution_count": 2,
   "metadata": {},
   "outputs": [],
   "source": [
    "def generate_normal(N,m=0,s=1):\n",
    "    out = list() \n",
    "    \n",
    "    while len(out)<N:\n",
    "        U1=random.random()\n",
    "        U2=random.random()\n",
    "    \n",
    "        out.append(s*math.sqrt(-2*math.log(U1))*math.cos(2*math.pi*U2)+m)\n",
    "        out.append(s*math.sqrt(-2*math.log(U1))*math.sin(2*math.pi*U2)+m)\n",
    "\n",
    "    return out[:N]"
   ]
  },
  {
   "cell_type": "code",
   "execution_count": 3,
   "metadata": {},
   "outputs": [],
   "source": [
    "%matplotlib inline\n",
    "import matplotlib.pyplot as plt"
   ]
  },
  {
   "cell_type": "code",
   "execution_count": 4,
   "metadata": {},
   "outputs": [
    {
     "data": {
      "text/plain": [
       "5"
      ]
     },
     "execution_count": 4,
     "metadata": {},
     "output_type": "execute_result"
    }
   ],
   "source": [
    "len(generate_normal(5))"
   ]
  },
  {
   "cell_type": "code",
   "execution_count": 5,
   "metadata": {},
   "outputs": [
    {
     "data": {
      "text/plain": [
       "(array([  4.,  18.,  62., 161., 232., 264., 160.,  72.,  22.,   5.]),\n",
       " array([-23.12668217, -16.64076826, -10.15485434,  -3.66894042,\n",
       "          2.81697349,   9.30288741,  15.78880132,  22.27471524,\n",
       "         28.76062916,  35.24654307,  41.73245699]),\n",
       " <a list of 10 Patch objects>)"
      ]
     },
     "execution_count": 5,
     "metadata": {},
     "output_type": "execute_result"
    },
    {
     "data": {
      "image/png": "[encoded data removed]",
      "text/plain": [
       "<Figure size 432x288 with 1 Axes>"
      ]
     },
     "metadata": {
      "needs_background": "light"
     },
     "output_type": "display_data"
    }
   ],
   "source": [
    "plt.hist(generate_normal(1000,10,10))"
   ]
  },
  {
   "cell_type": "markdown",
   "metadata": {},
   "source": [
    "## Lab 4\n",
    "\n",
    "*Exercise 5:* Write a function the applies a booling function (that returns true/false) to every element in data, and return a list of indices of elements where the result was true. Use this function to find the indices of entries greater than 0.5. "
   ]
  },
  {
   "cell_type": "code",
   "execution_count": 6,
   "metadata": {},
   "outputs": [],
   "source": [
    "def where(mylist,myfunc):\n",
    "    out= list()\n",
    "    for i,v in enumerate(mylist):\n",
    "        if myfunc(v):\n",
    "            out.append(i)\n",
    "    \n",
    "    return out"
   ]
  },
  {
   "cell_type": "code",
   "execution_count": 7,
   "metadata": {},
   "outputs": [
    {
     "data": {
      "text/plain": [
       "[5, 6, 7, 8]"
      ]
     },
     "execution_count": 7,
     "metadata": {},
     "output_type": "execute_result"
    }
   ],
   "source": [
    "# Test your solution here\n",
    "\n",
    "def greater_than_five(x):\n",
    "    return x>5\n",
    "\n",
    "where(range(1,10),greater_than_five)\n",
    "\n"
   ]
  },
  {
   "cell_type": "code",
   "execution_count": 8,
   "metadata": {},
   "outputs": [
    {
     "data": {
      "text/plain": [
       "[5, 6, 7, 8]"
      ]
     },
     "execution_count": 8,
     "metadata": {},
     "output_type": "execute_result"
    }
   ],
   "source": [
    "where(range(1,10),lambda x: x>5)"
   ]
  },
  {
   "cell_type": "markdown",
   "metadata": {},
   "source": [
    "*Exercise 6:* The inrange(mymin,mymax) function below returns a function that tests if it's input is between the specified values. Write corresponding functions that test:\n",
    "* Even\n",
    "* Odd\n",
    "* Greater than\n",
    "* Less than\n",
    "* Equal\n",
    "* Divisible by"
   ]
  },
  {
   "cell_type": "code",
   "execution_count": 9,
   "metadata": {},
   "outputs": [
    {
     "name": "stdout",
     "output_type": "stream",
     "text": [
      "5.272356677120068 14.895651962454494\n"
     ]
    }
   ],
   "source": [
    "# Make a test dataset\n",
    "import random\n",
    "data= [ 10*random.random()+5 for _ in range(100) ]\n",
    "print(min(data),max(data))"
   ]
  },
  {
   "cell_type": "code",
   "execution_count": 10,
   "metadata": {},
   "outputs": [
    {
     "name": "stdout",
     "output_type": "stream",
     "text": [
      "True True False False False\n",
      "False False True True False\n",
      "Number of Entries passing F1: 60\n",
      "Number of Entries passing F2: 40\n"
     ]
    }
   ],
   "source": [
    "def in_range(mymin,mymax):\n",
    "    def testrange(x):\n",
    "        return x<mymax and x>=mymin\n",
    "    return testrange\n",
    "\n",
    "# Examples:\n",
    "F1=in_range(0,10)\n",
    "F2=in_range(10,20)\n",
    "\n",
    "# Test of in_range\n",
    "print (F1(0), F1(1), F1(10), F1(15), F1(20))\n",
    "print (F2(0), F2(1), F2(10), F2(15), F2(20))\n",
    "\n",
    "print (\"Number of Entries passing F1:\", len(where(data,F1)))\n",
    "print (\"Number of Entries passing F2:\", len(where(data,F2)))"
   ]
  },
  {
   "cell_type": "code",
   "execution_count": 11,
   "metadata": {},
   "outputs": [],
   "source": [
    "### BEGIN SOLUTION\n",
    "\n",
    "def even(x):\n",
    "    return x%2==0\n",
    "\n",
    "def odd(x):\n",
    "    return x%2==1\n",
    "    \n",
    "def greater_than(y):\n",
    "    def func(x):\n",
    "        return x>y\n",
    "    return func\n",
    "    \n",
    "def less_than(y):\n",
    "    def func(x):\n",
    "        return x<y\n",
    "    return func\n",
    "\n",
    "def equal(y):\n",
    "    def func(x):\n",
    "        return x==y\n",
    "    return func\n",
    "\n",
    "def divisible_by(y):\n",
    "    def func(x):\n",
    "        return x%y==0\n",
    "    return func\n",
    "    \n",
    "### END SOLUTION"
   ]
  },
  {
   "cell_type": "code",
   "execution_count": 12,
   "metadata": {},
   "outputs": [
    {
     "name": "stdout",
     "output_type": "stream",
     "text": [
      "Number of Entries passing even: 25\n",
      "Number of Entries passing odd: 25\n",
      "Number of Entries passing greater than 10: 39\n",
      "Number of Entries passing less than 10: 10\n",
      "Number of Entries passing equal to 10: 1\n",
      "Number of Entries passing divisible by 10: 5\n"
     ]
    }
   ],
   "source": [
    "# Test your solution\n",
    "\n",
    "d=list(range(50))\n",
    "\n",
    "print (\"Number of Entries passing even:\", len(where(d,even)))\n",
    "print (\"Number of Entries passing odd:\", len(where(d,odd)))\n",
    "print (\"Number of Entries passing greater than 10:\", len(where(d,greater_than(10))))\n",
    "print (\"Number of Entries passing less than 10:\", len(where(d,less_than(10))))\n",
    "print (\"Number of Entries passing equal to 10:\", len(where(d,equal(10))))\n",
    "print (\"Number of Entries passing divisible by 10:\", len(where(d,divisible_by(10))))\n"
   ]
  },
  {
   "cell_type": "markdown",
   "metadata": {},
   "source": [
    "*Exercise 7:* Repeat the previous exercise using `lambda` and the built-in python functions sum and map instead of your solution above. "
   ]
  },
  {
   "cell_type": "code",
   "execution_count": 13,
   "metadata": {},
   "outputs": [
    {
     "name": "stdout",
     "output_type": "stream",
     "text": [
      "Number of Entries passing even: 25\n",
      "Number of Entries passing odd: 25\n",
      "Number of Entries passing greater than 10: 39\n",
      "Number of Entries passing less than 10: 10\n",
      "Number of Entries passing equal to 10: 1\n",
      "Number of Entries passing divisible by 10: 5\n"
     ]
    }
   ],
   "source": [
    "### BEGIN SOLUTION\n",
    "\n",
    "print (\"Number of Entries passing even:\", sum(map(lambda x: x%2==0,d)))\n",
    "print (\"Number of Entries passing odd:\",  sum(map(lambda x: x%2==1,d)))\n",
    "print (\"Number of Entries passing greater than 10:\",  sum(map(lambda x: x>10,d)))\n",
    "print (\"Number of Entries passing less than 10:\", sum(map(lambda x: x<10,d)))\n",
    "print (\"Number of Entries passing equal to 10:\", sum(map(lambda x: x==10,d)))\n",
    "print (\"Number of Entries passing divisible by 10:\", sum(map(lambda x: x%10==0,d)))\n",
    "    \n",
    "### END SOLUTION"
   ]
  },
  {
   "cell_type": "markdown",
   "metadata": {},
   "source": [
    "## Monte Carlo\n",
    "\n",
    "*Exercise 7:* Write a \"generator\" function called `generate_function(func,x_min,x_max,N)`, that instead of generating a flat distribution, generates a distribution with functional form coded in `func`. Note that `func` will always be > 0.  \n",
    "\n",
    "Use the test function below and your histogramming functions above to demonstrate that your generator is working properly.\n",
    "\n",
    "Hint: A simple, but slow, solution is to a draw random number test_x within the specified range and another number p between the min and max of the function (which you will have to determine). If p<=function(test_x), then place test_x on the output. If not, repeat the process, drawing two new numbers. Repeat until you have the specified number of generated numbers, N. For this problem, it's OK to determine the min and max by numerically sampling the function.  "
   ]
  },
  {
   "cell_type": "code",
   "execution_count": 14,
   "metadata": {},
   "outputs": [],
   "source": [
    "def linspace(x_min,x_max,steps=10):\n",
    "    step_size=(x_max-x_min)/steps\n",
    "    x=x_min\n",
    "    out = list()\n",
    "    for i in range(steps):\n",
    "        out.append(x)\n",
    "        x+=step_size\n",
    "    return out\n",
    "\n",
    "def generate_function(func,x_min,x_max,N=1000):\n",
    "    out = list()\n",
    "    x_scan = linspace(x_min,x_max,100)\n",
    "    y_scan = list(map(func,x_scan))\n",
    "    y_min = min(y_scan)\n",
    "    y_max = max(y_scan)\n",
    "    \n",
    "    while len(out)<N:\n",
    "        x = x_min + (x_max-x_min)*random.random()\n",
    "        y = y_min + (y_max-y_min)*random.random()\n",
    "        \n",
    "        if y<=func(x):\n",
    "            out.append(x)\n",
    "\n",
    "    return out"
   ]
  },
  {
   "cell_type": "code",
   "execution_count": 15,
   "metadata": {},
   "outputs": [],
   "source": [
    "# A test function\n",
    "def test_func(x,a=1,b=1):\n",
    "    return abs(a*x+b)"
   ]
  },
  {
   "cell_type": "code",
   "execution_count": 20,
   "metadata": {},
   "outputs": [],
   "source": [
    "def histogram(data, n_bins=10,x_min=None, x_max=None):\n",
    "    if x_min==None:\n",
    "        x_min=min(data)\n",
    "    if x_max==None:\n",
    "        x_max=max(data)\n",
    "        \n",
    "    bin_edges = linspace(x_min,x_max,n_bins)\n",
    "    bin_edges.append(x_max)\n",
    "\n",
    "    hist=[0]*n_bins\n",
    "    \n",
    "    for d in data:\n",
    "        for i in range(n_bins):\n",
    "            if d>=bin_edges[i] and d<bin_edges[i+1]:\n",
    "                hist[i]+=1\n",
    "                break\n",
    "                \n",
    "    return hist,bin_edges"
   ]
  },
  {
   "cell_type": "code",
   "execution_count": 21,
   "metadata": {},
   "outputs": [
    {
     "data": {
      "text/plain": [
       "([2, 3, 3, 5, 10, 5, 19, 21, 10, 21],\n",
       " [0.3476242898568982,\n",
       "  1.3011762750224483,\n",
       "  2.2547282601879983,\n",
       "  3.2082802453535484,\n",
       "  4.1618322305190985,\n",
       "  5.1153842156846485,\n",
       "  6.068936200850199,\n",
       "  7.022488186015749,\n",
       "  7.976040171181299,\n",
       "  8.92959215634685,\n",
       "  9.8831441415124])"
      ]
     },
     "execution_count": 21,
     "metadata": {},
     "output_type": "execute_result"
    }
   ],
   "source": [
    "histogram(generate_function(test_func,0,10,100))"
   ]
  },
  {
   "cell_type": "code",
   "execution_count": 22,
   "metadata": {},
   "outputs": [
    {
     "data": {
      "text/plain": [
       "(array([ 2.,  7.,  3.,  4., 13., 14., 12., 21., 11., 13.]),\n",
       " array([1.08689932, 1.97476129, 2.86262326, 3.75048524, 4.63834721,\n",
       "        5.52620918, 6.41407116, 7.30193313, 8.1897951 , 9.07765707,\n",
       "        9.96551905]),\n",
       " <a list of 10 Patch objects>)"
      ]
     },
     "execution_count": 22,
     "metadata": {},
     "output_type": "execute_result"
    },
    {
     "data": {
      "image/png": "[encoded data removed]",
      "text/plain": [
       "<Figure size 432x288 with 1 Axes>"
      ]
     },
     "metadata": {
      "needs_background": "light"
     },
     "output_type": "display_data"
    }
   ],
   "source": [
    "plt.hist(generate_function(test_func,0,10,100))"
   ]
  },
  {
   "cell_type": "markdown",
   "metadata": {},
   "source": [
    "*Exercise 8:* Use your function to generate 1000 numbers that are normal distributed, using the `gaussian` function below. Confirm the mean and variance of the data is close to the mean and variance you specify when building the Gaussian. Histogram the data. "
   ]
  },
  {
   "cell_type": "code",
   "execution_count": 23,
   "metadata": {},
   "outputs": [],
   "source": [
    "import math\n",
    "\n",
    "def gaussian(mean, sigma):\n",
    "    def f(x):\n",
    "        return math.exp(-((x-mean)**2)/(2*sigma**2))/math.sqrt(math.pi*sigma)\n",
    "    return f\n",
    "\n",
    "# Example Instantiation\n",
    "g1=gaussian(0,1)\n",
    "g2=gaussian(10,3)"
   ]
  },
  {
   "cell_type": "code",
   "execution_count": 24,
   "metadata": {},
   "outputs": [
    {
     "data": {
      "image/png": "[encoded data removed]",
      "text/plain": [
       "<Figure size 432x288 with 1 Axes>"
      ]
     },
     "metadata": {
      "needs_background": "light"
     },
     "output_type": "display_data"
    },
    {
     "data": {
      "image/png": "[encoded data removed]",
      "text/plain": [
       "<Figure size 432x288 with 1 Axes>"
      ]
     },
     "metadata": {
      "needs_background": "light"
     },
     "output_type": "display_data"
    }
   ],
   "source": [
    "g1_data=generate_function(g1,-5,5,10000)\n",
    "g2_data=generate_function(g2,0,20,1000)\n",
    "\n",
    "plt.hist(g1_data)\n",
    "plt.show()\n",
    "plt.hist(g2_data)\n",
    "plt.show()\n",
    "\n"
   ]
  },
  {
   "cell_type": "code",
   "execution_count": 25,
   "metadata": {},
   "outputs": [
    {
     "name": "stdout",
     "output_type": "stream",
     "text": [
      "0.0007482564628067356 0.9967841467506975\n",
      "10.040031335373271 2.885813813979331\n"
     ]
    }
   ],
   "source": [
    "def mean(x):\n",
    "    return sum(x)/float(len(x))\n",
    "\n",
    "def variance(x):\n",
    "    m=mean(x)\n",
    "    return (sum(map(lambda y: (y-m)**2,x))/float(len(x)-1))\n",
    "\n",
    "import math\n",
    "\n",
    "print(mean(g1_data),math.sqrt(variance(g1_data)))\n",
    "print(mean(g2_data),math.sqrt(variance(g2_data)))\n"
   ]
  },
  {
   "cell_type": "code",
   "execution_count": 26,
   "metadata": {},
   "outputs": [
    {
     "name": "stdout",
     "output_type": "stream",
     "text": [
      "384 ms ± 11.7 ms per loop (mean ± std. dev. of 7 runs, 1 loop each)\n"
     ]
    }
   ],
   "source": [
    "%timeit g1_data=generate_function(g1,-50,50,10000)"
   ]
  },
  {
   "cell_type": "code",
   "execution_count": 27,
   "metadata": {},
   "outputs": [
    {
     "name": "stdout",
     "output_type": "stream",
     "text": [
      "6.17 ms ± 233 µs per loop (mean ± std. dev. of 7 runs, 100 loops each)\n"
     ]
    }
   ],
   "source": [
    "%timeit generate_normal(10000,0,1)"
   ]
  },
  {
   "cell_type": "markdown",
   "metadata": {},
   "source": [
    "*Exercise 9:* Combine your `generate_function`, `where`, and `in_range` functions above to create an integrate function. Use your integrate function to show that approximately 68% of Normal distribution is within one variance."
   ]
  },
  {
   "cell_type": "code",
   "execution_count": 69,
   "metadata": {},
   "outputs": [],
   "source": [
    "def integrate(func, x_min, x_max, n_points=1000):\n",
    "    out = list()\n",
    "    x_scan = linspace(x_min,x_max,100)\n",
    "    y_scan = list(map(func,x_scan))\n",
    "    y_min = min(y_scan)\n",
    "    y_max = max(y_scan)\n",
    "\n",
    "\n",
    "    count=0\n",
    "    while len(out)<n_points:\n",
    "        count+=1\n",
    "        x = x_min + (x_max-x_min)*random.random()\n",
    "        y = y_min + (y_max-y_min)*random.random()\n",
    "        \n",
    "        if y<=func(x):\n",
    "            out.append(x)\n",
    "\n",
    "    fraction = float(len(out))/float(count)\n",
    "    area = (x_max-x_min)*(y_max-y_min)\n",
    "    area_prime = (x_max-x_min) * y_min\n",
    "    integral = area * fraction + area_prime\n",
    "\n",
    "    return integral #,x_scan,y_scan"
   ]
  },
  {
   "cell_type": "code",
   "execution_count": 72,
   "metadata": {},
   "outputs": [],
   "source": [
    "I_one_sigma=integrate(g1, -1, 1, n_points=10000)"
   ]
  },
  {
   "cell_type": "code",
   "execution_count": 73,
   "metadata": {},
   "outputs": [],
   "source": [
    "I_five_sigma=integrate(g1, -5, 5, n_points=10000)"
   ]
  },
  {
   "cell_type": "code",
   "execution_count": 74,
   "metadata": {},
   "outputs": [
    {
     "data": {
      "text/plain": [
       "0.6810651609637204"
      ]
     },
     "execution_count": 74,
     "metadata": {},
     "output_type": "execute_result"
    }
   ],
   "source": [
    "I_one_sigma/I_five_sigma"
   ]
  },
  {
   "cell_type": "code",
   "execution_count": null,
   "metadata": {},
   "outputs": [],
   "source": []
  }
 ],
 "metadata": {
  "kernelspec": {
   "display_name": "Python 3",
   "language": "python",
   "name": "python3"
  },
  "language_info": {
   "codemirror_mode": {
    "name": "ipython",
    "version": 3
   },
   "file_extension": ".py",
   "mimetype": "text/x-python",
   "name": "python",
   "nbconvert_exporter": "python",
   "pygments_lexer": "ipython3",
   "version": "3.8.0"
  }
 },
 "nbformat": 4,
 "nbformat_minor": 2
}
