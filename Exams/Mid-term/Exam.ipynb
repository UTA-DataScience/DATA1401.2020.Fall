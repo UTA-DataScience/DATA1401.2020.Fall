{
  "nbformat": 4,
  "nbformat_minor": 0,
  "metadata": {
    "kernelspec": {
      "display_name": "Python 3",
      "language": "python",
      "name": "python3"
    },
    "language_info": {
      "codemirror_mode": {
        "name": "ipython",
        "version": 3
      },
      "file_extension": ".py",
      "mimetype": "text/x-python",
      "name": "python",
      "nbconvert_exporter": "python",
      "pygments_lexer": "ipython3",
      "version": "3.8.0"
    },
    "colab": {
      "name": "Exam.ipynb",
      "provenance": [],
      "collapsed_sections": []
    }
  },
  "cells": [
    {
      "cell_type": "markdown",
      "metadata": {
        "id": "vqlXQ1k9gq7s"
      },
      "source": [
        "# Mid-term Exam\n",
        "\n",
        "[![Open In Colab](https://colab.research.google.com/assets/colab-badge.svg)](https://colab.research.google.com/github/UTA-DataScience/DATA1401.2020.Fall/blob/master/Exams/Mid-term/Exam.ipynb)\n",
        "\n",
        "Add cells to this notebook as you need for your solutions and your test of your solutions."
      ]
    },
    {
      "cell_type": "markdown",
      "metadata": {
        "id": "zirGU8Atgq7w"
      },
      "source": [
        "1a. Write a function `first_alphabetically(lst)` that takes a list `lst` of strings and returns the string that is alphabetically first. For example, calling your function with the list of states:"
      ]
    },
    {
      "cell_type": "code",
      "metadata": {
        "id": "ZbfCc1oOgq8L"
      },
      "source": [
        "states=['Mississippi', 'Maryland', 'Delaware', 'Connecticut', 'Virginia', 'Utah', 'Kansas',\n",
        "        'Wyoming', 'Indiana', 'Louisiana', 'Missouri', 'Illinois', 'Minnesota', 'Vermont', \n",
        "        'New Mexico', 'North Dakota', 'Wisconsin', 'Tennessee', 'New York', 'Oklahoma', \n",
        "        'Colorado', 'Pennsylvania', 'West Virginia', 'Alabama', 'Montana', 'Texas', \n",
        "        'Washington', 'Michigan', 'New Hampshire', 'Arkansas', 'Hawaii', 'Iowa', \n",
        "        'Idaho', 'Kentucky', 'Ohio', 'Nebraska', 'Alaska', 'Oregon', 'South Dakota', \n",
        "        'New Jersey', 'Florida', 'Georgia', 'Rhode Island', 'Arizona', 'Maine', \n",
        "        'South Carolina', 'California', 'Nevada', 'Massachusetts', 'North Carolina']"
      ],
      "execution_count": 147,
      "outputs": []
    },
    {
      "cell_type": "markdown",
      "metadata": {
        "id": "DO0KpcfZgq8c"
      },
      "source": [
        "should return the string `\"Alabama\"`. Note that you can compare strings:"
      ]
    },
    {
      "cell_type": "code",
      "metadata": {
        "id": "V141EGpL061U"
      },
      "source": [
        "lst = list(states)"
      ],
      "execution_count": 148,
      "outputs": []
    },
    {
      "cell_type": "code",
      "metadata": {
        "id": "6rD3IW4ihegP"
      },
      "source": [
        "# states in list form:\n",
        "def state_variables():\n",
        "  for index in range(len(lst)):\n",
        "    print(lst[index])\n",
        "\n",
        "# determining first and last states:     \n",
        "def first_alphabetically(lst):\n",
        "  def find_min(d):\n",
        "    a_min=lst[0]\n",
        "    for e in lst:\n",
        "        if e<a_min:\n",
        "            a_min=e\n",
        "    return a_min\n",
        "  out = find_min(state_variables)\n",
        "  return out "
      ],
      "execution_count": 42,
      "outputs": []
    },
    {
      "cell_type": "code",
      "metadata": {
        "id": "maXrIkdcuxO0"
      },
      "source": [
        " def last_alphabetically(lst): \n",
        "  def find_max(d):\n",
        "      a_max=lst[0]\n",
        "      for e in lst:\n",
        "          if e>a_max:\n",
        "              a_max=e\n",
        "      return a_max\n",
        "  out = find_max(state_variables)\n",
        "  return out"
      ],
      "execution_count": 43,
      "outputs": []
    },
    {
      "cell_type": "code",
      "metadata": {
        "id": "MoZrmEbg0yve",
        "outputId": "09984c88-09ca-415d-95c7-7a4a8e093bbf",
        "colab": {
          "base_uri": "https://localhost:8080/",
          "height": 36
        }
      },
      "source": [
        "# ordering the states:\n",
        "# def first_alphabetically(lst):\n",
        "first_alphabetically(lst)"
      ],
      "execution_count": 73,
      "outputs": [
        {
          "output_type": "execute_result",
          "data": {
            "application/vnd.google.colaboratory.intrinsic+json": {
              "type": "string"
            },
            "text/plain": [
              "'Alabama'"
            ]
          },
          "metadata": {
            "tags": []
          },
          "execution_count": 73
        }
      ]
    },
    {
      "cell_type": "markdown",
      "metadata": {
        "id": "gTH-8OZT5mvJ"
      },
      "source": [
        "For this part, Im just assigning the variables a/A, b/B, so on to the corresponding state (while in alphabetical order) for the test below or is this where I am defining what alphabetical order is as a new function? then appending this to the states variables between range 'Alabama' and 'Wyoming'?"
      ]
    },
    {
      "cell_type": "code",
      "metadata": {
        "id": "p-_QkUJFgq8f",
        "outputId": "97954e09-f9db-48d9-ce4f-3e40f9920196",
        "colab": {
          "base_uri": "https://localhost:8080/"
        }
      },
      "source": [
        "A = (first_alphabetically(lst))\n",
        "a = (first_alphabetically(lst))\n",
        "B = (last_alphabetically(lst))\n",
        "b = (last_alphabetically(lst))\n",
        "C = (first_alphabetically(lst[1]))\n",
        "c = (first_alphabetically(lst[1]))\n",
        "print(\"A\">\"B\")\n",
        "print(\"A\">\"B\")\n",
        "print(\"B\">\"A\")\n",
        "print(\"A\">\"a\")\n",
        "print(\"bca\">\"bbc\")"
      ],
      "execution_count": 75,
      "outputs": [
        {
          "output_type": "stream",
          "text": [
            "False\n",
            "False\n",
            "True\n",
            "False\n",
            "True\n"
          ],
          "name": "stdout"
        }
      ]
    },
    {
      "cell_type": "markdown",
      "metadata": {
        "id": "p5shl5LKgq-k"
      },
      "source": [
        "Make sure your implementation isn't case sensitive. **Do not use** python's built-in `min`, `max`, `sort` or any other sort function you find."
      ]
    },
    {
      "cell_type": "markdown",
      "metadata": {
        "id": "CFL8ucZ2gq-k"
      },
      "source": [
        "1b. Write a function `arg_first_alphabetically(lst)`, which does the same thing as in exercise 1 but returns the index of the first string alphabetically."
      ]
    },
    {
      "cell_type": "code",
      "metadata": {
        "id": "hB2SQm4AwJlD"
      },
      "source": [
        "def arg_first_alphabetically(lst):\n",
        "  def find_argmin(d):\n",
        "      a_min=lst[0]\n",
        "      i_min=0\n",
        "      for i,e in enumerate(lst):\n",
        "          if e<a_min:\n",
        "              a_min=e\n",
        "              i_min=i\n",
        "      return i_min\n",
        "  out = find_argmin(state_variables)\n",
        "  return out "
      ],
      "execution_count": 112,
      "outputs": []
    },
    {
      "cell_type": "code",
      "metadata": {
        "id": "zqEjL1H255Kj",
        "outputId": "1587e916-4703-48ac-d59a-48440ecf60ab",
        "colab": {
          "base_uri": "https://localhost:8080/"
        }
      },
      "source": [
        "print(arg_first_alphabetically(lst))"
      ],
      "execution_count": 113,
      "outputs": [
        {
          "output_type": "stream",
          "text": [
            "23\n"
          ],
          "name": "stdout"
        }
      ]
    },
    {
      "cell_type": "code",
      "metadata": {
        "id": "2FsRTLDvDiud"
      },
      "source": [
        "def arg_last_alphabetically(lst):\n",
        "  def find_argmax(d):\n",
        "      a_max=lst[0]\n",
        "      i_max=-1\n",
        "      for i,e in enumerate(lst):\n",
        "          if e>a_max:\n",
        "              a_max=e\n",
        "              i_max=i\n",
        "      return i_max\n",
        "  out = find_argmax(state_variables)\n",
        "  return out "
      ],
      "execution_count": 190,
      "outputs": []
    },
    {
      "cell_type": "code",
      "metadata": {
        "id": "GpKIYsyZDwjE",
        "outputId": "cbad4646-3e04-433a-fd1c-e51b592ad8f5",
        "colab": {
          "base_uri": "https://localhost:8080/"
        }
      },
      "source": [
        "arg_last_alphabetically(lst)"
      ],
      "execution_count": 191,
      "outputs": [
        {
          "output_type": "execute_result",
          "data": {
            "text/plain": [
              "4"
            ]
          },
          "metadata": {
            "tags": []
          },
          "execution_count": 191
        }
      ]
    },
    {
      "cell_type": "markdown",
      "metadata": {
        "id": "yMs5bPUFgq-n"
      },
      "source": [
        "1c. Use your result in question 2 to implement a function `arg_sort_alphabetically(lst)` that returns a list that is alphabetically sorted. Sorting can be accomplished by successively applying the function in question 1 and removing the first element alphabetically. You can remove an element from a list using `pop()`. Make sure your implementation isn't case sensitive. Do not use python's built-in `min`, `max`, `sort` or any other sort function you find."
      ]
    },
    {
      "cell_type": "code",
      "metadata": {
        "id": "JSFG5VCf7t2U"
      },
      "source": [
        "def arg_sort_alphabetically(lst):\n",
        "  first = arg_first_alphabetically(lst)\n",
        "  last = arg_last_alphabetically(lst)\n",
        "  lst[0] = first\n",
        "  lst[-1] = last\n",
        "  out = range(arg_first_alphabetically(lst),arg_last_alphabetically(lst))\n",
        "  return out"
      ],
      "execution_count": 219,
      "outputs": []
    },
    {
      "cell_type": "code",
      "metadata": {
        "id": "V2R2Dph6AynV",
        "outputId": "6ebb0720-5dc6-4982-b9ee-a7872075ce3c",
        "colab": {
          "base_uri": "https://localhost:8080/",
          "height": 301
        }
      },
      "source": [
        "print(range(arg_first_alphabetically(lst)))"
      ],
      "execution_count": 217,
      "outputs": [
        {
          "output_type": "error",
          "ename": "TypeError",
          "evalue": "ignored",
          "traceback": [
            "\u001b[0;31m---------------------------------------------------------------------------\u001b[0m",
            "\u001b[0;31mTypeError\u001b[0m                                 Traceback (most recent call last)",
            "\u001b[0;32m<ipython-input-217-0eacc1d73d52>\u001b[0m in \u001b[0;36m<module>\u001b[0;34m()\u001b[0m\n\u001b[0;32m----> 1\u001b[0;31m \u001b[0mprint\u001b[0m\u001b[0;34m(\u001b[0m\u001b[0mrange\u001b[0m\u001b[0;34m(\u001b[0m\u001b[0marg_first_alphabetically\u001b[0m\u001b[0;34m(\u001b[0m\u001b[0mlst\u001b[0m\u001b[0;34m)\u001b[0m\u001b[0;34m)\u001b[0m\u001b[0;34m)\u001b[0m\u001b[0;34m\u001b[0m\u001b[0;34m\u001b[0m\u001b[0m\n\u001b[0m",
            "\u001b[0;32m<ipython-input-112-765ed2907216>\u001b[0m in \u001b[0;36marg_first_alphabetically\u001b[0;34m(lst)\u001b[0m\n\u001b[1;32m      8\u001b[0m               \u001b[0mi_min\u001b[0m\u001b[0;34m=\u001b[0m\u001b[0mi\u001b[0m\u001b[0;34m\u001b[0m\u001b[0;34m\u001b[0m\u001b[0m\n\u001b[1;32m      9\u001b[0m       \u001b[0;32mreturn\u001b[0m \u001b[0mi_min\u001b[0m\u001b[0;34m\u001b[0m\u001b[0;34m\u001b[0m\u001b[0m\n\u001b[0;32m---> 10\u001b[0;31m   \u001b[0mout\u001b[0m \u001b[0;34m=\u001b[0m \u001b[0mfind_argmin\u001b[0m\u001b[0;34m(\u001b[0m\u001b[0mstate_variables\u001b[0m\u001b[0;34m)\u001b[0m\u001b[0;34m\u001b[0m\u001b[0;34m\u001b[0m\u001b[0m\n\u001b[0m\u001b[1;32m     11\u001b[0m   \u001b[0;32mreturn\u001b[0m \u001b[0mout\u001b[0m\u001b[0;34m\u001b[0m\u001b[0;34m\u001b[0m\u001b[0m\n",
            "\u001b[0;32m<ipython-input-112-765ed2907216>\u001b[0m in \u001b[0;36mfind_argmin\u001b[0;34m(d)\u001b[0m\n\u001b[1;32m      4\u001b[0m       \u001b[0mi_min\u001b[0m\u001b[0;34m=\u001b[0m\u001b[0;36m0\u001b[0m\u001b[0;34m\u001b[0m\u001b[0;34m\u001b[0m\u001b[0m\n\u001b[1;32m      5\u001b[0m       \u001b[0;32mfor\u001b[0m \u001b[0mi\u001b[0m\u001b[0;34m,\u001b[0m\u001b[0me\u001b[0m \u001b[0;32min\u001b[0m \u001b[0menumerate\u001b[0m\u001b[0;34m(\u001b[0m\u001b[0mlst\u001b[0m\u001b[0;34m)\u001b[0m\u001b[0;34m:\u001b[0m\u001b[0;34m\u001b[0m\u001b[0;34m\u001b[0m\u001b[0m\n\u001b[0;32m----> 6\u001b[0;31m           \u001b[0;32mif\u001b[0m \u001b[0me\u001b[0m\u001b[0;34m<\u001b[0m\u001b[0ma_min\u001b[0m\u001b[0;34m:\u001b[0m\u001b[0;34m\u001b[0m\u001b[0;34m\u001b[0m\u001b[0m\n\u001b[0m\u001b[1;32m      7\u001b[0m               \u001b[0ma_min\u001b[0m\u001b[0;34m=\u001b[0m\u001b[0me\u001b[0m\u001b[0;34m\u001b[0m\u001b[0;34m\u001b[0m\u001b[0m\n\u001b[1;32m      8\u001b[0m               \u001b[0mi_min\u001b[0m\u001b[0;34m=\u001b[0m\u001b[0mi\u001b[0m\u001b[0;34m\u001b[0m\u001b[0;34m\u001b[0m\u001b[0m\n",
            "\u001b[0;31mTypeError\u001b[0m: '<' not supported between instances of 'str' and 'int'"
          ]
        }
      ]
    },
    {
      "cell_type": "markdown",
      "metadata": {
        "id": "Nn16wOMTgq-p"
      },
      "source": [
        "2. Implement a function `outer_product` that takes two one-dimensional lists of numbers and returns the two-dimensional outer product matrix defined as:\n",
        "\n",
        "\\begin{equation*}\n",
        "\\begin{pmatrix} x_1\\\\x_2\\\\ \\vdots \\\\x_m \\end{pmatrix} \\begin{pmatrix} y_1&y_2& \\dots &y_n\\end{pmatrix} =\n",
        "\\begin{pmatrix}\n",
        "x_1y_1 & x_1y_2 & \\dots & x_1y_n\\\\\n",
        "x_2y_1 & x_2y_2 & \\dots & x_2y_n\\\\\n",
        "\\vdots & \\vdots & \\ddots & \\vdots \\\\\n",
        "x_my_1 & x_my_2 & \\dots & x_my_n\n",
        "\\end{pmatrix}\n",
        "\\end{equation*}\n",
        "\n",
        "In other words the elements of matrix C which is the outer product of A and B are $c_{ij} = a_i b_j$."
      ]
    },
    {
      "cell_type": "code",
      "metadata": {
        "id": "gUJdPkTcGVo-"
      },
      "source": [
        "def outer_product(C):\n",
        "  a = [1,2,3]\n",
        "  b = [4,5,60]\n",
        "\n",
        "  def multiply(a,b):\n",
        "      if isinstance(a,(float,int)) and isinstance(b,(float,int)):\n",
        "          return a*b\n",
        "      elif isinstance(a,list) and isinstance(b,list):\n",
        "          return multiply_lists(a,b)\n",
        "      elif isinstance(a,list) and isinstance(b,(float,int)):\n",
        "          return multiply_scalar_list(b,a)\n",
        "      elif isinstance(b,list) and isinstance(a,(float,int)):\n",
        "          return multiply_scalar_list(a,b)\n",
        "      else:\n",
        "          print(\"Invalid input.\")\n",
        "          return None\n",
        "\n",
        "  def multiply_lists(a,b):\n",
        "      if len(a)!=len(b):\n",
        "          print(\"Only can multiply lists of same length.\")\n",
        "          return None\n",
        "      else:\n",
        "          out = list()\n",
        "          for item1,item2 in zip(a,b):\n",
        "              out.append(multiply(item1,item2))\n",
        "          return out \n",
        "\n",
        "  def multiply_scalar_list(scalar,b):\n",
        "      out = list()\n",
        "      for item in b:\n",
        "          out.append(multiply(scalar,item))\n",
        "      return out\n",
        "  outer = multiply(a,a)\n",
        "  outer_func = (outer,(multiply(b,b)))\n",
        "  return outer_func"
      ],
      "execution_count": 254,
      "outputs": []
    },
    {
      "cell_type": "code",
      "metadata": {
        "id": "kre0Bss5Jmuk",
        "outputId": "176c2f39-fa23-4a06-9b01-7afd2b5e4882",
        "colab": {
          "base_uri": "https://localhost:8080/"
        }
      },
      "source": [
        "print(outer_product(C))"
      ],
      "execution_count": 255,
      "outputs": [
        {
          "output_type": "stream",
          "text": [
            "([1, 4, 9], [16, 25, 3600])\n"
          ],
          "name": "stdout"
        }
      ]
    },
    {
      "cell_type": "markdown",
      "metadata": {
        "id": "kRE2kcrtgq-r"
      },
      "source": [
        "3a. Implement a function `cumulative_sum(lst)` that takes a list of numbers and returns a list of same size where the element `i` is the sum of the elements `0` to `i` of the input list. For example given `[1,2,3]`, you should return [1,3,6]."
      ]
    },
    {
      "cell_type": "code",
      "metadata": {
        "id": "dknEbC9xGUv-"
      },
      "source": [
        "lst = [1,2,3]\n",
        "def matrix_shape(lst):\n",
        "    if lst(M):\n",
        "        m=len(M)\n",
        "        n=len(M[0])\n",
        "        return m,n\n",
        "    else:\n",
        "        0,0\n",
        "\n",
        "def is_square_matrix(lst):\n",
        "    m,n=matrix_shape(M)\n",
        "    if m==0 or n==0:\n",
        "        return False\n",
        "    return m==n\n",
        "\n",
        "def cumulative_sum(lst):\n",
        "    def M1():\n",
        "      m1=matrix_shape(M1)\n",
        "    def M2():\n",
        "      m2=matrix_shape(M2)\n",
        "    \n",
        "    if m1==m2:\n",
        "        M3=zero_matrix(m1)\n",
        "        for i in range(m1):\n",
        "            for j in range(m2):\n",
        "                M3[i][j]=M1[i][j]+M2[i][j]\n",
        "        return M3\n",
        "    return False\n",
        "\n",
        "\n",
        "def cumulative_sum(lst):\n",
        "  lst = [1,2,3]\n",
        "  i = lst[0]+lst[1]\n",
        "  j = i+lst[2]\n",
        "  for i in lst:\n",
        "    out = (lst[0],i,j)\n",
        "  return out"
      ],
      "execution_count": 289,
      "outputs": []
    },
    {
      "cell_type": "code",
      "metadata": {
        "id": "Bc9MUjqFMay3",
        "outputId": "37f48906-abc1-44c4-c6a8-7f70ad97ad13",
        "colab": {
          "base_uri": "https://localhost:8080/"
        }
      },
      "source": [
        "cumulative_sum(lst)"
      ],
      "execution_count": 290,
      "outputs": [
        {
          "output_type": "execute_result",
          "data": {
            "text/plain": [
              "(1, 3, 6)"
            ]
          },
          "metadata": {
            "tags": []
          },
          "execution_count": 290
        }
      ]
    },
    {
      "cell_type": "markdown",
      "metadata": {
        "id": "j7DZYzttgq-s"
      },
      "source": [
        "3b. Imagine you have a normal distributed random variable `x`. For example `x` can be grades on this exam. Using the normal distribution generator and histogram functions from lecture (provided below) and `cumulative_sum` from previous question to compute what is the value of $x_{90}$ in $\\sigma$ such that 90% of the values $x$ are below $x_{90}$. In other words:"
      ]
    },
    {
      "cell_type": "markdown",
      "metadata": {
        "id": "METBkLiVgq-v"
      },
      "source": [
        "$$\n",
        "\\int_{-\\infty}^{x_{90}} N(x;\\mu=0,\\sigma=1) dx = 0.9\n",
        "$$"
      ]
    },
    {
      "cell_type": "code",
      "metadata": {
        "id": "p66ItfRsgq-w"
      },
      "source": [
        "import math,random\n",
        "\n",
        "def arange(x_min,x_max,steps=10):\n",
        "    step_size=(x_max-x_min)/steps\n",
        "    x=x_min\n",
        "    out = list()\n",
        "    for i in range(steps):\n",
        "        out.append(x)\n",
        "        x+=step_size\n",
        "    return out\n",
        "\n",
        "def generate_normal(N,m=0,s=1):\n",
        "    out = list() \n",
        "    \n",
        "    while len(out)<N:\n",
        "#    for _ in range(int(float(N)/2)+1):\n",
        "        U1=random.random()\n",
        "        U2=random.random()\n",
        "    \n",
        "        out.append(s*math.sqrt(-2*math.log(U1))*math.cos(2*math.pi*U2)+m)\n",
        "        out.append(s*math.sqrt(-2*math.log(U1))*math.sin(2*math.pi*U2)+m)\n",
        "\n",
        "    return out[:N]\n",
        "data = cumulative_sum(lst)\n",
        "def histogram(data, n_bins=10,x_min=None, x_max=None):\n",
        "    if x_min==None:\n",
        "        x_min=min(data)\n",
        "    if x_max==None:\n",
        "        x_max=max(data)\n",
        "        \n",
        "    bin_edges = arange(x_min,x_max,n_bins)\n",
        "    bin_edges.append(x_max)\n",
        "\n",
        "    hist=[0]*n_bins\n",
        "    \n",
        "    for d in data:\n",
        "        for i in range(n_bins):\n",
        "            if d>=bin_edges[i] and d<bin_edges[i+1]:\n",
        "                hist[i]+=1\n",
        "                break\n",
        "                \n",
        "    return hist,bin_edges\n",
        "\n"
      ],
      "execution_count": 291,
      "outputs": []
    },
    {
      "cell_type": "code",
      "metadata": {
        "id": "IEXcKNkSQIwk",
        "outputId": "18368dea-2f5b-4b01-960a-bb9d6b5a21a7",
        "colab": {
          "base_uri": "https://localhost:8080/"
        }
      },
      "source": [
        "histogram(data, n_bins=90,x_min=None, x_max=None)"
      ],
      "execution_count": 292,
      "outputs": [
        {
          "output_type": "execute_result",
          "data": {
            "text/plain": [
              "([1,\n",
              "  0,\n",
              "  0,\n",
              "  0,\n",
              "  0,\n",
              "  0,\n",
              "  0,\n",
              "  0,\n",
              "  0,\n",
              "  0,\n",
              "  0,\n",
              "  0,\n",
              "  0,\n",
              "  0,\n",
              "  0,\n",
              "  0,\n",
              "  0,\n",
              "  0,\n",
              "  0,\n",
              "  0,\n",
              "  0,\n",
              "  0,\n",
              "  0,\n",
              "  0,\n",
              "  0,\n",
              "  0,\n",
              "  0,\n",
              "  0,\n",
              "  0,\n",
              "  0,\n",
              "  0,\n",
              "  0,\n",
              "  0,\n",
              "  0,\n",
              "  0,\n",
              "  0,\n",
              "  1,\n",
              "  0,\n",
              "  0,\n",
              "  0,\n",
              "  0,\n",
              "  0,\n",
              "  0,\n",
              "  0,\n",
              "  0,\n",
              "  0,\n",
              "  0,\n",
              "  0,\n",
              "  0,\n",
              "  0,\n",
              "  0,\n",
              "  0,\n",
              "  0,\n",
              "  0,\n",
              "  0,\n",
              "  0,\n",
              "  0,\n",
              "  0,\n",
              "  0,\n",
              "  0,\n",
              "  0,\n",
              "  0,\n",
              "  0,\n",
              "  0,\n",
              "  0,\n",
              "  0,\n",
              "  0,\n",
              "  0,\n",
              "  0,\n",
              "  0,\n",
              "  0,\n",
              "  0,\n",
              "  0,\n",
              "  0,\n",
              "  0,\n",
              "  0,\n",
              "  0,\n",
              "  0,\n",
              "  0,\n",
              "  0,\n",
              "  0,\n",
              "  0,\n",
              "  0,\n",
              "  0,\n",
              "  0,\n",
              "  0,\n",
              "  0,\n",
              "  0,\n",
              "  0,\n",
              "  0],\n",
              " [1,\n",
              "  1.0555555555555556,\n",
              "  1.1111111111111112,\n",
              "  1.1666666666666667,\n",
              "  1.2222222222222223,\n",
              "  1.277777777777778,\n",
              "  1.3333333333333335,\n",
              "  1.388888888888889,\n",
              "  1.4444444444444446,\n",
              "  1.5000000000000002,\n",
              "  1.5555555555555558,\n",
              "  1.6111111111111114,\n",
              "  1.666666666666667,\n",
              "  1.7222222222222225,\n",
              "  1.7777777777777781,\n",
              "  1.8333333333333337,\n",
              "  1.8888888888888893,\n",
              "  1.9444444444444449,\n",
              "  2.0000000000000004,\n",
              "  2.055555555555556,\n",
              "  2.111111111111111,\n",
              "  2.1666666666666665,\n",
              "  2.222222222222222,\n",
              "  2.2777777777777772,\n",
              "  2.3333333333333326,\n",
              "  2.388888888888888,\n",
              "  2.4444444444444433,\n",
              "  2.4999999999999987,\n",
              "  2.555555555555554,\n",
              "  2.6111111111111094,\n",
              "  2.6666666666666647,\n",
              "  2.72222222222222,\n",
              "  2.7777777777777755,\n",
              "  2.833333333333331,\n",
              "  2.888888888888886,\n",
              "  2.9444444444444415,\n",
              "  2.999999999999997,\n",
              "  3.0555555555555522,\n",
              "  3.1111111111111076,\n",
              "  3.166666666666663,\n",
              "  3.2222222222222183,\n",
              "  3.2777777777777737,\n",
              "  3.333333333333329,\n",
              "  3.3888888888888844,\n",
              "  3.4444444444444398,\n",
              "  3.499999999999995,\n",
              "  3.5555555555555505,\n",
              "  3.611111111111106,\n",
              "  3.666666666666661,\n",
              "  3.7222222222222165,\n",
              "  3.777777777777772,\n",
              "  3.8333333333333273,\n",
              "  3.8888888888888826,\n",
              "  3.944444444444438,\n",
              "  3.9999999999999933,\n",
              "  4.055555555555549,\n",
              "  4.1111111111111045,\n",
              "  4.16666666666666,\n",
              "  4.222222222222215,\n",
              "  4.277777777777771,\n",
              "  4.333333333333326,\n",
              "  4.388888888888881,\n",
              "  4.444444444444437,\n",
              "  4.499999999999992,\n",
              "  4.555555555555547,\n",
              "  4.611111111111103,\n",
              "  4.666666666666658,\n",
              "  4.722222222222213,\n",
              "  4.777777777777769,\n",
              "  4.833333333333324,\n",
              "  4.8888888888888795,\n",
              "  4.944444444444435,\n",
              "  4.99999999999999,\n",
              "  5.055555555555546,\n",
              "  5.111111111111101,\n",
              "  5.166666666666656,\n",
              "  5.222222222222212,\n",
              "  5.277777777777767,\n",
              "  5.333333333333322,\n",
              "  5.388888888888878,\n",
              "  5.444444444444433,\n",
              "  5.4999999999999885,\n",
              "  5.555555555555544,\n",
              "  5.611111111111099,\n",
              "  5.6666666666666545,\n",
              "  5.72222222222221,\n",
              "  5.777777777777765,\n",
              "  5.833333333333321,\n",
              "  5.888888888888876,\n",
              "  5.944444444444431,\n",
              "  6])"
            ]
          },
          "metadata": {
            "tags": []
          },
          "execution_count": 292
        }
      ]
    },
    {
      "cell_type": "markdown",
      "metadata": {
        "id": "MvVjKk6pgq-1"
      },
      "source": [
        "4a. Recall in quiz 1 we implemented parts of a poker game in python. The solution to quiz 1 is below. Modify the `flush`, `straight`, and `straight_flush` functions to return `None` instead of `False` and the highest card (value-wise) instead of \"True\"."
      ]
    },
    {
      "cell_type": "code",
      "metadata": {
        "id": "lar7yfeogq-1"
      },
      "source": [
        "suits = [\"Clubs\", \"Diamonds\", \"Hearts\", \"Spades\"]\n",
        "values = list(range(2,11)) + [ \"Jack\", \"Queen\", \"King\", \"Ace\"]\n",
        "\n",
        "def make_deck(x,y):\n",
        "    deck=list()\n",
        "    for suit in suits:\n",
        "        for value in values:\n",
        "            deck.append((suit,value))\n",
        "    return deck\n",
        "hand = make_deck(0,5)\n",
        "def flush(hand):\n",
        "    suit=None\n",
        "    for card in hand:\n",
        "        if suit:\n",
        "            if not card[0]==suit:\n",
        "                return 'None'\n",
        "        else:\n",
        "            suit=card[0]\n",
        "    return True\n",
        "\n",
        "def consecutive(lst): \n",
        "    return sorted(lst) == list(range(min(lst), max(lst)+1)) \n",
        "\n",
        "def straight(hand):    \n",
        "    out = consecutive([values.index(card[1]) for card in hand])\n",
        "    if out == False:\n",
        "      print('None')\n",
        "    return out\n",
        "\n",
        "def straight_flush(hand):\n",
        "    out = (straight(hand), flush(hand))\n",
        "    return out"
      ],
      "execution_count": 329,
      "outputs": []
    },
    {
      "cell_type": "code",
      "metadata": {
        "id": "4QiZkypfSX5m",
        "outputId": "05d58e1f-19dc-4bc8-c781-2540dc1adb59",
        "colab": {
          "base_uri": "https://localhost:8080/"
        }
      },
      "source": [
        "print(flush(hand))\n",
        "print(straight(hand))\n",
        "print(straight_flush(hand))\n"
      ],
      "execution_count": 330,
      "outputs": [
        {
          "output_type": "stream",
          "text": [
            "None\n",
            "None\n",
            "False\n",
            "None\n",
            "(False, 'None')\n"
          ],
          "name": "stdout"
        }
      ]
    },
    {
      "cell_type": "markdown",
      "metadata": {
        "id": "ElDsL77Sgq-5"
      },
      "source": [
        "4b. Add two additional functions `three_of_a_kind` and `pair` that work in an analogous manner."
      ]
    },
    {
      "cell_type": "code",
      "metadata": {
        "id": "WpXp74g7gq-6"
      },
      "source": [
        "def three_of_a_kind(hand):\n",
        "  suit=None\n",
        "  for card in hand:\n",
        "      if suit:\n",
        "          if not card[0]==suit:\n",
        "              return 'None'\n",
        "      else:\n",
        "          suit=card[0]*3\n",
        "  return True\n",
        "\n",
        "def pair(hand): \n",
        "    suit=None\n",
        "    for card in hand:\n",
        "      if suit:\n",
        "          if not card[0]==suit:\n",
        "              return 'None'\n",
        "      else:\n",
        "          suit=card[0]*2\n",
        "    return True\n",
        "\n"
      ],
      "execution_count": 333,
      "outputs": []
    },
    {
      "cell_type": "code",
      "metadata": {
        "id": "U4EKlKw8WLjN",
        "outputId": "ccd76352-d41e-456a-9f0f-92a0994a4187",
        "colab": {
          "base_uri": "https://localhost:8080/"
        }
      },
      "source": [
        "print(three_of_a_kind(hand))\n",
        "print(pair(hand))"
      ],
      "execution_count": 334,
      "outputs": [
        {
          "output_type": "stream",
          "text": [
            "None\n",
            "None\n"
          ],
          "name": "stdout"
        }
      ]
    }
  ]
}