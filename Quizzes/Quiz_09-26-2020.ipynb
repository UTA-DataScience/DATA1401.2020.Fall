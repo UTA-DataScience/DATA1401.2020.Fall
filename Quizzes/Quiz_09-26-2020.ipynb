{
  "nbformat": 4,
  "nbformat_minor": 0,
  "metadata": {
    "kernelspec": {
      "display_name": "Python 3",
      "language": "python",
      "name": "python3"
    },
    "language_info": {
      "codemirror_mode": {
        "name": "ipython",
        "version": 3
      },
      "file_extension": ".py",
      "mimetype": "text/x-python",
      "name": "python",
      "nbconvert_exporter": "python",
      "pygments_lexer": "ipython3",
      "version": "3.8.0"
    },
    "colab": {
      "name": "Copy of Lecture.13.ipynb",
      "provenance": []
    }
  },
  "cells": [
    {
      "cell_type": "markdown",
      "metadata": {
        "id": "yv-XriXq5BSy"
      },
      "source": [
        "# Lecture 13"
      ]
    },
    {
      "cell_type": "markdown",
      "metadata": {
        "id": "gzQG0zeJ5BS3"
      },
      "source": [
        "[![Open In Colab](https://colab.research.google.com/assets/colab-badge.svg)](https://colab.research.google.com/github/UTA-DataScience/DATA1401.2020.Fall/blob/master/Lectures/Lecture.13/Lecture.13.ipynb)\n",
        "\n"
      ]
    },
    {
      "cell_type": "markdown",
      "metadata": {
        "id": "KljWfKqp5BS7"
      },
      "source": [
        "# Quiz\n",
        "\n",
        "Write 3 functions that take as in input a matrix, represented as a list of lists, and return:\n",
        "   * Sum of all elements (`sum_all()`)\n",
        "   * List of the sum of the rows (`sum_rows()`)\n",
        "   * List of the sum of the columns (`sum_columns()`)\n",
        "   "
      ]
    },
    {
      "cell_type": "code",
      "metadata": {
        "id": "udVGQf0l5BTc"
      },
      "source": [
        "# Your solution here\n",
        "#versions for fidning sum for all\n",
        "def sum_all_0(lst):\n",
        "    my_sum=0.\n",
        "    for row in lst:\n",
        "      for item in row:\n",
        "        my_sum+=item\n",
        "    return my_sum\n",
        "\n",
        "def sum_all_1(lst):\n",
        "    my_sum=0.\n",
        "    for row in lst:\n",
        "        my_sum+=sum(row)\n",
        "    return my_sum\n",
        "\n",
        "#Using recursion\n",
        "def sum_all(lst):\n",
        "    if isinstance(lst,list):\n",
        "      my_sum=0.\n",
        "\n",
        "      for row in lst:\n",
        "        my_sum+=sum_all(row)\n",
        "      return my_sum\n",
        "\n",
        "    else:\n",
        "      return lst\n",
        "\n",
        "\n",
        " "
      ],
      "execution_count": 4,
      "outputs": []
    },
    {
      "cell_type": "code",
      "metadata": {
        "id": "zoT7VeKC9Cf1"
      },
      "source": [
        "def sum_rows(lst):\n",
        "    my_sums=list()\n",
        "\n",
        "    for row in lst:\n",
        "        my_sums.append(sum(row))\n",
        "    return my_sums"
      ],
      "execution_count": 5,
      "outputs": []
    },
    {
      "cell_type": "code",
      "metadata": {
        "id": "afBre8ki9nkS"
      },
      "source": [
        "def sum_columns(lst):\n",
        "  #comment: assumes first row length ==num of columns\n",
        "  #better if max length of every row was used in \n",
        "    my_sums=[0.]*len(lst[0])\n",
        "\n",
        "    for row in lst:\n",
        "        for column_i,item in enumerate(row):\n",
        "          my_sums[column_i]+=item\n",
        "    return my_sums"
      ],
      "execution_count": 6,
      "outputs": []
    },
    {
      "cell_type": "code",
      "metadata": {
        "id": "GYV7vV9h8BqD",
        "outputId": "4a4cdbbb-bc55-4338-9561-fd2a0849e46b",
        "colab": {
          "base_uri": "https://localhost:8080/",
          "height": 35
        }
      },
      "source": [
        "D = [ [ 1, 2, 3 ],\n",
        "      [ 4, 5, 6 ],\n",
        "      [ 7, 8, 9 ]\n",
        "      ]\n",
        "sum_all_0(D)"
      ],
      "execution_count": 7,
      "outputs": [
        {
          "output_type": "execute_result",
          "data": {
            "text/plain": [
              "45.0"
            ]
          },
          "metadata": {
            "tags": []
          },
          "execution_count": 7
        }
      ]
    },
    {
      "cell_type": "code",
      "metadata": {
        "id": "AawNwKdK9dgG",
        "outputId": "f9d5a6c2-1a92-4e1e-97ed-e05fdf9db59d",
        "colab": {
          "base_uri": "https://localhost:8080/",
          "height": 35
        }
      },
      "source": [
        "sum_rows(D)"
      ],
      "execution_count": null,
      "outputs": [
        {
          "output_type": "execute_result",
          "data": {
            "text/plain": [
              "[6, 15, 24]"
            ]
          },
          "metadata": {
            "tags": []
          },
          "execution_count": 9
        }
      ]
    },
    {
      "cell_type": "code",
      "metadata": {
        "id": "mkRCGbPb-U66",
        "outputId": "a9585adc-6a5a-4512-990c-dcc277899617",
        "colab": {
          "base_uri": "https://localhost:8080/",
          "height": 35
        }
      },
      "source": [
        "sum_columns(D)"
      ],
      "execution_count": null,
      "outputs": [
        {
          "output_type": "execute_result",
          "data": {
            "text/plain": [
              "[12.0, 15.0, 18.0]"
            ]
          },
          "metadata": {
            "tags": []
          },
          "execution_count": 21
        }
      ]
    },
    {
      "cell_type": "markdown",
      "metadata": {
        "collapsed": true,
        "id": "3SHGmnHG5BTt"
      },
      "source": [
        "# More Python...\n",
        "\n",
        "In this lecture, we will introduce a few other aspects of python that can be very powerful. The next leaps in power will come when we introduce object oriented programming. \n",
        "\n",
        "## None Type\n",
        "\n",
        "There is one python built-in datatype that we haven't explored yet: `None`. None represents a null or no value at all. It is not the same as 0, `False`, or empty string. And it has it's own type (`NoneType`).\n",
        "\n",
        "Some Examples:"
      ]
    },
    {
      "cell_type": "code",
      "metadata": {
        "id": "wpk_8MXV5BTx",
        "outputId": "f6ada6ca-2976-4a91-e93f-a509c4c0782a",
        "colab": {
          "base_uri": "https://localhost:8080/",
          "height": 70
        }
      },
      "source": [
        "x = None\n",
        "\n",
        "print (\"None:\",x)\n",
        "\n",
        "if x:\n",
        "    print (\"None is True!\")\n",
        "else:\n",
        "    print( \"None is not True!\")\n",
        "\n",
        "# A list with None in it\n",
        "[x]"
      ],
      "execution_count": null,
      "outputs": [
        {
          "output_type": "stream",
          "text": [
            "None: None\n",
            "None is not True!\n"
          ],
          "name": "stdout"
        },
        {
          "output_type": "execute_result",
          "data": {
            "text/plain": [
              "[None]"
            ]
          },
          "metadata": {
            "tags": []
          },
          "execution_count": 24
        }
      ]
    },
    {
      "cell_type": "markdown",
      "metadata": {
        "id": "MXgx7WUl5BUC"
      },
      "source": [
        "Also note that comparing None to anything except None will return False:"
      ]
    },
    {
      "cell_type": "code",
      "metadata": {
        "id": "vUxf430C5BUF",
        "outputId": "9de828bb-11f9-46a9-ba38-5e8f3bf8799c",
        "colab": {
          "base_uri": "https://localhost:8080/",
          "height": 88
        }
      },
      "source": [
        "print (\"None test:\", None == None)\n",
        "print (\"String test:\", \"a string\" == None)\n",
        "print (\"Number test:\", 1 == None)\n",
        "print (\"List test:\", [None]==None)"
      ],
      "execution_count": null,
      "outputs": [
        {
          "output_type": "stream",
          "text": [
            "None test: True\n",
            "String test: False\n",
            "Number test: False\n",
            "List test: False\n"
          ],
          "name": "stdout"
        }
      ]
    },
    {
      "cell_type": "markdown",
      "metadata": {
        "id": "CneCsn7O5BUe"
      },
      "source": [
        "Note that since `None` is not true, so often times it is used in if statements to check if a value is set for something. For example:"
      ]
    },
    {
      "cell_type": "code",
      "metadata": {
        "scrolled": true,
        "id": "0e8KJ39T5BUi",
        "outputId": "0dee6d7d-89eb-4d3d-ff6b-86c28eb844b0",
        "colab": {
          "base_uri": "https://localhost:8080/",
          "height": 52
        }
      },
      "source": [
        "def my_func(x=None):\n",
        "    if x:\n",
        "        print (x+1)\n",
        "    else:\n",
        "        print (\"x is not set\")\n",
        "        \n",
        "my_func()\n",
        "\n",
        "my_func(1)"
      ],
      "execution_count": null,
      "outputs": [
        {
          "output_type": "stream",
          "text": [
            "x is not set\n",
            "2\n"
          ],
          "name": "stdout"
        }
      ]
    },
    {
      "cell_type": "markdown",
      "metadata": {
        "id": "ClBeHO315BU1"
      },
      "source": [
        "## Variable Argument Type Functions \n",
        "\n",
        "Since python is late binding, the type of any variable is only relevant at the time of its usage, so you can write functions that behave differently based on the type of the variable. \n",
        "\n",
        "For example:"
      ]
    },
    {
      "cell_type": "code",
      "metadata": {
        "id": "cX1fY5KW5BU5"
      },
      "source": [
        "def always_extend(list1,obj):\n",
        "    if isinstance(obj,list):\n",
        "        list1.extend(obj)\n",
        "    else:\n",
        "        list1.append(obj)\n",
        "        \n",
        "    return list1"
      ],
      "execution_count": null,
      "outputs": []
    },
    {
      "cell_type": "code",
      "metadata": {
        "id": "CP4jcV7F5BVO"
      },
      "source": [
        "print (always_extend([1,2,3],[4,5,6]))\n",
        "print (always_extend([1,2,3],5))"
      ],
      "execution_count": null,
      "outputs": []
    },
    {
      "cell_type": "markdown",
      "metadata": {
        "id": "rfG36X_b5BVe"
      },
      "source": [
        "### Error Handling\n",
        "\n",
        "Error handling is a advance part of many languages. In python it is an acceptable usage pattern for checking the type of objects. Lets say you want a part of your code to add a number to another number correctly, even when one number is in string form.\n",
        "\n",
        "Here's an example of a failure. Note the error."
      ]
    },
    {
      "cell_type": "code",
      "metadata": {
        "id": "guZaigTG5BVh",
        "outputId": "10d2271a-51dd-477c-e8d2-5248941f2191",
        "colab": {
          "base_uri": "https://localhost:8080/",
          "height": 310
        }
      },
      "source": [
        "def always_add(number,obj):\n",
        "    return number+obj\n",
        "\n",
        "always_add(1,\"2\")"
      ],
      "execution_count": null,
      "outputs": [
        {
          "output_type": "error",
          "ename": "TypeError",
          "evalue": "ignored",
          "traceback": [
            "\u001b[0;31m---------------------------------------------------------------------------\u001b[0m",
            "\u001b[0;31mTypeError\u001b[0m                                 Traceback (most recent call last)",
            "\u001b[0;32m<ipython-input-25-60b08fa009a0>\u001b[0m in \u001b[0;36m<module>\u001b[0;34m()\u001b[0m\n\u001b[1;32m      2\u001b[0m     \u001b[0;32mreturn\u001b[0m \u001b[0mnumber\u001b[0m\u001b[0;34m+\u001b[0m\u001b[0mobj\u001b[0m\u001b[0;34m\u001b[0m\u001b[0;34m\u001b[0m\u001b[0m\n\u001b[1;32m      3\u001b[0m \u001b[0;34m\u001b[0m\u001b[0m\n\u001b[0;32m----> 4\u001b[0;31m \u001b[0malways_add\u001b[0m\u001b[0;34m(\u001b[0m\u001b[0;36m1\u001b[0m\u001b[0;34m,\u001b[0m\u001b[0;34m\"2\"\u001b[0m\u001b[0;34m)\u001b[0m\u001b[0;34m\u001b[0m\u001b[0;34m\u001b[0m\u001b[0m\n\u001b[0m",
            "\u001b[0;32m<ipython-input-25-60b08fa009a0>\u001b[0m in \u001b[0;36malways_add\u001b[0;34m(number, obj)\u001b[0m\n\u001b[1;32m      1\u001b[0m \u001b[0;32mdef\u001b[0m \u001b[0malways_add\u001b[0m\u001b[0;34m(\u001b[0m\u001b[0mnumber\u001b[0m\u001b[0;34m,\u001b[0m\u001b[0mobj\u001b[0m\u001b[0;34m)\u001b[0m\u001b[0;34m:\u001b[0m\u001b[0;34m\u001b[0m\u001b[0;34m\u001b[0m\u001b[0m\n\u001b[0;32m----> 2\u001b[0;31m     \u001b[0;32mreturn\u001b[0m \u001b[0mnumber\u001b[0m\u001b[0;34m+\u001b[0m\u001b[0mobj\u001b[0m\u001b[0;34m\u001b[0m\u001b[0;34m\u001b[0m\u001b[0m\n\u001b[0m\u001b[1;32m      3\u001b[0m \u001b[0;34m\u001b[0m\u001b[0m\n\u001b[1;32m      4\u001b[0m \u001b[0malways_add\u001b[0m\u001b[0;34m(\u001b[0m\u001b[0;36m1\u001b[0m\u001b[0;34m,\u001b[0m\u001b[0;34m\"2\"\u001b[0m\u001b[0;34m)\u001b[0m\u001b[0;34m\u001b[0m\u001b[0;34m\u001b[0m\u001b[0m\n",
            "\u001b[0;31mTypeError\u001b[0m: unsupported operand type(s) for +: 'int' and 'str'"
          ]
        }
      ]
    },
    {
      "cell_type": "code",
      "metadata": {
        "id": "xkcE_wTeAlgB",
        "outputId": "52f37f7a-9147-47a1-b155-dcc9984a0587",
        "colab": {
          "base_uri": "https://localhost:8080/",
          "height": 35
        }
      },
      "source": [
        "always_add(1,2)"
      ],
      "execution_count": null,
      "outputs": [
        {
          "output_type": "execute_result",
          "data": {
            "text/plain": [
              "3"
            ]
          },
          "metadata": {
            "tags": []
          },
          "execution_count": 27
        }
      ]
    },
    {
      "cell_type": "code",
      "metadata": {
        "id": "_M-VuXPI5BV3",
        "outputId": "b3c92281-0f17-40c5-fe58-855990f00d37",
        "colab": {
          "base_uri": "https://localhost:8080/",
          "height": 35
        }
      },
      "source": [
        "def always_add(number,obj):\n",
        "    try:\n",
        "        return number+obj\n",
        "    except TypeError:\n",
        "        return number+float(obj)\n",
        "\n",
        "always_add(1,\"2\")"
      ],
      "execution_count": null,
      "outputs": [
        {
          "output_type": "execute_result",
          "data": {
            "text/plain": [
              "3.0"
            ]
          },
          "metadata": {
            "tags": []
          },
          "execution_count": 26
        }
      ]
    },
    {
      "cell_type": "markdown",
      "metadata": {
        "id": "ywJBaNgv5BWJ"
      },
      "source": [
        "Note that specifying the error, in this case `TypeError`, is optional. It is good practice to specify the error, because otherwise the exception will catch any error and you could incorrectly handle an error you didn't anticipate."
      ]
    },
    {
      "cell_type": "markdown",
      "metadata": {
        "id": "V-sb0QUS5BWM"
      },
      "source": [
        "## Variable Number of Argument Functions"
      ]
    },
    {
      "cell_type": "markdown",
      "metadata": {
        "id": "x51IVOrv5BWP"
      },
      "source": [
        "If the number of arguments that is to be accepted by a function is not known then a asterisk symbol is used before the argument."
      ]
    },
    {
      "cell_type": "code",
      "metadata": {
        "id": "hGPp-Duq5BWS"
      },
      "source": [
        "def add_n(*args):\n",
        "    res = 0\n",
        "    reslist = []\n",
        "    for i in args:\n",
        "        reslist.append(i)\n",
        "    print (reslist)\n",
        "    return sum(reslist)"
      ],
      "execution_count": null,
      "outputs": []
    },
    {
      "cell_type": "markdown",
      "metadata": {
        "id": "NfZcMAsU5BWl"
      },
      "source": [
        "The above function accepts any number of arguments, defines a list and appends all the arguments into that list and return the sum of all the arguments."
      ]
    },
    {
      "cell_type": "code",
      "metadata": {
        "id": "Xomywxr15BWr"
      },
      "source": [
        "add_n(1,2,3,4,5)"
      ],
      "execution_count": null,
      "outputs": []
    },
    {
      "cell_type": "code",
      "metadata": {
        "id": "JvZuTlHS5BW_"
      },
      "source": [
        "add_n(1,2,3)"
      ],
      "execution_count": null,
      "outputs": []
    },
    {
      "cell_type": "markdown",
      "metadata": {
        "id": "4hXDYbCF5BXS"
      },
      "source": [
        "Note that `*args` is a tuple:"
      ]
    },
    {
      "cell_type": "code",
      "metadata": {
        "id": "O55V5gnl5BXV"
      },
      "source": [
        "def test_arg(*args):\n",
        "    print (type(args))\n",
        "    print (args)"
      ],
      "execution_count": null,
      "outputs": []
    },
    {
      "cell_type": "code",
      "metadata": {
        "id": "-OKyyeGt5BXw"
      },
      "source": [
        "print (\"String Test:\")\n",
        "test_arg(\"Hello\")\n",
        "\n",
        "print (\"List Test:\")\n",
        "test_arg([1,2,3])\n"
      ],
      "execution_count": null,
      "outputs": []
    },
    {
      "cell_type": "markdown",
      "metadata": {
        "id": "hicHeqBx5BYA"
      },
      "source": [
        "Note that you can mix required arguments with additional variable arguments:"
      ]
    },
    {
      "cell_type": "code",
      "metadata": {
        "id": "TcIoMTNu5BYD"
      },
      "source": [
        "def test_arg_1(x,*args):\n",
        "    print (type(args))\n",
        "    print (args)\n",
        "    \n",
        "test_arg_1(\"Hello\")\n",
        "\n",
        "test_arg_1([1,2,3],\"Hello\")\n",
        "\n"
      ],
      "execution_count": null,
      "outputs": []
    },
    {
      "cell_type": "markdown",
      "metadata": {
        "id": "AOmsX4PU5BYX"
      },
      "source": [
        "Another way to get variable arguments is to use `**args`. Here the arguments will be put into a dictionary, but you will have to specify explicity the name of the arguments:"
      ]
    },
    {
      "cell_type": "code",
      "metadata": {
        "id": "Ylyqgc9L5BYa"
      },
      "source": [
        "def test_arg_2(**args):\n",
        "    print (type(args))\n",
        "    print (args)"
      ],
      "execution_count": null,
      "outputs": []
    },
    {
      "cell_type": "code",
      "metadata": {
        "id": "n7gb5zuj5BYp"
      },
      "source": [
        "print (\"String Test:\")\n",
        "test_arg_2(x=\"Hello\")\n",
        "\n",
        "print (\"List Test:\")\n",
        "test_arg_2(x=[1,2,3])"
      ],
      "execution_count": null,
      "outputs": []
    },
    {
      "cell_type": "markdown",
      "metadata": {
        "id": "qNeE6K2F5BY6"
      },
      "source": [
        "### Optional Arguments and `**args` (Advanced)\n",
        "\n",
        "Some libraries use a powerful usage pattern with `**args`. These libraries typically have functions that call other functions. Imagine two functions: `func1(x)` and `func2(y,a=1,b=2,c=3)` that is called by `func1`. If you want to change the value of `a` when you call `func1`, you could add a `a` as an optional argument to `func1` and take care to propagate the `a` to `func2`. It becomes very combersome if `func1` wants calls the lots of functions and you want to be able to change any inner function argument when you call `func1`.\n",
        "\n",
        "Here's an example that shows how to elegantly address this problem in a general way. Simply add `**args` to all of your functions:"
      ]
    },
    {
      "cell_type": "code",
      "metadata": {
        "id": "t_PNsymg5BZA"
      },
      "source": [
        "def func1(name=None,**args):\n",
        "    if name:\n",
        "        print (\"My name is\", name)\n",
        "\n",
        "def func2(message=None,**args):\n",
        "    if message:\n",
        "        print (\"My message is\", message)\n",
        "    \n",
        "def func3(**args):\n",
        "    if \"name\" in args:\n",
        "        print (args[\"name\"],\"said:\")\n",
        "    func1(**args)\n",
        "    func2(**args)\n",
        "    "
      ],
      "execution_count": null,
      "outputs": []
    },
    {
      "cell_type": "code",
      "metadata": {
        "id": "U55jzt_D5BZT"
      },
      "source": [
        "func3(name=\"John\",message=\"Hello!\")"
      ],
      "execution_count": null,
      "outputs": []
    },
    {
      "cell_type": "markdown",
      "metadata": {
        "id": "26fbRqFX5BZn"
      },
      "source": [
        "## Lambda Functions"
      ]
    },
    {
      "cell_type": "markdown",
      "metadata": {
        "id": "8kfizFOj5BZp"
      },
      "source": [
        "Sometimes you don't want to define a small function that you may use once. `lambda` allows you to implement small functions which are not defined with any name and carry a single expression whose result is returned. Lambda functions are very handy when operating with lists. These function are defined by the keyword `lambda` followed by the variables, a colon and the respective expression."
      ]
    },
    {
      "cell_type": "code",
      "metadata": {
        "id": "qhqh28TG5BZr"
      },
      "source": [
        "z = lambda x: x * x"
      ],
      "execution_count": null,
      "outputs": []
    },
    {
      "cell_type": "code",
      "metadata": {
        "id": "E2tt-Wck5BZ6"
      },
      "source": [
        "z(8)"
      ],
      "execution_count": null,
      "outputs": []
    },
    {
      "cell_type": "markdown",
      "metadata": {
        "id": "dJqc4cO_5BaM"
      },
      "source": [
        "To appreciate the power of `lambda`, lets introduce some built-in functional programming abilties of python: `map` and `filter`."
      ]
    },
    {
      "cell_type": "markdown",
      "metadata": {
        "id": "Js4N2G5U5BaP"
      },
      "source": [
        "### map"
      ]
    },
    {
      "cell_type": "markdown",
      "metadata": {
        "id": "AM5TIJIv5BaT"
      },
      "source": [
        "**map( )** function basically executes the function that is defined to each of the list's element separately."
      ]
    },
    {
      "cell_type": "code",
      "metadata": {
        "id": "JvRewmzl5BaW"
      },
      "source": [
        "list1 = [1,2,3,4,5,6,7,8,9]"
      ],
      "execution_count": null,
      "outputs": []
    },
    {
      "cell_type": "code",
      "metadata": {
        "id": "H1AoGMY95Baq"
      },
      "source": [
        "eg = map(lambda x:x+2, list1)\n",
        "print (eg)"
      ],
      "execution_count": null,
      "outputs": []
    },
    {
      "cell_type": "markdown",
      "metadata": {
        "id": "6Ex6G3725Ba7"
      },
      "source": [
        "In python 3 you don't get the result, but rather a iterable which will compute the result as needed:"
      ]
    },
    {
      "cell_type": "code",
      "metadata": {
        "id": "_Tf0BiGc5Ba8"
      },
      "source": [
        "for x in eg:\n",
        "    print(x)"
      ],
      "execution_count": null,
      "outputs": []
    },
    {
      "cell_type": "markdown",
      "metadata": {
        "id": "ww4SP8Jc5BbK"
      },
      "source": [
        "If you want to compute the result, just force it in the following way:"
      ]
    },
    {
      "cell_type": "code",
      "metadata": {
        "id": "NPW6jJ8p5BbM"
      },
      "source": [
        "eg = list(map(lambda x:x+2, list1))\n",
        "print (eg)"
      ],
      "execution_count": null,
      "outputs": []
    },
    {
      "cell_type": "markdown",
      "metadata": {
        "id": "mFP2VR3j5BbY"
      },
      "source": [
        "You can also add two lists."
      ]
    },
    {
      "cell_type": "code",
      "metadata": {
        "id": "vKjLThez5Bbb"
      },
      "source": [
        "list2 = [9,8,7,6,5,4,3,2,1]"
      ],
      "execution_count": null,
      "outputs": []
    },
    {
      "cell_type": "code",
      "metadata": {
        "id": "smzGTe0U5Bbv",
        "outputId": "81e4e2b3-88d7-4544-89ed-1c17929e6c00",
        "colab": {
          "base_uri": "https://localhost:8080/",
          "height": 35
        }
      },
      "source": [
        "eg2 = list(map(lambda x,y:x+y, list1,list2))\n",
        "print (eg2)"
      ],
      "execution_count": null,
      "outputs": [
        {
          "output_type": "stream",
          "text": [
            "[10, 10, 10, 10, 10, 10, 10, 10, 10]\n"
          ],
          "name": "stdout"
        }
      ]
    },
    {
      "cell_type": "markdown",
      "metadata": {
        "id": "7NcWDGcp5BcD"
      },
      "source": [
        "Not only lambda function but also other built in functions can also be used."
      ]
    },
    {
      "cell_type": "code",
      "metadata": {
        "id": "sp0PmJg95BcG",
        "outputId": "cdb103e0-e549-48d3-9250-e78dcddea992",
        "colab": {
          "base_uri": "https://localhost:8080/",
          "height": 35
        }
      },
      "source": [
        "eg3 = list(map(str,eg2))\n",
        "print (eg3)"
      ],
      "execution_count": null,
      "outputs": [
        {
          "output_type": "stream",
          "text": [
            "['10', '10', '10', '10', '10', '10', '10', '10', '10']\n"
          ],
          "name": "stdout"
        }
      ]
    },
    {
      "cell_type": "markdown",
      "metadata": {
        "id": "W6Fd1xgg5BcP"
      },
      "source": [
        "### filter"
      ]
    },
    {
      "cell_type": "markdown",
      "metadata": {
        "id": "XkOCJGw85BcR"
      },
      "source": [
        "**filter( )** function is used to filter out the values in a list. Note that **filter()** function returns the result in a new list."
      ]
    },
    {
      "cell_type": "code",
      "metadata": {
        "id": "BV5vz2x65BcT"
      },
      "source": [
        "list1 = [1,2,3,4,5,6,7,8,9]"
      ],
      "execution_count": null,
      "outputs": []
    },
    {
      "cell_type": "markdown",
      "metadata": {
        "id": "ubKRuRdr5Bcj"
      },
      "source": [
        "To get the elements which are less than 5,"
      ]
    },
    {
      "cell_type": "code",
      "metadata": {
        "id": "yJBhrHqA5Bcp",
        "outputId": "0d6defd5-edf0-4e2e-f018-e9f55b9ce473",
        "colab": {
          "base_uri": "https://localhost:8080/",
          "height": 35
        }
      },
      "source": [
        "list(filter(lambda x:x<5,list1))"
      ],
      "execution_count": null,
      "outputs": [
        {
          "output_type": "execute_result",
          "data": {
            "text/plain": [
              "[1, 2, 3, 4]"
            ]
          },
          "metadata": {
            "tags": []
          },
          "execution_count": 33
        }
      ]
    },
    {
      "cell_type": "markdown",
      "metadata": {
        "id": "XJz0WxrN5Bc0"
      },
      "source": [
        "Notice what happens when **map()** is used."
      ]
    },
    {
      "cell_type": "code",
      "metadata": {
        "id": "ULhjRr-M5Bc6",
        "outputId": "ec83dcb8-0136-4cc8-81c5-1377eacdde6f",
        "colab": {
          "base_uri": "https://localhost:8080/",
          "height": 35
        }
      },
      "source": [
        "list(map(lambda x:x<5, list1))"
      ],
      "execution_count": null,
      "outputs": [
        {
          "output_type": "execute_result",
          "data": {
            "text/plain": [
              "[True, True, True, True, False, False, False, False, False]"
            ]
          },
          "metadata": {
            "tags": []
          },
          "execution_count": 35
        }
      ]
    },
    {
      "cell_type": "markdown",
      "metadata": {
        "id": "NrsjKF9W5BdE"
      },
      "source": [
        "We can conclude that, whatever is returned true in **map( )** function that particular element is returned when **filter( )** function is used."
      ]
    },
    {
      "cell_type": "code",
      "metadata": {
        "id": "8DPeLjwN5BdG",
        "outputId": "495fb80a-3fe9-42fc-b281-e971b8af425f",
        "colab": {
          "base_uri": "https://localhost:8080/",
          "height": 35
        }
      },
      "source": [
        "list(filter(lambda x:x%4==0,list1))"
      ],
      "execution_count": null,
      "outputs": [
        {
          "output_type": "execute_result",
          "data": {
            "text/plain": [
              "[4, 8]"
            ]
          },
          "metadata": {
            "tags": []
          },
          "execution_count": 34
        }
      ]
    },
    {
      "cell_type": "markdown",
      "metadata": {
        "id": "xo6WjBkP5BdQ"
      },
      "source": [
        "## File IO\n",
        "\n",
        "Python makes it easy to read/write files. There are two types of files we will need to be aware of:\n",
        "1. Text files: consisting of lines of sequences of characters terminated by End Of Line (EOL) character.\n",
        "2. Binary files: everything else.\n",
        "\n",
        "You can open a file for reading or writing with the `open` built-in function:"
      ]
    },
    {
      "cell_type": "code",
      "metadata": {
        "id": "h9-H1ESt5BdS",
        "outputId": "8a12841b-e35f-4505-e183-60c030129bdb",
        "colab": {
          "base_uri": "https://localhost:8080/",
          "height": 35
        }
      },
      "source": [
        "file_obj = open(\"a_file.txt\",\"w\")\n",
        "print (file_obj)\n",
        "file_obj.close()"
      ],
      "execution_count": null,
      "outputs": [
        {
          "output_type": "stream",
          "text": [
            "<_io.TextIOWrapper name='a_file.txt' mode='w' encoding='UTF-8'>\n"
          ],
          "name": "stdout"
        }
      ]
    },
    {
      "cell_type": "markdown",
      "metadata": {
        "id": "MMVDRPXLMngF"
      },
      "source": [
        "fie_obj is the handle to a file\n",
        "make sure to always close file at the end"
      ]
    },
    {
      "cell_type": "markdown",
      "metadata": {
        "id": "JvyEybQ15Bdf"
      },
      "source": [
        "The first argument of `open` is the filename (a string). The second argument (also a string) indicate the mode in which you are opening the file:\n",
        "\n",
        "* ‘r’ – Read mode which is used when the file is only being read.\n",
        "* ‘w’ – Write mode which is used to edit and write new information to the file (any existing files with the same name will be erased when this mode is activated).\n",
        "* ‘a’ – Appending mode, which is used to add new data to the end of the file; that is new information is automatically amended to the end. \n",
        "* ‘r+’ – Special read and write mode, which is used to handle both actions when working with a file. \n",
        "\n",
        "You can write text in the file as follows:"
      ]
    },
    {
      "cell_type": "code",
      "metadata": {
        "id": "rmus-eZc5Bdh"
      },
      "source": [
        "file_obj = open(\"a_file.txt\",\"w\")\n",
        "file_obj.write(\"This is our first line \\n\")\n",
        "file_obj.write(\"This is our second line \\n\")\n",
        "file_obj.write(\"This is our third line \\n\")\n",
        "\n",
        "file_obj.close()"
      ],
      "execution_count": null,
      "outputs": []
    },
    {
      "cell_type": "markdown",
      "metadata": {
        "id": "4SANnUgy5Bdy"
      },
      "source": [
        "Note the \"\\n\" tells puts the new line character at the end of each line.\n",
        "\n",
        "If you ran the cell above, you made a file. Lets use the \"cat\" shell command to print out its contents:"
      ]
    },
    {
      "cell_type": "code",
      "metadata": {
        "id": "CrxuVFYj5Bd2",
        "outputId": "74efca80-81f5-4f7b-b9cf-5d7c4bdb341f",
        "colab": {
          "base_uri": "https://localhost:8080/",
          "height": 70
        }
      },
      "source": [
        "!cat a_file.txt"
      ],
      "execution_count": null,
      "outputs": [
        {
          "output_type": "stream",
          "text": [
            "This is our first line \n",
            "This is our second line \n",
            "This is our third line \n"
          ],
          "name": "stdout"
        }
      ]
    },
    {
      "cell_type": "markdown",
      "metadata": {
        "id": "k17InHFv5BeL"
      },
      "source": [
        "We can do the same using in python read."
      ]
    },
    {
      "cell_type": "code",
      "metadata": {
        "id": "lFjo7n1-5BeM",
        "outputId": "f516b3d3-28a2-46e4-d68c-ea860c470b06",
        "colab": {
          "base_uri": "https://localhost:8080/",
          "height": 106
        }
      },
      "source": [
        "file_obj = open(\"a_file.txt\",\"r\")\n",
        "contents= file_obj.read()\n",
        "print (type(contents))\n",
        "print (contents)\n",
        "file_obj.close()"
      ],
      "execution_count": null,
      "outputs": [
        {
          "output_type": "stream",
          "text": [
            "<class 'str'>\n",
            "This is our first line \n",
            "This is our second line \n",
            "This is our third line \n",
            "\n"
          ],
          "name": "stdout"
        }
      ]
    },
    {
      "cell_type": "markdown",
      "metadata": {
        "id": "uA-OJyr05BeW"
      },
      "source": [
        "You can specify how many characters to read:"
      ]
    },
    {
      "cell_type": "code",
      "metadata": {
        "id": "I6mYRfzx5BeY",
        "outputId": "6d609fc5-0acb-4ee5-ede7-bcbfdb19f757",
        "colab": {
          "base_uri": "https://localhost:8080/",
          "height": 35
        }
      },
      "source": [
        "file_obj = open(\"a_file.txt\",\"r\")\n",
        "print (file_obj.read(10))\n",
        "file_obj.close()"
      ],
      "execution_count": null,
      "outputs": [
        {
          "output_type": "stream",
          "text": [
            "This is ou\n"
          ],
          "name": "stdout"
        }
      ]
    },
    {
      "cell_type": "markdown",
      "metadata": {
        "id": "zanSAPVF5Bey"
      },
      "source": [
        "Or read one line at a time:"
      ]
    },
    {
      "cell_type": "code",
      "metadata": {
        "id": "J2VKBdzq5Be3",
        "outputId": "4f7f336d-3ad2-4f3c-ceec-db04f824b989",
        "colab": {
          "base_uri": "https://localhost:8080/",
          "height": 88
        }
      },
      "source": [
        "file_obj = open(\"a_file.txt\",\"r\")\n",
        "print (file_obj.readline())\n",
        "print (file_obj.readline())\n",
        "file_obj.close()\n"
      ],
      "execution_count": null,
      "outputs": [
        {
          "output_type": "stream",
          "text": [
            "This is our first line \n",
            "\n",
            "This is our second line \n",
            "\n"
          ],
          "name": "stdout"
        }
      ]
    },
    {
      "cell_type": "markdown",
      "metadata": {
        "id": "2HoHgJ3V5BfD"
      },
      "source": [
        "Read all of the lines into a list:"
      ]
    },
    {
      "cell_type": "code",
      "metadata": {
        "id": "Ark_xUoT5BfG",
        "outputId": "2c98f16c-85b6-4c1d-9851-d1a306ad0702",
        "colab": {
          "base_uri": "https://localhost:8080/",
          "height": 35
        }
      },
      "source": [
        "file_obj = open(\"a_file.txt\",\"r\")\n",
        "print (file_obj.readlines())\n",
        "file_obj.close()"
      ],
      "execution_count": null,
      "outputs": [
        {
          "output_type": "stream",
          "text": [
            "['This is our first line \\n', 'This is our second line \\n', 'This is our third line \\n']\n"
          ],
          "name": "stdout"
        }
      ]
    },
    {
      "cell_type": "markdown",
      "metadata": {
        "id": "Xz-0Dzsj5BfT"
      },
      "source": [
        "What if we don't know how many lines to read? We can loop over the lines:"
      ]
    },
    {
      "cell_type": "code",
      "metadata": {
        "id": "4Wg0HPFu5BfU",
        "outputId": "94cd50ec-ccc9-4804-8199-615246971896",
        "colab": {
          "base_uri": "https://localhost:8080/",
          "height": 70
        }
      },
      "source": [
        "file_obj = open(\"a_file.txt\", \"r\") \n",
        "for line in file_obj: \n",
        "    print (line,end=\"\" )\n",
        "    #line above used to end the space between lines\n",
        "file_obj.close()\n"
      ],
      "execution_count": null,
      "outputs": [
        {
          "output_type": "stream",
          "text": [
            "This is our first line \n",
            "This is our second line \n",
            "This is our third line \n"
          ],
          "name": "stdout"
        }
      ]
    },
    {
      "cell_type": "markdown",
      "metadata": {
        "id": "DAP-VWiF5Bfh"
      },
      "source": [
        "So far we just stored strings, what if we want to store numbers? "
      ]
    },
    {
      "cell_type": "code",
      "metadata": {
        "id": "XFIN5OSo5Bfj",
        "outputId": "a067c3ca-c145-4d05-894c-5a239d1a3944",
        "colab": {
          "base_uri": "https://localhost:8080/",
          "height": 35
        }
      },
      "source": [
        "numbers=[1,2,3,4]\n",
        "\n",
        "file_obj = open(\"a_file_with_numbers.txt\",\"w\")\n",
        "for number in numbers:\n",
        "    file_obj.write(str(number))\n",
        "\n",
        "file_obj.close()\n",
        "\n",
        "!cat a_file_with_numbers.txt"
      ],
      "execution_count": null,
      "outputs": [
        {
          "output_type": "stream",
          "text": [
            "1234"
          ],
          "name": "stdout"
        }
      ]
    },
    {
      "cell_type": "markdown",
      "metadata": {
        "id": "IPvKzdLJ5Bfs"
      },
      "source": [
        "That's not quite what we want (why?), lets try something else:"
      ]
    },
    {
      "cell_type": "code",
      "metadata": {
        "id": "xF__Bzks5Bf0",
        "outputId": "2ed8b762-76d5-4aa7-88e5-1e9f86a41c35",
        "colab": {
          "base_uri": "https://localhost:8080/",
          "height": 35
        }
      },
      "source": [
        "numbers=[1,2,3,4]\n",
        "\n",
        "file_obj = open(\"a_file_with_numbers.txt\",\"w\")\n",
        "first=True\n",
        "for number in numbers:\n",
        "    if not first:\n",
        "        file_obj.write(\",\")\n",
        "    first=False\n",
        "    file_obj.write(str(number))\n",
        "\n",
        "file_obj.close()\n",
        "!cat a_file_with_numbers.txt"
      ],
      "execution_count": null,
      "outputs": [
        {
          "output_type": "stream",
          "text": [
            "1,2,3,4"
          ],
          "name": "stdout"
        }
      ]
    },
    {
      "cell_type": "markdown",
      "metadata": {
        "id": "bimn8ubz5BgG"
      },
      "source": [
        "We just created a Camma Separated File (CSV).\n",
        "\n",
        "Let's read it back:"
      ]
    },
    {
      "cell_type": "code",
      "metadata": {
        "id": "0Lo0hFoJ5BgH",
        "outputId": "49f0a129-946f-4ac7-ba6a-e611b3427303",
        "colab": {
          "base_uri": "https://localhost:8080/",
          "height": 35
        }
      },
      "source": [
        "file_obj = open(\"a_file_with_numbers.txt\",\"r\")\n",
        "\n",
        "numbers=list()\n",
        "\n",
        "for line in file_obj:\n",
        "    numbers.extend(map(int,line.split(\",\")))\n",
        "\n",
        "file_obj.close()\n",
        "print (numbers)"
      ],
      "execution_count": null,
      "outputs": [
        {
          "output_type": "stream",
          "text": [
            "[1, 2, 3, 4]\n"
          ],
          "name": "stdout"
        }
      ]
    },
    {
      "cell_type": "code",
      "metadata": {
        "id": "2IP7675IPSfe"
      },
      "source": [
        "file_obj = open(\"a_file_with_numbers.txt\",\"r\")\n",
        "\n",
        "\n",
        "a_line=file_obj.readline()\n"
      ],
      "execution_count": null,
      "outputs": []
    },
    {
      "cell_type": "code",
      "metadata": {
        "id": "5k6w5yhaPz90",
        "outputId": "d022beb1-bb6c-4139-a5fa-4452875b70ef",
        "colab": {
          "base_uri": "https://localhost:8080/",
          "height": 36
        }
      },
      "source": [
        "a_line"
      ],
      "execution_count": null,
      "outputs": [
        {
          "output_type": "execute_result",
          "data": {
            "application/vnd.google.colaboratory.intrinsic+json": {
              "type": "string"
            },
            "text/plain": [
              "'1,2,3,4'"
            ]
          },
          "metadata": {
            "tags": []
          },
          "execution_count": 15
        }
      ]
    },
    {
      "cell_type": "code",
      "metadata": {
        "id": "jLZkHouBP7jo",
        "outputId": "132751d2-cd8c-43c3-deb9-d61b0584aea0",
        "colab": {
          "base_uri": "https://localhost:8080/",
          "height": 35
        }
      },
      "source": [
        "a_line.split(\",\")"
      ],
      "execution_count": null,
      "outputs": [
        {
          "output_type": "execute_result",
          "data": {
            "text/plain": [
              "['1', '2', '3', '4']"
            ]
          },
          "metadata": {
            "tags": []
          },
          "execution_count": 16
        }
      ]
    },
    {
      "cell_type": "code",
      "metadata": {
        "id": "qJjYOp5cQCoU",
        "outputId": "bb09f37b-4604-4c36-d59a-584acc39efef",
        "colab": {
          "base_uri": "https://localhost:8080/",
          "height": 35
        }
      },
      "source": [
        "int(a_line.split(\",\")[0])"
      ],
      "execution_count": null,
      "outputs": [
        {
          "output_type": "execute_result",
          "data": {
            "text/plain": [
              "1"
            ]
          },
          "metadata": {
            "tags": []
          },
          "execution_count": 17
        }
      ]
    },
    {
      "cell_type": "code",
      "metadata": {
        "id": "7Pqkxk8rQMsQ",
        "outputId": "8bde548d-72b5-4a0f-cbe5-ea47333ff04d",
        "colab": {
          "base_uri": "https://localhost:8080/",
          "height": 35
        }
      },
      "source": [
        "list(map(int,a_line.split(\",\")))"
      ],
      "execution_count": null,
      "outputs": [
        {
          "output_type": "execute_result",
          "data": {
            "text/plain": [
              "[1, 2, 3, 4]"
            ]
          },
          "metadata": {
            "tags": []
          },
          "execution_count": 18
        }
      ]
    }
  ]
}