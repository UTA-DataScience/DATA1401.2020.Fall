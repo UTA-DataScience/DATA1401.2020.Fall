{
  "nbformat": 4,
  "nbformat_minor": 0,
  "metadata": {
    "kernelspec": {
      "display_name": "Python 3",
      "language": "python",
      "name": "python3"
    },
    "language_info": {
      "codemirror_mode": {
        "name": "ipython",
        "version": 3
      },
      "file_extension": ".py",
      "mimetype": "text/x-python",
      "name": "python",
      "nbconvert_exporter": "python",
      "pygments_lexer": "ipython3",
      "version": "3.8.0"
    },
    "colab": {
      "name": "Copy of Lecture.15.ipynb",
      "provenance": []
    }
  },
  "cells": [
    {
      "cell_type": "markdown",
      "metadata": {
        "id": "xISU2L6UeoqH"
      },
      "source": [
        "# Lecture 15\n",
        "\n",
        "[![Open In Colab](https://colab.research.google.com/assets/colab-badge.svg)](https://colab.research.google.com/github/UTA-DataScience/DATA1401.2020.Fall/blob/master/Lectures/Lecture.15/Lecture.15.ipynb)\n",
        "\n"
      ]
    },
    {
      "cell_type": "markdown",
      "metadata": {
        "id": "Vx0dNLqYeoqL"
      },
      "source": [
        "## Quiz\n",
        "\n",
        "1. Create a list of numbers ranging from 1 to 10.\n",
        "\n",
        "2. Use indexing / slicing to create a sublist of 2nd to 5th elements.\n",
        "\n",
        "3. Use indexing / slicing to create a sublist of 2nd to 5th elements, in reverse order.\n",
        "\n",
        "4. Use indexing / slicing to get the last element.\n",
        "\n",
        "5. Use indexing / slicing to get a list of the last 3 elements.\n",
        "\n",
        "6. Use indexing / slicing to get a list of the last 4 elements, excluding the very last element.\n",
        "\n",
        "7. Use indexing / slicing to reverse the list.\n",
        "\n",
        "8. Write a function that creates an n by n matrix with all emlements having the same provided value.\n",
        "\n",
        "9. Write a function that creates an n by n identity matrix (elements along diagonal are 1, all other elements are 0).\n",
        "\n",
        "10. Write a function that tests if a matrix and it's transpose (flipped along the diagonal) are the same.\n",
        "\n",
        " "
      ]
    },
    {
      "cell_type": "code",
      "metadata": {
        "id": "DBQTZmWHfZuv",
        "outputId": "8a8329ff-fa11-4d00-f736-128249ef8eec",
        "colab": {
          "base_uri": "https://localhost:8080/",
          "height": 35
        }
      },
      "source": [
        "#1\n",
        "lst= list(range(1,10))\n",
        "lst "
      ],
      "execution_count": 13,
      "outputs": [
        {
          "output_type": "execute_result",
          "data": {
            "text/plain": [
              "[1, 2, 3, 4, 5, 6, 7, 8, 9]"
            ]
          },
          "metadata": {
            "tags": []
          },
          "execution_count": 13
        }
      ]
    },
    {
      "cell_type": "code",
      "metadata": {
        "id": "TacyQPI3hN6l",
        "outputId": "a824fcc1-d334-4407-d44a-319129796d34",
        "colab": {
          "base_uri": "https://localhost:8080/",
          "height": 35
        }
      },
      "source": [
        "lst[2:5]"
      ],
      "execution_count": 14,
      "outputs": [
        {
          "output_type": "execute_result",
          "data": {
            "text/plain": [
              "[3, 4, 5]"
            ]
          },
          "metadata": {
            "tags": []
          },
          "execution_count": 14
        }
      ]
    },
    {
      "cell_type": "code",
      "metadata": {
        "id": "AUHkIXblgu1V",
        "outputId": "7707b2fc-752f-473b-d80f-48f467e5a0fa",
        "colab": {
          "base_uri": "https://localhost:8080/",
          "height": 35
        }
      },
      "source": [
        "#3\n",
        "lst[5:2:-1]\n",
        "   "
      ],
      "execution_count": 17,
      "outputs": [
        {
          "output_type": "execute_result",
          "data": {
            "text/plain": [
              "[6, 5, 4]"
            ]
          },
          "metadata": {
            "tags": []
          },
          "execution_count": 17
        }
      ]
    },
    {
      "cell_type": "code",
      "metadata": {
        "id": "w1mjb0vihk3U",
        "outputId": "ef8df7c5-5a02-4a77-d8a4-9c295f804e40",
        "colab": {
          "base_uri": "https://localhost:8080/",
          "height": 35
        }
      },
      "source": [
        "#4\n",
        "lst[-1]"
      ],
      "execution_count": 18,
      "outputs": [
        {
          "output_type": "execute_result",
          "data": {
            "text/plain": [
              "9"
            ]
          },
          "metadata": {
            "tags": []
          },
          "execution_count": 18
        }
      ]
    },
    {
      "cell_type": "code",
      "metadata": {
        "id": "kyuIeXpphpy_",
        "outputId": "0d245eec-10b0-4faa-c8fe-61025a172b09",
        "colab": {
          "base_uri": "https://localhost:8080/",
          "height": 35
        }
      },
      "source": [
        "#5\n",
        "lst[-3:]"
      ],
      "execution_count": 19,
      "outputs": [
        {
          "output_type": "execute_result",
          "data": {
            "text/plain": [
              "[7, 8, 9]"
            ]
          },
          "metadata": {
            "tags": []
          },
          "execution_count": 19
        }
      ]
    },
    {
      "cell_type": "code",
      "metadata": {
        "id": "t4xS3rvThwQZ",
        "outputId": "5771ef00-a8e3-405f-f3a9-0bc0c084754f",
        "colab": {
          "base_uri": "https://localhost:8080/",
          "height": 35
        }
      },
      "source": [
        "#6\n",
        "lst[-4:-1]"
      ],
      "execution_count": 20,
      "outputs": [
        {
          "output_type": "execute_result",
          "data": {
            "text/plain": [
              "[6, 7, 8]"
            ]
          },
          "metadata": {
            "tags": []
          },
          "execution_count": 20
        }
      ]
    },
    {
      "cell_type": "code",
      "metadata": {
        "id": "cGmLG-i0h3h5",
        "outputId": "3f395b1d-b06e-439b-eee6-5d572f2520f5",
        "colab": {
          "base_uri": "https://localhost:8080/",
          "height": 35
        }
      },
      "source": [
        "#7\n",
        "lst [ ::-1]"
      ],
      "execution_count": 21,
      "outputs": [
        {
          "output_type": "execute_result",
          "data": {
            "text/plain": [
              "[9, 8, 7, 6, 5, 4, 3, 2, 1]"
            ]
          },
          "metadata": {
            "tags": []
          },
          "execution_count": 21
        }
      ]
    },
    {
      "cell_type": "code",
      "metadata": {
        "id": "cbt_xRoJjJCH"
      },
      "source": [
        "\n",
        "#8\n",
        "def m(size):\n",
        " empty=0\n",
        " matrix=list()\n",
        " for i in range(size):\n",
        "    row=list()\n",
        "    for j in range(size):\n",
        "        row.append(empty)\n",
        "        \n",
        "    matrix.append(row)\n",
        "\n",
        " return matrix"
      ],
      "execution_count": 30,
      "outputs": []
    },
    {
      "cell_type": "code",
      "metadata": {
        "id": "_0oxzSDBjhIU",
        "outputId": "83d17081-ac26-4ee8-d152-5352eb2f97d9",
        "colab": {
          "base_uri": "https://localhost:8080/",
          "height": 195
        }
      },
      "source": [
        "m(10)"
      ],
      "execution_count": 36,
      "outputs": [
        {
          "output_type": "execute_result",
          "data": {
            "text/plain": [
              "[[0, 0, 0, 0, 0, 0, 0, 0, 0, 0],\n",
              " [0, 0, 0, 0, 0, 0, 0, 0, 0, 0],\n",
              " [0, 0, 0, 0, 0, 0, 0, 0, 0, 0],\n",
              " [0, 0, 0, 0, 0, 0, 0, 0, 0, 0],\n",
              " [0, 0, 0, 0, 0, 0, 0, 0, 0, 0],\n",
              " [0, 0, 0, 0, 0, 0, 0, 0, 0, 0],\n",
              " [0, 0, 0, 0, 0, 0, 0, 0, 0, 0],\n",
              " [0, 0, 0, 0, 0, 0, 0, 0, 0, 0],\n",
              " [0, 0, 0, 0, 0, 0, 0, 0, 0, 0],\n",
              " [0, 0, 0, 0, 0, 0, 0, 0, 0, 0]]"
            ]
          },
          "metadata": {
            "tags": []
          },
          "execution_count": 36
        }
      ]
    },
    {
      "cell_type": "code",
      "metadata": {
        "id": "5eq889idkWGW"
      },
      "source": [
        "def make_mO(size,value=0.):\n",
        "   return [[value]*size for i in range(size)]"
      ],
      "execution_count": 33,
      "outputs": []
    },
    {
      "cell_type": "code",
      "metadata": {
        "id": "8ay0oe7YkpHW",
        "outputId": "19e948af-5878-4155-eb6b-7202cce69847",
        "colab": {
          "base_uri": "https://localhost:8080/",
          "height": 195
        }
      },
      "source": [
        "make_mO(10,7)"
      ],
      "execution_count": 35,
      "outputs": [
        {
          "output_type": "execute_result",
          "data": {
            "text/plain": [
              "[[7, 7, 7, 7, 7, 7, 7, 7, 7, 7],\n",
              " [7, 7, 7, 7, 7, 7, 7, 7, 7, 7],\n",
              " [7, 7, 7, 7, 7, 7, 7, 7, 7, 7],\n",
              " [7, 7, 7, 7, 7, 7, 7, 7, 7, 7],\n",
              " [7, 7, 7, 7, 7, 7, 7, 7, 7, 7],\n",
              " [7, 7, 7, 7, 7, 7, 7, 7, 7, 7],\n",
              " [7, 7, 7, 7, 7, 7, 7, 7, 7, 7],\n",
              " [7, 7, 7, 7, 7, 7, 7, 7, 7, 7],\n",
              " [7, 7, 7, 7, 7, 7, 7, 7, 7, 7],\n",
              " [7, 7, 7, 7, 7, 7, 7, 7, 7, 7]]"
            ]
          },
          "metadata": {
            "tags": []
          },
          "execution_count": 35
        }
      ]
    },
    {
      "cell_type": "code",
      "metadata": {
        "id": "F7dJwGY4lFJC"
      },
      "source": [
        "#9\n",
        "def id(size):\n",
        "    matrix=make_mO(size)\n",
        "    for i in range(size):\n",
        "      matrix[i][i]=1.\n",
        "    return matrix"
      ],
      "execution_count": 39,
      "outputs": []
    },
    {
      "cell_type": "code",
      "metadata": {
        "id": "8tSstM6pltPr",
        "outputId": "9969a8b9-305c-42cb-fc7b-57e103c03ce3",
        "colab": {
          "base_uri": "https://localhost:8080/",
          "height": 141
        }
      },
      "source": [
        "id(7)"
      ],
      "execution_count": 40,
      "outputs": [
        {
          "output_type": "execute_result",
          "data": {
            "text/plain": [
              "[[1.0, 0.0, 0.0, 0.0, 0.0, 0.0, 0.0],\n",
              " [0.0, 1.0, 0.0, 0.0, 0.0, 0.0, 0.0],\n",
              " [0.0, 0.0, 1.0, 0.0, 0.0, 0.0, 0.0],\n",
              " [0.0, 0.0, 0.0, 1.0, 0.0, 0.0, 0.0],\n",
              " [0.0, 0.0, 0.0, 0.0, 1.0, 0.0, 0.0],\n",
              " [0.0, 0.0, 0.0, 0.0, 0.0, 1.0, 0.0],\n",
              " [0.0, 0.0, 0.0, 0.0, 0.0, 0.0, 1.0]]"
            ]
          },
          "metadata": {
            "tags": []
          },
          "execution_count": 40
        }
      ]
    },
    {
      "cell_type": "code",
      "metadata": {
        "id": "_SMIsI9kl1GF"
      },
      "source": [
        "#10\n",
        "def n(matrix):\n",
        " size=len(matrix)\n",
        " for i in range(size):\n",
        "   for j in range(size):\n",
        "     if not matrix[i][j] ==matrix [1][1]:\n",
        "             return False\n",
        " return True"
      ],
      "execution_count": 41,
      "outputs": []
    },
    {
      "cell_type": "code",
      "metadata": {
        "id": "XAN1S_SpmZ9c",
        "outputId": "9f235a01-96f7-4fa8-b83b-895f44714c6d",
        "colab": {
          "base_uri": "https://localhost:8080/",
          "height": 35
        }
      },
      "source": [
        "n([[1,2],[2,1]])"
      ],
      "execution_count": 43,
      "outputs": [
        {
          "output_type": "execute_result",
          "data": {
            "text/plain": [
              "False"
            ]
          },
          "metadata": {
            "tags": []
          },
          "execution_count": 43
        }
      ]
    },
    {
      "cell_type": "code",
      "metadata": {
        "id": "XZnwcnivm2AM",
        "outputId": "146ff9c0-d1f1-42a8-d936-8c4ea1a6eadf",
        "colab": {
          "base_uri": "https://localhost:8080/",
          "height": 35
        }
      },
      "source": [
        "n([[4,3],[3,4]])"
      ],
      "execution_count": 45,
      "outputs": [
        {
          "output_type": "execute_result",
          "data": {
            "text/plain": [
              "False"
            ]
          },
          "metadata": {
            "tags": []
          },
          "execution_count": 45
        }
      ]
    },
    {
      "cell_type": "code",
      "metadata": {
        "id": "Qnd0PbdbeoqN"
      },
      "source": [
        "import copy\n",
        "from checkers import*\n",
        "\n",
        "# Method to generate a score for a game board\n",
        "# Just take difference between the number of pieces for each player\n",
        "\n",
        "def score_board(board,player):\n",
        "    return count_pieces(board,player)-count_pieces(board,switch_player(player))"
      ],
      "execution_count": null,
      "outputs": []
    },
    {
      "cell_type": "code",
      "metadata": {
        "id": "cl1BhDgReoqb"
      },
      "source": [
        "board=make_game_board()\n",
        "draw_board(board)\n",
        "score_board(board,player_1)"
      ],
      "execution_count": null,
      "outputs": []
    },
    {
      "cell_type": "code",
      "metadata": {
        "id": "OlpDYNAneoqk"
      },
      "source": [
        "board[2][1]=0\n",
        "score_board(board,player_1)"
      ],
      "execution_count": null,
      "outputs": []
    },
    {
      "cell_type": "code",
      "metadata": {
        "id": "q7uPMoZaeoqx"
      },
      "source": [
        "# Method for generating all possible moves\n",
        "# Output is a list of moves and the score of resulting board\n",
        "\n",
        "def generate_moves(board,player,current_player,depth):\n",
        "    \"\"\"\n",
        "    generate_moves(board,player,current_player,depth)\n",
        "    \n",
        "    Recursively generate moves to up to a depth.\n",
        "\n",
        "    board : starting board\n",
        "    player : the player who's score we are maximizing\n",
        "    current_player : the player's move we are currently generating\n",
        "    depth : current depth\n",
        "    \"\"\"\n",
        "    \n",
        "    # If depth == 0 => no moves to generate just compute the score\n",
        "    if depth==0:\n",
        "        return list(),score_board(board,player)\n",
        "\n",
        "    # Lists to keep Moves and Scores\n",
        "    moves=list()\n",
        "    scores=list()\n",
        "    \n",
        "    # Search through the board looking for pieces to move\n",
        "    for i in range(size):\n",
        "        for j in range(size):\n",
        "            if board[i][j]==current_player:\n",
        "                # We found a piece for the appropriate player\n",
        "                \n",
        "                # Now consider moving the piece in the two possible directions\n",
        "                for move in [left_move,right_move]:\n",
        "                    # Make a copy of the board so to not mess up the original\n",
        "                    # This new board will represent the game after the hypothetical move.\n",
        "                    new_board=copy.deepcopy(board)\n",
        "\n",
        "                    # Test if the move is possible\n",
        "                    if move_piece(new_board,current_player,(i,j),move,verbose=False):\n",
        "                        # If the move is possible, then generate the next move after\n",
        "                        # Note that the next move will be by the other player\n",
        "                        # Also reduce depth so the process can stop\n",
        "                        next_moves,score=generate_moves(new_board, \n",
        "                                                        player,\n",
        "                                                        switch_player(current_player), \n",
        "                                                        depth-1)\n",
        "                        \n",
        "                        # Store the information for this move\n",
        "                        this_move=[(current_player,(i,j),move)]\n",
        "                        \n",
        "                        # Store the information for subsequent moves, after this move\n",
        "                        this_move.extend(next_moves)\n",
        "                        \n",
        "                        # Add this move/score to list of possible moves\n",
        "                        moves.append(this_move)\n",
        "                        scores.append(score)\n",
        "\n",
        "    return moves,scores\n",
        "\n"
      ],
      "execution_count": 48,
      "outputs": []
    },
    {
      "cell_type": "code",
      "metadata": {
        "id": "Zl9GuAvbeoq8"
      },
      "source": [
        "board=make_game_board()\n",
        "draw_board(board)\n",
        "possible_moves,scores=generate_moves(board,player_1,player_1,1)"
      ],
      "execution_count": null,
      "outputs": []
    },
    {
      "cell_type": "code",
      "metadata": {
        "id": "7kSnSkNzeorG"
      },
      "source": [
        "list(zip(possible_moves,scores))"
      ],
      "execution_count": null,
      "outputs": []
    },
    {
      "cell_type": "code",
      "metadata": {
        "id": "CW3vWbZceorP"
      },
      "source": [
        "possible_moves,scores=generate_moves(board,player_1,player_1,2)"
      ],
      "execution_count": null,
      "outputs": []
    },
    {
      "cell_type": "code",
      "metadata": {
        "id": "usmlOGtSeorY"
      },
      "source": [
        "list(zip(possible_moves,scores))"
      ],
      "execution_count": null,
      "outputs": []
    },
    {
      "cell_type": "code",
      "metadata": {
        "id": "0Icczh3Beorl"
      },
      "source": [
        "possible_moves,scores=generate_moves(board,player_1,player_1,3)"
      ],
      "execution_count": null,
      "outputs": []
    },
    {
      "cell_type": "code",
      "metadata": {
        "id": "Okk3jLR4eoru"
      },
      "source": [
        "possible_moves[0]"
      ],
      "execution_count": null,
      "outputs": []
    },
    {
      "cell_type": "code",
      "metadata": {
        "id": "x526zKFxeor0"
      },
      "source": [
        "scores[0]"
      ],
      "execution_count": null,
      "outputs": []
    },
    {
      "cell_type": "code",
      "metadata": {
        "id": "Ted44IsJeor_"
      },
      "source": [
        "def tree_search(t,depth=1):\n",
        "  #using depth here to weight later moves less\n",
        "    if isinstance(t[0],list):\n",
        "        return sum([float(tree_search(item,depth+1))/depth for item in t])\n",
        "    else:\n",
        "        return max(t)+min(t)"
      ],
      "execution_count": null,
      "outputs": []
    },
    {
      "cell_type": "code",
      "metadata": {
        "id": "pr24_e8yeosJ"
      },
      "source": [
        "list(map(tree_search,scores))"
      ],
      "execution_count": null,
      "outputs": []
    },
    {
      "cell_type": "code",
      "metadata": {
        "id": "SvObDhNweosT"
      },
      "source": [
        "def pick_move(board,player,depth=5,func=max):\n",
        "    # Generate all possible moves to a depth\n",
        "    moves,scores=generate_moves(board,player,player,depth)\n",
        "    \n",
        "    # Compute a score for each possible sequence of moves\n",
        "    result=list(map(tree_search,scores))\n",
        "    \n",
        "    # Pick the a move based on a criteria (e.g. max score)\n",
        "    move_index=result.index(func(result))\n",
        "    \n",
        "    # Return the first move from the sequence of moves\n",
        "    return moves[move_index][0]"
      ],
      "execution_count": null,
      "outputs": []
    },
    {
      "cell_type": "code",
      "metadata": {
        "id": "wKZcpJMXeosZ"
      },
      "source": [
        "pick_move(board,player_1)"
      ],
      "execution_count": null,
      "outputs": []
    },
    {
      "cell_type": "code",
      "metadata": {
        "id": "o4OPq7Oseosk"
      },
      "source": [
        "def checkers_game_AI():\n",
        "    \n",
        "    print (\"Welcome to Checkers.\")\n",
        "    print (\"--------------------\")\n",
        "\n",
        "    # Make a game board\n",
        "    board_0=make_game_board()\n",
        "    \n",
        "    # Start with player 1\n",
        "    player=player_1\n",
        "    \n",
        "    this_game_won=False\n",
        "    while not this_game_won:\n",
        "        # Draw the board\n",
        "        draw_board(board_0)\n",
        "        \n",
        "        # Make a move\n",
        "        if player==player_1:\n",
        "            print(\"Player\",player,\"move:\")\n",
        "            take_move(board_0,player)\n",
        "        else:\n",
        "            the_move=pick_move(board_0,player_2)\n",
        "            #print(the_move)\n",
        "            move_piece(board_0,*the_move)\n",
        "            \n",
        "        # Check if the game has been won\n",
        "        this_game_won=game_won(board_0)\n",
        "\n",
        "       # Switch players\n",
        "        player=switch_player(player)          \n",
        "\n",
        "    print(\"Player 1 Pieces:\", count_pieces(board_0,player_1))\n",
        "    print(\"Player 2 Pieces:\", count_pieces(board_0,player_2))\n",
        "    \n",
        "    if this_game_won:\n",
        "        print(\"Winner is player:\",this_game_won)"
      ],
      "execution_count": null,
      "outputs": []
    }
  ]
}