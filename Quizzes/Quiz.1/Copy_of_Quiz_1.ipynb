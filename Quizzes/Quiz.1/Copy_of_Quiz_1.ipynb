{
  "nbformat": 4,
  "nbformat_minor": 0,
  "metadata": {
    "kernelspec": {
      "display_name": "Python 3",
      "language": "python",
      "name": "python3"
    },
    "language_info": {
      "codemirror_mode": {
        "name": "ipython",
        "version": 3
      },
      "file_extension": ".py",
      "mimetype": "text/x-python",
      "name": "python",
      "nbconvert_exporter": "python",
      "pygments_lexer": "ipython3",
      "version": "3.8.0"
    },
    "colab": {
      "name": "Copy of Quiz.1.ipynb",
      "provenance": []
    }
  },
  "cells": [
    {
      "cell_type": "markdown",
      "metadata": {
        "id": "AXZSLiqEk1oW"
      },
      "source": [
        "# Quiz 1\n",
        "\n",
        "[![Open In Colab](https://colab.research.google.com/assets/colab-badge.svg)](https://colab.research.google.com/github/UTA-DataScience/DATA1401.2020.Fall/blob/master/Quizzes/Quiz.1/Quiz.1.ipynb)\n",
        "\n",
        "\n",
        "\n",
        "\n",
        "1. Using the lists below, create a function (`make_deck`) that returns a list of the 52 cards in a usual playing card deck. Represent each card as a tuple (e.g. `('Clubs', 3)`). "
      ]
    },
    {
      "cell_type": "code",
      "metadata": {
        "id": "j1r26SJxk1oY",
        "outputId": "f8d5a292-f90c-4766-85c1-e8b6495416bc",
        "colab": {
          "base_uri": "https://localhost:8080/",
          "height": 50
        }
      },
      "source": [
        "suits = [\"Clubs\", \"Diamonds\", \"Hearts\", \"Spades\"]\n",
        "values = list(range(2,11)) + [ \"Jack\", \"Queen\", \"King\", \"Ace\"]\n",
        "print(suits)\n",
        "print(values)"
      ],
      "execution_count": 1,
      "outputs": [
        {
          "output_type": "stream",
          "text": [
            "['Clubs', 'Diamonds', 'Hearts', 'Spades']\n",
            "[2, 3, 4, 5, 6, 7, 8, 9, 10, 'Jack', 'Queen', 'King', 'Ace']\n"
          ],
          "name": "stdout"
        }
      ]
    },
    {
      "cell_type": "code",
      "metadata": {
        "id": "TREa-XJLk1od"
      },
      "source": [
        "# Your solution here\n",
        "def make_deck():\n",
        "  deck=[(i,j) for j in values for i in suits]\n",
        "  return deck"
      ],
      "execution_count": 15,
      "outputs": []
    },
    {
      "cell_type": "code",
      "metadata": {
        "id": "W0PjdmU1k1oh",
        "outputId": "9163c098-ad19-42ec-e894-b52b7d374900",
        "colab": {
          "base_uri": "https://localhost:8080/",
          "height": 890
        }
      },
      "source": [
        "# Test your solution here\n",
        "make_deck()"
      ],
      "execution_count": 16,
      "outputs": [
        {
          "output_type": "execute_result",
          "data": {
            "text/plain": [
              "[('Clubs', 2),\n",
              " ('Diamonds', 2),\n",
              " ('Hearts', 2),\n",
              " ('Spades', 2),\n",
              " ('Clubs', 3),\n",
              " ('Diamonds', 3),\n",
              " ('Hearts', 3),\n",
              " ('Spades', 3),\n",
              " ('Clubs', 4),\n",
              " ('Diamonds', 4),\n",
              " ('Hearts', 4),\n",
              " ('Spades', 4),\n",
              " ('Clubs', 5),\n",
              " ('Diamonds', 5),\n",
              " ('Hearts', 5),\n",
              " ('Spades', 5),\n",
              " ('Clubs', 6),\n",
              " ('Diamonds', 6),\n",
              " ('Hearts', 6),\n",
              " ('Spades', 6),\n",
              " ('Clubs', 7),\n",
              " ('Diamonds', 7),\n",
              " ('Hearts', 7),\n",
              " ('Spades', 7),\n",
              " ('Clubs', 8),\n",
              " ('Diamonds', 8),\n",
              " ('Hearts', 8),\n",
              " ('Spades', 8),\n",
              " ('Clubs', 9),\n",
              " ('Diamonds', 9),\n",
              " ('Hearts', 9),\n",
              " ('Spades', 9),\n",
              " ('Clubs', 10),\n",
              " ('Diamonds', 10),\n",
              " ('Hearts', 10),\n",
              " ('Spades', 10),\n",
              " ('Clubs', 'Jack'),\n",
              " ('Diamonds', 'Jack'),\n",
              " ('Hearts', 'Jack'),\n",
              " ('Spades', 'Jack'),\n",
              " ('Clubs', 'Queen'),\n",
              " ('Diamonds', 'Queen'),\n",
              " ('Hearts', 'Queen'),\n",
              " ('Spades', 'Queen'),\n",
              " ('Clubs', 'King'),\n",
              " ('Diamonds', 'King'),\n",
              " ('Hearts', 'King'),\n",
              " ('Spades', 'King'),\n",
              " ('Clubs', 'Ace'),\n",
              " ('Diamonds', 'Ace'),\n",
              " ('Hearts', 'Ace'),\n",
              " ('Spades', 'Ace')]"
            ]
          },
          "metadata": {
            "tags": []
          },
          "execution_count": 16
        }
      ]
    },
    {
      "cell_type": "markdown",
      "metadata": {
        "id": "HRoKNtoZk1ou"
      },
      "source": [
        "2. Create the following functions that take in a list of [usually 5] cards (`hand`) and return True/False:\n",
        "    * `flush(hand)`: Checks if the cards in the hand are of the same suit.\n",
        "    * `straight(hand)`: Checks if the cards in the hand are in a order.\n",
        "        * You can start with just checking numerical cards.\n",
        "        * Extra Credit: Include all cards.\n",
        "    * `straight_flush(hand)`: Combination of both."
      ]
    },
    {
      "cell_type": "code",
      "metadata": {
        "id": "sa2Z1J36k1ov"
      },
      "source": [
        "# Your solution here\n",
        "#flush(hand)\n",
        "def flush(hand):\n",
        "  hand_list=list(hand)\n",
        "  if hand_list[0]==hand_list[2]==hand_list[4]==hand_list[6]==hand_list[8]:\n",
        "    print(\"True\")"
      ],
      "execution_count": 21,
      "outputs": []
    },
    {
      "cell_type": "code",
      "metadata": {
        "id": "FHxuMy4Dk1oz"
      },
      "source": [
        "# Test your solution here\n"
      ],
      "execution_count": 22,
      "outputs": []
    },
    {
      "cell_type": "code",
      "metadata": {
        "id": "9Rs34q5ApuOk"
      },
      "source": [
        "#straight(hand)\n",
        "def straight(hand):\n",
        "  list_values=()\n",
        "  for i in range(len(hand)):\n",
        "    if i%2==1:\n",
        "      list_values.append(i)\n",
        "  return (list_values)\n"
      ],
      "execution_count": 23,
      "outputs": []
    },
    {
      "cell_type": "code",
      "metadata": {
        "id": "D6lFfSR4siZe"
      },
      "source": [
        ""
      ],
      "execution_count": 27,
      "outputs": []
    },
    {
      "cell_type": "code",
      "metadata": {
        "id": "Rc0bqIBPswVK"
      },
      "source": [
        ""
      ],
      "execution_count": null,
      "outputs": []
    }
  ]
}