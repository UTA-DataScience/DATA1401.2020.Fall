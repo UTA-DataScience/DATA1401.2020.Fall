{
  "nbformat": 4,
  "nbformat_minor": 0,
  "metadata": {
    "kernelspec": {
      "display_name": "Python 3",
      "language": "python",
      "name": "python3"
    },
    "language_info": {
      "codemirror_mode": {
        "name": "ipython",
        "version": 3
      },
      "file_extension": ".py",
      "mimetype": "text/x-python",
      "name": "python",
      "nbconvert_exporter": "python",
      "pygments_lexer": "ipython3",
      "version": "3.8.0"
    },
    "colab": {
      "name": "Copy of Quiz.1.ipynb",
      "provenance": []
    }
  },
  "cells": [
    {
      "cell_type": "markdown",
      "metadata": {
        "id": "WChcMgw-lbF-"
      },
      "source": [
        "# Quiz 1\n",
        "\n",
        "[![Open In Colab](https://colab.research.google.com/assets/colab-badge.svg)](https://colab.research.google.com/github/UTA-DataScience/DATA1401.2020.Fall/blob/master/Quizzes/Quiz.1/Quiz.1.ipynb)\n",
        "\n",
        "\n",
        "\n",
        "\n",
        "1. Using the lists below, create a function (`make_deck`) that returns a list of the 52 cards in a usual playing card deck. Represent each card as a tuple (e.g. `('Clubs', 3)`). "
      ]
    },
    {
      "cell_type": "code",
      "metadata": {
        "id": "ndpGXoWYlbGA",
        "outputId": "b3607945-f8d5-4fd3-c4b6-ea3dab84b94f",
        "colab": {
          "base_uri": "https://localhost:8080/",
          "height": 52
        }
      },
      "source": [
        "suits = [\"Clubs\", \"Diamonds\", \"Hearts\", \"Spades\"]\n",
        "values = list(range(2,11)) + [ \"Jack\", \"Queen\", \"King\", \"Ace\"]\n",
        "print(suits)\n",
        "print(values)"
      ],
      "execution_count": 1,
      "outputs": [
        {
          "output_type": "stream",
          "text": [
            "['Clubs', 'Diamonds', 'Hearts', 'Spades']\n",
            "[2, 3, 4, 5, 6, 7, 8, 9, 10, 'Jack', 'Queen', 'King', 'Ace']\n"
          ],
          "name": "stdout"
        }
      ]
    },
    {
      "cell_type": "code",
      "metadata": {
        "id": "U3rbLQzhlbGJ"
      },
      "source": [
        "# Your solution here\n",
        "def make_deck(n,m):\n",
        "  for i in n:\n",
        "    for j in m:\n",
        "     nlist=tuple(n +[m])\n",
        "     return nlist\n",
        " \n",
        "   "
      ],
      "execution_count": 43,
      "outputs": []
    },
    {
      "cell_type": "code",
      "metadata": {
        "id": "5fnV8w2PlbGQ",
        "outputId": "62835fe4-5e52-4859-cc94-676b2272da6c",
        "colab": {
          "base_uri": "https://localhost:8080/",
          "height": 106
        }
      },
      "source": [
        "# Test your solution here\n",
        "make_deck(suits,values)"
      ],
      "execution_count": 44,
      "outputs": [
        {
          "output_type": "execute_result",
          "data": {
            "text/plain": [
              "('Clubs',\n",
              " 'Diamonds',\n",
              " 'Hearts',\n",
              " 'Spades',\n",
              " [2, 3, 4, 5, 6, 7, 8, 9, 10, 'Jack', 'Queen', 'King', 'Ace'])"
            ]
          },
          "metadata": {
            "tags": []
          },
          "execution_count": 44
        }
      ]
    },
    {
      "cell_type": "markdown",
      "metadata": {
        "id": "1a8cOfcplbGX"
      },
      "source": [
        "2. Create the following functions that take in a list of [usually 5] cards (`hand`) and return True/False:\n",
        "    * `flush(hand)`: Checks if the cards in the hand are of the same suit.\n",
        "    * `straight(hand)`: Checks if the cards in the hand are in a order.\n",
        "        * You can start with just checking numerical cards.\n",
        "        * Extra Credit: Include all cards.\n",
        "    * `straight_flush(hand)`: Combination of both."
      ]
    },
    {
      "cell_type": "code",
      "metadata": {
        "id": "9VEmy4sqlbGb"
      },
      "source": [
        "# Your solution here\n",
        "def flush(hand):\n",
        "   for i in hand:\n",
        "     if "
      ],
      "execution_count": null,
      "outputs": []
    },
    {
      "cell_type": "code",
      "metadata": {
        "id": "hu_n6_EylbGm"
      },
      "source": [
        "# Test your solution here"
      ],
      "execution_count": null,
      "outputs": []
    }
  ]
}