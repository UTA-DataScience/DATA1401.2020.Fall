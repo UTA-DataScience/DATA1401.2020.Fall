{
  "nbformat": 4,
  "nbformat_minor": 0,
  "metadata": {
    "kernelspec": {
      "display_name": "Python 3",
      "language": "python",
      "name": "python3"
    },
    "language_info": {
      "codemirror_mode": {
        "name": "ipython",
        "version": 3
      },
      "file_extension": ".py",
      "mimetype": "text/x-python",
      "name": "python",
      "nbconvert_exporter": "python",
      "pygments_lexer": "ipython3",
      "version": "3.8.0"
    },
    "colab": {
      "name": "Quiz.1.ipynb",
      "provenance": []
    }
  },
  "cells": [
    {
      "cell_type": "markdown",
      "metadata": {
        "id": "BdavhQr4zQ5a"
      },
      "source": [
        "# Quiz 1\n",
        "\n",
        "[![Open In Colab](https://colab.research.google.com/assets/colab-badge.svg)](https://colab.research.google.com/github/UTA-DataScience/DATA1401.2020.Fall/blob/master/Quizzes/Quiz.1/Quiz.1.ipynb)\n",
        "\n",
        "\n",
        "\n",
        "\n",
        "1. Using the lists below, create a function (`make_deck`) that returns a list of the 52 cards in a usual playing card deck. Represent each card as a tuple (e.g. `('Clubs', 3)`). "
      ]
    },
    {
      "cell_type": "code",
      "metadata": {
        "id": "lFDWWZdLzQ5b",
        "outputId": "d914f081-8f77-44f3-d256-14fb2b3e5716",
        "colab": {
          "base_uri": "https://localhost:8080/",
          "height": 51
        }
      },
      "source": [
        "suits = [\"Clubs\", \"Diamonds\", \"Hearts\", \"Spades\"]\n",
        "values = list(range(2,11)) + [ \"Jack\", \"Queen\", \"King\", \"Ace\"]\n",
        "print(suits)\n",
        "print(values)"
      ],
      "execution_count": 2,
      "outputs": [
        {
          "output_type": "stream",
          "text": [
            "['Clubs', 'Diamonds', 'Hearts', 'Spades']\n",
            "[2, 3, 4, 5, 6, 7, 8, 9, 10, 'Jack', 'Queen', 'King', 'Ace']\n"
          ],
          "name": "stdout"
        }
      ]
    },
    {
      "cell_type": "code",
      "metadata": {
        "id": "rArG404xzQ5h"
      },
      "source": [
        "deck = [(i,j) for j in values for i in signs]"
      ],
      "execution_count": 7,
      "outputs": []
    },
    {
      "cell_type": "code",
      "metadata": {
        "id": "QDJblkfIzQ5l",
        "outputId": "0d0c9f94-4822-4503-e03a-578e0a482570",
        "colab": {
          "base_uri": "https://localhost:8080/",
          "height": 54
        }
      },
      "source": [
        "print(deck)"
      ],
      "execution_count": 8,
      "outputs": [
        {
          "output_type": "stream",
          "text": [
            "[('spade', 2), ('hearts', 2), ('club', 2), ('diamond', 2), ('spade', 3), ('hearts', 3), ('club', 3), ('diamond', 3), ('spade', 4), ('hearts', 4), ('club', 4), ('diamond', 4), ('spade', 5), ('hearts', 5), ('club', 5), ('diamond', 5), ('spade', 6), ('hearts', 6), ('club', 6), ('diamond', 6), ('spade', 7), ('hearts', 7), ('club', 7), ('diamond', 7), ('spade', 8), ('hearts', 8), ('club', 8), ('diamond', 8), ('spade', 9), ('hearts', 9), ('club', 9), ('diamond', 9), ('spade', 10), ('hearts', 10), ('club', 10), ('diamond', 10), ('spade', 'Jack'), ('hearts', 'Jack'), ('club', 'Jack'), ('diamond', 'Jack'), ('spade', 'Queen'), ('hearts', 'Queen'), ('club', 'Queen'), ('diamond', 'Queen'), ('spade', 'King'), ('hearts', 'King'), ('club', 'King'), ('diamond', 'King'), ('spade', 'Ace'), ('hearts', 'Ace'), ('club', 'Ace'), ('diamond', 'Ace')]\n"
          ],
          "name": "stdout"
        }
      ]
    },
    {
      "cell_type": "markdown",
      "metadata": {
        "id": "4HO_nti_zQ5q"
      },
      "source": [
        "2. Create the following functions that take in a list of [usually 5] cards (`hand`) and return True/False:\n",
        "    * `flush(hand)`: Checks if the cards in the hand are of the same suit.\n",
        "    * `straight(hand)`: Checks if the cards in the hand are in a order.\n",
        "        * You can start with just checking numerical cards.\n",
        "        * Extra Credit: Include all cards.\n",
        "    * `straight_flush(hand)`: Combination of both."
      ]
    },
    {
      "cell_type": "code",
      "metadata": {
        "id": "HB5A7ahrzQ5r"
      },
      "source": [
        "hand = [('spade',1), ('spade',3), ('spade',4), ('spade',5), ('spade',6)]\n",
        "\n",
        "def check_flush(hand):\n",
        "  suits = [h[0] for h in hand]\n",
        "  if len(set(suits)) == 1:\n",
        "    return True\n",
        "  else:\n",
        "    return False\n",
        "\n",
        "def check_straight(hand):\n",
        "  values = [i[0] for i in hand]\n",
        "  if len(set(values)) == 1:\n",
        "    return True\n",
        "  else:\n",
        "    return False\n",
        "\n",
        "def check_straight_flush(hand):\n",
        "    if check_flush(hand) and check_straight(hand):\n",
        "        return True\n",
        "    else:\n",
        "        return False"
      ],
      "execution_count": 44,
      "outputs": []
    },
    {
      "cell_type": "code",
      "metadata": {
        "id": "PAh-3-vjzQ5v",
        "outputId": "430fdce2-43db-471e-cdc0-3a3c877cd5b1",
        "colab": {
          "base_uri": "https://localhost:8080/",
          "height": 34
        }
      },
      "source": [
        "check_flush(hand)"
      ],
      "execution_count": 46,
      "outputs": [
        {
          "output_type": "execute_result",
          "data": {
            "text/plain": [
              "True"
            ]
          },
          "metadata": {
            "tags": []
          },
          "execution_count": 46
        }
      ]
    },
    {
      "cell_type": "code",
      "metadata": {
        "id": "FXH_N7J-26H-",
        "outputId": "20a75d82-589b-4d82-c4e6-30cee65d3feb",
        "colab": {
          "base_uri": "https://localhost:8080/",
          "height": 34
        }
      },
      "source": [
        "check_straight(hand)"
      ],
      "execution_count": 47,
      "outputs": [
        {
          "output_type": "execute_result",
          "data": {
            "text/plain": [
              "True"
            ]
          },
          "metadata": {
            "tags": []
          },
          "execution_count": 47
        }
      ]
    },
    {
      "cell_type": "code",
      "metadata": {
        "id": "Zp861xwi29SQ",
        "outputId": "7f6b3ebc-d566-43fe-a2cd-d9ed4e51fc60",
        "colab": {
          "base_uri": "https://localhost:8080/",
          "height": 34
        }
      },
      "source": [
        "check_straight_flush(hand)"
      ],
      "execution_count": 48,
      "outputs": [
        {
          "output_type": "execute_result",
          "data": {
            "text/plain": [
              "True"
            ]
          },
          "metadata": {
            "tags": []
          },
          "execution_count": 48
        }
      ]
    }
  ]
}