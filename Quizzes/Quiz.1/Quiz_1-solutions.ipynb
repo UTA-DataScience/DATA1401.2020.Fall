{
  "nbformat": 4,
  "nbformat_minor": 0,
  "metadata": {
    "kernelspec": {
      "display_name": "Python 3",
      "language": "python",
      "name": "python3"
    },
    "language_info": {
      "codemirror_mode": {
        "name": "ipython",
        "version": 3
      },
      "file_extension": ".py",
      "mimetype": "text/x-python",
      "name": "python",
      "nbconvert_exporter": "python",
      "pygments_lexer": "ipython3",
      "version": "3.8.0"
    },
    "colab": {
      "name": "Copy of Quiz.1.ipynb",
      "provenance": []
    }
  },
  "cells": [
    {
      "cell_type": "markdown",
      "metadata": {
        "id": "uftluro3iIKt"
      },
      "source": [
        "# Quiz 1\n",
        "\n",
        "1. Using the lists below, create a function (`make_deck`) that returns a list of the 52 cards in a usual playing card deck. Represent each card as a tuple (e.g. `('Clubs', 3)`). "
      ]
    },
    {
      "cell_type": "code",
      "metadata": {
        "id": "GXcB2hljiIKu",
        "outputId": "93ab8647-ac6f-4795-c2a7-6956c0c18179",
        "colab": {
          "base_uri": "https://localhost:8080/",
          "height": 54
        }
      },
      "source": [
        "suits = [\"Clubs\", \"Diamonds\", \"Hearts\", \"Spades\"]\n",
        "values = list(range(2,11)) + [ \"Jack\", \"Queen\", \"King\", \"Ace\"]\n",
        "print(suits)\n",
        "print(values)"
      ],
      "execution_count": null,
      "outputs": [
        {
          "output_type": "stream",
          "text": [
            "['Clubs', 'Diamonds', 'Hearts', 'Spades']\n",
            "[2, 3, 4, 5, 6, 7, 8, 9, 10, 'Jack', 'Queen', 'King', 'Ace']\n"
          ],
          "name": "stdout"
        }
      ]
    },
    {
      "cell_type": "code",
      "metadata": {
        "id": "2ivBc5x0iIK4"
      },
      "source": [
        "def make_deck(suits,values):\n",
        "  deck=([len(suits)],[len(values)])\n",
        "  for i in range(len(suits)):\n",
        "    for j in range(len(values)):\n",
        "      deck=((suits[i], values[j]))\n",
        "      print(deck)\n",
        "  return\n",
        "\n"
      ],
      "execution_count": null,
      "outputs": []
    },
    {
      "cell_type": "code",
      "metadata": {
        "id": "0DYp57NBiILB",
        "outputId": "b91e907d-0ad6-46f1-dcb8-4a36323aa89b",
        "colab": {
          "base_uri": "https://localhost:8080/",
          "height": 989
        }
      },
      "source": [
        "make_deck(suits,values)"
      ],
      "execution_count": null,
      "outputs": [
        {
          "output_type": "stream",
          "text": [
            "('Clubs', 2)\n",
            "('Clubs', 3)\n",
            "('Clubs', 4)\n",
            "('Clubs', 5)\n",
            "('Clubs', 6)\n",
            "('Clubs', 7)\n",
            "('Clubs', 8)\n",
            "('Clubs', 9)\n",
            "('Clubs', 10)\n",
            "('Clubs', 'Jack')\n",
            "('Clubs', 'Queen')\n",
            "('Clubs', 'King')\n",
            "('Clubs', 'Ace')\n",
            "('Diamonds', 2)\n",
            "('Diamonds', 3)\n",
            "('Diamonds', 4)\n",
            "('Diamonds', 5)\n",
            "('Diamonds', 6)\n",
            "('Diamonds', 7)\n",
            "('Diamonds', 8)\n",
            "('Diamonds', 9)\n",
            "('Diamonds', 10)\n",
            "('Diamonds', 'Jack')\n",
            "('Diamonds', 'Queen')\n",
            "('Diamonds', 'King')\n",
            "('Diamonds', 'Ace')\n",
            "('Hearts', 2)\n",
            "('Hearts', 3)\n",
            "('Hearts', 4)\n",
            "('Hearts', 5)\n",
            "('Hearts', 6)\n",
            "('Hearts', 7)\n",
            "('Hearts', 8)\n",
            "('Hearts', 9)\n",
            "('Hearts', 10)\n",
            "('Hearts', 'Jack')\n",
            "('Hearts', 'Queen')\n",
            "('Hearts', 'King')\n",
            "('Hearts', 'Ace')\n",
            "('Spades', 2)\n",
            "('Spades', 3)\n",
            "('Spades', 4)\n",
            "('Spades', 5)\n",
            "('Spades', 6)\n",
            "('Spades', 7)\n",
            "('Spades', 8)\n",
            "('Spades', 9)\n",
            "('Spades', 10)\n",
            "('Spades', 'Jack')\n",
            "('Spades', 'Queen')\n",
            "('Spades', 'King')\n",
            "('Spades', 'Ace')\n"
          ],
          "name": "stdout"
        }
      ]
    },
    {
      "cell_type": "markdown",
      "metadata": {
        "id": "3IepoWuyiILH"
      },
      "source": [
        "2. Create the following functions that take in a list of [usually 5] cards (`hand`) and return True/False:\n",
        "    * `flush(hand)`: Checks if the cards in the hand are of the same suit.\n",
        "    * `straight(hand)`: Checks if the cards in the hand are in a order.\n",
        "        * You can start with just checking numerical cards.\n",
        "        * Extra Credit: Include all cards.\n",
        "    * `straight_flush(hand)`: Combination of both."
      ]
    },
    {
      "cell_type": "code",
      "metadata": {
        "id": "ROn0NqriiILH"
      },
      "source": [
        "def flush(hand):\n",
        "  for i in range(len(hand)):\n",
        "    if min(hand[i])>=10:\n",
        "      return true\n",
        "\n",
        "def straight(hand):\n",
        "  straight=0\n",
        "  list.sort(hand)\n",
        "  print\n",
        "  for i in range(len(hand)):\n",
        "    if hand[i]==hand[i]+1:\n",
        "      straight+=1\n",
        "  if straght==(len(hand)):\n",
        "    return true\n",
        "  return false\n",
        "\n",
        "def straight_flush(hand):\n",
        "  if straight(hand) and flush(hand):\n",
        "    return true\n",
        "  return false\n",
        "      "
      ],
      "execution_count": null,
      "outputs": []
    },
    {
      "cell_type": "code",
      "metadata": {
        "id": "toec_YBoiILM"
      },
      "source": [
        "# Test your solution here"
      ],
      "execution_count": null,
      "outputs": []
    }
  ]
}