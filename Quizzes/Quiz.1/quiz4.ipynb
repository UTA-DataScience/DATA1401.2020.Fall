{
  "nbformat": 4,
  "nbformat_minor": 0,
  "metadata": {
    "kernelspec": {
      "display_name": "Python 3",
      "language": "python",
      "name": "python3"
    },
    "language_info": {
      "codemirror_mode": {
        "name": "ipython",
        "version": 3
      },
      "file_extension": ".py",
      "mimetype": "text/x-python",
      "name": "python",
      "nbconvert_exporter": "python",
      "pygments_lexer": "ipython3",
      "version": "3.8.0"
    },
    "colab": {
      "name": "Copy of Quiz.1.ipynb",
      "provenance": [],
      "collapsed_sections": []
    }
  },
  "cells": [
    {
      "cell_type": "markdown",
      "metadata": {
        "id": "Sjle8uPbkgJJ"
      },
      "source": [
        "# Quiz 1\n",
        "\n",
        "[![Open In Colab](https://colab.research.google.com/assets/colab-badge.svg)](https://colab.research.google.com/github/UTA-DataScience/DATA1401.2020.Fall/blob/master/Quizzes/Quiz.1/Quiz.1.ipynb)\n",
        "\n",
        "\n",
        "\n",
        "\n",
        "1. Using the lists below, create a function (`make_deck`) that returns a list of the 52 cards in a usual playing card deck. Represent each card as a tuple (e.g. `('Clubs', 3)`). "
      ]
    },
    {
      "cell_type": "code",
      "metadata": {
        "id": "VPcYHsblkgJK",
        "outputId": "7ea9493f-e337-481e-8b15-7d9856efb9ae",
        "colab": {
          "base_uri": "https://localhost:8080/",
          "height": 51
        }
      },
      "source": [
        "suits = [\"Clubs\", \"Diamonds\", \"Hearts\", \"Spades\"]\n",
        "values = list(range(2,11)) + [ \"Jack\", \"Queen\", \"King\", \"Ace\"]\n",
        "print(suits)\n",
        "print(values)"
      ],
      "execution_count": 3,
      "outputs": [
        {
          "output_type": "stream",
          "text": [
            "['Clubs', 'Diamonds', 'Hearts', 'Spades']\n",
            "[2, 3, 4, 5, 6, 7, 8, 9, 10, 'Jack', 'Queen', 'King', 'Ace']\n"
          ],
          "name": "stdout"
        }
      ]
    },
    {
      "cell_type": "code",
      "metadata": {
        "id": "l8XM15KhkgJO"
      },
      "source": [
        "# Your solution here\n",
        "\n",
        "suits = ['spades', 'clubs', 'hearts', 'diamonds']\n",
        "vals = ['2', '3', '4', '5', '6', '7', '8', '9', '10', 'jack', 'queen', 'king', 'ace']\n",
        "\n",
        "make_deck = list(itertools.product(vals, suits))\n",
        "\n",
        "random.shuffle(make_deck)\n",
        "\n"
      ],
      "execution_count": 16,
      "outputs": []
    },
    {
      "cell_type": "code",
      "metadata": {
        "id": "EOj0_pIzkgJS",
        "outputId": "6f0840ae-ee8a-48bc-987a-f7dd80f8d986",
        "colab": {
          "base_uri": "https://localhost:8080/",
          "height": 901
        }
      },
      "source": [
        "# Test your solution here\n",
        "\n",
        "for val, suit in deck:\n",
        "    print('%s, %s' % (suit, val))"
      ],
      "execution_count": 17,
      "outputs": [
        {
          "output_type": "stream",
          "text": [
            "hearts, king\n",
            "diamonds, 5\n",
            "clubs, 7\n",
            "clubs, 10\n",
            "diamonds, 6\n",
            "hearts, 4\n",
            "diamonds, 4\n",
            "diamonds, 2\n",
            "spades, 3\n",
            "diamonds, queen\n",
            "hearts, 3\n",
            "clubs, king\n",
            "spades, 7\n",
            "diamonds, 9\n",
            "hearts, 7\n",
            "hearts, jack\n",
            "clubs, 6\n",
            "hearts, 5\n",
            "clubs, 2\n",
            "diamonds, ace\n",
            "clubs, 5\n",
            "hearts, 2\n",
            "hearts, 8\n",
            "diamonds, 3\n",
            "diamonds, king\n",
            "spades, 4\n",
            "diamonds, jack\n",
            "spades, 2\n",
            "clubs, ace\n",
            "spades, jack\n",
            "spades, 9\n",
            "spades, queen\n",
            "spades, 5\n",
            "diamonds, 8\n",
            "hearts, 9\n",
            "spades, ace\n",
            "clubs, jack\n",
            "diamonds, 10\n",
            "clubs, queen\n",
            "clubs, 3\n",
            "spades, 10\n",
            "spades, 8\n",
            "diamonds, 7\n",
            "clubs, 4\n",
            "hearts, queen\n",
            "spades, king\n",
            "clubs, 8\n",
            "hearts, 10\n",
            "clubs, 9\n",
            "spades, 6\n",
            "hearts, 6\n",
            "hearts, ace\n"
          ],
          "name": "stdout"
        }
      ]
    },
    {
      "cell_type": "markdown",
      "metadata": {
        "id": "E_N_HUHikgJX"
      },
      "source": [
        "2. Create the following functions that take in a list of [usually 5] cards (`hand`) and return True/False:\n",
        "    * `flush(hand)`: Checks if the cards in the hand are of the same suit.\n",
        "    * `straight(hand)`: Checks if the cards in the hand are in a order.\n",
        "        * You can start with just checking numerical cards.\n",
        "        * Extra Credit: Include all cards.\n",
        "    * `straight_flush(hand)`: Combination of both."
      ]
    },
    {
      "cell_type": "code",
      "metadata": {
        "id": "q5ZLpqJqkgJX"
      },
      "source": [
        "# Your solution here\n",
        "\n",
        "def flush(hand):\n",
        "    suits = [h[-2:] for h in hand]\n",
        "    suits = np.unique(suits)\n",
        "    return (len(suits) == 1)"
      ],
      "execution_count": 18,
      "outputs": []
    },
    {
      "cell_type": "code",
      "metadata": {
        "id": "55SXXICRkgJa"
      },
      "source": [
        "# Test your solution here"
      ],
      "execution_count": null,
      "outputs": []
    }
  ]
}