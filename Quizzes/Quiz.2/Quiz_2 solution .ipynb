{
  "nbformat": 4,
  "nbformat_minor": 0,
  "metadata": {
    "kernelspec": {
      "display_name": "Python 3",
      "language": "python",
      "name": "python3"
    },
    "language_info": {
      "codemirror_mode": {
        "name": "ipython",
        "version": 3
      },
      "file_extension": ".py",
      "mimetype": "text/x-python",
      "name": "python",
      "nbconvert_exporter": "python",
      "pygments_lexer": "ipython3",
      "version": "3.8.0"
    },
    "colab": {
      "name": "Quiz.2.ipynb",
      "provenance": []
    }
  },
  "cells": [
    {
      "cell_type": "markdown",
      "metadata": {
        "id": "nMFUeGOTDn8T"
      },
      "source": [
        "# Quiz 2\n",
        "\n",
        "[![Open In Colab](https://colab.research.google.com/assets/colab-badge.svg)](https://colab.research.google.com/github/UTA-DataScience/DATA1401.2020.Fall/blob/master/Quizzes/Quiz.2/Quiz.2.ipynb)\n",
        "\n"
      ]
    },
    {
      "cell_type": "markdown",
      "metadata": {
        "id": "wVjPUBAIDn8U"
      },
      "source": [
        "1. Using the python math and random libraries, implement the Box-Muller transform. This transform generates 2 random variables $Z_0$ and $Z_1$ that are Normal distributed from two uniformly distributed random variables $U_1$ and $U_2$ using the relation:\n",
        "\n",
        "\\begin{align}\n",
        "Z_0&=&\\sqrt{-2 \\log{U_1}} \\cos{(2\\pi U_2)}\\\\\n",
        "Z_1&=&\\sqrt{-2 \\log{U_1}} \\sin{(2\\pi U_2)}\\\\\n",
        "\\end{align}\n",
        "\n"
      ]
    },
    {
      "cell_type": "markdown",
      "metadata": {
        "id": "3Z0bPYCeDn8V"
      },
      "source": [
        "Recall that you can import the math and random libraries using:\n"
      ]
    },
    {
      "cell_type": "code",
      "metadata": {
        "id": "SjwV63rIDn8V"
      },
      "source": [
        "import math\n",
        "import random"
      ],
      "execution_count": null,
      "outputs": []
    },
    {
      "cell_type": "markdown",
      "metadata": {
        "id": "EEXbSppFDn8Z"
      },
      "source": [
        "The functions and variables you will need are:"
      ]
    },
    {
      "cell_type": "code",
      "metadata": {
        "id": "hOEUy_d9Dn8c",
        "outputId": "2d536c15-09af-4e47-acf1-2d04139e3fe6"
      },
      "source": [
        "x = .1\n",
        "\n",
        "# Math\n",
        "math.pi\n",
        "math.sin(x)\n",
        "math.cos(x)\n",
        "math.log(x)\n",
        "math.sqrt(x)\n",
        "\n",
        "# Random\n",
        "random.random()"
      ],
      "execution_count": null,
      "outputs": [
        {
          "output_type": "execute_result",
          "data": {
            "text/plain": [
              "0.9766680279361165"
            ]
          },
          "metadata": {
            "tags": []
          },
          "execution_count": 3
        }
      ]
    },
    {
      "cell_type": "markdown",
      "metadata": {
        "id": "fTxulDiDDn8j"
      },
      "source": [
        "Note that  math.log is the natural logarithm. Your solution should look like:"
      ]
    },
    {
      "cell_type": "code",
      "metadata": {
        "id": "Efr4uAVbDn8j"
      },
      "source": [
        "import random\n",
        "def generate_normal(N, sigma):\n",
        "    u1 = random.random()\n",
        "    u2 = random.random()\n",
        "\n",
        "    z0 = sqrt(-2 * log(u1)) * sin(2 * pi * u2)\n",
        "    z1 = sqrt(-2 * log(u1)) * cos(2 * pi * u2)\n",
        "\n",
        "    x1 = N + z0 * sigma\n",
        "    x2 = N + z1 * sigma\n",
        "\n",
        "    return x2\n"
      ],
      "execution_count": null,
      "outputs": []
    },
    {
      "cell_type": "markdown",
      "metadata": {
        "id": "nLXLqy1bDn8n"
      },
      "source": [
        "Where N is the number of values of the random variable to generate, and the return value out is a list containing N normal distributed values. \n"
      ]
    },
    {
      "cell_type": "markdown",
      "metadata": {
        "id": "FzKPeCJFDn8o"
      },
      "source": [
        "2. Test your code by generating 1000 normal distributed values and showing that the mean is 0 and variance is 1. You can use the following 2 functions:\n"
      ]
    },
    {
      "cell_type": "code",
      "metadata": {
        "id": "tjbJhhaMDn8o"
      },
      "source": [
        "def mean(x):\n",
        "    return sum(x)/float(len(x))\n",
        "\n",
        "def variance(x):\n",
        "    return sum(map(lambda y: y**2,x))/float(len(x))-mean(x)**2\n"
      ],
      "execution_count": null,
      "outputs": []
    },
    {
      "cell_type": "markdown",
      "metadata": {
        "id": "mO70i1ovDn8u"
      },
      "source": [
        "3. Submit your solutions to GitHub in same way as your labs/homework."
      ]
    },
    {
      "cell_type": "code",
      "metadata": {
        "id": "5T2rmsesDn8u"
      },
      "source": [
        ""
      ],
      "execution_count": null,
      "outputs": []
    }
  ]
}